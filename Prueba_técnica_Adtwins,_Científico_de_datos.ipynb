{
  "nbformat": 4,
  "nbformat_minor": 0,
  "metadata": {
    "colab": {
      "provenance": [],
      "toc_visible": true
    },
    "kernelspec": {
      "name": "python3",
      "display_name": "Python 3"
    },
    "language_info": {
      "name": "python"
    }
  },
  "cells": [
    {
      "cell_type": "markdown",
      "source": [
        "**Indicaciones de importancia.**"
      ],
      "metadata": {
        "id": "nVGrq1aC7EcU"
      }
    },
    {
      "cell_type": "markdown",
      "source": [
        "Para el correcto funcionamiento del presente colab, es necesario crear una carpeta llamada \"prueba\" en Google Drive, de lo contrario no logrará avanzar mas allá de la celda de \"Conexión a drive\"."
      ],
      "metadata": {
        "id": "LZIsyIqS7vJ1"
      }
    },
    {
      "cell_type": "markdown",
      "source": [
        "# Librerías"
      ],
      "metadata": {
        "id": "Ta2XAOj03bZx"
      }
    },
    {
      "cell_type": "code",
      "source": [
        "from google.colab import drive\n",
        "import pandas as pd\n",
        "import seaborn as sns\n",
        "import matplotlib.pyplot as plt\n",
        "from sklearn.model_selection import train_test_split\n",
        "from sklearn.neighbors import KNeighborsRegressor\n",
        "from sklearn.ensemble import RandomForestRegressor\n",
        "from sklearn import metrics"
      ],
      "metadata": {
        "id": "LfOUXW3Zuks6"
      },
      "execution_count": 126,
      "outputs": []
    },
    {
      "cell_type": "markdown",
      "source": [
        "# Conexión a drive"
      ],
      "metadata": {
        "id": "TNiYBBNX3hz4"
      }
    },
    {
      "cell_type": "code",
      "source": [
        "#Se monta drive\n",
        "%cd ..\n",
        "drive.mount('/content/gdrive')\n",
        "\n",
        "#esto crea un enlace para que ahora la ruta /content/gdrive/My\\ Drive/ sea igual a /mydrive para acortar\n",
        "!ln -s /content/gdrive/My\\ Drive/ /mydrive\n",
        "\n",
        "#se accede a /mydrive/prueba enlace donde se contienen los archivos .csv\n",
        "%cd /mydrive/prueba"
      ],
      "metadata": {
        "id": "V5khEsPWH03m",
        "colab": {
          "base_uri": "https://localhost:8080/"
        },
        "outputId": "ff69db09-e9f1-4102-e456-6629f641fe24"
      },
      "execution_count": 3,
      "outputs": [
        {
          "output_type": "stream",
          "name": "stdout",
          "text": [
            "/\n",
            "Mounted at /content/gdrive\n",
            "/content/gdrive/My Drive/prueba\n"
          ]
        }
      ]
    },
    {
      "cell_type": "code",
      "source": [
        "#se corrobora la existencia de los archivos .csv en la carpeta\n",
        "%ls"
      ],
      "metadata": {
        "colab": {
          "base_uri": "https://localhost:8080/"
        },
        "id": "JYTsYprLIlxL",
        "outputId": "640b0235-0565-4fd4-82c7-a95e49881b72"
      },
      "execution_count": 4,
      "outputs": [
        {
          "output_type": "stream",
          "name": "stdout",
          "text": [
            "'Features data set.csv'                              'sales data-set.gsheet'\n",
            "'Features data set.gsheet'                            Tabla_1.csv\n",
            "'Prueba técnica Adtwins, Científico de datos.ipynb'   Tabla_1.gsheet\n",
            "'sales data-set.csv'\n"
          ]
        }
      ]
    },
    {
      "cell_type": "markdown",
      "source": [
        "# Procesamiento de los datos iniciales"
      ],
      "metadata": {
        "id": "0NwN7tIy3p5b"
      }
    },
    {
      "cell_type": "code",
      "source": [
        "#se cargan los datos de los archivos .csv, haciendo uso de la librería pandas se almacenan en dataframes con sus correspondientes nombres\n",
        "Tabla_1 = pd.read_csv('Tabla_1.csv', header = 0)\n",
        "Features_data_set = pd.read_csv('Features data set.csv', header = 0)\n",
        "sales_data_set = pd.read_csv('sales data-set.csv', header = 0)"
      ],
      "metadata": {
        "id": "jPuRIsI7aDPj"
      },
      "execution_count": 5,
      "outputs": []
    },
    {
      "cell_type": "code",
      "source": [
        "#Se unen todos los datos, aquellos que se usarán como predictores y variable respuesta en un único dataframe\n",
        "join_data = pd.merge(Features_data_set, sales_data_set, on = ['Store', 'Date'])\n",
        "join_data"
      ],
      "metadata": {
        "colab": {
          "base_uri": "https://localhost:8080/",
          "height": 487
        },
        "id": "sqnFn-YvwyAe",
        "outputId": "100711b4-fddb-436f-d777-564436383fda"
      },
      "execution_count": 6,
      "outputs": [
        {
          "output_type": "execute_result",
          "data": {
            "text/plain": [
              "        Store        Date  Temperature  Fuel_Price  MarkDown1  MarkDown2  \\\n",
              "0           1  05/02/2010        42.31       2.572        NaN        NaN   \n",
              "1           1  05/02/2010        42.31       2.572        NaN        NaN   \n",
              "2           1  05/02/2010        42.31       2.572        NaN        NaN   \n",
              "3           1  05/02/2010        42.31       2.572        NaN        NaN   \n",
              "4           1  05/02/2010        42.31       2.572        NaN        NaN   \n",
              "...       ...         ...          ...         ...        ...        ...   \n",
              "421565     45  26/10/2012        58.85       3.882    4018.91      58.08   \n",
              "421566     45  26/10/2012        58.85       3.882    4018.91      58.08   \n",
              "421567     45  26/10/2012        58.85       3.882    4018.91      58.08   \n",
              "421568     45  26/10/2012        58.85       3.882    4018.91      58.08   \n",
              "421569     45  26/10/2012        58.85       3.882    4018.91      58.08   \n",
              "\n",
              "        MarkDown3  MarkDown4  MarkDown5         CPI  Unemployment  \\\n",
              "0             NaN        NaN        NaN  211.096358         8.106   \n",
              "1             NaN        NaN        NaN  211.096358         8.106   \n",
              "2             NaN        NaN        NaN  211.096358         8.106   \n",
              "3             NaN        NaN        NaN  211.096358         8.106   \n",
              "4             NaN        NaN        NaN  211.096358         8.106   \n",
              "...           ...        ...        ...         ...           ...   \n",
              "421565      100.0     211.94     858.33  192.308899         8.667   \n",
              "421566      100.0     211.94     858.33  192.308899         8.667   \n",
              "421567      100.0     211.94     858.33  192.308899         8.667   \n",
              "421568      100.0     211.94     858.33  192.308899         8.667   \n",
              "421569      100.0     211.94     858.33  192.308899         8.667   \n",
              "\n",
              "        IsHoliday_x  Dept  Weekly_Sales  IsHoliday_y  \n",
              "0             False     1      24924.50        False  \n",
              "1             False     2      50605.27        False  \n",
              "2             False     3      13740.12        False  \n",
              "3             False     4      39954.04        False  \n",
              "4             False     5      32229.38        False  \n",
              "...             ...   ...           ...          ...  \n",
              "421565        False    93       2487.80        False  \n",
              "421566        False    94       5203.31        False  \n",
              "421567        False    95      56017.47        False  \n",
              "421568        False    97       6817.48        False  \n",
              "421569        False    98       1076.80        False  \n",
              "\n",
              "[421570 rows x 15 columns]"
            ],
            "text/html": [
              "\n",
              "  <div id=\"df-aecf7dd0-2eea-4598-8b41-126e6273480e\">\n",
              "    <div class=\"colab-df-container\">\n",
              "      <div>\n",
              "<style scoped>\n",
              "    .dataframe tbody tr th:only-of-type {\n",
              "        vertical-align: middle;\n",
              "    }\n",
              "\n",
              "    .dataframe tbody tr th {\n",
              "        vertical-align: top;\n",
              "    }\n",
              "\n",
              "    .dataframe thead th {\n",
              "        text-align: right;\n",
              "    }\n",
              "</style>\n",
              "<table border=\"1\" class=\"dataframe\">\n",
              "  <thead>\n",
              "    <tr style=\"text-align: right;\">\n",
              "      <th></th>\n",
              "      <th>Store</th>\n",
              "      <th>Date</th>\n",
              "      <th>Temperature</th>\n",
              "      <th>Fuel_Price</th>\n",
              "      <th>MarkDown1</th>\n",
              "      <th>MarkDown2</th>\n",
              "      <th>MarkDown3</th>\n",
              "      <th>MarkDown4</th>\n",
              "      <th>MarkDown5</th>\n",
              "      <th>CPI</th>\n",
              "      <th>Unemployment</th>\n",
              "      <th>IsHoliday_x</th>\n",
              "      <th>Dept</th>\n",
              "      <th>Weekly_Sales</th>\n",
              "      <th>IsHoliday_y</th>\n",
              "    </tr>\n",
              "  </thead>\n",
              "  <tbody>\n",
              "    <tr>\n",
              "      <th>0</th>\n",
              "      <td>1</td>\n",
              "      <td>05/02/2010</td>\n",
              "      <td>42.31</td>\n",
              "      <td>2.572</td>\n",
              "      <td>NaN</td>\n",
              "      <td>NaN</td>\n",
              "      <td>NaN</td>\n",
              "      <td>NaN</td>\n",
              "      <td>NaN</td>\n",
              "      <td>211.096358</td>\n",
              "      <td>8.106</td>\n",
              "      <td>False</td>\n",
              "      <td>1</td>\n",
              "      <td>24924.50</td>\n",
              "      <td>False</td>\n",
              "    </tr>\n",
              "    <tr>\n",
              "      <th>1</th>\n",
              "      <td>1</td>\n",
              "      <td>05/02/2010</td>\n",
              "      <td>42.31</td>\n",
              "      <td>2.572</td>\n",
              "      <td>NaN</td>\n",
              "      <td>NaN</td>\n",
              "      <td>NaN</td>\n",
              "      <td>NaN</td>\n",
              "      <td>NaN</td>\n",
              "      <td>211.096358</td>\n",
              "      <td>8.106</td>\n",
              "      <td>False</td>\n",
              "      <td>2</td>\n",
              "      <td>50605.27</td>\n",
              "      <td>False</td>\n",
              "    </tr>\n",
              "    <tr>\n",
              "      <th>2</th>\n",
              "      <td>1</td>\n",
              "      <td>05/02/2010</td>\n",
              "      <td>42.31</td>\n",
              "      <td>2.572</td>\n",
              "      <td>NaN</td>\n",
              "      <td>NaN</td>\n",
              "      <td>NaN</td>\n",
              "      <td>NaN</td>\n",
              "      <td>NaN</td>\n",
              "      <td>211.096358</td>\n",
              "      <td>8.106</td>\n",
              "      <td>False</td>\n",
              "      <td>3</td>\n",
              "      <td>13740.12</td>\n",
              "      <td>False</td>\n",
              "    </tr>\n",
              "    <tr>\n",
              "      <th>3</th>\n",
              "      <td>1</td>\n",
              "      <td>05/02/2010</td>\n",
              "      <td>42.31</td>\n",
              "      <td>2.572</td>\n",
              "      <td>NaN</td>\n",
              "      <td>NaN</td>\n",
              "      <td>NaN</td>\n",
              "      <td>NaN</td>\n",
              "      <td>NaN</td>\n",
              "      <td>211.096358</td>\n",
              "      <td>8.106</td>\n",
              "      <td>False</td>\n",
              "      <td>4</td>\n",
              "      <td>39954.04</td>\n",
              "      <td>False</td>\n",
              "    </tr>\n",
              "    <tr>\n",
              "      <th>4</th>\n",
              "      <td>1</td>\n",
              "      <td>05/02/2010</td>\n",
              "      <td>42.31</td>\n",
              "      <td>2.572</td>\n",
              "      <td>NaN</td>\n",
              "      <td>NaN</td>\n",
              "      <td>NaN</td>\n",
              "      <td>NaN</td>\n",
              "      <td>NaN</td>\n",
              "      <td>211.096358</td>\n",
              "      <td>8.106</td>\n",
              "      <td>False</td>\n",
              "      <td>5</td>\n",
              "      <td>32229.38</td>\n",
              "      <td>False</td>\n",
              "    </tr>\n",
              "    <tr>\n",
              "      <th>...</th>\n",
              "      <td>...</td>\n",
              "      <td>...</td>\n",
              "      <td>...</td>\n",
              "      <td>...</td>\n",
              "      <td>...</td>\n",
              "      <td>...</td>\n",
              "      <td>...</td>\n",
              "      <td>...</td>\n",
              "      <td>...</td>\n",
              "      <td>...</td>\n",
              "      <td>...</td>\n",
              "      <td>...</td>\n",
              "      <td>...</td>\n",
              "      <td>...</td>\n",
              "      <td>...</td>\n",
              "    </tr>\n",
              "    <tr>\n",
              "      <th>421565</th>\n",
              "      <td>45</td>\n",
              "      <td>26/10/2012</td>\n",
              "      <td>58.85</td>\n",
              "      <td>3.882</td>\n",
              "      <td>4018.91</td>\n",
              "      <td>58.08</td>\n",
              "      <td>100.0</td>\n",
              "      <td>211.94</td>\n",
              "      <td>858.33</td>\n",
              "      <td>192.308899</td>\n",
              "      <td>8.667</td>\n",
              "      <td>False</td>\n",
              "      <td>93</td>\n",
              "      <td>2487.80</td>\n",
              "      <td>False</td>\n",
              "    </tr>\n",
              "    <tr>\n",
              "      <th>421566</th>\n",
              "      <td>45</td>\n",
              "      <td>26/10/2012</td>\n",
              "      <td>58.85</td>\n",
              "      <td>3.882</td>\n",
              "      <td>4018.91</td>\n",
              "      <td>58.08</td>\n",
              "      <td>100.0</td>\n",
              "      <td>211.94</td>\n",
              "      <td>858.33</td>\n",
              "      <td>192.308899</td>\n",
              "      <td>8.667</td>\n",
              "      <td>False</td>\n",
              "      <td>94</td>\n",
              "      <td>5203.31</td>\n",
              "      <td>False</td>\n",
              "    </tr>\n",
              "    <tr>\n",
              "      <th>421567</th>\n",
              "      <td>45</td>\n",
              "      <td>26/10/2012</td>\n",
              "      <td>58.85</td>\n",
              "      <td>3.882</td>\n",
              "      <td>4018.91</td>\n",
              "      <td>58.08</td>\n",
              "      <td>100.0</td>\n",
              "      <td>211.94</td>\n",
              "      <td>858.33</td>\n",
              "      <td>192.308899</td>\n",
              "      <td>8.667</td>\n",
              "      <td>False</td>\n",
              "      <td>95</td>\n",
              "      <td>56017.47</td>\n",
              "      <td>False</td>\n",
              "    </tr>\n",
              "    <tr>\n",
              "      <th>421568</th>\n",
              "      <td>45</td>\n",
              "      <td>26/10/2012</td>\n",
              "      <td>58.85</td>\n",
              "      <td>3.882</td>\n",
              "      <td>4018.91</td>\n",
              "      <td>58.08</td>\n",
              "      <td>100.0</td>\n",
              "      <td>211.94</td>\n",
              "      <td>858.33</td>\n",
              "      <td>192.308899</td>\n",
              "      <td>8.667</td>\n",
              "      <td>False</td>\n",
              "      <td>97</td>\n",
              "      <td>6817.48</td>\n",
              "      <td>False</td>\n",
              "    </tr>\n",
              "    <tr>\n",
              "      <th>421569</th>\n",
              "      <td>45</td>\n",
              "      <td>26/10/2012</td>\n",
              "      <td>58.85</td>\n",
              "      <td>3.882</td>\n",
              "      <td>4018.91</td>\n",
              "      <td>58.08</td>\n",
              "      <td>100.0</td>\n",
              "      <td>211.94</td>\n",
              "      <td>858.33</td>\n",
              "      <td>192.308899</td>\n",
              "      <td>8.667</td>\n",
              "      <td>False</td>\n",
              "      <td>98</td>\n",
              "      <td>1076.80</td>\n",
              "      <td>False</td>\n",
              "    </tr>\n",
              "  </tbody>\n",
              "</table>\n",
              "<p>421570 rows × 15 columns</p>\n",
              "</div>\n",
              "      <button class=\"colab-df-convert\" onclick=\"convertToInteractive('df-aecf7dd0-2eea-4598-8b41-126e6273480e')\"\n",
              "              title=\"Convert this dataframe to an interactive table.\"\n",
              "              style=\"display:none;\">\n",
              "        \n",
              "  <svg xmlns=\"http://www.w3.org/2000/svg\" height=\"24px\"viewBox=\"0 0 24 24\"\n",
              "       width=\"24px\">\n",
              "    <path d=\"M0 0h24v24H0V0z\" fill=\"none\"/>\n",
              "    <path d=\"M18.56 5.44l.94 2.06.94-2.06 2.06-.94-2.06-.94-.94-2.06-.94 2.06-2.06.94zm-11 1L8.5 8.5l.94-2.06 2.06-.94-2.06-.94L8.5 2.5l-.94 2.06-2.06.94zm10 10l.94 2.06.94-2.06 2.06-.94-2.06-.94-.94-2.06-.94 2.06-2.06.94z\"/><path d=\"M17.41 7.96l-1.37-1.37c-.4-.4-.92-.59-1.43-.59-.52 0-1.04.2-1.43.59L10.3 9.45l-7.72 7.72c-.78.78-.78 2.05 0 2.83L4 21.41c.39.39.9.59 1.41.59.51 0 1.02-.2 1.41-.59l7.78-7.78 2.81-2.81c.8-.78.8-2.07 0-2.86zM5.41 20L4 18.59l7.72-7.72 1.47 1.35L5.41 20z\"/>\n",
              "  </svg>\n",
              "      </button>\n",
              "      \n",
              "  <style>\n",
              "    .colab-df-container {\n",
              "      display:flex;\n",
              "      flex-wrap:wrap;\n",
              "      gap: 12px;\n",
              "    }\n",
              "\n",
              "    .colab-df-convert {\n",
              "      background-color: #E8F0FE;\n",
              "      border: none;\n",
              "      border-radius: 50%;\n",
              "      cursor: pointer;\n",
              "      display: none;\n",
              "      fill: #1967D2;\n",
              "      height: 32px;\n",
              "      padding: 0 0 0 0;\n",
              "      width: 32px;\n",
              "    }\n",
              "\n",
              "    .colab-df-convert:hover {\n",
              "      background-color: #E2EBFA;\n",
              "      box-shadow: 0px 1px 2px rgba(60, 64, 67, 0.3), 0px 1px 3px 1px rgba(60, 64, 67, 0.15);\n",
              "      fill: #174EA6;\n",
              "    }\n",
              "\n",
              "    [theme=dark] .colab-df-convert {\n",
              "      background-color: #3B4455;\n",
              "      fill: #D2E3FC;\n",
              "    }\n",
              "\n",
              "    [theme=dark] .colab-df-convert:hover {\n",
              "      background-color: #434B5C;\n",
              "      box-shadow: 0px 1px 3px 1px rgba(0, 0, 0, 0.15);\n",
              "      filter: drop-shadow(0px 1px 2px rgba(0, 0, 0, 0.3));\n",
              "      fill: #FFFFFF;\n",
              "    }\n",
              "  </style>\n",
              "\n",
              "      <script>\n",
              "        const buttonEl =\n",
              "          document.querySelector('#df-aecf7dd0-2eea-4598-8b41-126e6273480e button.colab-df-convert');\n",
              "        buttonEl.style.display =\n",
              "          google.colab.kernel.accessAllowed ? 'block' : 'none';\n",
              "\n",
              "        async function convertToInteractive(key) {\n",
              "          const element = document.querySelector('#df-aecf7dd0-2eea-4598-8b41-126e6273480e');\n",
              "          const dataTable =\n",
              "            await google.colab.kernel.invokeFunction('convertToInteractive',\n",
              "                                                     [key], {});\n",
              "          if (!dataTable) return;\n",
              "\n",
              "          const docLinkHtml = 'Like what you see? Visit the ' +\n",
              "            '<a target=\"_blank\" href=https://colab.research.google.com/notebooks/data_table.ipynb>data table notebook</a>'\n",
              "            + ' to learn more about interactive tables.';\n",
              "          element.innerHTML = '';\n",
              "          dataTable['output_type'] = 'display_data';\n",
              "          await google.colab.output.renderOutput(dataTable, element);\n",
              "          const docLink = document.createElement('div');\n",
              "          docLink.innerHTML = docLinkHtml;\n",
              "          element.appendChild(docLink);\n",
              "        }\n",
              "      </script>\n",
              "    </div>\n",
              "  </div>\n",
              "  "
            ]
          },
          "metadata": {},
          "execution_count": 6
        }
      ]
    },
    {
      "cell_type": "code",
      "source": [
        "join_data.plot(kind = 'scatter', x = 'Store', y =  'Weekly_Sales')\n",
        "plt.show()"
      ],
      "metadata": {
        "colab": {
          "base_uri": "https://localhost:8080/",
          "height": 279
        },
        "id": "M022AiMeykKs",
        "outputId": "2e26a8f7-9767-42f9-8240-98e9508aae02"
      },
      "execution_count": 7,
      "outputs": [
        {
          "output_type": "display_data",
          "data": {
            "text/plain": [
              "<Figure size 432x288 with 1 Axes>"
            ],
            "image/png": "[encoded data removed]"
          },
          "metadata": {
            "needs_background": "light"
          }
        }
      ]
    },
    {
      "cell_type": "code",
      "source": [
        "#Se eliminan aquellas filas con datos nulos\n",
        "join_data.dropna(inplace=True)\n",
        "join_data"
      ],
      "metadata": {
        "colab": {
          "base_uri": "https://localhost:8080/",
          "height": 487
        },
        "id": "LUYHp4WAy8ux",
        "outputId": "cdbcd51b-f25c-42ac-ef2f-d8ebcb4761d8"
      },
      "execution_count": 8,
      "outputs": [
        {
          "output_type": "execute_result",
          "data": {
            "text/plain": [
              "        Store        Date  Temperature  Fuel_Price  MarkDown1  MarkDown2  \\\n",
              "6587        1  11/11/2011        59.11       3.297   10382.90    6115.67   \n",
              "6588        1  11/11/2011        59.11       3.297   10382.90    6115.67   \n",
              "6589        1  11/11/2011        59.11       3.297   10382.90    6115.67   \n",
              "6590        1  11/11/2011        59.11       3.297   10382.90    6115.67   \n",
              "6591        1  11/11/2011        59.11       3.297   10382.90    6115.67   \n",
              "...       ...         ...          ...         ...        ...        ...   \n",
              "421565     45  26/10/2012        58.85       3.882    4018.91      58.08   \n",
              "421566     45  26/10/2012        58.85       3.882    4018.91      58.08   \n",
              "421567     45  26/10/2012        58.85       3.882    4018.91      58.08   \n",
              "421568     45  26/10/2012        58.85       3.882    4018.91      58.08   \n",
              "421569     45  26/10/2012        58.85       3.882    4018.91      58.08   \n",
              "\n",
              "        MarkDown3  MarkDown4  MarkDown5         CPI  Unemployment  \\\n",
              "6587       215.07    2406.62    6551.42  217.998085         7.866   \n",
              "6588       215.07    2406.62    6551.42  217.998085         7.866   \n",
              "6589       215.07    2406.62    6551.42  217.998085         7.866   \n",
              "6590       215.07    2406.62    6551.42  217.998085         7.866   \n",
              "6591       215.07    2406.62    6551.42  217.998085         7.866   \n",
              "...           ...        ...        ...         ...           ...   \n",
              "421565     100.00     211.94     858.33  192.308899         8.667   \n",
              "421566     100.00     211.94     858.33  192.308899         8.667   \n",
              "421567     100.00     211.94     858.33  192.308899         8.667   \n",
              "421568     100.00     211.94     858.33  192.308899         8.667   \n",
              "421569     100.00     211.94     858.33  192.308899         8.667   \n",
              "\n",
              "        IsHoliday_x  Dept  Weekly_Sales  IsHoliday_y  \n",
              "6587          False     1      18689.54        False  \n",
              "6588          False     2      44936.47        False  \n",
              "6589          False     3       9959.64        False  \n",
              "6590          False     4      36826.52        False  \n",
              "6591          False     5      31002.65        False  \n",
              "...             ...   ...           ...          ...  \n",
              "421565        False    93       2487.80        False  \n",
              "421566        False    94       5203.31        False  \n",
              "421567        False    95      56017.47        False  \n",
              "421568        False    97       6817.48        False  \n",
              "421569        False    98       1076.80        False  \n",
              "\n",
              "[97056 rows x 15 columns]"
            ],
            "text/html": [
              "\n",
              "  <div id=\"df-8fb67c03-dcce-4b31-8d37-57d5ef0009fc\">\n",
              "    <div class=\"colab-df-container\">\n",
              "      <div>\n",
              "<style scoped>\n",
              "    .dataframe tbody tr th:only-of-type {\n",
              "        vertical-align: middle;\n",
              "    }\n",
              "\n",
              "    .dataframe tbody tr th {\n",
              "        vertical-align: top;\n",
              "    }\n",
              "\n",
              "    .dataframe thead th {\n",
              "        text-align: right;\n",
              "    }\n",
              "</style>\n",
              "<table border=\"1\" class=\"dataframe\">\n",
              "  <thead>\n",
              "    <tr style=\"text-align: right;\">\n",
              "      <th></th>\n",
              "      <th>Store</th>\n",
              "      <th>Date</th>\n",
              "      <th>Temperature</th>\n",
              "      <th>Fuel_Price</th>\n",
              "      <th>MarkDown1</th>\n",
              "      <th>MarkDown2</th>\n",
              "      <th>MarkDown3</th>\n",
              "      <th>MarkDown4</th>\n",
              "      <th>MarkDown5</th>\n",
              "      <th>CPI</th>\n",
              "      <th>Unemployment</th>\n",
              "      <th>IsHoliday_x</th>\n",
              "      <th>Dept</th>\n",
              "      <th>Weekly_Sales</th>\n",
              "      <th>IsHoliday_y</th>\n",
              "    </tr>\n",
              "  </thead>\n",
              "  <tbody>\n",
              "    <tr>\n",
              "      <th>6587</th>\n",
              "      <td>1</td>\n",
              "      <td>11/11/2011</td>\n",
              "      <td>59.11</td>\n",
              "      <td>3.297</td>\n",
              "      <td>10382.90</td>\n",
              "      <td>6115.67</td>\n",
              "      <td>215.07</td>\n",
              "      <td>2406.62</td>\n",
              "      <td>6551.42</td>\n",
              "      <td>217.998085</td>\n",
              "      <td>7.866</td>\n",
              "      <td>False</td>\n",
              "      <td>1</td>\n",
              "      <td>18689.54</td>\n",
              "      <td>False</td>\n",
              "    </tr>\n",
              "    <tr>\n",
              "      <th>6588</th>\n",
              "      <td>1</td>\n",
              "      <td>11/11/2011</td>\n",
              "      <td>59.11</td>\n",
              "      <td>3.297</td>\n",
              "      <td>10382.90</td>\n",
              "      <td>6115.67</td>\n",
              "      <td>215.07</td>\n",
              "      <td>2406.62</td>\n",
              "      <td>6551.42</td>\n",
              "      <td>217.998085</td>\n",
              "      <td>7.866</td>\n",
              "      <td>False</td>\n",
              "      <td>2</td>\n",
              "      <td>44936.47</td>\n",
              "      <td>False</td>\n",
              "    </tr>\n",
              "    <tr>\n",
              "      <th>6589</th>\n",
              "      <td>1</td>\n",
              "      <td>11/11/2011</td>\n",
              "      <td>59.11</td>\n",
              "      <td>3.297</td>\n",
              "      <td>10382.90</td>\n",
              "      <td>6115.67</td>\n",
              "      <td>215.07</td>\n",
              "      <td>2406.62</td>\n",
              "      <td>6551.42</td>\n",
              "      <td>217.998085</td>\n",
              "      <td>7.866</td>\n",
              "      <td>False</td>\n",
              "      <td>3</td>\n",
              "      <td>9959.64</td>\n",
              "      <td>False</td>\n",
              "    </tr>\n",
              "    <tr>\n",
              "      <th>6590</th>\n",
              "      <td>1</td>\n",
              "      <td>11/11/2011</td>\n",
              "      <td>59.11</td>\n",
              "      <td>3.297</td>\n",
              "      <td>10382.90</td>\n",
              "      <td>6115.67</td>\n",
              "      <td>215.07</td>\n",
              "      <td>2406.62</td>\n",
              "      <td>6551.42</td>\n",
              "      <td>217.998085</td>\n",
              "      <td>7.866</td>\n",
              "      <td>False</td>\n",
              "      <td>4</td>\n",
              "      <td>36826.52</td>\n",
              "      <td>False</td>\n",
              "    </tr>\n",
              "    <tr>\n",
              "      <th>6591</th>\n",
              "      <td>1</td>\n",
              "      <td>11/11/2011</td>\n",
              "      <td>59.11</td>\n",
              "      <td>3.297</td>\n",
              "      <td>10382.90</td>\n",
              "      <td>6115.67</td>\n",
              "      <td>215.07</td>\n",
              "      <td>2406.62</td>\n",
              "      <td>6551.42</td>\n",
              "      <td>217.998085</td>\n",
              "      <td>7.866</td>\n",
              "      <td>False</td>\n",
              "      <td>5</td>\n",
              "      <td>31002.65</td>\n",
              "      <td>False</td>\n",
              "    </tr>\n",
              "    <tr>\n",
              "      <th>...</th>\n",
              "      <td>...</td>\n",
              "      <td>...</td>\n",
              "      <td>...</td>\n",
              "      <td>...</td>\n",
              "      <td>...</td>\n",
              "      <td>...</td>\n",
              "      <td>...</td>\n",
              "      <td>...</td>\n",
              "      <td>...</td>\n",
              "      <td>...</td>\n",
              "      <td>...</td>\n",
              "      <td>...</td>\n",
              "      <td>...</td>\n",
              "      <td>...</td>\n",
              "      <td>...</td>\n",
              "    </tr>\n",
              "    <tr>\n",
              "      <th>421565</th>\n",
              "      <td>45</td>\n",
              "      <td>26/10/2012</td>\n",
              "      <td>58.85</td>\n",
              "      <td>3.882</td>\n",
              "      <td>4018.91</td>\n",
              "      <td>58.08</td>\n",
              "      <td>100.00</td>\n",
              "      <td>211.94</td>\n",
              "      <td>858.33</td>\n",
              "      <td>192.308899</td>\n",
              "      <td>8.667</td>\n",
              "      <td>False</td>\n",
              "      <td>93</td>\n",
              "      <td>2487.80</td>\n",
              "      <td>False</td>\n",
              "    </tr>\n",
              "    <tr>\n",
              "      <th>421566</th>\n",
              "      <td>45</td>\n",
              "      <td>26/10/2012</td>\n",
              "      <td>58.85</td>\n",
              "      <td>3.882</td>\n",
              "      <td>4018.91</td>\n",
              "      <td>58.08</td>\n",
              "      <td>100.00</td>\n",
              "      <td>211.94</td>\n",
              "      <td>858.33</td>\n",
              "      <td>192.308899</td>\n",
              "      <td>8.667</td>\n",
              "      <td>False</td>\n",
              "      <td>94</td>\n",
              "      <td>5203.31</td>\n",
              "      <td>False</td>\n",
              "    </tr>\n",
              "    <tr>\n",
              "      <th>421567</th>\n",
              "      <td>45</td>\n",
              "      <td>26/10/2012</td>\n",
              "      <td>58.85</td>\n",
              "      <td>3.882</td>\n",
              "      <td>4018.91</td>\n",
              "      <td>58.08</td>\n",
              "      <td>100.00</td>\n",
              "      <td>211.94</td>\n",
              "      <td>858.33</td>\n",
              "      <td>192.308899</td>\n",
              "      <td>8.667</td>\n",
              "      <td>False</td>\n",
              "      <td>95</td>\n",
              "      <td>56017.47</td>\n",
              "      <td>False</td>\n",
              "    </tr>\n",
              "    <tr>\n",
              "      <th>421568</th>\n",
              "      <td>45</td>\n",
              "      <td>26/10/2012</td>\n",
              "      <td>58.85</td>\n",
              "      <td>3.882</td>\n",
              "      <td>4018.91</td>\n",
              "      <td>58.08</td>\n",
              "      <td>100.00</td>\n",
              "      <td>211.94</td>\n",
              "      <td>858.33</td>\n",
              "      <td>192.308899</td>\n",
              "      <td>8.667</td>\n",
              "      <td>False</td>\n",
              "      <td>97</td>\n",
              "      <td>6817.48</td>\n",
              "      <td>False</td>\n",
              "    </tr>\n",
              "    <tr>\n",
              "      <th>421569</th>\n",
              "      <td>45</td>\n",
              "      <td>26/10/2012</td>\n",
              "      <td>58.85</td>\n",
              "      <td>3.882</td>\n",
              "      <td>4018.91</td>\n",
              "      <td>58.08</td>\n",
              "      <td>100.00</td>\n",
              "      <td>211.94</td>\n",
              "      <td>858.33</td>\n",
              "      <td>192.308899</td>\n",
              "      <td>8.667</td>\n",
              "      <td>False</td>\n",
              "      <td>98</td>\n",
              "      <td>1076.80</td>\n",
              "      <td>False</td>\n",
              "    </tr>\n",
              "  </tbody>\n",
              "</table>\n",
              "<p>97056 rows × 15 columns</p>\n",
              "</div>\n",
              "      <button class=\"colab-df-convert\" onclick=\"convertToInteractive('df-8fb67c03-dcce-4b31-8d37-57d5ef0009fc')\"\n",
              "              title=\"Convert this dataframe to an interactive table.\"\n",
              "              style=\"display:none;\">\n",
              "        \n",
              "  <svg xmlns=\"http://www.w3.org/2000/svg\" height=\"24px\"viewBox=\"0 0 24 24\"\n",
              "       width=\"24px\">\n",
              "    <path d=\"M0 0h24v24H0V0z\" fill=\"none\"/>\n",
              "    <path d=\"M18.56 5.44l.94 2.06.94-2.06 2.06-.94-2.06-.94-.94-2.06-.94 2.06-2.06.94zm-11 1L8.5 8.5l.94-2.06 2.06-.94-2.06-.94L8.5 2.5l-.94 2.06-2.06.94zm10 10l.94 2.06.94-2.06 2.06-.94-2.06-.94-.94-2.06-.94 2.06-2.06.94z\"/><path d=\"M17.41 7.96l-1.37-1.37c-.4-.4-.92-.59-1.43-.59-.52 0-1.04.2-1.43.59L10.3 9.45l-7.72 7.72c-.78.78-.78 2.05 0 2.83L4 21.41c.39.39.9.59 1.41.59.51 0 1.02-.2 1.41-.59l7.78-7.78 2.81-2.81c.8-.78.8-2.07 0-2.86zM5.41 20L4 18.59l7.72-7.72 1.47 1.35L5.41 20z\"/>\n",
              "  </svg>\n",
              "      </button>\n",
              "      \n",
              "  <style>\n",
              "    .colab-df-container {\n",
              "      display:flex;\n",
              "      flex-wrap:wrap;\n",
              "      gap: 12px;\n",
              "    }\n",
              "\n",
              "    .colab-df-convert {\n",
              "      background-color: #E8F0FE;\n",
              "      border: none;\n",
              "      border-radius: 50%;\n",
              "      cursor: pointer;\n",
              "      display: none;\n",
              "      fill: #1967D2;\n",
              "      height: 32px;\n",
              "      padding: 0 0 0 0;\n",
              "      width: 32px;\n",
              "    }\n",
              "\n",
              "    .colab-df-convert:hover {\n",
              "      background-color: #E2EBFA;\n",
              "      box-shadow: 0px 1px 2px rgba(60, 64, 67, 0.3), 0px 1px 3px 1px rgba(60, 64, 67, 0.15);\n",
              "      fill: #174EA6;\n",
              "    }\n",
              "\n",
              "    [theme=dark] .colab-df-convert {\n",
              "      background-color: #3B4455;\n",
              "      fill: #D2E3FC;\n",
              "    }\n",
              "\n",
              "    [theme=dark] .colab-df-convert:hover {\n",
              "      background-color: #434B5C;\n",
              "      box-shadow: 0px 1px 3px 1px rgba(0, 0, 0, 0.15);\n",
              "      filter: drop-shadow(0px 1px 2px rgba(0, 0, 0, 0.3));\n",
              "      fill: #FFFFFF;\n",
              "    }\n",
              "  </style>\n",
              "\n",
              "      <script>\n",
              "        const buttonEl =\n",
              "          document.querySelector('#df-8fb67c03-dcce-4b31-8d37-57d5ef0009fc button.colab-df-convert');\n",
              "        buttonEl.style.display =\n",
              "          google.colab.kernel.accessAllowed ? 'block' : 'none';\n",
              "\n",
              "        async function convertToInteractive(key) {\n",
              "          const element = document.querySelector('#df-8fb67c03-dcce-4b31-8d37-57d5ef0009fc');\n",
              "          const dataTable =\n",
              "            await google.colab.kernel.invokeFunction('convertToInteractive',\n",
              "                                                     [key], {});\n",
              "          if (!dataTable) return;\n",
              "\n",
              "          const docLinkHtml = 'Like what you see? Visit the ' +\n",
              "            '<a target=\"_blank\" href=https://colab.research.google.com/notebooks/data_table.ipynb>data table notebook</a>'\n",
              "            + ' to learn more about interactive tables.';\n",
              "          element.innerHTML = '';\n",
              "          dataTable['output_type'] = 'display_data';\n",
              "          await google.colab.output.renderOutput(dataTable, element);\n",
              "          const docLink = document.createElement('div');\n",
              "          docLink.innerHTML = docLinkHtml;\n",
              "          element.appendChild(docLink);\n",
              "        }\n",
              "      </script>\n",
              "    </div>\n",
              "  </div>\n",
              "  "
            ]
          },
          "metadata": {},
          "execution_count": 8
        }
      ]
    },
    {
      "cell_type": "code",
      "source": [
        "#a continuación se separan los datos de los días festivos para analizarlos por separado.\n",
        "join_data_Holiday = join_data.query('IsHoliday_x == True')\n",
        "join_data_no_Holiday = join_data.query('IsHoliday_x == False')"
      ],
      "metadata": {
        "id": "SFu-ntkV0LOO"
      },
      "execution_count": 9,
      "outputs": []
    },
    {
      "cell_type": "markdown",
      "source": [
        "# KNN"
      ],
      "metadata": {
        "id": "qGSzeg5mwEb5"
      }
    },
    {
      "cell_type": "markdown",
      "source": [
        "## Primer set\n",
        "Haciendo uso de los datos disponibilisados se trabajará analizando la totalidad de los datos pero separando los dias festivos y no festivos."
      ],
      "metadata": {
        "id": "RCKNoNjy2s_f"
      }
    },
    {
      "cell_type": "markdown",
      "source": [
        "### Datos no festivos:"
      ],
      "metadata": {
        "id": "zkPr7AO8PqnN"
      }
    },
    {
      "cell_type": "code",
      "source": [
        "#se crean arrays para las características y la variable de destino en el caso de dias no festivos.\n",
        "y = join_data_no_Holiday[\"Weekly_Sales\"].values\n",
        "X = join_data_no_Holiday[[\"Dept\",\"Fuel_Price\", \"MarkDown1\", \"MarkDown2\", \"MarkDown3\", \"MarkDown4\", \"MarkDown5\", \"CPI\", \"Unemployment\"]].values"
      ],
      "metadata": {
        "id": "AiUB7DhVkH02"
      },
      "execution_count": 10,
      "outputs": []
    },
    {
      "cell_type": "code",
      "source": [
        "#se asignan de manera pseudo aleatoria los datos para llevar a cabo el entrenamiento y posterior testeo.\n",
        "X_train, X_test, y_train, y_test = train_test_split(X, y, test_size= 0.2)"
      ],
      "metadata": {
        "id": "2SdyAXKf5KPO"
      },
      "execution_count": null,
      "outputs": []
    },
    {
      "cell_type": "code",
      "source": [
        "#crea un modelo KNN con 5 \"vecinos\"\n",
        "knn = KNeighborsRegressor(n_neighbors = 5, metric= 'minkowski', p = 2)\n",
        "#entrenamos el regresor\n",
        "knn.fit(X_train, y_train)\n"
      ],
      "metadata": {
        "colab": {
          "base_uri": "https://localhost:8080/"
        },
        "id": "Csxe4P582srk",
        "outputId": "14b8bab3-5e2a-4a90-cd49-4d6d16c5b00f"
      },
      "execution_count": 119,
      "outputs": [
        {
          "output_type": "execute_result",
          "data": {
            "text/plain": [
              "KNeighborsRegressor()"
            ]
          },
          "metadata": {},
          "execution_count": 119
        }
      ]
    },
    {
      "cell_type": "code",
      "source": [
        "#realiza una predicción en base a los datos de testeo\n",
        "y_pred = knn.predict(X_test)\n",
        "#se imprime las predicciones realizadas\n",
        "print(\"Predicciones: {}\".format(y_pred))"
      ],
      "metadata": {
        "colab": {
          "base_uri": "https://localhost:8080/"
        },
        "id": "61aJp0gY4Pgt",
        "outputId": "a8d1fe5e-ecbb-4bae-a45c-4ae71483900e"
      },
      "execution_count": 120,
      "outputs": [
        {
          "output_type": "stream",
          "name": "stdout",
          "text": [
            "Predicciones: [11163.406  7998.95   8374.202 ... 19166.96   2517.324 56267.766]\n"
          ]
        }
      ]
    },
    {
      "cell_type": "code",
      "source": [
        "#se verifica la precisión con los datos de testeo a través de la función .score que calcula el coeficiente de determinación de la predicción.\n",
        "score_knn = knn.score(X_test, y_test)\n",
        "score_knn"
      ],
      "metadata": {
        "colab": {
          "base_uri": "https://localhost:8080/"
        },
        "id": "smH8q_NC4rRr",
        "outputId": "4d283493-9525-42f1-a707-a2d02a6c02d2"
      },
      "execution_count": 121,
      "outputs": [
        {
          "output_type": "execute_result",
          "data": {
            "text/plain": [
              "0.2322442584524661"
            ]
          },
          "metadata": {},
          "execution_count": 121
        }
      ]
    },
    {
      "cell_type": "code",
      "source": [
        "#a continuación se realiza una predicción y en base a ello se genera una tabla comparativa entre los datos reales y los predichos, además de su % de error.\n",
        "preds = knn.predict(X_test)\n",
        "\n",
        "performance = pd.DataFrame({ 'True Value': y_test,\n",
        "                            'Prediction': preds,\n",
        "                            'Error': (abs(preds - y_test)*100)/y_test})\n",
        "\n",
        "performance"
      ],
      "metadata": {
        "colab": {
          "base_uri": "https://localhost:8080/",
          "height": 458
        },
        "id": "EQkd8x9m4_n_",
        "outputId": "e9373fe8-5f32-48ce-9a08-7daf47e102e7"
      },
      "execution_count": 14,
      "outputs": [
        {
          "output_type": "stream",
          "name": "stderr",
          "text": [
            "<ipython-input-14-143d3f6f55f2>:6: RuntimeWarning: divide by zero encountered in true_divide\n",
            "  'Error': (abs(preds - y_test)*100)/y_test})\n"
          ]
        },
        {
          "output_type": "execute_result",
          "data": {
            "text/plain": [
              "       True Value  Prediction        Error\n",
              "0        15384.52   11163.406    27.437411\n",
              "1         3465.99    7998.950   130.783990\n",
              "2        40360.06    9790.716    75.741572\n",
              "3         8406.65    3996.652    52.458447\n",
              "4         3301.76    6874.496   108.207017\n",
              "...           ...         ...          ...\n",
              "17408     7373.20   18591.356   152.147724\n",
              "17409     1804.04   22423.224  1142.944946\n",
              "17410     4546.38   19166.960   321.587285\n",
              "17411     7600.50    2517.324    66.879495\n",
              "17412   137088.36   56267.766    58.955110\n",
              "\n",
              "[17413 rows x 3 columns]"
            ],
            "text/html": [
              "\n",
              "  <div id=\"df-ad05a898-830b-4df9-958d-0d9fb6a4d87d\">\n",
              "    <div class=\"colab-df-container\">\n",
              "      <div>\n",
              "<style scoped>\n",
              "    .dataframe tbody tr th:only-of-type {\n",
              "        vertical-align: middle;\n",
              "    }\n",
              "\n",
              "    .dataframe tbody tr th {\n",
              "        vertical-align: top;\n",
              "    }\n",
              "\n",
              "    .dataframe thead th {\n",
              "        text-align: right;\n",
              "    }\n",
              "</style>\n",
              "<table border=\"1\" class=\"dataframe\">\n",
              "  <thead>\n",
              "    <tr style=\"text-align: right;\">\n",
              "      <th></th>\n",
              "      <th>True Value</th>\n",
              "      <th>Prediction</th>\n",
              "      <th>Error</th>\n",
              "    </tr>\n",
              "  </thead>\n",
              "  <tbody>\n",
              "    <tr>\n",
              "      <th>0</th>\n",
              "      <td>15384.52</td>\n",
              "      <td>11163.406</td>\n",
              "      <td>27.437411</td>\n",
              "    </tr>\n",
              "    <tr>\n",
              "      <th>1</th>\n",
              "      <td>3465.99</td>\n",
              "      <td>7998.950</td>\n",
              "      <td>130.783990</td>\n",
              "    </tr>\n",
              "    <tr>\n",
              "      <th>2</th>\n",
              "      <td>40360.06</td>\n",
              "      <td>9790.716</td>\n",
              "      <td>75.741572</td>\n",
              "    </tr>\n",
              "    <tr>\n",
              "      <th>3</th>\n",
              "      <td>8406.65</td>\n",
              "      <td>3996.652</td>\n",
              "      <td>52.458447</td>\n",
              "    </tr>\n",
              "    <tr>\n",
              "      <th>4</th>\n",
              "      <td>3301.76</td>\n",
              "      <td>6874.496</td>\n",
              "      <td>108.207017</td>\n",
              "    </tr>\n",
              "    <tr>\n",
              "      <th>...</th>\n",
              "      <td>...</td>\n",
              "      <td>...</td>\n",
              "      <td>...</td>\n",
              "    </tr>\n",
              "    <tr>\n",
              "      <th>17408</th>\n",
              "      <td>7373.20</td>\n",
              "      <td>18591.356</td>\n",
              "      <td>152.147724</td>\n",
              "    </tr>\n",
              "    <tr>\n",
              "      <th>17409</th>\n",
              "      <td>1804.04</td>\n",
              "      <td>22423.224</td>\n",
              "      <td>1142.944946</td>\n",
              "    </tr>\n",
              "    <tr>\n",
              "      <th>17410</th>\n",
              "      <td>4546.38</td>\n",
              "      <td>19166.960</td>\n",
              "      <td>321.587285</td>\n",
              "    </tr>\n",
              "    <tr>\n",
              "      <th>17411</th>\n",
              "      <td>7600.50</td>\n",
              "      <td>2517.324</td>\n",
              "      <td>66.879495</td>\n",
              "    </tr>\n",
              "    <tr>\n",
              "      <th>17412</th>\n",
              "      <td>137088.36</td>\n",
              "      <td>56267.766</td>\n",
              "      <td>58.955110</td>\n",
              "    </tr>\n",
              "  </tbody>\n",
              "</table>\n",
              "<p>17413 rows × 3 columns</p>\n",
              "</div>\n",
              "      <button class=\"colab-df-convert\" onclick=\"convertToInteractive('df-ad05a898-830b-4df9-958d-0d9fb6a4d87d')\"\n",
              "              title=\"Convert this dataframe to an interactive table.\"\n",
              "              style=\"display:none;\">\n",
              "        \n",
              "  <svg xmlns=\"http://www.w3.org/2000/svg\" height=\"24px\"viewBox=\"0 0 24 24\"\n",
              "       width=\"24px\">\n",
              "    <path d=\"M0 0h24v24H0V0z\" fill=\"none\"/>\n",
              "    <path d=\"M18.56 5.44l.94 2.06.94-2.06 2.06-.94-2.06-.94-.94-2.06-.94 2.06-2.06.94zm-11 1L8.5 8.5l.94-2.06 2.06-.94-2.06-.94L8.5 2.5l-.94 2.06-2.06.94zm10 10l.94 2.06.94-2.06 2.06-.94-2.06-.94-.94-2.06-.94 2.06-2.06.94z\"/><path d=\"M17.41 7.96l-1.37-1.37c-.4-.4-.92-.59-1.43-.59-.52 0-1.04.2-1.43.59L10.3 9.45l-7.72 7.72c-.78.78-.78 2.05 0 2.83L4 21.41c.39.39.9.59 1.41.59.51 0 1.02-.2 1.41-.59l7.78-7.78 2.81-2.81c.8-.78.8-2.07 0-2.86zM5.41 20L4 18.59l7.72-7.72 1.47 1.35L5.41 20z\"/>\n",
              "  </svg>\n",
              "      </button>\n",
              "      \n",
              "  <style>\n",
              "    .colab-df-container {\n",
              "      display:flex;\n",
              "      flex-wrap:wrap;\n",
              "      gap: 12px;\n",
              "    }\n",
              "\n",
              "    .colab-df-convert {\n",
              "      background-color: #E8F0FE;\n",
              "      border: none;\n",
              "      border-radius: 50%;\n",
              "      cursor: pointer;\n",
              "      display: none;\n",
              "      fill: #1967D2;\n",
              "      height: 32px;\n",
              "      padding: 0 0 0 0;\n",
              "      width: 32px;\n",
              "    }\n",
              "\n",
              "    .colab-df-convert:hover {\n",
              "      background-color: #E2EBFA;\n",
              "      box-shadow: 0px 1px 2px rgba(60, 64, 67, 0.3), 0px 1px 3px 1px rgba(60, 64, 67, 0.15);\n",
              "      fill: #174EA6;\n",
              "    }\n",
              "\n",
              "    [theme=dark] .colab-df-convert {\n",
              "      background-color: #3B4455;\n",
              "      fill: #D2E3FC;\n",
              "    }\n",
              "\n",
              "    [theme=dark] .colab-df-convert:hover {\n",
              "      background-color: #434B5C;\n",
              "      box-shadow: 0px 1px 3px 1px rgba(0, 0, 0, 0.15);\n",
              "      filter: drop-shadow(0px 1px 2px rgba(0, 0, 0, 0.3));\n",
              "      fill: #FFFFFF;\n",
              "    }\n",
              "  </style>\n",
              "\n",
              "      <script>\n",
              "        const buttonEl =\n",
              "          document.querySelector('#df-ad05a898-830b-4df9-958d-0d9fb6a4d87d button.colab-df-convert');\n",
              "        buttonEl.style.display =\n",
              "          google.colab.kernel.accessAllowed ? 'block' : 'none';\n",
              "\n",
              "        async function convertToInteractive(key) {\n",
              "          const element = document.querySelector('#df-ad05a898-830b-4df9-958d-0d9fb6a4d87d');\n",
              "          const dataTable =\n",
              "            await google.colab.kernel.invokeFunction('convertToInteractive',\n",
              "                                                     [key], {});\n",
              "          if (!dataTable) return;\n",
              "\n",
              "          const docLinkHtml = 'Like what you see? Visit the ' +\n",
              "            '<a target=\"_blank\" href=https://colab.research.google.com/notebooks/data_table.ipynb>data table notebook</a>'\n",
              "            + ' to learn more about interactive tables.';\n",
              "          element.innerHTML = '';\n",
              "          dataTable['output_type'] = 'display_data';\n",
              "          await google.colab.output.renderOutput(dataTable, element);\n",
              "          const docLink = document.createElement('div');\n",
              "          docLink.innerHTML = docLinkHtml;\n",
              "          element.appendChild(docLink);\n",
              "        }\n",
              "      </script>\n",
              "    </div>\n",
              "  </div>\n",
              "  "
            ]
          },
          "metadata": {},
          "execution_count": 14
        }
      ]
    },
    {
      "cell_type": "code",
      "source": [
        "plt.figure(figsize=(15,7))\n",
        "# Errores\n",
        "ax_x= performance['True Value']\n",
        "ax_y= performance['Prediction']\n",
        "yerr= performance['Error']\n",
        "\n",
        "plt.scatter(range(len(yerr)), yerr, alpha=.5)\n",
        "plt.title('Homogeneous Errors - KNN', size=15);\n",
        "plt.hlines(y=0, xmin=0, xmax=17413, linestyle='--', color='white', alpha=.5);"
      ],
      "metadata": {
        "colab": {
          "base_uri": "https://localhost:8080/",
          "height": 446
        },
        "id": "zpgFqTB4UKPP",
        "outputId": "89ec39b8-ca75-4185-b324-1830d6ae11fd"
      },
      "execution_count": 15,
      "outputs": [
        {
          "output_type": "display_data",
          "data": {
            "text/plain": [
              "<Figure size 1080x504 with 1 Axes>"
            ],
            "image/png": "[encoded data removed]"
          },
          "metadata": {
            "needs_background": "light"
          }
        }
      ]
    },
    {
      "cell_type": "code",
      "source": [
        "#a continuación se verifica la precisión de forma \"manual\" en base a un treshold menor al 30% de error\n",
        "performance[\"acceptance_criteria\"] = 0\n",
        "performance.loc[performance.query('Error<=30').index ,\"acceptance_criteria\"]=1\n",
        "display(performance)"
      ],
      "metadata": {
        "colab": {
          "base_uri": "https://localhost:8080/",
          "height": 423
        },
        "id": "9sFJT_Wk5Skr",
        "outputId": "1b739ffb-8602-4797-8068-63eab1c5cbe1"
      },
      "execution_count": 16,
      "outputs": [
        {
          "output_type": "display_data",
          "data": {
            "text/plain": [
              "       True Value  Prediction        Error  acceptance_criteria\n",
              "0        15384.52   11163.406    27.437411                    1\n",
              "1         3465.99    7998.950   130.783990                    0\n",
              "2        40360.06    9790.716    75.741572                    0\n",
              "3         8406.65    3996.652    52.458447                    0\n",
              "4         3301.76    6874.496   108.207017                    0\n",
              "...           ...         ...          ...                  ...\n",
              "17408     7373.20   18591.356   152.147724                    0\n",
              "17409     1804.04   22423.224  1142.944946                    0\n",
              "17410     4546.38   19166.960   321.587285                    0\n",
              "17411     7600.50    2517.324    66.879495                    0\n",
              "17412   137088.36   56267.766    58.955110                    0\n",
              "\n",
              "[17413 rows x 4 columns]"
            ],
            "text/html": [
              "\n",
              "  <div id=\"df-e7536bf4-a910-4089-880f-6c847e4b03f4\">\n",
              "    <div class=\"colab-df-container\">\n",
              "      <div>\n",
              "<style scoped>\n",
              "    .dataframe tbody tr th:only-of-type {\n",
              "        vertical-align: middle;\n",
              "    }\n",
              "\n",
              "    .dataframe tbody tr th {\n",
              "        vertical-align: top;\n",
              "    }\n",
              "\n",
              "    .dataframe thead th {\n",
              "        text-align: right;\n",
              "    }\n",
              "</style>\n",
              "<table border=\"1\" class=\"dataframe\">\n",
              "  <thead>\n",
              "    <tr style=\"text-align: right;\">\n",
              "      <th></th>\n",
              "      <th>True Value</th>\n",
              "      <th>Prediction</th>\n",
              "      <th>Error</th>\n",
              "      <th>acceptance_criteria</th>\n",
              "    </tr>\n",
              "  </thead>\n",
              "  <tbody>\n",
              "    <tr>\n",
              "      <th>0</th>\n",
              "      <td>15384.52</td>\n",
              "      <td>11163.406</td>\n",
              "      <td>27.437411</td>\n",
              "      <td>1</td>\n",
              "    </tr>\n",
              "    <tr>\n",
              "      <th>1</th>\n",
              "      <td>3465.99</td>\n",
              "      <td>7998.950</td>\n",
              "      <td>130.783990</td>\n",
              "      <td>0</td>\n",
              "    </tr>\n",
              "    <tr>\n",
              "      <th>2</th>\n",
              "      <td>40360.06</td>\n",
              "      <td>9790.716</td>\n",
              "      <td>75.741572</td>\n",
              "      <td>0</td>\n",
              "    </tr>\n",
              "    <tr>\n",
              "      <th>3</th>\n",
              "      <td>8406.65</td>\n",
              "      <td>3996.652</td>\n",
              "      <td>52.458447</td>\n",
              "      <td>0</td>\n",
              "    </tr>\n",
              "    <tr>\n",
              "      <th>4</th>\n",
              "      <td>3301.76</td>\n",
              "      <td>6874.496</td>\n",
              "      <td>108.207017</td>\n",
              "      <td>0</td>\n",
              "    </tr>\n",
              "    <tr>\n",
              "      <th>...</th>\n",
              "      <td>...</td>\n",
              "      <td>...</td>\n",
              "      <td>...</td>\n",
              "      <td>...</td>\n",
              "    </tr>\n",
              "    <tr>\n",
              "      <th>17408</th>\n",
              "      <td>7373.20</td>\n",
              "      <td>18591.356</td>\n",
              "      <td>152.147724</td>\n",
              "      <td>0</td>\n",
              "    </tr>\n",
              "    <tr>\n",
              "      <th>17409</th>\n",
              "      <td>1804.04</td>\n",
              "      <td>22423.224</td>\n",
              "      <td>1142.944946</td>\n",
              "      <td>0</td>\n",
              "    </tr>\n",
              "    <tr>\n",
              "      <th>17410</th>\n",
              "      <td>4546.38</td>\n",
              "      <td>19166.960</td>\n",
              "      <td>321.587285</td>\n",
              "      <td>0</td>\n",
              "    </tr>\n",
              "    <tr>\n",
              "      <th>17411</th>\n",
              "      <td>7600.50</td>\n",
              "      <td>2517.324</td>\n",
              "      <td>66.879495</td>\n",
              "      <td>0</td>\n",
              "    </tr>\n",
              "    <tr>\n",
              "      <th>17412</th>\n",
              "      <td>137088.36</td>\n",
              "      <td>56267.766</td>\n",
              "      <td>58.955110</td>\n",
              "      <td>0</td>\n",
              "    </tr>\n",
              "  </tbody>\n",
              "</table>\n",
              "<p>17413 rows × 4 columns</p>\n",
              "</div>\n",
              "      <button class=\"colab-df-convert\" onclick=\"convertToInteractive('df-e7536bf4-a910-4089-880f-6c847e4b03f4')\"\n",
              "              title=\"Convert this dataframe to an interactive table.\"\n",
              "              style=\"display:none;\">\n",
              "        \n",
              "  <svg xmlns=\"http://www.w3.org/2000/svg\" height=\"24px\"viewBox=\"0 0 24 24\"\n",
              "       width=\"24px\">\n",
              "    <path d=\"M0 0h24v24H0V0z\" fill=\"none\"/>\n",
              "    <path d=\"M18.56 5.44l.94 2.06.94-2.06 2.06-.94-2.06-.94-.94-2.06-.94 2.06-2.06.94zm-11 1L8.5 8.5l.94-2.06 2.06-.94-2.06-.94L8.5 2.5l-.94 2.06-2.06.94zm10 10l.94 2.06.94-2.06 2.06-.94-2.06-.94-.94-2.06-.94 2.06-2.06.94z\"/><path d=\"M17.41 7.96l-1.37-1.37c-.4-.4-.92-.59-1.43-.59-.52 0-1.04.2-1.43.59L10.3 9.45l-7.72 7.72c-.78.78-.78 2.05 0 2.83L4 21.41c.39.39.9.59 1.41.59.51 0 1.02-.2 1.41-.59l7.78-7.78 2.81-2.81c.8-.78.8-2.07 0-2.86zM5.41 20L4 18.59l7.72-7.72 1.47 1.35L5.41 20z\"/>\n",
              "  </svg>\n",
              "      </button>\n",
              "      \n",
              "  <style>\n",
              "    .colab-df-container {\n",
              "      display:flex;\n",
              "      flex-wrap:wrap;\n",
              "      gap: 12px;\n",
              "    }\n",
              "\n",
              "    .colab-df-convert {\n",
              "      background-color: #E8F0FE;\n",
              "      border: none;\n",
              "      border-radius: 50%;\n",
              "      cursor: pointer;\n",
              "      display: none;\n",
              "      fill: #1967D2;\n",
              "      height: 32px;\n",
              "      padding: 0 0 0 0;\n",
              "      width: 32px;\n",
              "    }\n",
              "\n",
              "    .colab-df-convert:hover {\n",
              "      background-color: #E2EBFA;\n",
              "      box-shadow: 0px 1px 2px rgba(60, 64, 67, 0.3), 0px 1px 3px 1px rgba(60, 64, 67, 0.15);\n",
              "      fill: #174EA6;\n",
              "    }\n",
              "\n",
              "    [theme=dark] .colab-df-convert {\n",
              "      background-color: #3B4455;\n",
              "      fill: #D2E3FC;\n",
              "    }\n",
              "\n",
              "    [theme=dark] .colab-df-convert:hover {\n",
              "      background-color: #434B5C;\n",
              "      box-shadow: 0px 1px 3px 1px rgba(0, 0, 0, 0.15);\n",
              "      filter: drop-shadow(0px 1px 2px rgba(0, 0, 0, 0.3));\n",
              "      fill: #FFFFFF;\n",
              "    }\n",
              "  </style>\n",
              "\n",
              "      <script>\n",
              "        const buttonEl =\n",
              "          document.querySelector('#df-e7536bf4-a910-4089-880f-6c847e4b03f4 button.colab-df-convert');\n",
              "        buttonEl.style.display =\n",
              "          google.colab.kernel.accessAllowed ? 'block' : 'none';\n",
              "\n",
              "        async function convertToInteractive(key) {\n",
              "          const element = document.querySelector('#df-e7536bf4-a910-4089-880f-6c847e4b03f4');\n",
              "          const dataTable =\n",
              "            await google.colab.kernel.invokeFunction('convertToInteractive',\n",
              "                                                     [key], {});\n",
              "          if (!dataTable) return;\n",
              "\n",
              "          const docLinkHtml = 'Like what you see? Visit the ' +\n",
              "            '<a target=\"_blank\" href=https://colab.research.google.com/notebooks/data_table.ipynb>data table notebook</a>'\n",
              "            + ' to learn more about interactive tables.';\n",
              "          element.innerHTML = '';\n",
              "          dataTable['output_type'] = 'display_data';\n",
              "          await google.colab.output.renderOutput(dataTable, element);\n",
              "          const docLink = document.createElement('div');\n",
              "          docLink.innerHTML = docLinkHtml;\n",
              "          element.appendChild(docLink);\n",
              "        }\n",
              "      </script>\n",
              "    </div>\n",
              "  </div>\n",
              "  "
            ]
          },
          "metadata": {}
        }
      ]
    },
    {
      "cell_type": "code",
      "source": [
        "len(performance.query('Error<=30').index)"
      ],
      "metadata": {
        "colab": {
          "base_uri": "https://localhost:8080/"
        },
        "outputId": "b2bfa6bd-9eb6-4630-ba6c-d65804755ea9",
        "id": "-PAMGAcA10WD"
      },
      "execution_count": 17,
      "outputs": [
        {
          "output_type": "execute_result",
          "data": {
            "text/plain": [
              "3827"
            ]
          },
          "metadata": {},
          "execution_count": 17
        }
      ]
    },
    {
      "cell_type": "code",
      "source": [
        "(len(performance.index))"
      ],
      "metadata": {
        "colab": {
          "base_uri": "https://localhost:8080/"
        },
        "outputId": "e7d3ee55-e5f2-4380-f096-65ec0c5ee5f5",
        "id": "fMLSR5F-10WE"
      },
      "execution_count": 18,
      "outputs": [
        {
          "output_type": "execute_result",
          "data": {
            "text/plain": [
              "17413"
            ]
          },
          "metadata": {},
          "execution_count": 18
        }
      ]
    },
    {
      "cell_type": "code",
      "source": [
        "#precisión calculada a través de la fórmula perteneciente a las partes de una matriz de confusión: prefición = #TruePositive / #(TruePositive + FalsePositive)\n",
        "len(performance.query('Error<=30').index)/(len(performance.index))"
      ],
      "metadata": {
        "colab": {
          "base_uri": "https://localhost:8080/"
        },
        "id": "PaeY76VV5s3v",
        "outputId": "07a6a39b-666c-4e57-f23b-fb3a1e132b9a"
      },
      "execution_count": 19,
      "outputs": [
        {
          "output_type": "execute_result",
          "data": {
            "text/plain": [
              "0.2197783265376443"
            ]
          },
          "metadata": {},
          "execution_count": 19
        }
      ]
    },
    {
      "cell_type": "markdown",
      "source": [
        "Actualmente el valor obtenido es cercano al obtenido por la función .score"
      ],
      "metadata": {
        "id": "uoqJqYSdWHxh"
      }
    },
    {
      "cell_type": "markdown",
      "source": [
        "1.   **Score**: 0.2258022669777655\n",
        "2.   **Precisión manual**: 0.2255211623499684"
      ],
      "metadata": {
        "id": "3ENpfrdCQMlg"
      }
    },
    {
      "cell_type": "markdown",
      "source": [
        "A continuación se analizan los datos para decidir los cambios pertinentes para los siguientes set de entrenamiento."
      ],
      "metadata": {
        "id": "m3k10dPyYa0z"
      }
    },
    {
      "cell_type": "code",
      "source": [
        "join_data_no_Holiday['Weekly_Sales'].hist()"
      ],
      "metadata": {
        "colab": {
          "base_uri": "https://localhost:8080/",
          "height": 282
        },
        "id": "GPSC18sN219U",
        "outputId": "cdcdab70-babc-4767-c449-fae4ee976ab1"
      },
      "execution_count": 20,
      "outputs": [
        {
          "output_type": "execute_result",
          "data": {
            "text/plain": [
              "<matplotlib.axes._subplots.AxesSubplot at 0x7f61e00f1100>"
            ]
          },
          "metadata": {},
          "execution_count": 20
        },
        {
          "output_type": "display_data",
          "data": {
            "text/plain": [
              "<Figure size 432x288 with 1 Axes>"
            ],
            "image/png": "[encoded data removed]"
          },
          "metadata": {
            "needs_background": "light"
          }
        }
      ]
    },
    {
      "cell_type": "markdown",
      "source": [
        "Ante el gráfico anterior, se obserba una necesidad de balanceo en los datos."
      ],
      "metadata": {
        "id": "SRzMvu5HbK8o"
      }
    },
    {
      "cell_type": "code",
      "source": [
        "join_data_no_Holiday['Temperature'].hist()"
      ],
      "metadata": {
        "colab": {
          "base_uri": "https://localhost:8080/",
          "height": 282
        },
        "id": "-x0pf6dr2z_C",
        "outputId": "b876a52d-9f2f-4b25-a945-67de929fe679"
      },
      "execution_count": 21,
      "outputs": [
        {
          "output_type": "execute_result",
          "data": {
            "text/plain": [
              "<matplotlib.axes._subplots.AxesSubplot at 0x7f61e000f670>"
            ]
          },
          "metadata": {},
          "execution_count": 21
        },
        {
          "output_type": "display_data",
          "data": {
            "text/plain": [
              "<Figure size 432x288 with 1 Axes>"
            ],
            "image/png": "[encoded data removed]"
          },
          "metadata": {
            "needs_background": "light"
          }
        }
      ]
    },
    {
      "cell_type": "code",
      "source": [
        "join_data_no_Holiday['Fuel_Price'].hist()"
      ],
      "metadata": {
        "colab": {
          "base_uri": "https://localhost:8080/",
          "height": 282
        },
        "id": "g_GnLbGL5W07",
        "outputId": "9ee10a4d-1d45-49be-b618-8170cd6cca60"
      },
      "execution_count": 22,
      "outputs": [
        {
          "output_type": "execute_result",
          "data": {
            "text/plain": [
              "<matplotlib.axes._subplots.AxesSubplot at 0x7f61dfff4940>"
            ]
          },
          "metadata": {},
          "execution_count": 22
        },
        {
          "output_type": "display_data",
          "data": {
            "text/plain": [
              "<Figure size 432x288 with 1 Axes>"
            ],
            "image/png": "[encoded data removed]"
          },
          "metadata": {
            "needs_background": "light"
          }
        }
      ]
    },
    {
      "cell_type": "code",
      "source": [
        "join_data_no_Holiday['CPI'].hist()"
      ],
      "metadata": {
        "colab": {
          "base_uri": "https://localhost:8080/",
          "height": 282
        },
        "id": "cfLdlj0k5XXO",
        "outputId": "c0519007-5f61-4ac1-fae0-2aa15d68d862"
      },
      "execution_count": 23,
      "outputs": [
        {
          "output_type": "execute_result",
          "data": {
            "text/plain": [
              "<matplotlib.axes._subplots.AxesSubplot at 0x7f61dff53a90>"
            ]
          },
          "metadata": {},
          "execution_count": 23
        },
        {
          "output_type": "display_data",
          "data": {
            "text/plain": [
              "<Figure size 432x288 with 1 Axes>"
            ],
            "image/png": "[encoded data removed]"
          },
          "metadata": {
            "needs_background": "light"
          }
        }
      ]
    },
    {
      "cell_type": "code",
      "source": [
        "join_data_no_Holiday['Unemployment'].hist()"
      ],
      "metadata": {
        "colab": {
          "base_uri": "https://localhost:8080/",
          "height": 282
        },
        "id": "dgOZ4xkg5XlX",
        "outputId": "c2d35364-7ffa-479d-efe1-f79700252a3b"
      },
      "execution_count": 24,
      "outputs": [
        {
          "output_type": "execute_result",
          "data": {
            "text/plain": [
              "<matplotlib.axes._subplots.AxesSubplot at 0x7f61e06ffdc0>"
            ]
          },
          "metadata": {},
          "execution_count": 24
        },
        {
          "output_type": "display_data",
          "data": {
            "text/plain": [
              "<Figure size 432x288 with 1 Axes>"
            ],
            "image/png": "[encoded data removed]"
          },
          "metadata": {
            "needs_background": "light"
          }
        }
      ]
    },
    {
      "cell_type": "code",
      "source": [
        "join_data_no_Holiday['MarkDown1'].hist()"
      ],
      "metadata": {
        "colab": {
          "base_uri": "https://localhost:8080/",
          "height": 282
        },
        "id": "HDTkl_xF5WNs",
        "outputId": "da5b2d61-708a-4cb3-d4ea-4981beeb4ba0"
      },
      "execution_count": 25,
      "outputs": [
        {
          "output_type": "execute_result",
          "data": {
            "text/plain": [
              "<matplotlib.axes._subplots.AxesSubplot at 0x7f61dfe633a0>"
            ]
          },
          "metadata": {},
          "execution_count": 25
        },
        {
          "output_type": "display_data",
          "data": {
            "text/plain": [
              "<Figure size 432x288 with 1 Axes>"
            ],
            "image/png": "[encoded data removed]"
          },
          "metadata": {
            "needs_background": "light"
          }
        }
      ]
    },
    {
      "cell_type": "code",
      "source": [
        "join_data_no_Holiday['MarkDown2'].hist()"
      ],
      "metadata": {
        "colab": {
          "base_uri": "https://localhost:8080/",
          "height": 282
        },
        "id": "UrMvpFeb5oK9",
        "outputId": "9563951b-da35-4e98-c384-77c6bf2e633f"
      },
      "execution_count": 26,
      "outputs": [
        {
          "output_type": "execute_result",
          "data": {
            "text/plain": [
              "<matplotlib.axes._subplots.AxesSubplot at 0x7f61e00f16d0>"
            ]
          },
          "metadata": {},
          "execution_count": 26
        },
        {
          "output_type": "display_data",
          "data": {
            "text/plain": [
              "<Figure size 432x288 with 1 Axes>"
            ],
            "image/png": "[encoded data removed]"
          },
          "metadata": {
            "needs_background": "light"
          }
        }
      ]
    },
    {
      "cell_type": "code",
      "source": [
        "join_data_no_Holiday['MarkDown3'].hist()"
      ],
      "metadata": {
        "colab": {
          "base_uri": "https://localhost:8080/",
          "height": 282
        },
        "id": "127EAdEt5oRH",
        "outputId": "a02729ae-fd16-4bab-98da-2ef827ded546"
      },
      "execution_count": 27,
      "outputs": [
        {
          "output_type": "execute_result",
          "data": {
            "text/plain": [
              "<matplotlib.axes._subplots.AxesSubplot at 0x7f61dfd4b310>"
            ]
          },
          "metadata": {},
          "execution_count": 27
        },
        {
          "output_type": "display_data",
          "data": {
            "text/plain": [
              "<Figure size 432x288 with 1 Axes>"
            ],
            "image/png": "[encoded data removed]"
          },
          "metadata": {
            "needs_background": "light"
          }
        }
      ]
    },
    {
      "cell_type": "code",
      "source": [
        "join_data_no_Holiday['MarkDown4'].hist()"
      ],
      "metadata": {
        "colab": {
          "base_uri": "https://localhost:8080/",
          "height": 282
        },
        "id": "Q67I19ji5oYT",
        "outputId": "e9431545-2139-4415-c478-923fc78fe333"
      },
      "execution_count": 28,
      "outputs": [
        {
          "output_type": "execute_result",
          "data": {
            "text/plain": [
              "<matplotlib.axes._subplots.AxesSubplot at 0x7f61dfd3a700>"
            ]
          },
          "metadata": {},
          "execution_count": 28
        },
        {
          "output_type": "display_data",
          "data": {
            "text/plain": [
              "<Figure size 432x288 with 1 Axes>"
            ],
            "image/png": "[encoded data removed]"
          },
          "metadata": {
            "needs_background": "light"
          }
        }
      ]
    },
    {
      "cell_type": "code",
      "source": [
        "join_data_no_Holiday['MarkDown5'].hist()"
      ],
      "metadata": {
        "colab": {
          "base_uri": "https://localhost:8080/",
          "height": 282
        },
        "id": "IL9pideV5oqk",
        "outputId": "b0450e27-342d-4abd-a0b6-60129b6f4cdc"
      },
      "execution_count": 29,
      "outputs": [
        {
          "output_type": "execute_result",
          "data": {
            "text/plain": [
              "<matplotlib.axes._subplots.AxesSubplot at 0x7f61dfd5cf10>"
            ]
          },
          "metadata": {},
          "execution_count": 29
        },
        {
          "output_type": "display_data",
          "data": {
            "text/plain": [
              "<Figure size 432x288 with 1 Axes>"
            ],
            "image/png": "[encoded data removed]"
          },
          "metadata": {
            "needs_background": "light"
          }
        }
      ]
    },
    {
      "cell_type": "markdown",
      "source": [
        "en base a los gráficos de los datos Markdown's, se observa que para reducir la carga al modelo, estos se puede unir en una columna sin afectar negaticamente el modelo."
      ],
      "metadata": {
        "id": "5ugr0Y-VbvJF"
      }
    },
    {
      "cell_type": "code",
      "source": [
        "corr_datos = join_data_no_Holiday.corr(method='pearson')\n",
        "plt.figure(figsize=(16, 12))\n",
        "sns.heatmap(corr_datos, annot=True)\n",
        "plt.show()"
      ],
      "metadata": {
        "colab": {
          "base_uri": "https://localhost:8080/",
          "height": 771
        },
        "id": "IaVCzQ3J9AqW",
        "outputId": "c4a27a7e-80c8-4a7e-cda5-b552e312ca8e"
      },
      "execution_count": 30,
      "outputs": [
        {
          "output_type": "display_data",
          "data": {
            "text/plain": [
              "<Figure size 1152x864 with 2 Axes>"
            ],
            "image/png": "[encoded data removed]"
          },
          "metadata": {
            "needs_background": "light"
          }
        }
      ]
    },
    {
      "cell_type": "markdown",
      "source": [
        "Además, a traves del gráfico de correlación, se puede observar que los datos de \"Markdown1\" y \"Markdown4\", se comportan de manera similar, es por ello, que se puede eliminar una de las dos columnas de datos sin mayor conflicto."
      ],
      "metadata": {
        "id": "K1l8c451ctK6"
      }
    },
    {
      "cell_type": "markdown",
      "source": [
        "### Datos festivos:"
      ],
      "metadata": {
        "id": "ErUTTY60rlcs"
      }
    },
    {
      "cell_type": "code",
      "source": [
        "#se crean arrays para las características y la variable de destino en el caso de dias festivos.\n",
        "y_H = join_data_Holiday[\"Weekly_Sales\"].values\n",
        "X_H = join_data_Holiday[[\"Dept\",\"Fuel_Price\", \"MarkDown1\", \"MarkDown2\", \"MarkDown3\", \"MarkDown4\", \"MarkDown5\", \"CPI\", \"Unemployment\"]].values"
      ],
      "metadata": {
        "id": "ToQOY_Ir4g04"
      },
      "execution_count": 31,
      "outputs": []
    },
    {
      "cell_type": "code",
      "source": [
        "#se asignan de manera pseudo aleatoria los datos para llevar a cabo el entrenamiento y posterior testeo.\n",
        "X_train_H, X_test_H, y_train_H, y_test_H = train_test_split(X_H, y_H, test_size= 0.2)\n",
        "\n",
        "#crea un modelo KNN con 5 \"vecinos\"\n",
        "knn_H = KNeighborsRegressor(n_neighbors = 5, metric= 'minkowski', p = 2)\n",
        "#entrenamos el regresor\n",
        "knn_H.fit(X_train_H, y_train_H)\n"
      ],
      "metadata": {
        "colab": {
          "base_uri": "https://localhost:8080/"
        },
        "outputId": "cca28d29-d2b3-4f63-8dcb-4ff39cd7f5f0",
        "id": "3vU-wqs84g04"
      },
      "execution_count": 32,
      "outputs": [
        {
          "output_type": "execute_result",
          "data": {
            "text/plain": [
              "KNeighborsRegressor()"
            ]
          },
          "metadata": {},
          "execution_count": 32
        }
      ]
    },
    {
      "cell_type": "code",
      "source": [
        "#realiza una predicción en base a los datos de testeo\n",
        "y_pred_H = knn_H.predict(X_test_H)\n",
        "#se imprime las predicciones realizadas\n",
        "print(\"Predicciones festivas: {}\".format(y_pred_H))"
      ],
      "metadata": {
        "colab": {
          "base_uri": "https://localhost:8080/"
        },
        "outputId": "9765e83e-e445-4492-8d88-16c978bf2010",
        "id": "yzeatSsm4g05"
      },
      "execution_count": 33,
      "outputs": [
        {
          "output_type": "stream",
          "name": "stdout",
          "text": [
            "Predicciones festivas: [ 4358.884 48825.686 43172.508 ...  1266.744 28964.312  6925.688]\n"
          ]
        }
      ]
    },
    {
      "cell_type": "code",
      "source": [
        "#se verifica la precisión con los datos de testeo\n",
        "score_knn_H = knn_H.score(X_test_H, y_test_H)\n",
        "score_knn_H"
      ],
      "metadata": {
        "colab": {
          "base_uri": "https://localhost:8080/"
        },
        "outputId": "58ff1711-e1f9-4af6-eee8-81c0d6fd0299",
        "id": "zc-90gU84g05"
      },
      "execution_count": 34,
      "outputs": [
        {
          "output_type": "execute_result",
          "data": {
            "text/plain": [
              "0.15675293315282735"
            ]
          },
          "metadata": {},
          "execution_count": 34
        }
      ]
    },
    {
      "cell_type": "code",
      "source": [
        "#a continuación se realiza una predicción y en base a ello se genera una tabla comparativa entre los datos reales y los predichos, además de su % de error.\n",
        "preds_H = knn_H.predict(X_test_H)\n",
        "\n",
        "performance_H = pd.DataFrame({ 'True Value': y_test_H,\n",
        "                            'Prediction': preds_H,\n",
        "                            'Error': (abs(preds_H - y_test_H)*100)/y_test_H})\n",
        "\n",
        "performance_H"
      ],
      "metadata": {
        "colab": {
          "base_uri": "https://localhost:8080/",
          "height": 423
        },
        "outputId": "5df638ca-32f4-4ee9-cd3a-69d738d80a0b",
        "id": "2v8b7y194g05"
      },
      "execution_count": 35,
      "outputs": [
        {
          "output_type": "execute_result",
          "data": {
            "text/plain": [
              "      True Value  Prediction        Error\n",
              "0          44.55    4358.884  9684.251403\n",
              "1        1550.00   48825.686  3050.044258\n",
              "2        1895.72   43172.508  2177.367333\n",
              "3       15733.64   13562.528    13.799172\n",
              "4       11580.03   10589.336     8.555194\n",
              "...          ...         ...          ...\n",
              "1994     8430.76   10341.120    22.659404\n",
              "1995     7096.43    6534.200     7.922716\n",
              "1996    15055.48    1266.744    91.586160\n",
              "1997    20043.80   28964.312    44.505094\n",
              "1998    53894.08    6925.688    87.149446\n",
              "\n",
              "[1999 rows x 3 columns]"
            ],
            "text/html": [
              "\n",
              "  <div id=\"df-38465161-8b34-4155-bdbd-baa0212345f4\">\n",
              "    <div class=\"colab-df-container\">\n",
              "      <div>\n",
              "<style scoped>\n",
              "    .dataframe tbody tr th:only-of-type {\n",
              "        vertical-align: middle;\n",
              "    }\n",
              "\n",
              "    .dataframe tbody tr th {\n",
              "        vertical-align: top;\n",
              "    }\n",
              "\n",
              "    .dataframe thead th {\n",
              "        text-align: right;\n",
              "    }\n",
              "</style>\n",
              "<table border=\"1\" class=\"dataframe\">\n",
              "  <thead>\n",
              "    <tr style=\"text-align: right;\">\n",
              "      <th></th>\n",
              "      <th>True Value</th>\n",
              "      <th>Prediction</th>\n",
              "      <th>Error</th>\n",
              "    </tr>\n",
              "  </thead>\n",
              "  <tbody>\n",
              "    <tr>\n",
              "      <th>0</th>\n",
              "      <td>44.55</td>\n",
              "      <td>4358.884</td>\n",
              "      <td>9684.251403</td>\n",
              "    </tr>\n",
              "    <tr>\n",
              "      <th>1</th>\n",
              "      <td>1550.00</td>\n",
              "      <td>48825.686</td>\n",
              "      <td>3050.044258</td>\n",
              "    </tr>\n",
              "    <tr>\n",
              "      <th>2</th>\n",
              "      <td>1895.72</td>\n",
              "      <td>43172.508</td>\n",
              "      <td>2177.367333</td>\n",
              "    </tr>\n",
              "    <tr>\n",
              "      <th>3</th>\n",
              "      <td>15733.64</td>\n",
              "      <td>13562.528</td>\n",
              "      <td>13.799172</td>\n",
              "    </tr>\n",
              "    <tr>\n",
              "      <th>4</th>\n",
              "      <td>11580.03</td>\n",
              "      <td>10589.336</td>\n",
              "      <td>8.555194</td>\n",
              "    </tr>\n",
              "    <tr>\n",
              "      <th>...</th>\n",
              "      <td>...</td>\n",
              "      <td>...</td>\n",
              "      <td>...</td>\n",
              "    </tr>\n",
              "    <tr>\n",
              "      <th>1994</th>\n",
              "      <td>8430.76</td>\n",
              "      <td>10341.120</td>\n",
              "      <td>22.659404</td>\n",
              "    </tr>\n",
              "    <tr>\n",
              "      <th>1995</th>\n",
              "      <td>7096.43</td>\n",
              "      <td>6534.200</td>\n",
              "      <td>7.922716</td>\n",
              "    </tr>\n",
              "    <tr>\n",
              "      <th>1996</th>\n",
              "      <td>15055.48</td>\n",
              "      <td>1266.744</td>\n",
              "      <td>91.586160</td>\n",
              "    </tr>\n",
              "    <tr>\n",
              "      <th>1997</th>\n",
              "      <td>20043.80</td>\n",
              "      <td>28964.312</td>\n",
              "      <td>44.505094</td>\n",
              "    </tr>\n",
              "    <tr>\n",
              "      <th>1998</th>\n",
              "      <td>53894.08</td>\n",
              "      <td>6925.688</td>\n",
              "      <td>87.149446</td>\n",
              "    </tr>\n",
              "  </tbody>\n",
              "</table>\n",
              "<p>1999 rows × 3 columns</p>\n",
              "</div>\n",
              "      <button class=\"colab-df-convert\" onclick=\"convertToInteractive('df-38465161-8b34-4155-bdbd-baa0212345f4')\"\n",
              "              title=\"Convert this dataframe to an interactive table.\"\n",
              "              style=\"display:none;\">\n",
              "        \n",
              "  <svg xmlns=\"http://www.w3.org/2000/svg\" height=\"24px\"viewBox=\"0 0 24 24\"\n",
              "       width=\"24px\">\n",
              "    <path d=\"M0 0h24v24H0V0z\" fill=\"none\"/>\n",
              "    <path d=\"M18.56 5.44l.94 2.06.94-2.06 2.06-.94-2.06-.94-.94-2.06-.94 2.06-2.06.94zm-11 1L8.5 8.5l.94-2.06 2.06-.94-2.06-.94L8.5 2.5l-.94 2.06-2.06.94zm10 10l.94 2.06.94-2.06 2.06-.94-2.06-.94-.94-2.06-.94 2.06-2.06.94z\"/><path d=\"M17.41 7.96l-1.37-1.37c-.4-.4-.92-.59-1.43-.59-.52 0-1.04.2-1.43.59L10.3 9.45l-7.72 7.72c-.78.78-.78 2.05 0 2.83L4 21.41c.39.39.9.59 1.41.59.51 0 1.02-.2 1.41-.59l7.78-7.78 2.81-2.81c.8-.78.8-2.07 0-2.86zM5.41 20L4 18.59l7.72-7.72 1.47 1.35L5.41 20z\"/>\n",
              "  </svg>\n",
              "      </button>\n",
              "      \n",
              "  <style>\n",
              "    .colab-df-container {\n",
              "      display:flex;\n",
              "      flex-wrap:wrap;\n",
              "      gap: 12px;\n",
              "    }\n",
              "\n",
              "    .colab-df-convert {\n",
              "      background-color: #E8F0FE;\n",
              "      border: none;\n",
              "      border-radius: 50%;\n",
              "      cursor: pointer;\n",
              "      display: none;\n",
              "      fill: #1967D2;\n",
              "      height: 32px;\n",
              "      padding: 0 0 0 0;\n",
              "      width: 32px;\n",
              "    }\n",
              "\n",
              "    .colab-df-convert:hover {\n",
              "      background-color: #E2EBFA;\n",
              "      box-shadow: 0px 1px 2px rgba(60, 64, 67, 0.3), 0px 1px 3px 1px rgba(60, 64, 67, 0.15);\n",
              "      fill: #174EA6;\n",
              "    }\n",
              "\n",
              "    [theme=dark] .colab-df-convert {\n",
              "      background-color: #3B4455;\n",
              "      fill: #D2E3FC;\n",
              "    }\n",
              "\n",
              "    [theme=dark] .colab-df-convert:hover {\n",
              "      background-color: #434B5C;\n",
              "      box-shadow: 0px 1px 3px 1px rgba(0, 0, 0, 0.15);\n",
              "      filter: drop-shadow(0px 1px 2px rgba(0, 0, 0, 0.3));\n",
              "      fill: #FFFFFF;\n",
              "    }\n",
              "  </style>\n",
              "\n",
              "      <script>\n",
              "        const buttonEl =\n",
              "          document.querySelector('#df-38465161-8b34-4155-bdbd-baa0212345f4 button.colab-df-convert');\n",
              "        buttonEl.style.display =\n",
              "          google.colab.kernel.accessAllowed ? 'block' : 'none';\n",
              "\n",
              "        async function convertToInteractive(key) {\n",
              "          const element = document.querySelector('#df-38465161-8b34-4155-bdbd-baa0212345f4');\n",
              "          const dataTable =\n",
              "            await google.colab.kernel.invokeFunction('convertToInteractive',\n",
              "                                                     [key], {});\n",
              "          if (!dataTable) return;\n",
              "\n",
              "          const docLinkHtml = 'Like what you see? Visit the ' +\n",
              "            '<a target=\"_blank\" href=https://colab.research.google.com/notebooks/data_table.ipynb>data table notebook</a>'\n",
              "            + ' to learn more about interactive tables.';\n",
              "          element.innerHTML = '';\n",
              "          dataTable['output_type'] = 'display_data';\n",
              "          await google.colab.output.renderOutput(dataTable, element);\n",
              "          const docLink = document.createElement('div');\n",
              "          docLink.innerHTML = docLinkHtml;\n",
              "          element.appendChild(docLink);\n",
              "        }\n",
              "      </script>\n",
              "    </div>\n",
              "  </div>\n",
              "  "
            ]
          },
          "metadata": {},
          "execution_count": 35
        }
      ]
    },
    {
      "cell_type": "code",
      "source": [
        "plt.figure(figsize=(15,7))\n",
        "# Errores\n",
        "ax_x_H= performance_H['True Value']\n",
        "ax_y_H= performance_H['Prediction']\n",
        "yerr_H= performance_H['Error']\n",
        "\n",
        "plt.scatter(range(len(yerr_H)), yerr_H, alpha=.5)\n",
        "plt.title('Homogeneous Errors - KNN', size=15);\n",
        "plt.hlines(y=0, xmin=0, xmax=2000, linestyle='--', color='white', alpha=.5);"
      ],
      "metadata": {
        "colab": {
          "base_uri": "https://localhost:8080/",
          "height": 446
        },
        "outputId": "f2295848-0807-42be-f448-5d3a405ab2e2",
        "id": "cBO2DacN4g05"
      },
      "execution_count": 36,
      "outputs": [
        {
          "output_type": "display_data",
          "data": {
            "text/plain": [
              "<Figure size 1080x504 with 1 Axes>"
            ],
            "image/png": "[encoded data removed]"
          },
          "metadata": {
            "needs_background": "light"
          }
        }
      ]
    },
    {
      "cell_type": "code",
      "source": [
        "#a continuación se verifica la precisión de forma \"manual\" en base a un treshold menor al 30% de error\n",
        "performance_H[\"acceptance_criteria\"] = 0\n",
        "performance_H.loc[performance_H.query('Error<=30').index ,\"acceptance_criteria\"]=1\n",
        "display(performance_H)"
      ],
      "metadata": {
        "colab": {
          "base_uri": "https://localhost:8080/",
          "height": 423
        },
        "outputId": "34ee0742-cde9-4363-d513-0cca6e56012e",
        "id": "Y_3x12Wb4g06"
      },
      "execution_count": 37,
      "outputs": [
        {
          "output_type": "display_data",
          "data": {
            "text/plain": [
              "      True Value  Prediction        Error  acceptance_criteria\n",
              "0          44.55    4358.884  9684.251403                    0\n",
              "1        1550.00   48825.686  3050.044258                    0\n",
              "2        1895.72   43172.508  2177.367333                    0\n",
              "3       15733.64   13562.528    13.799172                    1\n",
              "4       11580.03   10589.336     8.555194                    1\n",
              "...          ...         ...          ...                  ...\n",
              "1994     8430.76   10341.120    22.659404                    1\n",
              "1995     7096.43    6534.200     7.922716                    1\n",
              "1996    15055.48    1266.744    91.586160                    0\n",
              "1997    20043.80   28964.312    44.505094                    0\n",
              "1998    53894.08    6925.688    87.149446                    0\n",
              "\n",
              "[1999 rows x 4 columns]"
            ],
            "text/html": [
              "\n",
              "  <div id=\"df-0918e15b-4806-4029-8426-c5baf46cd304\">\n",
              "    <div class=\"colab-df-container\">\n",
              "      <div>\n",
              "<style scoped>\n",
              "    .dataframe tbody tr th:only-of-type {\n",
              "        vertical-align: middle;\n",
              "    }\n",
              "\n",
              "    .dataframe tbody tr th {\n",
              "        vertical-align: top;\n",
              "    }\n",
              "\n",
              "    .dataframe thead th {\n",
              "        text-align: right;\n",
              "    }\n",
              "</style>\n",
              "<table border=\"1\" class=\"dataframe\">\n",
              "  <thead>\n",
              "    <tr style=\"text-align: right;\">\n",
              "      <th></th>\n",
              "      <th>True Value</th>\n",
              "      <th>Prediction</th>\n",
              "      <th>Error</th>\n",
              "      <th>acceptance_criteria</th>\n",
              "    </tr>\n",
              "  </thead>\n",
              "  <tbody>\n",
              "    <tr>\n",
              "      <th>0</th>\n",
              "      <td>44.55</td>\n",
              "      <td>4358.884</td>\n",
              "      <td>9684.251403</td>\n",
              "      <td>0</td>\n",
              "    </tr>\n",
              "    <tr>\n",
              "      <th>1</th>\n",
              "      <td>1550.00</td>\n",
              "      <td>48825.686</td>\n",
              "      <td>3050.044258</td>\n",
              "      <td>0</td>\n",
              "    </tr>\n",
              "    <tr>\n",
              "      <th>2</th>\n",
              "      <td>1895.72</td>\n",
              "      <td>43172.508</td>\n",
              "      <td>2177.367333</td>\n",
              "      <td>0</td>\n",
              "    </tr>\n",
              "    <tr>\n",
              "      <th>3</th>\n",
              "      <td>15733.64</td>\n",
              "      <td>13562.528</td>\n",
              "      <td>13.799172</td>\n",
              "      <td>1</td>\n",
              "    </tr>\n",
              "    <tr>\n",
              "      <th>4</th>\n",
              "      <td>11580.03</td>\n",
              "      <td>10589.336</td>\n",
              "      <td>8.555194</td>\n",
              "      <td>1</td>\n",
              "    </tr>\n",
              "    <tr>\n",
              "      <th>...</th>\n",
              "      <td>...</td>\n",
              "      <td>...</td>\n",
              "      <td>...</td>\n",
              "      <td>...</td>\n",
              "    </tr>\n",
              "    <tr>\n",
              "      <th>1994</th>\n",
              "      <td>8430.76</td>\n",
              "      <td>10341.120</td>\n",
              "      <td>22.659404</td>\n",
              "      <td>1</td>\n",
              "    </tr>\n",
              "    <tr>\n",
              "      <th>1995</th>\n",
              "      <td>7096.43</td>\n",
              "      <td>6534.200</td>\n",
              "      <td>7.922716</td>\n",
              "      <td>1</td>\n",
              "    </tr>\n",
              "    <tr>\n",
              "      <th>1996</th>\n",
              "      <td>15055.48</td>\n",
              "      <td>1266.744</td>\n",
              "      <td>91.586160</td>\n",
              "      <td>0</td>\n",
              "    </tr>\n",
              "    <tr>\n",
              "      <th>1997</th>\n",
              "      <td>20043.80</td>\n",
              "      <td>28964.312</td>\n",
              "      <td>44.505094</td>\n",
              "      <td>0</td>\n",
              "    </tr>\n",
              "    <tr>\n",
              "      <th>1998</th>\n",
              "      <td>53894.08</td>\n",
              "      <td>6925.688</td>\n",
              "      <td>87.149446</td>\n",
              "      <td>0</td>\n",
              "    </tr>\n",
              "  </tbody>\n",
              "</table>\n",
              "<p>1999 rows × 4 columns</p>\n",
              "</div>\n",
              "      <button class=\"colab-df-convert\" onclick=\"convertToInteractive('df-0918e15b-4806-4029-8426-c5baf46cd304')\"\n",
              "              title=\"Convert this dataframe to an interactive table.\"\n",
              "              style=\"display:none;\">\n",
              "        \n",
              "  <svg xmlns=\"http://www.w3.org/2000/svg\" height=\"24px\"viewBox=\"0 0 24 24\"\n",
              "       width=\"24px\">\n",
              "    <path d=\"M0 0h24v24H0V0z\" fill=\"none\"/>\n",
              "    <path d=\"M18.56 5.44l.94 2.06.94-2.06 2.06-.94-2.06-.94-.94-2.06-.94 2.06-2.06.94zm-11 1L8.5 8.5l.94-2.06 2.06-.94-2.06-.94L8.5 2.5l-.94 2.06-2.06.94zm10 10l.94 2.06.94-2.06 2.06-.94-2.06-.94-.94-2.06-.94 2.06-2.06.94z\"/><path d=\"M17.41 7.96l-1.37-1.37c-.4-.4-.92-.59-1.43-.59-.52 0-1.04.2-1.43.59L10.3 9.45l-7.72 7.72c-.78.78-.78 2.05 0 2.83L4 21.41c.39.39.9.59 1.41.59.51 0 1.02-.2 1.41-.59l7.78-7.78 2.81-2.81c.8-.78.8-2.07 0-2.86zM5.41 20L4 18.59l7.72-7.72 1.47 1.35L5.41 20z\"/>\n",
              "  </svg>\n",
              "      </button>\n",
              "      \n",
              "  <style>\n",
              "    .colab-df-container {\n",
              "      display:flex;\n",
              "      flex-wrap:wrap;\n",
              "      gap: 12px;\n",
              "    }\n",
              "\n",
              "    .colab-df-convert {\n",
              "      background-color: #E8F0FE;\n",
              "      border: none;\n",
              "      border-radius: 50%;\n",
              "      cursor: pointer;\n",
              "      display: none;\n",
              "      fill: #1967D2;\n",
              "      height: 32px;\n",
              "      padding: 0 0 0 0;\n",
              "      width: 32px;\n",
              "    }\n",
              "\n",
              "    .colab-df-convert:hover {\n",
              "      background-color: #E2EBFA;\n",
              "      box-shadow: 0px 1px 2px rgba(60, 64, 67, 0.3), 0px 1px 3px 1px rgba(60, 64, 67, 0.15);\n",
              "      fill: #174EA6;\n",
              "    }\n",
              "\n",
              "    [theme=dark] .colab-df-convert {\n",
              "      background-color: #3B4455;\n",
              "      fill: #D2E3FC;\n",
              "    }\n",
              "\n",
              "    [theme=dark] .colab-df-convert:hover {\n",
              "      background-color: #434B5C;\n",
              "      box-shadow: 0px 1px 3px 1px rgba(0, 0, 0, 0.15);\n",
              "      filter: drop-shadow(0px 1px 2px rgba(0, 0, 0, 0.3));\n",
              "      fill: #FFFFFF;\n",
              "    }\n",
              "  </style>\n",
              "\n",
              "      <script>\n",
              "        const buttonEl =\n",
              "          document.querySelector('#df-0918e15b-4806-4029-8426-c5baf46cd304 button.colab-df-convert');\n",
              "        buttonEl.style.display =\n",
              "          google.colab.kernel.accessAllowed ? 'block' : 'none';\n",
              "\n",
              "        async function convertToInteractive(key) {\n",
              "          const element = document.querySelector('#df-0918e15b-4806-4029-8426-c5baf46cd304');\n",
              "          const dataTable =\n",
              "            await google.colab.kernel.invokeFunction('convertToInteractive',\n",
              "                                                     [key], {});\n",
              "          if (!dataTable) return;\n",
              "\n",
              "          const docLinkHtml = 'Like what you see? Visit the ' +\n",
              "            '<a target=\"_blank\" href=https://colab.research.google.com/notebooks/data_table.ipynb>data table notebook</a>'\n",
              "            + ' to learn more about interactive tables.';\n",
              "          element.innerHTML = '';\n",
              "          dataTable['output_type'] = 'display_data';\n",
              "          await google.colab.output.renderOutput(dataTable, element);\n",
              "          const docLink = document.createElement('div');\n",
              "          docLink.innerHTML = docLinkHtml;\n",
              "          element.appendChild(docLink);\n",
              "        }\n",
              "      </script>\n",
              "    </div>\n",
              "  </div>\n",
              "  "
            ]
          },
          "metadata": {}
        }
      ]
    },
    {
      "cell_type": "code",
      "source": [
        "len(performance_H.query('Error<=30').index)"
      ],
      "metadata": {
        "colab": {
          "base_uri": "https://localhost:8080/"
        },
        "outputId": "8549d1c6-39e4-46fd-ea09-f2277bf27e67",
        "id": "OhCIjyF44g06"
      },
      "execution_count": 38,
      "outputs": [
        {
          "output_type": "execute_result",
          "data": {
            "text/plain": [
              "400"
            ]
          },
          "metadata": {},
          "execution_count": 38
        }
      ]
    },
    {
      "cell_type": "code",
      "source": [
        "(len(performance_H.index))"
      ],
      "metadata": {
        "colab": {
          "base_uri": "https://localhost:8080/"
        },
        "outputId": "f4ae3dd5-08f5-454a-bb37-762a7ec2b05b",
        "id": "-U8jGjjc4g06"
      },
      "execution_count": 39,
      "outputs": [
        {
          "output_type": "execute_result",
          "data": {
            "text/plain": [
              "1999"
            ]
          },
          "metadata": {},
          "execution_count": 39
        }
      ]
    },
    {
      "cell_type": "code",
      "source": [
        "#precisión calculada a través de la fórmula perteneciente a las partes de una matriz de confusión: prefición = #TruePositive / #(TruePositive + FalsePositive)\n",
        "len(performance_H.query('Error<=30').index)/(len(performance_H.index))"
      ],
      "metadata": {
        "colab": {
          "base_uri": "https://localhost:8080/"
        },
        "outputId": "13748e4b-f559-4c88-b8fd-af231c83bab5",
        "id": "ow0c7LZk4g06"
      },
      "execution_count": 40,
      "outputs": [
        {
          "output_type": "execute_result",
          "data": {
            "text/plain": [
              "0.2001000500250125"
            ]
          },
          "metadata": {},
          "execution_count": 40
        }
      ]
    },
    {
      "cell_type": "markdown",
      "source": [
        "Actualmente el valor obtenido es cercano al obtenido por la función .score"
      ],
      "metadata": {
        "id": "FnUqYHBH4g06"
      }
    },
    {
      "cell_type": "markdown",
      "source": [
        "1.   **Score**: 0.1322228498354584\n",
        "2.   **Precisión manual**: 0.2111055527763882"
      ],
      "metadata": {
        "id": "GDobBNc_4g07"
      }
    },
    {
      "cell_type": "markdown",
      "source": [
        "## Segundo set\n",
        "Donde se realiza un balanceo de datos para la columna \"Weekly_Sales\""
      ],
      "metadata": {
        "id": "tyOiWQL03SWn"
      }
    },
    {
      "cell_type": "markdown",
      "source": [
        "### Datos no festivos:"
      ],
      "metadata": {
        "id": "U2_Rt46ru-hU"
      }
    },
    {
      "cell_type": "code",
      "source": [
        "join_data_no_Holiday['Weekly_Sales'].hist()"
      ],
      "metadata": {
        "colab": {
          "base_uri": "https://localhost:8080/",
          "height": 282
        },
        "outputId": "b477d82e-994f-4b0b-dc61-6f4c9ce10f01",
        "id": "tTPLqh7-bC65"
      },
      "execution_count": 41,
      "outputs": [
        {
          "output_type": "execute_result",
          "data": {
            "text/plain": [
              "<matplotlib.axes._subplots.AxesSubplot at 0x7f61dba092e0>"
            ]
          },
          "metadata": {},
          "execution_count": 41
        },
        {
          "output_type": "display_data",
          "data": {
            "text/plain": [
              "<Figure size 432x288 with 1 Axes>"
            ],
            "image/png": "[encoded data removed]"
          },
          "metadata": {
            "needs_background": "light"
          }
        }
      ]
    },
    {
      "cell_type": "code",
      "source": [
        "#se agrupa el conjunto de datos en los que las ventas semanales sean como máximo 30000\n",
        "Data_Weekly_Sales_Cheap = join_data_no_Holiday.query('Weekly_Sales <= 30000')\n",
        "len(Data_Weekly_Sales_Cheap)"
      ],
      "metadata": {
        "colab": {
          "base_uri": "https://localhost:8080/"
        },
        "outputId": "06479ee6-8141-4387-c118-b6de1138afb6",
        "id": "BUs4G1uEbC66"
      },
      "execution_count": 42,
      "outputs": [
        {
          "output_type": "execute_result",
          "data": {
            "text/plain": [
              "70856"
            ]
          },
          "metadata": {},
          "execution_count": 42
        }
      ]
    },
    {
      "cell_type": "code",
      "source": [
        "len(join_data_no_Holiday.query('Weekly_Sales > 30000'))"
      ],
      "metadata": {
        "colab": {
          "base_uri": "https://localhost:8080/"
        },
        "id": "Ja6Qd9Mtvnb8",
        "outputId": "82ba2ea6-3b40-4c4a-a254-84ce715ccafa"
      },
      "execution_count": 43,
      "outputs": [
        {
          "output_type": "execute_result",
          "data": {
            "text/plain": [
              "16208"
            ]
          },
          "metadata": {},
          "execution_count": 43
        }
      ]
    },
    {
      "cell_type": "code",
      "source": [
        "#se escojen 20000 datos al azar del conjunto de datos anteriormente creado y se concatenan con aquellos datos de las ventas semanales cuyo valor sea mayor a 30000\n",
        "join_data_no_Holiday2 = pd.concat([Data_Weekly_Sales_Cheap.sample(n=20000), join_data_no_Holiday.query('Weekly_Sales > 30000')])"
      ],
      "metadata": {
        "id": "C-t7kUwJbC66"
      },
      "execution_count": 44,
      "outputs": []
    },
    {
      "cell_type": "code",
      "source": [
        "#Se obserba la mejora en el balanceo de los datos de las ventas semanales, es decir, \"Weekly_Sales\".\n",
        "join_data_no_Holiday2['Weekly_Sales'].hist()"
      ],
      "metadata": {
        "colab": {
          "base_uri": "https://localhost:8080/",
          "height": 282
        },
        "outputId": "bf229cb0-3d8b-46fe-e92b-e8d477b6b621",
        "id": "zPW32cVNbC67"
      },
      "execution_count": 45,
      "outputs": [
        {
          "output_type": "execute_result",
          "data": {
            "text/plain": [
              "<matplotlib.axes._subplots.AxesSubplot at 0x7f61db989280>"
            ]
          },
          "metadata": {},
          "execution_count": 45
        },
        {
          "output_type": "display_data",
          "data": {
            "text/plain": [
              "<Figure size 432x288 with 1 Axes>"
            ],
            "image/png": "[encoded data removed]"
          },
          "metadata": {
            "needs_background": "light"
          }
        }
      ]
    },
    {
      "cell_type": "markdown",
      "source": [
        "A continuación se procede a realizar en entrenamiento de manera homóloga al set 1"
      ],
      "metadata": {
        "id": "hbbpPauQfaUf"
      }
    },
    {
      "cell_type": "code",
      "source": [
        "#se crean arrays para las características y la variable de destino en el caso de dias no festivos.\n",
        "y2 = join_data_no_Holiday2[\"Weekly_Sales\"].values\n",
        "X2 = join_data_no_Holiday2[[\"Dept\",\"Fuel_Price\", \"MarkDown1\", \"MarkDown2\", \"MarkDown3\", \"MarkDown4\", \"MarkDown5\", \"CPI\", \"Unemployment\"]].values"
      ],
      "metadata": {
        "id": "C8xJxwHcgCJD"
      },
      "execution_count": 46,
      "outputs": []
    },
    {
      "cell_type": "code",
      "source": [
        "X_train2, X_test2, y_train2, y_test2 = train_test_split(X2, y2, test_size= 0.2)"
      ],
      "metadata": {
        "id": "2OcS2lxjjj6T"
      },
      "execution_count": 47,
      "outputs": []
    },
    {
      "cell_type": "code",
      "source": [
        "#crea un modelo KNN con 5 \"vecinos\"\n",
        "knn2 = KNeighborsRegressor(n_neighbors = 5, metric= 'minkowski', p = 2)\n",
        "#entrenamos el nuevo regresor\n",
        "knn2.fit(X_train2, y_train2)"
      ],
      "metadata": {
        "colab": {
          "base_uri": "https://localhost:8080/"
        },
        "id": "ZCcXpyCafvhP",
        "outputId": "7957f144-b131-48ed-ac5f-b49e3745b8cc"
      },
      "execution_count": 48,
      "outputs": [
        {
          "output_type": "execute_result",
          "data": {
            "text/plain": [
              "KNeighborsRegressor()"
            ]
          },
          "metadata": {},
          "execution_count": 48
        }
      ]
    },
    {
      "cell_type": "code",
      "source": [
        "#realiza una predicción en base a los datos de testeo\n",
        "y_pred2 = knn2.predict(X_test2)\n",
        "#se imprime las predicciones realizadas\n",
        "print(\"Predicciones set 2: {}\".format(y_pred2))"
      ],
      "metadata": {
        "colab": {
          "base_uri": "https://localhost:8080/"
        },
        "id": "6rszUr7BkT87",
        "outputId": "5e12edc9-f81d-48db-f5f2-fa024c455133"
      },
      "execution_count": 49,
      "outputs": [
        {
          "output_type": "stream",
          "name": "stdout",
          "text": [
            "Predicciones set 2: [39932.886 18979.652 26099.    ... 26815.39  20908.488 17240.944]\n"
          ]
        }
      ]
    },
    {
      "cell_type": "code",
      "source": [
        "#se verifica la precisión con los datos de testeo\n",
        "score_knn2 = knn2.score(X_test2, y_test2)\n",
        "score_knn2"
      ],
      "metadata": {
        "colab": {
          "base_uri": "https://localhost:8080/"
        },
        "id": "qiE7_bAZkwan",
        "outputId": "4fdbaa12-b684-4d97-cdd9-d81536391ff4"
      },
      "execution_count": 50,
      "outputs": [
        {
          "output_type": "execute_result",
          "data": {
            "text/plain": [
              "0.16354566929705527"
            ]
          },
          "metadata": {},
          "execution_count": 50
        }
      ]
    },
    {
      "cell_type": "code",
      "source": [
        "#a continuación se realiza una predicción y en base a ello se genera una tabla comparativa entre los datos reales y los predichos, además de su % de error.\n",
        "preds2 = knn2.predict(X_test2)\n",
        "\n",
        "performance2 = pd.DataFrame({ 'True Value': y_test2,\n",
        "                            'Prediction': preds2,\n",
        "                            'Error': (abs(preds2 - y_test2)*100)/y_test2})\n",
        "\n",
        "performance2"
      ],
      "metadata": {
        "colab": {
          "base_uri": "https://localhost:8080/",
          "height": 423
        },
        "id": "LrULHRedldrD",
        "outputId": "cbe533c1-f636-48c2-8cd5-c0d807528c70"
      },
      "execution_count": 51,
      "outputs": [
        {
          "output_type": "execute_result",
          "data": {
            "text/plain": [
              "      True Value  Prediction        Error\n",
              "0        6285.86   39932.886   535.281187\n",
              "1         203.57   18979.652  9223.403252\n",
              "2        2438.00   26099.000   970.508614\n",
              "3       50389.45   30255.466    39.956745\n",
              "4        2115.54   25292.714  1095.567751\n",
              "...          ...         ...          ...\n",
              "7237    33504.62   49026.428    46.327366\n",
              "7238    59268.21   22030.970    62.828353\n",
              "7239      306.55   26815.390  8647.476757\n",
              "7240     1345.61   20908.488  1453.829713\n",
              "7241    39421.64   17240.944    56.265280\n",
              "\n",
              "[7242 rows x 3 columns]"
            ],
            "text/html": [
              "\n",
              "  <div id=\"df-467d5491-5144-4e0c-ba26-7978de1cd45a\">\n",
              "    <div class=\"colab-df-container\">\n",
              "      <div>\n",
              "<style scoped>\n",
              "    .dataframe tbody tr th:only-of-type {\n",
              "        vertical-align: middle;\n",
              "    }\n",
              "\n",
              "    .dataframe tbody tr th {\n",
              "        vertical-align: top;\n",
              "    }\n",
              "\n",
              "    .dataframe thead th {\n",
              "        text-align: right;\n",
              "    }\n",
              "</style>\n",
              "<table border=\"1\" class=\"dataframe\">\n",
              "  <thead>\n",
              "    <tr style=\"text-align: right;\">\n",
              "      <th></th>\n",
              "      <th>True Value</th>\n",
              "      <th>Prediction</th>\n",
              "      <th>Error</th>\n",
              "    </tr>\n",
              "  </thead>\n",
              "  <tbody>\n",
              "    <tr>\n",
              "      <th>0</th>\n",
              "      <td>6285.86</td>\n",
              "      <td>39932.886</td>\n",
              "      <td>535.281187</td>\n",
              "    </tr>\n",
              "    <tr>\n",
              "      <th>1</th>\n",
              "      <td>203.57</td>\n",
              "      <td>18979.652</td>\n",
              "      <td>9223.403252</td>\n",
              "    </tr>\n",
              "    <tr>\n",
              "      <th>2</th>\n",
              "      <td>2438.00</td>\n",
              "      <td>26099.000</td>\n",
              "      <td>970.508614</td>\n",
              "    </tr>\n",
              "    <tr>\n",
              "      <th>3</th>\n",
              "      <td>50389.45</td>\n",
              "      <td>30255.466</td>\n",
              "      <td>39.956745</td>\n",
              "    </tr>\n",
              "    <tr>\n",
              "      <th>4</th>\n",
              "      <td>2115.54</td>\n",
              "      <td>25292.714</td>\n",
              "      <td>1095.567751</td>\n",
              "    </tr>\n",
              "    <tr>\n",
              "      <th>...</th>\n",
              "      <td>...</td>\n",
              "      <td>...</td>\n",
              "      <td>...</td>\n",
              "    </tr>\n",
              "    <tr>\n",
              "      <th>7237</th>\n",
              "      <td>33504.62</td>\n",
              "      <td>49026.428</td>\n",
              "      <td>46.327366</td>\n",
              "    </tr>\n",
              "    <tr>\n",
              "      <th>7238</th>\n",
              "      <td>59268.21</td>\n",
              "      <td>22030.970</td>\n",
              "      <td>62.828353</td>\n",
              "    </tr>\n",
              "    <tr>\n",
              "      <th>7239</th>\n",
              "      <td>306.55</td>\n",
              "      <td>26815.390</td>\n",
              "      <td>8647.476757</td>\n",
              "    </tr>\n",
              "    <tr>\n",
              "      <th>7240</th>\n",
              "      <td>1345.61</td>\n",
              "      <td>20908.488</td>\n",
              "      <td>1453.829713</td>\n",
              "    </tr>\n",
              "    <tr>\n",
              "      <th>7241</th>\n",
              "      <td>39421.64</td>\n",
              "      <td>17240.944</td>\n",
              "      <td>56.265280</td>\n",
              "    </tr>\n",
              "  </tbody>\n",
              "</table>\n",
              "<p>7242 rows × 3 columns</p>\n",
              "</div>\n",
              "      <button class=\"colab-df-convert\" onclick=\"convertToInteractive('df-467d5491-5144-4e0c-ba26-7978de1cd45a')\"\n",
              "              title=\"Convert this dataframe to an interactive table.\"\n",
              "              style=\"display:none;\">\n",
              "        \n",
              "  <svg xmlns=\"http://www.w3.org/2000/svg\" height=\"24px\"viewBox=\"0 0 24 24\"\n",
              "       width=\"24px\">\n",
              "    <path d=\"M0 0h24v24H0V0z\" fill=\"none\"/>\n",
              "    <path d=\"M18.56 5.44l.94 2.06.94-2.06 2.06-.94-2.06-.94-.94-2.06-.94 2.06-2.06.94zm-11 1L8.5 8.5l.94-2.06 2.06-.94-2.06-.94L8.5 2.5l-.94 2.06-2.06.94zm10 10l.94 2.06.94-2.06 2.06-.94-2.06-.94-.94-2.06-.94 2.06-2.06.94z\"/><path d=\"M17.41 7.96l-1.37-1.37c-.4-.4-.92-.59-1.43-.59-.52 0-1.04.2-1.43.59L10.3 9.45l-7.72 7.72c-.78.78-.78 2.05 0 2.83L4 21.41c.39.39.9.59 1.41.59.51 0 1.02-.2 1.41-.59l7.78-7.78 2.81-2.81c.8-.78.8-2.07 0-2.86zM5.41 20L4 18.59l7.72-7.72 1.47 1.35L5.41 20z\"/>\n",
              "  </svg>\n",
              "      </button>\n",
              "      \n",
              "  <style>\n",
              "    .colab-df-container {\n",
              "      display:flex;\n",
              "      flex-wrap:wrap;\n",
              "      gap: 12px;\n",
              "    }\n",
              "\n",
              "    .colab-df-convert {\n",
              "      background-color: #E8F0FE;\n",
              "      border: none;\n",
              "      border-radius: 50%;\n",
              "      cursor: pointer;\n",
              "      display: none;\n",
              "      fill: #1967D2;\n",
              "      height: 32px;\n",
              "      padding: 0 0 0 0;\n",
              "      width: 32px;\n",
              "    }\n",
              "\n",
              "    .colab-df-convert:hover {\n",
              "      background-color: #E2EBFA;\n",
              "      box-shadow: 0px 1px 2px rgba(60, 64, 67, 0.3), 0px 1px 3px 1px rgba(60, 64, 67, 0.15);\n",
              "      fill: #174EA6;\n",
              "    }\n",
              "\n",
              "    [theme=dark] .colab-df-convert {\n",
              "      background-color: #3B4455;\n",
              "      fill: #D2E3FC;\n",
              "    }\n",
              "\n",
              "    [theme=dark] .colab-df-convert:hover {\n",
              "      background-color: #434B5C;\n",
              "      box-shadow: 0px 1px 3px 1px rgba(0, 0, 0, 0.15);\n",
              "      filter: drop-shadow(0px 1px 2px rgba(0, 0, 0, 0.3));\n",
              "      fill: #FFFFFF;\n",
              "    }\n",
              "  </style>\n",
              "\n",
              "      <script>\n",
              "        const buttonEl =\n",
              "          document.querySelector('#df-467d5491-5144-4e0c-ba26-7978de1cd45a button.colab-df-convert');\n",
              "        buttonEl.style.display =\n",
              "          google.colab.kernel.accessAllowed ? 'block' : 'none';\n",
              "\n",
              "        async function convertToInteractive(key) {\n",
              "          const element = document.querySelector('#df-467d5491-5144-4e0c-ba26-7978de1cd45a');\n",
              "          const dataTable =\n",
              "            await google.colab.kernel.invokeFunction('convertToInteractive',\n",
              "                                                     [key], {});\n",
              "          if (!dataTable) return;\n",
              "\n",
              "          const docLinkHtml = 'Like what you see? Visit the ' +\n",
              "            '<a target=\"_blank\" href=https://colab.research.google.com/notebooks/data_table.ipynb>data table notebook</a>'\n",
              "            + ' to learn more about interactive tables.';\n",
              "          element.innerHTML = '';\n",
              "          dataTable['output_type'] = 'display_data';\n",
              "          await google.colab.output.renderOutput(dataTable, element);\n",
              "          const docLink = document.createElement('div');\n",
              "          docLink.innerHTML = docLinkHtml;\n",
              "          element.appendChild(docLink);\n",
              "        }\n",
              "      </script>\n",
              "    </div>\n",
              "  </div>\n",
              "  "
            ]
          },
          "metadata": {},
          "execution_count": 51
        }
      ]
    },
    {
      "cell_type": "code",
      "source": [
        "plt.figure(figsize=(15,7))\n",
        "# Errores\n",
        "ax_x2= performance2['True Value']\n",
        "ax_y2= performance2['Prediction']\n",
        "yerr2= performance2['Error']\n",
        "\n",
        "plt.scatter(range(len(yerr2)), yerr2, alpha=.5)\n",
        "plt.title('Homogeneous Errors - KNN2', size=15);\n",
        "plt.hlines(y=0, xmin=0, xmax=7500, linestyle='--', color='white', alpha=.5);"
      ],
      "metadata": {
        "colab": {
          "base_uri": "https://localhost:8080/",
          "height": 446
        },
        "id": "4wtQopVxzQQX",
        "outputId": "9e07a222-2bb3-4838-c505-206ba08ade2a"
      },
      "execution_count": 52,
      "outputs": [
        {
          "output_type": "display_data",
          "data": {
            "text/plain": [
              "<Figure size 1080x504 with 1 Axes>"
            ],
            "image/png": "[encoded data removed]"
          },
          "metadata": {
            "needs_background": "light"
          }
        }
      ]
    },
    {
      "cell_type": "code",
      "source": [
        "#a continuación se verifica la precisión en base a un treshold menor al 30% de error\n",
        "performance2[\"acceptance_criteria\"] = 0\n",
        "performance2.loc[performance2.query('Error<=15').index ,\"acceptance_criteria\"]=1\n",
        "display(performance2)"
      ],
      "metadata": {
        "id": "hULz15IwnFuu",
        "colab": {
          "base_uri": "https://localhost:8080/",
          "height": 423
        },
        "outputId": "70b2ccff-b07c-4b8c-8772-e9181aa032be"
      },
      "execution_count": 53,
      "outputs": [
        {
          "output_type": "display_data",
          "data": {
            "text/plain": [
              "      True Value  Prediction        Error  acceptance_criteria\n",
              "0        6285.86   39932.886   535.281187                    0\n",
              "1         203.57   18979.652  9223.403252                    0\n",
              "2        2438.00   26099.000   970.508614                    0\n",
              "3       50389.45   30255.466    39.956745                    0\n",
              "4        2115.54   25292.714  1095.567751                    0\n",
              "...          ...         ...          ...                  ...\n",
              "7237    33504.62   49026.428    46.327366                    0\n",
              "7238    59268.21   22030.970    62.828353                    0\n",
              "7239      306.55   26815.390  8647.476757                    0\n",
              "7240     1345.61   20908.488  1453.829713                    0\n",
              "7241    39421.64   17240.944    56.265280                    0\n",
              "\n",
              "[7242 rows x 4 columns]"
            ],
            "text/html": [
              "\n",
              "  <div id=\"df-d91b2f60-e56b-4245-b768-a288d22e3bef\">\n",
              "    <div class=\"colab-df-container\">\n",
              "      <div>\n",
              "<style scoped>\n",
              "    .dataframe tbody tr th:only-of-type {\n",
              "        vertical-align: middle;\n",
              "    }\n",
              "\n",
              "    .dataframe tbody tr th {\n",
              "        vertical-align: top;\n",
              "    }\n",
              "\n",
              "    .dataframe thead th {\n",
              "        text-align: right;\n",
              "    }\n",
              "</style>\n",
              "<table border=\"1\" class=\"dataframe\">\n",
              "  <thead>\n",
              "    <tr style=\"text-align: right;\">\n",
              "      <th></th>\n",
              "      <th>True Value</th>\n",
              "      <th>Prediction</th>\n",
              "      <th>Error</th>\n",
              "      <th>acceptance_criteria</th>\n",
              "    </tr>\n",
              "  </thead>\n",
              "  <tbody>\n",
              "    <tr>\n",
              "      <th>0</th>\n",
              "      <td>6285.86</td>\n",
              "      <td>39932.886</td>\n",
              "      <td>535.281187</td>\n",
              "      <td>0</td>\n",
              "    </tr>\n",
              "    <tr>\n",
              "      <th>1</th>\n",
              "      <td>203.57</td>\n",
              "      <td>18979.652</td>\n",
              "      <td>9223.403252</td>\n",
              "      <td>0</td>\n",
              "    </tr>\n",
              "    <tr>\n",
              "      <th>2</th>\n",
              "      <td>2438.00</td>\n",
              "      <td>26099.000</td>\n",
              "      <td>970.508614</td>\n",
              "      <td>0</td>\n",
              "    </tr>\n",
              "    <tr>\n",
              "      <th>3</th>\n",
              "      <td>50389.45</td>\n",
              "      <td>30255.466</td>\n",
              "      <td>39.956745</td>\n",
              "      <td>0</td>\n",
              "    </tr>\n",
              "    <tr>\n",
              "      <th>4</th>\n",
              "      <td>2115.54</td>\n",
              "      <td>25292.714</td>\n",
              "      <td>1095.567751</td>\n",
              "      <td>0</td>\n",
              "    </tr>\n",
              "    <tr>\n",
              "      <th>...</th>\n",
              "      <td>...</td>\n",
              "      <td>...</td>\n",
              "      <td>...</td>\n",
              "      <td>...</td>\n",
              "    </tr>\n",
              "    <tr>\n",
              "      <th>7237</th>\n",
              "      <td>33504.62</td>\n",
              "      <td>49026.428</td>\n",
              "      <td>46.327366</td>\n",
              "      <td>0</td>\n",
              "    </tr>\n",
              "    <tr>\n",
              "      <th>7238</th>\n",
              "      <td>59268.21</td>\n",
              "      <td>22030.970</td>\n",
              "      <td>62.828353</td>\n",
              "      <td>0</td>\n",
              "    </tr>\n",
              "    <tr>\n",
              "      <th>7239</th>\n",
              "      <td>306.55</td>\n",
              "      <td>26815.390</td>\n",
              "      <td>8647.476757</td>\n",
              "      <td>0</td>\n",
              "    </tr>\n",
              "    <tr>\n",
              "      <th>7240</th>\n",
              "      <td>1345.61</td>\n",
              "      <td>20908.488</td>\n",
              "      <td>1453.829713</td>\n",
              "      <td>0</td>\n",
              "    </tr>\n",
              "    <tr>\n",
              "      <th>7241</th>\n",
              "      <td>39421.64</td>\n",
              "      <td>17240.944</td>\n",
              "      <td>56.265280</td>\n",
              "      <td>0</td>\n",
              "    </tr>\n",
              "  </tbody>\n",
              "</table>\n",
              "<p>7242 rows × 4 columns</p>\n",
              "</div>\n",
              "      <button class=\"colab-df-convert\" onclick=\"convertToInteractive('df-d91b2f60-e56b-4245-b768-a288d22e3bef')\"\n",
              "              title=\"Convert this dataframe to an interactive table.\"\n",
              "              style=\"display:none;\">\n",
              "        \n",
              "  <svg xmlns=\"http://www.w3.org/2000/svg\" height=\"24px\"viewBox=\"0 0 24 24\"\n",
              "       width=\"24px\">\n",
              "    <path d=\"M0 0h24v24H0V0z\" fill=\"none\"/>\n",
              "    <path d=\"M18.56 5.44l.94 2.06.94-2.06 2.06-.94-2.06-.94-.94-2.06-.94 2.06-2.06.94zm-11 1L8.5 8.5l.94-2.06 2.06-.94-2.06-.94L8.5 2.5l-.94 2.06-2.06.94zm10 10l.94 2.06.94-2.06 2.06-.94-2.06-.94-.94-2.06-.94 2.06-2.06.94z\"/><path d=\"M17.41 7.96l-1.37-1.37c-.4-.4-.92-.59-1.43-.59-.52 0-1.04.2-1.43.59L10.3 9.45l-7.72 7.72c-.78.78-.78 2.05 0 2.83L4 21.41c.39.39.9.59 1.41.59.51 0 1.02-.2 1.41-.59l7.78-7.78 2.81-2.81c.8-.78.8-2.07 0-2.86zM5.41 20L4 18.59l7.72-7.72 1.47 1.35L5.41 20z\"/>\n",
              "  </svg>\n",
              "      </button>\n",
              "      \n",
              "  <style>\n",
              "    .colab-df-container {\n",
              "      display:flex;\n",
              "      flex-wrap:wrap;\n",
              "      gap: 12px;\n",
              "    }\n",
              "\n",
              "    .colab-df-convert {\n",
              "      background-color: #E8F0FE;\n",
              "      border: none;\n",
              "      border-radius: 50%;\n",
              "      cursor: pointer;\n",
              "      display: none;\n",
              "      fill: #1967D2;\n",
              "      height: 32px;\n",
              "      padding: 0 0 0 0;\n",
              "      width: 32px;\n",
              "    }\n",
              "\n",
              "    .colab-df-convert:hover {\n",
              "      background-color: #E2EBFA;\n",
              "      box-shadow: 0px 1px 2px rgba(60, 64, 67, 0.3), 0px 1px 3px 1px rgba(60, 64, 67, 0.15);\n",
              "      fill: #174EA6;\n",
              "    }\n",
              "\n",
              "    [theme=dark] .colab-df-convert {\n",
              "      background-color: #3B4455;\n",
              "      fill: #D2E3FC;\n",
              "    }\n",
              "\n",
              "    [theme=dark] .colab-df-convert:hover {\n",
              "      background-color: #434B5C;\n",
              "      box-shadow: 0px 1px 3px 1px rgba(0, 0, 0, 0.15);\n",
              "      filter: drop-shadow(0px 1px 2px rgba(0, 0, 0, 0.3));\n",
              "      fill: #FFFFFF;\n",
              "    }\n",
              "  </style>\n",
              "\n",
              "      <script>\n",
              "        const buttonEl =\n",
              "          document.querySelector('#df-d91b2f60-e56b-4245-b768-a288d22e3bef button.colab-df-convert');\n",
              "        buttonEl.style.display =\n",
              "          google.colab.kernel.accessAllowed ? 'block' : 'none';\n",
              "\n",
              "        async function convertToInteractive(key) {\n",
              "          const element = document.querySelector('#df-d91b2f60-e56b-4245-b768-a288d22e3bef');\n",
              "          const dataTable =\n",
              "            await google.colab.kernel.invokeFunction('convertToInteractive',\n",
              "                                                     [key], {});\n",
              "          if (!dataTable) return;\n",
              "\n",
              "          const docLinkHtml = 'Like what you see? Visit the ' +\n",
              "            '<a target=\"_blank\" href=https://colab.research.google.com/notebooks/data_table.ipynb>data table notebook</a>'\n",
              "            + ' to learn more about interactive tables.';\n",
              "          element.innerHTML = '';\n",
              "          dataTable['output_type'] = 'display_data';\n",
              "          await google.colab.output.renderOutput(dataTable, element);\n",
              "          const docLink = document.createElement('div');\n",
              "          docLink.innerHTML = docLinkHtml;\n",
              "          element.appendChild(docLink);\n",
              "        }\n",
              "      </script>\n",
              "    </div>\n",
              "  </div>\n",
              "  "
            ]
          },
          "metadata": {}
        }
      ]
    },
    {
      "cell_type": "code",
      "source": [
        "len(performance.query('Error<=30').index)"
      ],
      "metadata": {
        "colab": {
          "base_uri": "https://localhost:8080/"
        },
        "id": "tmJgSUqIv17I",
        "outputId": "a1f676f2-4d5a-4aae-99e2-ce49517472e2"
      },
      "execution_count": 54,
      "outputs": [
        {
          "output_type": "execute_result",
          "data": {
            "text/plain": [
              "3827"
            ]
          },
          "metadata": {},
          "execution_count": 54
        }
      ]
    },
    {
      "cell_type": "code",
      "source": [
        "(len(performance.index))"
      ],
      "metadata": {
        "colab": {
          "base_uri": "https://localhost:8080/"
        },
        "id": "kS8UibI0v1m5",
        "outputId": "150f39f1-9859-4789-c3de-8b12c2d0f6a3"
      },
      "execution_count": 55,
      "outputs": [
        {
          "output_type": "execute_result",
          "data": {
            "text/plain": [
              "17413"
            ]
          },
          "metadata": {},
          "execution_count": 55
        }
      ]
    },
    {
      "cell_type": "code",
      "source": [
        "len(performance2.query('Error<=30').index)"
      ],
      "metadata": {
        "colab": {
          "base_uri": "https://localhost:8080/"
        },
        "id": "BPfm29LAu_ia",
        "outputId": "30e2c946-c6ab-44b0-c97f-b3757e300999"
      },
      "execution_count": 56,
      "outputs": [
        {
          "output_type": "execute_result",
          "data": {
            "text/plain": [
              "1504"
            ]
          },
          "metadata": {},
          "execution_count": 56
        }
      ]
    },
    {
      "cell_type": "code",
      "source": [
        "(len(performance2.index))"
      ],
      "metadata": {
        "colab": {
          "base_uri": "https://localhost:8080/"
        },
        "id": "3-qP29oeu1p5",
        "outputId": "e61add79-1bdc-4089-b1df-207a4ab5b32a"
      },
      "execution_count": 57,
      "outputs": [
        {
          "output_type": "execute_result",
          "data": {
            "text/plain": [
              "7242"
            ]
          },
          "metadata": {},
          "execution_count": 57
        }
      ]
    },
    {
      "cell_type": "code",
      "source": [
        "#precisión calculada a través de la fórmula perteneciente a las partes de una matriz de confusión: prefición = #TruePositive / #(TruePositive + FalsePositive)\n",
        "len(performance2.query('Error<=30').index)/(len(performance2.index))"
      ],
      "metadata": {
        "colab": {
          "base_uri": "https://localhost:8080/"
        },
        "id": "e2ycX7N_qoJe",
        "outputId": "29db16d8-23ea-49eb-968e-355d94a8a127"
      },
      "execution_count": 58,
      "outputs": [
        {
          "output_type": "execute_result",
          "data": {
            "text/plain": [
              "0.20767743717205192"
            ]
          },
          "metadata": {},
          "execution_count": 58
        }
      ]
    },
    {
      "cell_type": "markdown",
      "source": [
        "Actualmente el valor obtenido no es cercano al obtenido por la función .score para el set 2."
      ],
      "metadata": {
        "id": "To71a83KyER8"
      }
    },
    {
      "cell_type": "markdown",
      "source": [
        "1.   **Score**: 0.16334375551144098\n",
        "2.   **Precisión manual**: 0.20892018779342722"
      ],
      "metadata": {
        "id": "MdL1jeEUQdJA"
      }
    },
    {
      "cell_type": "markdown",
      "source": [
        "### Datos festivos:"
      ],
      "metadata": {
        "id": "wXLs-JEfvCN9"
      }
    },
    {
      "cell_type": "markdown",
      "source": [
        "Para realizar el proceso de igual manera en todo el set 2, se analiza si es necesario realizar nuevamente un balanceo de datos para la columna \"Weekly_Sales\""
      ],
      "metadata": {
        "id": "ShhdIxkl-YpZ"
      }
    },
    {
      "cell_type": "code",
      "source": [
        "join_data_Holiday['Weekly_Sales'].hist()"
      ],
      "metadata": {
        "colab": {
          "base_uri": "https://localhost:8080/",
          "height": 282
        },
        "outputId": "37539d7a-398f-4c0c-f2d2-83d22df0a27c",
        "id": "_4kxsW-b-Ypa"
      },
      "execution_count": 59,
      "outputs": [
        {
          "output_type": "execute_result",
          "data": {
            "text/plain": [
              "<matplotlib.axes._subplots.AxesSubplot at 0x7f61db90eb50>"
            ]
          },
          "metadata": {},
          "execution_count": 59
        },
        {
          "output_type": "display_data",
          "data": {
            "text/plain": [
              "<Figure size 432x288 with 1 Axes>"
            ],
            "image/png": "[encoded data removed]"
          },
          "metadata": {
            "needs_background": "light"
          }
        }
      ]
    },
    {
      "cell_type": "markdown",
      "source": [
        "Tras analizar el gráfico, se decide balancear los datos de este."
      ],
      "metadata": {
        "id": "lAQW2iyi-5oL"
      }
    },
    {
      "cell_type": "code",
      "source": [
        "len(join_data_Holiday)"
      ],
      "metadata": {
        "colab": {
          "base_uri": "https://localhost:8080/"
        },
        "id": "wPBNPoUcB3Li",
        "outputId": "872e1822-f277-4030-9a2c-e000be679481"
      },
      "execution_count": 60,
      "outputs": [
        {
          "output_type": "execute_result",
          "data": {
            "text/plain": [
              "9992"
            ]
          },
          "metadata": {},
          "execution_count": 60
        }
      ]
    },
    {
      "cell_type": "code",
      "source": [
        "#se agrupa el conjunto de datos en los que las ventas semanales sean como máximo 30000\n",
        "Data_Weekly_Sales_Cheap_Holyday = join_data_Holiday.query('Weekly_Sales <= 40000')\n",
        "len(Data_Weekly_Sales_Cheap_Holyday)"
      ],
      "metadata": {
        "colab": {
          "base_uri": "https://localhost:8080/"
        },
        "outputId": "973625c0-073e-43d0-ce2c-2db13703c1d7",
        "id": "RhLv5ToV-Ypb"
      },
      "execution_count": 61,
      "outputs": [
        {
          "output_type": "execute_result",
          "data": {
            "text/plain": [
              "8664"
            ]
          },
          "metadata": {},
          "execution_count": 61
        }
      ]
    },
    {
      "cell_type": "markdown",
      "source": [
        "**analizar qué cantidad de datos es necesaria para realizar el balance, luego seguir los mismos pasos para todo.**"
      ],
      "metadata": {
        "id": "7rQeZuojCl6u"
      }
    },
    {
      "cell_type": "code",
      "source": [
        "#se escojen 20000 datos al azar del conjunto de datos anteriormente creado y se concatenan con aquellos datos de las ventas semanales cuyo valor sea mayor a 30000\n",
        "join_data_Holiday2 = pd.concat([Data_Weekly_Sales_Cheap_Holyday.sample(n=1500), join_data_Holiday.query('Weekly_Sales > 30000')])"
      ],
      "metadata": {
        "id": "tu-Vg40n-Ypb"
      },
      "execution_count": 62,
      "outputs": []
    },
    {
      "cell_type": "code",
      "source": [
        "#Se obserba la mejora en el balanceo de los datos de las ventas semanales, es decir, \"Weekly_Sales\".\n",
        "join_data_Holiday2['Weekly_Sales'].hist()"
      ],
      "metadata": {
        "colab": {
          "base_uri": "https://localhost:8080/",
          "height": 282
        },
        "outputId": "b8d9b436-5c07-4e5d-ace1-0f4aec70b19b",
        "id": "CCc_zEka-Ypc"
      },
      "execution_count": 63,
      "outputs": [
        {
          "output_type": "execute_result",
          "data": {
            "text/plain": [
              "<matplotlib.axes._subplots.AxesSubplot at 0x7f61db862340>"
            ]
          },
          "metadata": {},
          "execution_count": 63
        },
        {
          "output_type": "display_data",
          "data": {
            "text/plain": [
              "<Figure size 432x288 with 1 Axes>"
            ],
            "image/png": "[encoded data removed]"
          },
          "metadata": {
            "needs_background": "light"
          }
        }
      ]
    },
    {
      "cell_type": "markdown",
      "source": [
        "Al observar el gráfico se observa que no es una gran mejora en el balanceo de los datos, pero intentar balancear con un conjunto más acotado de datos, sería perjudicial para el modelo."
      ],
      "metadata": {
        "id": "FQJZTSVwxHTj"
      }
    },
    {
      "cell_type": "code",
      "source": [
        "#se crean arrays para las características y la variable de destino en el caso de dias no festivos.\n",
        "y_H2 = join_data_Holiday2[\"Weekly_Sales\"].values\n",
        "X_H2 = join_data_Holiday2[[\"Dept\",\"Fuel_Price\", \"MarkDown1\", \"MarkDown2\", \"MarkDown3\", \"MarkDown4\", \"MarkDown5\", \"CPI\", \"Unemployment\"]].values"
      ],
      "metadata": {
        "id": "NZzkZZh5-Ypc"
      },
      "execution_count": 64,
      "outputs": []
    },
    {
      "cell_type": "code",
      "source": [
        "X_train_H2, X_test_H2, y_train_H2, y_test_H2 = train_test_split(X_H2, y_H2, test_size= 0.2)"
      ],
      "metadata": {
        "id": "YCkS0t9H-Ypc"
      },
      "execution_count": 65,
      "outputs": []
    },
    {
      "cell_type": "code",
      "source": [
        "#crea un modelo KNN con 5 \"vecinos\"\n",
        "knn_H2 = KNeighborsRegressor(n_neighbors = 5, metric= 'minkowski', p = 2)\n",
        "#entrenamos el nuevo regresor\n",
        "knn_H2.fit(X_train_H2, y_train_H2)"
      ],
      "metadata": {
        "colab": {
          "base_uri": "https://localhost:8080/"
        },
        "outputId": "1dbb2fbd-1e90-48d3-dc54-584ef03ac784",
        "id": "Ro9zuM2N-Ypd"
      },
      "execution_count": 66,
      "outputs": [
        {
          "output_type": "execute_result",
          "data": {
            "text/plain": [
              "KNeighborsRegressor()"
            ]
          },
          "metadata": {},
          "execution_count": 66
        }
      ]
    },
    {
      "cell_type": "code",
      "source": [
        "#realiza una predicción en base a los datos de testeo\n",
        "y_pred_H2 = knn_H2.predict(X_test_H2)\n",
        "#se imprime las predicciones realizadas\n",
        "print(\"Predicciones festivas del set 2: {}\".format(y_pred_H2))"
      ],
      "metadata": {
        "colab": {
          "base_uri": "https://localhost:8080/"
        },
        "outputId": "d8049f7e-bb73-4194-fde1-9929349fbe29",
        "id": "V1nEqS4q-Ypd"
      },
      "execution_count": 67,
      "outputs": [
        {
          "output_type": "stream",
          "name": "stdout",
          "text": [
            "Predicciones festivas del set 2: [ 30383.03   21267.238  25843.19   27129.132  24040.372  34788.932\n",
            "  57600.202  90750.442  29579.056  18228.314  18171.526  30964.57\n",
            "  55057.134  36840.722  47163.304  22596.226  38316.164  81993.804\n",
            "  19832.156  73479.412  42974.634  29712.37   61837.832  47262.306\n",
            "   5957.838  70929.772  28222.226  36171.83   51507.962  17400.97\n",
            "   4939.812 106710.242  47322.992  29107.22   20157.918  27834.58\n",
            "  32274.58   28680.3    66610.414 108719.926  11579.448  62278.858\n",
            "  17590.062  40618.104  24960.484  79486.138  15151.506  34001.652\n",
            "  50396.19   43627.996  32106.518  19967.038  68217.714  22260.106\n",
            "  12531.022  51555.388  43088.782  30384.998  29454.288  17185.834\n",
            " 100542.678  44735.45   29435.042  31856.582  30384.998  44764.79\n",
            "  21515.162  28363.338  64056.512  64056.512  88702.04   12977.95\n",
            "  33646.58   30438.892  18096.28   20601.81   70929.772  61798.494\n",
            "  42600.796  15472.94   73479.412  27705.374  51066.8    31405.264\n",
            "  35370.186  81647.488   9017.094  34476.588  33391.408  63251.796\n",
            "  61329.646  48918.792  19858.914  45821.392   5067.648  19733.772\n",
            "  13327.15   31185.524  31185.524  61503.334 124221.086  38656.826\n",
            "  32716.322  19759.542  31933.416  26868.882  16746.258  42974.634\n",
            "  16824.492  51216.43   30438.892  30330.874  28707.546  25366.87\n",
            "  23822.89   12122.204  58742.132  46631.902  90677.574 112080.472\n",
            "  15151.506  13651.53   20374.472  26847.026  75821.08   73748.364\n",
            "  60789.032  61550.24   57616.584  29424.168  67526.224  29848.278\n",
            "  43683.482  37057.382  51307.726  36321.394  73731.148  28665.474\n",
            "  25831.984  42577.024  17612.602  99887.602  43683.482  85252.926\n",
            "  27194.456  13785.088   5670.234  43665.568  92131.344  13296.416\n",
            "  30317.224  32106.518  75821.08   71978.608  37152.068  32106.518\n",
            "  16931.382  32005.08   20044.18   17414.83   19733.772   3394.02\n",
            "  67090.334  80080.38   12015.656  16101.908  25284.386  16728.612\n",
            "  37263.84   29226.5    11245.054  17077.516  38277.522  10936.83\n",
            "  30856.864  68862.48   36312.82   41692.47   82299.502 110179.654\n",
            "  52667.064  53561.168  36544.09   23008.506  44334.066  41419.738\n",
            "  57746.29   71988.622  61503.334  42401.5    45523.298  40855.17\n",
            "   5670.234  77155.468  23567.238   9949.16   29952.786  15136.794\n",
            "  34698.384  55584.1    31661.778  40641.382  45221.784  20076.596\n",
            "  68839.068  40614.208  61772.312  30438.892  61772.312  61772.312\n",
            "  35156.756  23308.31   27456.75   19086.04   18790.03   11002.836\n",
            "  83863.05   24053.612  71978.608  13915.94   35204.8    21962.232\n",
            "  32461.74   23630.102  33041.284  47434.578  53173.2    29099.98\n",
            "  60899.02   37025.676  19832.156  15856.218  46621.684  26909.33\n",
            "  30330.874  56129.008  50750.934  35333.446  21229.328  61392.274\n",
            "  28825.13   30438.892  15966.61   60899.02   50225.642  58640.876\n",
            "   9235.438  15068.39  102612.924  46711.678  71978.608   3947.09\n",
            "  69135.822 100542.678  50049.368  54718.11   56731.26   18559.42\n",
            "  46711.36   25751.792  34001.652  55744.786  21669.292  69106.598\n",
            "  56576.496  42974.634  42637.754  17888.64    8794.316  55664.612\n",
            "  75295.608  48918.792  25464.648   8365.296  61499.506  43586.864\n",
            "  55932.026  11013.58   36082.364  23097.52   25419.764  27769.274\n",
            "  11818.944  23868.212  16834.422 114888.522  29848.278  32096.812\n",
            "  11162.036  24857.486  45946.424  18001.496  44240.424  27608.838\n",
            "  30402.924  85252.926  27446.336  11578.462  44595.458 116921.322\n",
            "  30747.928  33852.358   9882.364  53186.606   5460.604  16257.33\n",
            "  53284.58   64067.928  28665.474  28887.372  26317.328  30964.57\n",
            "  36851.258  36625.552  23371.068   9462.022  20944.596  16931.382\n",
            "  20076.596  42069.652  26466.388  15293.742  22424.786  45832.98\n",
            "  25652.316  48247.214  20157.918  85777.076  30964.57   37025.348\n",
            "  55932.026  72678.274  47778.97   28294.928  31083.33   24495.746\n",
            "  90677.574  86820.314  15018.79   73209.406  45387.004  31648.43\n",
            "  79346.694  13262.478  17185.834  64266.848  37717.102  53004.892\n",
            "    939.48   39505.004   8365.296  39142.766  39613.232  24427.842\n",
            "  61837.832  76364.816  29681.85   16824.492  20012.322  46621.684\n",
            "  31301.4    25996.11   44051.386 109612.204  36763.54  108719.926\n",
            "  42577.024  65819.346  33148.154  18879.85   67882.638  36619.26\n",
            "  58220.208  26129.302  30214.394   1862.84    8794.316  37624.64\n",
            "   9690.266  76364.816  16293.21   36619.26   24053.612  12030.616\n",
            "  18598.942  56731.26   44697.74   52893.636  37263.84   56129.008\n",
            " 108719.926   2437.406  10123.618  20640.056  14617.034  58849.562\n",
            " 112080.472  39510.862  33117.374  16834.422  57700.478  31287.542\n",
            "  38447.668  55932.026  20157.918  24796.826  47262.306  26809.162\n",
            "  16746.258  24427.842  65547.468  44499.186  81576.048  31756.948\n",
            "  22320.162  18658.34   32671.366  65819.346  32461.74   29023.108\n",
            "  15826.112  47778.97   12977.95   36619.26   53902.444  16593.062\n",
            "   9507.688  28767.344  45784.426  27782.716   7457.636  26129.302\n",
            "   9235.438  49632.23   30402.924  52154.324  45570.822  12351.03\n",
            "  30330.874  30964.57   71988.622  17590.062 115460.228  65819.346\n",
            "  38032.73   12366.746  24117.54   42664.152  11101.41   60899.02\n",
            "  35508.616 102345.164  78581.138  80646.268  29435.042  27834.58\n",
            "  33801.662  44869.122  46005.558  37427.952  43481.288  16824.492\n",
            "  42577.024   8278.114 128730.206  23244.736  16975.478  21338.136\n",
            "  56441.788  20157.918  42966.556   2437.406  32988.114  45054.06\n",
            "  11907.426  52675.726  49509.848  37876.144  83863.05   42749.672\n",
            "  81647.488   8979.612  30137.554  57895.796  28189.426  58849.562\n",
            "  22424.786  47958.02   30024.118  39613.232  80008.41   58437.896\n",
            "  17185.834  30307.992  20364.15   11579.448  20374.472  30651.044\n",
            "  13013.944  37407.334  39574.456  78445.916  28910.818  39304.022\n",
            "  22027.132  35587.35    9112.758  24857.486   8365.296  39858.872\n",
            "  70929.772  26824.956  37128.692  29099.98   34142.966  64485.68\n",
            "  14351.342  35360.178  73209.268  47163.304  42637.754  84697.118\n",
            "  19285.468  15619.802  42532.966  31856.582   5670.234  37540.202\n",
            "  63626.578  42749.672  44697.74   42238.54   43708.556  85252.926\n",
            "  28294.928   7083.16   14501.744  51439.638  90677.574   9146.188\n",
            "  19858.914  13763.794 116921.322  71988.622  10035.756  22000.474\n",
            "  29099.98   29391.102  31856.582   8794.316  29071.27   24444.814\n",
            "  39655.394  66703.37   27509.244  62278.858  31933.416  53173.2\n",
            "  46621.684  35303.914  43929.534  25900.46   56137.992  10805.576\n",
            "  78982.584  49845.738  33483.796  34492.592  42577.024  32096.822\n",
            " 101769.264  25469.724  12351.03   17615.694  32702.162  14617.034\n",
            "  16293.21   82490.036  28028.344  56576.496  33117.374  20278.68\n",
            "  43843.816  27553.044   3947.09  117906.68   40233.494   5732.946\n",
            "  16750.734  52675.726  30137.554  53173.2    15659.286 110179.654\n",
            "  39163.482  32144.028  22729.844 100542.678  49845.738  12030.616\n",
            "  39342.364  31083.33   85702.552  56129.008  54722.812  61837.832\n",
            "  35063.782  61392.274  30057.052  35843.752  71988.622  46006.644\n",
            "  19909.408  46577.344  34135.528  13570.998   3680.83   37812.586\n",
            "  40191.11   30384.998  63839.916  37165.3    47092.216   5780.96\n",
            "  36544.09   50173.178  25217.372  51439.638  85252.926  50417.836\n",
            "  14236.624  43919.274  70954.318  31405.264  20939.39    7457.636\n",
            "  41110.172  30651.044  59348.576  77218.338  65547.468  65819.346\n",
            "  24363.8    21057.326  13577.684  11579.448   3499.812  11673.02\n",
            "  23482.122  90075.452  37901.072  54719.322  80689.906  42953.778\n",
            "  30613.136 102138.992  35843.752  72607.4    10049.832  59432.3\n",
            "   9112.758  28887.372  19548.888   7457.636   6378.978  27283.708\n",
            "  88702.04   42069.652  11630.166 112080.472  29480.588  43924.682\n",
            "  22175.76   22037.096  41591.228  24015.72   47163.304  10049.832\n",
            "  25661.25   25889.24    7028.008  42966.556  35204.8    51337.446\n",
            "  53217.086]\n"
          ]
        }
      ]
    },
    {
      "cell_type": "code",
      "source": [
        "#se verifica la precisión con los datos de testeo\n",
        "score_knn_H2 = knn_H2.score(X_test_H2, y_test_H2)\n",
        "score_knn_H2"
      ],
      "metadata": {
        "colab": {
          "base_uri": "https://localhost:8080/"
        },
        "outputId": "096fff61-d850-4cf8-9a2e-ddf9195ada85",
        "id": "c7yCQYKx-Ype"
      },
      "execution_count": 68,
      "outputs": [
        {
          "output_type": "execute_result",
          "data": {
            "text/plain": [
              "0.024766566954403935"
            ]
          },
          "metadata": {},
          "execution_count": 68
        }
      ]
    },
    {
      "cell_type": "code",
      "source": [
        "#a continuación se realiza una predicción y en base a ello se genera una tabla comparativa entre los datos reales y los predichos, además de su % de error.\n",
        "preds_H2 = knn_H2.predict(X_test_H2)\n",
        "\n",
        "performance_H2 = pd.DataFrame({ 'True Value': y_test_H2,\n",
        "                            'Prediction': preds_H2,\n",
        "                            'Error': (abs(preds_H2 - y_test_H2)*100)/y_test_H2})\n",
        "\n",
        "performance_H2"
      ],
      "metadata": {
        "colab": {
          "base_uri": "https://localhost:8080/",
          "height": 423
        },
        "outputId": "2438f89a-8706-41ad-d839-fc0cfa651285",
        "id": "paXMMWbL-Ype"
      },
      "execution_count": 69,
      "outputs": [
        {
          "output_type": "execute_result",
          "data": {
            "text/plain": [
              "     True Value  Prediction       Error\n",
              "0      10904.28   30383.030  178.633986\n",
              "1      69652.94   21267.238   69.466848\n",
              "2       8577.44   25843.190  201.292577\n",
              "3      12667.01   27129.132  114.171553\n",
              "4      30986.69   24040.372   22.417102\n",
              "..          ...         ...         ...\n",
              "680    25906.62    7028.008   72.871768\n",
              "681    36763.11   42966.556   16.874106\n",
              "682    68593.11   35204.800   48.675895\n",
              "683   120037.40   51337.446   57.232124\n",
              "684     7501.12   53217.086  609.455201\n",
              "\n",
              "[685 rows x 3 columns]"
            ],
            "text/html": [
              "\n",
              "  <div id=\"df-f974d56f-b114-4b0f-9f3f-028575c6a749\">\n",
              "    <div class=\"colab-df-container\">\n",
              "      <div>\n",
              "<style scoped>\n",
              "    .dataframe tbody tr th:only-of-type {\n",
              "        vertical-align: middle;\n",
              "    }\n",
              "\n",
              "    .dataframe tbody tr th {\n",
              "        vertical-align: top;\n",
              "    }\n",
              "\n",
              "    .dataframe thead th {\n",
              "        text-align: right;\n",
              "    }\n",
              "</style>\n",
              "<table border=\"1\" class=\"dataframe\">\n",
              "  <thead>\n",
              "    <tr style=\"text-align: right;\">\n",
              "      <th></th>\n",
              "      <th>True Value</th>\n",
              "      <th>Prediction</th>\n",
              "      <th>Error</th>\n",
              "    </tr>\n",
              "  </thead>\n",
              "  <tbody>\n",
              "    <tr>\n",
              "      <th>0</th>\n",
              "      <td>10904.28</td>\n",
              "      <td>30383.030</td>\n",
              "      <td>178.633986</td>\n",
              "    </tr>\n",
              "    <tr>\n",
              "      <th>1</th>\n",
              "      <td>69652.94</td>\n",
              "      <td>21267.238</td>\n",
              "      <td>69.466848</td>\n",
              "    </tr>\n",
              "    <tr>\n",
              "      <th>2</th>\n",
              "      <td>8577.44</td>\n",
              "      <td>25843.190</td>\n",
              "      <td>201.292577</td>\n",
              "    </tr>\n",
              "    <tr>\n",
              "      <th>3</th>\n",
              "      <td>12667.01</td>\n",
              "      <td>27129.132</td>\n",
              "      <td>114.171553</td>\n",
              "    </tr>\n",
              "    <tr>\n",
              "      <th>4</th>\n",
              "      <td>30986.69</td>\n",
              "      <td>24040.372</td>\n",
              "      <td>22.417102</td>\n",
              "    </tr>\n",
              "    <tr>\n",
              "      <th>...</th>\n",
              "      <td>...</td>\n",
              "      <td>...</td>\n",
              "      <td>...</td>\n",
              "    </tr>\n",
              "    <tr>\n",
              "      <th>680</th>\n",
              "      <td>25906.62</td>\n",
              "      <td>7028.008</td>\n",
              "      <td>72.871768</td>\n",
              "    </tr>\n",
              "    <tr>\n",
              "      <th>681</th>\n",
              "      <td>36763.11</td>\n",
              "      <td>42966.556</td>\n",
              "      <td>16.874106</td>\n",
              "    </tr>\n",
              "    <tr>\n",
              "      <th>682</th>\n",
              "      <td>68593.11</td>\n",
              "      <td>35204.800</td>\n",
              "      <td>48.675895</td>\n",
              "    </tr>\n",
              "    <tr>\n",
              "      <th>683</th>\n",
              "      <td>120037.40</td>\n",
              "      <td>51337.446</td>\n",
              "      <td>57.232124</td>\n",
              "    </tr>\n",
              "    <tr>\n",
              "      <th>684</th>\n",
              "      <td>7501.12</td>\n",
              "      <td>53217.086</td>\n",
              "      <td>609.455201</td>\n",
              "    </tr>\n",
              "  </tbody>\n",
              "</table>\n",
              "<p>685 rows × 3 columns</p>\n",
              "</div>\n",
              "      <button class=\"colab-df-convert\" onclick=\"convertToInteractive('df-f974d56f-b114-4b0f-9f3f-028575c6a749')\"\n",
              "              title=\"Convert this dataframe to an interactive table.\"\n",
              "              style=\"display:none;\">\n",
              "        \n",
              "  <svg xmlns=\"http://www.w3.org/2000/svg\" height=\"24px\"viewBox=\"0 0 24 24\"\n",
              "       width=\"24px\">\n",
              "    <path d=\"M0 0h24v24H0V0z\" fill=\"none\"/>\n",
              "    <path d=\"M18.56 5.44l.94 2.06.94-2.06 2.06-.94-2.06-.94-.94-2.06-.94 2.06-2.06.94zm-11 1L8.5 8.5l.94-2.06 2.06-.94-2.06-.94L8.5 2.5l-.94 2.06-2.06.94zm10 10l.94 2.06.94-2.06 2.06-.94-2.06-.94-.94-2.06-.94 2.06-2.06.94z\"/><path d=\"M17.41 7.96l-1.37-1.37c-.4-.4-.92-.59-1.43-.59-.52 0-1.04.2-1.43.59L10.3 9.45l-7.72 7.72c-.78.78-.78 2.05 0 2.83L4 21.41c.39.39.9.59 1.41.59.51 0 1.02-.2 1.41-.59l7.78-7.78 2.81-2.81c.8-.78.8-2.07 0-2.86zM5.41 20L4 18.59l7.72-7.72 1.47 1.35L5.41 20z\"/>\n",
              "  </svg>\n",
              "      </button>\n",
              "      \n",
              "  <style>\n",
              "    .colab-df-container {\n",
              "      display:flex;\n",
              "      flex-wrap:wrap;\n",
              "      gap: 12px;\n",
              "    }\n",
              "\n",
              "    .colab-df-convert {\n",
              "      background-color: #E8F0FE;\n",
              "      border: none;\n",
              "      border-radius: 50%;\n",
              "      cursor: pointer;\n",
              "      display: none;\n",
              "      fill: #1967D2;\n",
              "      height: 32px;\n",
              "      padding: 0 0 0 0;\n",
              "      width: 32px;\n",
              "    }\n",
              "\n",
              "    .colab-df-convert:hover {\n",
              "      background-color: #E2EBFA;\n",
              "      box-shadow: 0px 1px 2px rgba(60, 64, 67, 0.3), 0px 1px 3px 1px rgba(60, 64, 67, 0.15);\n",
              "      fill: #174EA6;\n",
              "    }\n",
              "\n",
              "    [theme=dark] .colab-df-convert {\n",
              "      background-color: #3B4455;\n",
              "      fill: #D2E3FC;\n",
              "    }\n",
              "\n",
              "    [theme=dark] .colab-df-convert:hover {\n",
              "      background-color: #434B5C;\n",
              "      box-shadow: 0px 1px 3px 1px rgba(0, 0, 0, 0.15);\n",
              "      filter: drop-shadow(0px 1px 2px rgba(0, 0, 0, 0.3));\n",
              "      fill: #FFFFFF;\n",
              "    }\n",
              "  </style>\n",
              "\n",
              "      <script>\n",
              "        const buttonEl =\n",
              "          document.querySelector('#df-f974d56f-b114-4b0f-9f3f-028575c6a749 button.colab-df-convert');\n",
              "        buttonEl.style.display =\n",
              "          google.colab.kernel.accessAllowed ? 'block' : 'none';\n",
              "\n",
              "        async function convertToInteractive(key) {\n",
              "          const element = document.querySelector('#df-f974d56f-b114-4b0f-9f3f-028575c6a749');\n",
              "          const dataTable =\n",
              "            await google.colab.kernel.invokeFunction('convertToInteractive',\n",
              "                                                     [key], {});\n",
              "          if (!dataTable) return;\n",
              "\n",
              "          const docLinkHtml = 'Like what you see? Visit the ' +\n",
              "            '<a target=\"_blank\" href=https://colab.research.google.com/notebooks/data_table.ipynb>data table notebook</a>'\n",
              "            + ' to learn more about interactive tables.';\n",
              "          element.innerHTML = '';\n",
              "          dataTable['output_type'] = 'display_data';\n",
              "          await google.colab.output.renderOutput(dataTable, element);\n",
              "          const docLink = document.createElement('div');\n",
              "          docLink.innerHTML = docLinkHtml;\n",
              "          element.appendChild(docLink);\n",
              "        }\n",
              "      </script>\n",
              "    </div>\n",
              "  </div>\n",
              "  "
            ]
          },
          "metadata": {},
          "execution_count": 69
        }
      ]
    },
    {
      "cell_type": "code",
      "source": [
        "plt.figure(figsize=(15,7))\n",
        "# Errores\n",
        "ax_x_H2= performance_H2['True Value']\n",
        "ax_y_H2= performance_H2['Prediction']\n",
        "yerr_H2= performance_H2['Error']\n",
        "\n",
        "plt.scatter(range(len(yerr_H2)), yerr_H2, alpha=.5)\n",
        "plt.title('Homogeneous Errors - KNN_H2', size=15);\n",
        "plt.hlines(y=0, xmin=0, xmax=700, linestyle='--', color='white', alpha=.5);"
      ],
      "metadata": {
        "colab": {
          "base_uri": "https://localhost:8080/",
          "height": 446
        },
        "outputId": "b38d356a-a407-42fe-dff5-d75572d2a0e5",
        "id": "euNu5KRH-Ype"
      },
      "execution_count": 70,
      "outputs": [
        {
          "output_type": "display_data",
          "data": {
            "text/plain": [
              "<Figure size 1080x504 with 1 Axes>"
            ],
            "image/png": "[encoded data removed]"
          },
          "metadata": {
            "needs_background": "light"
          }
        }
      ]
    },
    {
      "cell_type": "code",
      "source": [
        "#a continuación se verifica la precisión en base a un treshold menor al 30% de error\n",
        "performance_H2[\"acceptance_criteria\"] = 0\n",
        "performance_H2.loc[performance_H2.query('Error<=15').index ,\"acceptance_criteria\"]=1\n",
        "display(performance_H2)"
      ],
      "metadata": {
        "colab": {
          "base_uri": "https://localhost:8080/",
          "height": 423
        },
        "outputId": "1e7ac01d-74a6-4ba0-cbb7-8116f5538fdb",
        "id": "29J91-jH-Ypf"
      },
      "execution_count": 71,
      "outputs": [
        {
          "output_type": "display_data",
          "data": {
            "text/plain": [
              "     True Value  Prediction       Error  acceptance_criteria\n",
              "0      10904.28   30383.030  178.633986                    0\n",
              "1      69652.94   21267.238   69.466848                    0\n",
              "2       8577.44   25843.190  201.292577                    0\n",
              "3      12667.01   27129.132  114.171553                    0\n",
              "4      30986.69   24040.372   22.417102                    0\n",
              "..          ...         ...         ...                  ...\n",
              "680    25906.62    7028.008   72.871768                    0\n",
              "681    36763.11   42966.556   16.874106                    0\n",
              "682    68593.11   35204.800   48.675895                    0\n",
              "683   120037.40   51337.446   57.232124                    0\n",
              "684     7501.12   53217.086  609.455201                    0\n",
              "\n",
              "[685 rows x 4 columns]"
            ],
            "text/html": [
              "\n",
              "  <div id=\"df-762bab0d-5f94-4104-9023-efbb2da96910\">\n",
              "    <div class=\"colab-df-container\">\n",
              "      <div>\n",
              "<style scoped>\n",
              "    .dataframe tbody tr th:only-of-type {\n",
              "        vertical-align: middle;\n",
              "    }\n",
              "\n",
              "    .dataframe tbody tr th {\n",
              "        vertical-align: top;\n",
              "    }\n",
              "\n",
              "    .dataframe thead th {\n",
              "        text-align: right;\n",
              "    }\n",
              "</style>\n",
              "<table border=\"1\" class=\"dataframe\">\n",
              "  <thead>\n",
              "    <tr style=\"text-align: right;\">\n",
              "      <th></th>\n",
              "      <th>True Value</th>\n",
              "      <th>Prediction</th>\n",
              "      <th>Error</th>\n",
              "      <th>acceptance_criteria</th>\n",
              "    </tr>\n",
              "  </thead>\n",
              "  <tbody>\n",
              "    <tr>\n",
              "      <th>0</th>\n",
              "      <td>10904.28</td>\n",
              "      <td>30383.030</td>\n",
              "      <td>178.633986</td>\n",
              "      <td>0</td>\n",
              "    </tr>\n",
              "    <tr>\n",
              "      <th>1</th>\n",
              "      <td>69652.94</td>\n",
              "      <td>21267.238</td>\n",
              "      <td>69.466848</td>\n",
              "      <td>0</td>\n",
              "    </tr>\n",
              "    <tr>\n",
              "      <th>2</th>\n",
              "      <td>8577.44</td>\n",
              "      <td>25843.190</td>\n",
              "      <td>201.292577</td>\n",
              "      <td>0</td>\n",
              "    </tr>\n",
              "    <tr>\n",
              "      <th>3</th>\n",
              "      <td>12667.01</td>\n",
              "      <td>27129.132</td>\n",
              "      <td>114.171553</td>\n",
              "      <td>0</td>\n",
              "    </tr>\n",
              "    <tr>\n",
              "      <th>4</th>\n",
              "      <td>30986.69</td>\n",
              "      <td>24040.372</td>\n",
              "      <td>22.417102</td>\n",
              "      <td>0</td>\n",
              "    </tr>\n",
              "    <tr>\n",
              "      <th>...</th>\n",
              "      <td>...</td>\n",
              "      <td>...</td>\n",
              "      <td>...</td>\n",
              "      <td>...</td>\n",
              "    </tr>\n",
              "    <tr>\n",
              "      <th>680</th>\n",
              "      <td>25906.62</td>\n",
              "      <td>7028.008</td>\n",
              "      <td>72.871768</td>\n",
              "      <td>0</td>\n",
              "    </tr>\n",
              "    <tr>\n",
              "      <th>681</th>\n",
              "      <td>36763.11</td>\n",
              "      <td>42966.556</td>\n",
              "      <td>16.874106</td>\n",
              "      <td>0</td>\n",
              "    </tr>\n",
              "    <tr>\n",
              "      <th>682</th>\n",
              "      <td>68593.11</td>\n",
              "      <td>35204.800</td>\n",
              "      <td>48.675895</td>\n",
              "      <td>0</td>\n",
              "    </tr>\n",
              "    <tr>\n",
              "      <th>683</th>\n",
              "      <td>120037.40</td>\n",
              "      <td>51337.446</td>\n",
              "      <td>57.232124</td>\n",
              "      <td>0</td>\n",
              "    </tr>\n",
              "    <tr>\n",
              "      <th>684</th>\n",
              "      <td>7501.12</td>\n",
              "      <td>53217.086</td>\n",
              "      <td>609.455201</td>\n",
              "      <td>0</td>\n",
              "    </tr>\n",
              "  </tbody>\n",
              "</table>\n",
              "<p>685 rows × 4 columns</p>\n",
              "</div>\n",
              "      <button class=\"colab-df-convert\" onclick=\"convertToInteractive('df-762bab0d-5f94-4104-9023-efbb2da96910')\"\n",
              "              title=\"Convert this dataframe to an interactive table.\"\n",
              "              style=\"display:none;\">\n",
              "        \n",
              "  <svg xmlns=\"http://www.w3.org/2000/svg\" height=\"24px\"viewBox=\"0 0 24 24\"\n",
              "       width=\"24px\">\n",
              "    <path d=\"M0 0h24v24H0V0z\" fill=\"none\"/>\n",
              "    <path d=\"M18.56 5.44l.94 2.06.94-2.06 2.06-.94-2.06-.94-.94-2.06-.94 2.06-2.06.94zm-11 1L8.5 8.5l.94-2.06 2.06-.94-2.06-.94L8.5 2.5l-.94 2.06-2.06.94zm10 10l.94 2.06.94-2.06 2.06-.94-2.06-.94-.94-2.06-.94 2.06-2.06.94z\"/><path d=\"M17.41 7.96l-1.37-1.37c-.4-.4-.92-.59-1.43-.59-.52 0-1.04.2-1.43.59L10.3 9.45l-7.72 7.72c-.78.78-.78 2.05 0 2.83L4 21.41c.39.39.9.59 1.41.59.51 0 1.02-.2 1.41-.59l7.78-7.78 2.81-2.81c.8-.78.8-2.07 0-2.86zM5.41 20L4 18.59l7.72-7.72 1.47 1.35L5.41 20z\"/>\n",
              "  </svg>\n",
              "      </button>\n",
              "      \n",
              "  <style>\n",
              "    .colab-df-container {\n",
              "      display:flex;\n",
              "      flex-wrap:wrap;\n",
              "      gap: 12px;\n",
              "    }\n",
              "\n",
              "    .colab-df-convert {\n",
              "      background-color: #E8F0FE;\n",
              "      border: none;\n",
              "      border-radius: 50%;\n",
              "      cursor: pointer;\n",
              "      display: none;\n",
              "      fill: #1967D2;\n",
              "      height: 32px;\n",
              "      padding: 0 0 0 0;\n",
              "      width: 32px;\n",
              "    }\n",
              "\n",
              "    .colab-df-convert:hover {\n",
              "      background-color: #E2EBFA;\n",
              "      box-shadow: 0px 1px 2px rgba(60, 64, 67, 0.3), 0px 1px 3px 1px rgba(60, 64, 67, 0.15);\n",
              "      fill: #174EA6;\n",
              "    }\n",
              "\n",
              "    [theme=dark] .colab-df-convert {\n",
              "      background-color: #3B4455;\n",
              "      fill: #D2E3FC;\n",
              "    }\n",
              "\n",
              "    [theme=dark] .colab-df-convert:hover {\n",
              "      background-color: #434B5C;\n",
              "      box-shadow: 0px 1px 3px 1px rgba(0, 0, 0, 0.15);\n",
              "      filter: drop-shadow(0px 1px 2px rgba(0, 0, 0, 0.3));\n",
              "      fill: #FFFFFF;\n",
              "    }\n",
              "  </style>\n",
              "\n",
              "      <script>\n",
              "        const buttonEl =\n",
              "          document.querySelector('#df-762bab0d-5f94-4104-9023-efbb2da96910 button.colab-df-convert');\n",
              "        buttonEl.style.display =\n",
              "          google.colab.kernel.accessAllowed ? 'block' : 'none';\n",
              "\n",
              "        async function convertToInteractive(key) {\n",
              "          const element = document.querySelector('#df-762bab0d-5f94-4104-9023-efbb2da96910');\n",
              "          const dataTable =\n",
              "            await google.colab.kernel.invokeFunction('convertToInteractive',\n",
              "                                                     [key], {});\n",
              "          if (!dataTable) return;\n",
              "\n",
              "          const docLinkHtml = 'Like what you see? Visit the ' +\n",
              "            '<a target=\"_blank\" href=https://colab.research.google.com/notebooks/data_table.ipynb>data table notebook</a>'\n",
              "            + ' to learn more about interactive tables.';\n",
              "          element.innerHTML = '';\n",
              "          dataTable['output_type'] = 'display_data';\n",
              "          await google.colab.output.renderOutput(dataTable, element);\n",
              "          const docLink = document.createElement('div');\n",
              "          docLink.innerHTML = docLinkHtml;\n",
              "          element.appendChild(docLink);\n",
              "        }\n",
              "      </script>\n",
              "    </div>\n",
              "  </div>\n",
              "  "
            ]
          },
          "metadata": {}
        }
      ]
    },
    {
      "cell_type": "code",
      "source": [
        "len(performance_H2.query('Error<=30').index)"
      ],
      "metadata": {
        "colab": {
          "base_uri": "https://localhost:8080/"
        },
        "outputId": "f2fd1529-3108-4abd-d7a1-96bb82055574",
        "id": "S2fPc3aA-Ypg"
      },
      "execution_count": 72,
      "outputs": [
        {
          "output_type": "execute_result",
          "data": {
            "text/plain": [
              "173"
            ]
          },
          "metadata": {},
          "execution_count": 72
        }
      ]
    },
    {
      "cell_type": "code",
      "source": [
        "(len(performance_H2.index))"
      ],
      "metadata": {
        "colab": {
          "base_uri": "https://localhost:8080/"
        },
        "outputId": "d3a99a43-a979-4501-f109-ab02cb021956",
        "id": "TP4LJ2fn-Ypg"
      },
      "execution_count": 73,
      "outputs": [
        {
          "output_type": "execute_result",
          "data": {
            "text/plain": [
              "685"
            ]
          },
          "metadata": {},
          "execution_count": 73
        }
      ]
    },
    {
      "cell_type": "code",
      "source": [
        "#precisión calculada a través de la fórmula perteneciente a las partes de una matriz de confusión: prefición = #TruePositive / #(TruePositive + FalsePositive)\n",
        "len(performance_H2.query('Error<=30').index)/(len(performance_H2.index))"
      ],
      "metadata": {
        "colab": {
          "base_uri": "https://localhost:8080/"
        },
        "outputId": "6c1f3277-3d5d-4689-d8c9-452fd4be4c74",
        "id": "cP5rEokV-Yph"
      },
      "execution_count": 74,
      "outputs": [
        {
          "output_type": "execute_result",
          "data": {
            "text/plain": [
              "0.25255474452554744"
            ]
          },
          "metadata": {},
          "execution_count": 74
        }
      ]
    },
    {
      "cell_type": "markdown",
      "source": [
        "Nuevamente el valor obtenido no es cercano al obtenido por la función .score"
      ],
      "metadata": {
        "id": "tC1Y1oIB-Yph"
      }
    },
    {
      "cell_type": "markdown",
      "source": [
        "1.   **Score**: 0.1455394750654706\n",
        "2.   **Precisión manual**: 0.20947252140292738"
      ],
      "metadata": {
        "id": "nJyGTYnq-Ypi"
      }
    },
    {
      "cell_type": "markdown",
      "source": [
        "## Tercer set"
      ],
      "metadata": {
        "id": "xqi0mGzqy4zF"
      }
    },
    {
      "cell_type": "markdown",
      "source": [
        "Para el tercer set se promediarán los datos de rebajas de Markdowns, disminuyendo la carga computacional para el modelo."
      ],
      "metadata": {
        "id": "S8coQyK96RGl"
      }
    },
    {
      "cell_type": "markdown",
      "source": [
        "### Datos no festivos:"
      ],
      "metadata": {
        "id": "XIYaK_ItvIhQ"
      }
    },
    {
      "cell_type": "code",
      "source": [
        "Features_data_set['MarkDowns'] = Features_data_set[['MarkDown1', 'MarkDown2','MarkDown3','MarkDown4','MarkDown5']].mean(axis=1)\n",
        "Features_data_set"
      ],
      "metadata": {
        "colab": {
          "base_uri": "https://localhost:8080/",
          "height": 487
        },
        "id": "qSnoIh4ksOrk",
        "outputId": "bccd9d39-d639-4798-fd8e-e10029308519"
      },
      "execution_count": 75,
      "outputs": [
        {
          "output_type": "execute_result",
          "data": {
            "text/plain": [
              "      Store        Date  Temperature  Fuel_Price  MarkDown1  MarkDown2  \\\n",
              "0         1  05/02/2010        42.31       2.572        NaN        NaN   \n",
              "1         1  12/02/2010        38.51       2.548        NaN        NaN   \n",
              "2         1  19/02/2010        39.93       2.514        NaN        NaN   \n",
              "3         1  26/02/2010        46.63       2.561        NaN        NaN   \n",
              "4         1  05/03/2010        46.50       2.625        NaN        NaN   \n",
              "...     ...         ...          ...         ...        ...        ...   \n",
              "8185     45  28/06/2013        76.05       3.639    4842.29     975.03   \n",
              "8186     45  05/07/2013        77.50       3.614    9090.48    2268.58   \n",
              "8187     45  12/07/2013        79.37       3.614    3789.94    1827.31   \n",
              "8188     45  19/07/2013        82.84       3.737    2961.49    1047.07   \n",
              "8189     45  26/07/2013        76.06       3.804     212.02     851.73   \n",
              "\n",
              "      MarkDown3  MarkDown4  MarkDown5         CPI  Unemployment  IsHoliday  \\\n",
              "0           NaN        NaN        NaN  211.096358         8.106      False   \n",
              "1           NaN        NaN        NaN  211.242170         8.106       True   \n",
              "2           NaN        NaN        NaN  211.289143         8.106      False   \n",
              "3           NaN        NaN        NaN  211.319643         8.106      False   \n",
              "4           NaN        NaN        NaN  211.350143         8.106      False   \n",
              "...         ...        ...        ...         ...           ...        ...   \n",
              "8185       3.00    2449.97    3169.69         NaN           NaN      False   \n",
              "8186     582.74    5797.47    1514.93         NaN           NaN      False   \n",
              "8187      85.72     744.84    2150.36         NaN           NaN      False   \n",
              "8188     204.19     363.00    1059.46         NaN           NaN      False   \n",
              "8189       2.06      10.88    1864.57         NaN           NaN      False   \n",
              "\n",
              "      MarkDowns  \n",
              "0           NaN  \n",
              "1           NaN  \n",
              "2           NaN  \n",
              "3           NaN  \n",
              "4           NaN  \n",
              "...         ...  \n",
              "8185   2287.996  \n",
              "8186   3850.840  \n",
              "8187   1719.634  \n",
              "8188   1127.042  \n",
              "8189    588.252  \n",
              "\n",
              "[8190 rows x 13 columns]"
            ],
            "text/html": [
              "\n",
              "  <div id=\"df-df9fc314-d8cc-4224-913c-ae24d7a30352\">\n",
              "    <div class=\"colab-df-container\">\n",
              "      <div>\n",
              "<style scoped>\n",
              "    .dataframe tbody tr th:only-of-type {\n",
              "        vertical-align: middle;\n",
              "    }\n",
              "\n",
              "    .dataframe tbody tr th {\n",
              "        vertical-align: top;\n",
              "    }\n",
              "\n",
              "    .dataframe thead th {\n",
              "        text-align: right;\n",
              "    }\n",
              "</style>\n",
              "<table border=\"1\" class=\"dataframe\">\n",
              "  <thead>\n",
              "    <tr style=\"text-align: right;\">\n",
              "      <th></th>\n",
              "      <th>Store</th>\n",
              "      <th>Date</th>\n",
              "      <th>Temperature</th>\n",
              "      <th>Fuel_Price</th>\n",
              "      <th>MarkDown1</th>\n",
              "      <th>MarkDown2</th>\n",
              "      <th>MarkDown3</th>\n",
              "      <th>MarkDown4</th>\n",
              "      <th>MarkDown5</th>\n",
              "      <th>CPI</th>\n",
              "      <th>Unemployment</th>\n",
              "      <th>IsHoliday</th>\n",
              "      <th>MarkDowns</th>\n",
              "    </tr>\n",
              "  </thead>\n",
              "  <tbody>\n",
              "    <tr>\n",
              "      <th>0</th>\n",
              "      <td>1</td>\n",
              "      <td>05/02/2010</td>\n",
              "      <td>42.31</td>\n",
              "      <td>2.572</td>\n",
              "      <td>NaN</td>\n",
              "      <td>NaN</td>\n",
              "      <td>NaN</td>\n",
              "      <td>NaN</td>\n",
              "      <td>NaN</td>\n",
              "      <td>211.096358</td>\n",
              "      <td>8.106</td>\n",
              "      <td>False</td>\n",
              "      <td>NaN</td>\n",
              "    </tr>\n",
              "    <tr>\n",
              "      <th>1</th>\n",
              "      <td>1</td>\n",
              "      <td>12/02/2010</td>\n",
              "      <td>38.51</td>\n",
              "      <td>2.548</td>\n",
              "      <td>NaN</td>\n",
              "      <td>NaN</td>\n",
              "      <td>NaN</td>\n",
              "      <td>NaN</td>\n",
              "      <td>NaN</td>\n",
              "      <td>211.242170</td>\n",
              "      <td>8.106</td>\n",
              "      <td>True</td>\n",
              "      <td>NaN</td>\n",
              "    </tr>\n",
              "    <tr>\n",
              "      <th>2</th>\n",
              "      <td>1</td>\n",
              "      <td>19/02/2010</td>\n",
              "      <td>39.93</td>\n",
              "      <td>2.514</td>\n",
              "      <td>NaN</td>\n",
              "      <td>NaN</td>\n",
              "      <td>NaN</td>\n",
              "      <td>NaN</td>\n",
              "      <td>NaN</td>\n",
              "      <td>211.289143</td>\n",
              "      <td>8.106</td>\n",
              "      <td>False</td>\n",
              "      <td>NaN</td>\n",
              "    </tr>\n",
              "    <tr>\n",
              "      <th>3</th>\n",
              "      <td>1</td>\n",
              "      <td>26/02/2010</td>\n",
              "      <td>46.63</td>\n",
              "      <td>2.561</td>\n",
              "      <td>NaN</td>\n",
              "      <td>NaN</td>\n",
              "      <td>NaN</td>\n",
              "      <td>NaN</td>\n",
              "      <td>NaN</td>\n",
              "      <td>211.319643</td>\n",
              "      <td>8.106</td>\n",
              "      <td>False</td>\n",
              "      <td>NaN</td>\n",
              "    </tr>\n",
              "    <tr>\n",
              "      <th>4</th>\n",
              "      <td>1</td>\n",
              "      <td>05/03/2010</td>\n",
              "      <td>46.50</td>\n",
              "      <td>2.625</td>\n",
              "      <td>NaN</td>\n",
              "      <td>NaN</td>\n",
              "      <td>NaN</td>\n",
              "      <td>NaN</td>\n",
              "      <td>NaN</td>\n",
              "      <td>211.350143</td>\n",
              "      <td>8.106</td>\n",
              "      <td>False</td>\n",
              "      <td>NaN</td>\n",
              "    </tr>\n",
              "    <tr>\n",
              "      <th>...</th>\n",
              "      <td>...</td>\n",
              "      <td>...</td>\n",
              "      <td>...</td>\n",
              "      <td>...</td>\n",
              "      <td>...</td>\n",
              "      <td>...</td>\n",
              "      <td>...</td>\n",
              "      <td>...</td>\n",
              "      <td>...</td>\n",
              "      <td>...</td>\n",
              "      <td>...</td>\n",
              "      <td>...</td>\n",
              "      <td>...</td>\n",
              "    </tr>\n",
              "    <tr>\n",
              "      <th>8185</th>\n",
              "      <td>45</td>\n",
              "      <td>28/06/2013</td>\n",
              "      <td>76.05</td>\n",
              "      <td>3.639</td>\n",
              "      <td>4842.29</td>\n",
              "      <td>975.03</td>\n",
              "      <td>3.00</td>\n",
              "      <td>2449.97</td>\n",
              "      <td>3169.69</td>\n",
              "      <td>NaN</td>\n",
              "      <td>NaN</td>\n",
              "      <td>False</td>\n",
              "      <td>2287.996</td>\n",
              "    </tr>\n",
              "    <tr>\n",
              "      <th>8186</th>\n",
              "      <td>45</td>\n",
              "      <td>05/07/2013</td>\n",
              "      <td>77.50</td>\n",
              "      <td>3.614</td>\n",
              "      <td>9090.48</td>\n",
              "      <td>2268.58</td>\n",
              "      <td>582.74</td>\n",
              "      <td>5797.47</td>\n",
              "      <td>1514.93</td>\n",
              "      <td>NaN</td>\n",
              "      <td>NaN</td>\n",
              "      <td>False</td>\n",
              "      <td>3850.840</td>\n",
              "    </tr>\n",
              "    <tr>\n",
              "      <th>8187</th>\n",
              "      <td>45</td>\n",
              "      <td>12/07/2013</td>\n",
              "      <td>79.37</td>\n",
              "      <td>3.614</td>\n",
              "      <td>3789.94</td>\n",
              "      <td>1827.31</td>\n",
              "      <td>85.72</td>\n",
              "      <td>744.84</td>\n",
              "      <td>2150.36</td>\n",
              "      <td>NaN</td>\n",
              "      <td>NaN</td>\n",
              "      <td>False</td>\n",
              "      <td>1719.634</td>\n",
              "    </tr>\n",
              "    <tr>\n",
              "      <th>8188</th>\n",
              "      <td>45</td>\n",
              "      <td>19/07/2013</td>\n",
              "      <td>82.84</td>\n",
              "      <td>3.737</td>\n",
              "      <td>2961.49</td>\n",
              "      <td>1047.07</td>\n",
              "      <td>204.19</td>\n",
              "      <td>363.00</td>\n",
              "      <td>1059.46</td>\n",
              "      <td>NaN</td>\n",
              "      <td>NaN</td>\n",
              "      <td>False</td>\n",
              "      <td>1127.042</td>\n",
              "    </tr>\n",
              "    <tr>\n",
              "      <th>8189</th>\n",
              "      <td>45</td>\n",
              "      <td>26/07/2013</td>\n",
              "      <td>76.06</td>\n",
              "      <td>3.804</td>\n",
              "      <td>212.02</td>\n",
              "      <td>851.73</td>\n",
              "      <td>2.06</td>\n",
              "      <td>10.88</td>\n",
              "      <td>1864.57</td>\n",
              "      <td>NaN</td>\n",
              "      <td>NaN</td>\n",
              "      <td>False</td>\n",
              "      <td>588.252</td>\n",
              "    </tr>\n",
              "  </tbody>\n",
              "</table>\n",
              "<p>8190 rows × 13 columns</p>\n",
              "</div>\n",
              "      <button class=\"colab-df-convert\" onclick=\"convertToInteractive('df-df9fc314-d8cc-4224-913c-ae24d7a30352')\"\n",
              "              title=\"Convert this dataframe to an interactive table.\"\n",
              "              style=\"display:none;\">\n",
              "        \n",
              "  <svg xmlns=\"http://www.w3.org/2000/svg\" height=\"24px\"viewBox=\"0 0 24 24\"\n",
              "       width=\"24px\">\n",
              "    <path d=\"M0 0h24v24H0V0z\" fill=\"none\"/>\n",
              "    <path d=\"M18.56 5.44l.94 2.06.94-2.06 2.06-.94-2.06-.94-.94-2.06-.94 2.06-2.06.94zm-11 1L8.5 8.5l.94-2.06 2.06-.94-2.06-.94L8.5 2.5l-.94 2.06-2.06.94zm10 10l.94 2.06.94-2.06 2.06-.94-2.06-.94-.94-2.06-.94 2.06-2.06.94z\"/><path d=\"M17.41 7.96l-1.37-1.37c-.4-.4-.92-.59-1.43-.59-.52 0-1.04.2-1.43.59L10.3 9.45l-7.72 7.72c-.78.78-.78 2.05 0 2.83L4 21.41c.39.39.9.59 1.41.59.51 0 1.02-.2 1.41-.59l7.78-7.78 2.81-2.81c.8-.78.8-2.07 0-2.86zM5.41 20L4 18.59l7.72-7.72 1.47 1.35L5.41 20z\"/>\n",
              "  </svg>\n",
              "      </button>\n",
              "      \n",
              "  <style>\n",
              "    .colab-df-container {\n",
              "      display:flex;\n",
              "      flex-wrap:wrap;\n",
              "      gap: 12px;\n",
              "    }\n",
              "\n",
              "    .colab-df-convert {\n",
              "      background-color: #E8F0FE;\n",
              "      border: none;\n",
              "      border-radius: 50%;\n",
              "      cursor: pointer;\n",
              "      display: none;\n",
              "      fill: #1967D2;\n",
              "      height: 32px;\n",
              "      padding: 0 0 0 0;\n",
              "      width: 32px;\n",
              "    }\n",
              "\n",
              "    .colab-df-convert:hover {\n",
              "      background-color: #E2EBFA;\n",
              "      box-shadow: 0px 1px 2px rgba(60, 64, 67, 0.3), 0px 1px 3px 1px rgba(60, 64, 67, 0.15);\n",
              "      fill: #174EA6;\n",
              "    }\n",
              "\n",
              "    [theme=dark] .colab-df-convert {\n",
              "      background-color: #3B4455;\n",
              "      fill: #D2E3FC;\n",
              "    }\n",
              "\n",
              "    [theme=dark] .colab-df-convert:hover {\n",
              "      background-color: #434B5C;\n",
              "      box-shadow: 0px 1px 3px 1px rgba(0, 0, 0, 0.15);\n",
              "      filter: drop-shadow(0px 1px 2px rgba(0, 0, 0, 0.3));\n",
              "      fill: #FFFFFF;\n",
              "    }\n",
              "  </style>\n",
              "\n",
              "      <script>\n",
              "        const buttonEl =\n",
              "          document.querySelector('#df-df9fc314-d8cc-4224-913c-ae24d7a30352 button.colab-df-convert');\n",
              "        buttonEl.style.display =\n",
              "          google.colab.kernel.accessAllowed ? 'block' : 'none';\n",
              "\n",
              "        async function convertToInteractive(key) {\n",
              "          const element = document.querySelector('#df-df9fc314-d8cc-4224-913c-ae24d7a30352');\n",
              "          const dataTable =\n",
              "            await google.colab.kernel.invokeFunction('convertToInteractive',\n",
              "                                                     [key], {});\n",
              "          if (!dataTable) return;\n",
              "\n",
              "          const docLinkHtml = 'Like what you see? Visit the ' +\n",
              "            '<a target=\"_blank\" href=https://colab.research.google.com/notebooks/data_table.ipynb>data table notebook</a>'\n",
              "            + ' to learn more about interactive tables.';\n",
              "          element.innerHTML = '';\n",
              "          dataTable['output_type'] = 'display_data';\n",
              "          await google.colab.output.renderOutput(dataTable, element);\n",
              "          const docLink = document.createElement('div');\n",
              "          docLink.innerHTML = docLinkHtml;\n",
              "          element.appendChild(docLink);\n",
              "        }\n",
              "      </script>\n",
              "    </div>\n",
              "  </div>\n",
              "  "
            ]
          },
          "metadata": {},
          "execution_count": 75
        }
      ]
    },
    {
      "cell_type": "code",
      "source": [
        "Features_data_set3 = Features_data_set.drop(columns = ['MarkDown1', 'MarkDown2','MarkDown3','MarkDown4','MarkDown5'])"
      ],
      "metadata": {
        "id": "A1KV8mhgMnDp"
      },
      "execution_count": 76,
      "outputs": []
    },
    {
      "cell_type": "code",
      "source": [
        "join_data_set3 = pd.merge(Features_data_set3, sales_data_set, on = ['Store', 'Date'])\n",
        "join_data_set3"
      ],
      "metadata": {
        "colab": {
          "base_uri": "https://localhost:8080/",
          "height": 423
        },
        "outputId": "d9866de3-e31c-4084-e662-213c9099dbee",
        "id": "QIJyLVCX-wTN"
      },
      "execution_count": 77,
      "outputs": [
        {
          "output_type": "execute_result",
          "data": {
            "text/plain": [
              "        Store        Date  Temperature  Fuel_Price         CPI  Unemployment  \\\n",
              "0           1  05/02/2010        42.31       2.572  211.096358         8.106   \n",
              "1           1  05/02/2010        42.31       2.572  211.096358         8.106   \n",
              "2           1  05/02/2010        42.31       2.572  211.096358         8.106   \n",
              "3           1  05/02/2010        42.31       2.572  211.096358         8.106   \n",
              "4           1  05/02/2010        42.31       2.572  211.096358         8.106   \n",
              "...       ...         ...          ...         ...         ...           ...   \n",
              "421565     45  26/10/2012        58.85       3.882  192.308899         8.667   \n",
              "421566     45  26/10/2012        58.85       3.882  192.308899         8.667   \n",
              "421567     45  26/10/2012        58.85       3.882  192.308899         8.667   \n",
              "421568     45  26/10/2012        58.85       3.882  192.308899         8.667   \n",
              "421569     45  26/10/2012        58.85       3.882  192.308899         8.667   \n",
              "\n",
              "        IsHoliday_x  MarkDowns  Dept  Weekly_Sales  IsHoliday_y  \n",
              "0             False        NaN     1      24924.50        False  \n",
              "1             False        NaN     2      50605.27        False  \n",
              "2             False        NaN     3      13740.12        False  \n",
              "3             False        NaN     4      39954.04        False  \n",
              "4             False        NaN     5      32229.38        False  \n",
              "...             ...        ...   ...           ...          ...  \n",
              "421565        False   1049.452    93       2487.80        False  \n",
              "421566        False   1049.452    94       5203.31        False  \n",
              "421567        False   1049.452    95      56017.47        False  \n",
              "421568        False   1049.452    97       6817.48        False  \n",
              "421569        False   1049.452    98       1076.80        False  \n",
              "\n",
              "[421570 rows x 11 columns]"
            ],
            "text/html": [
              "\n",
              "  <div id=\"df-fce1e7f1-4c07-4e76-a831-f0eb5d804ec1\">\n",
              "    <div class=\"colab-df-container\">\n",
              "      <div>\n",
              "<style scoped>\n",
              "    .dataframe tbody tr th:only-of-type {\n",
              "        vertical-align: middle;\n",
              "    }\n",
              "\n",
              "    .dataframe tbody tr th {\n",
              "        vertical-align: top;\n",
              "    }\n",
              "\n",
              "    .dataframe thead th {\n",
              "        text-align: right;\n",
              "    }\n",
              "</style>\n",
              "<table border=\"1\" class=\"dataframe\">\n",
              "  <thead>\n",
              "    <tr style=\"text-align: right;\">\n",
              "      <th></th>\n",
              "      <th>Store</th>\n",
              "      <th>Date</th>\n",
              "      <th>Temperature</th>\n",
              "      <th>Fuel_Price</th>\n",
              "      <th>CPI</th>\n",
              "      <th>Unemployment</th>\n",
              "      <th>IsHoliday_x</th>\n",
              "      <th>MarkDowns</th>\n",
              "      <th>Dept</th>\n",
              "      <th>Weekly_Sales</th>\n",
              "      <th>IsHoliday_y</th>\n",
              "    </tr>\n",
              "  </thead>\n",
              "  <tbody>\n",
              "    <tr>\n",
              "      <th>0</th>\n",
              "      <td>1</td>\n",
              "      <td>05/02/2010</td>\n",
              "      <td>42.31</td>\n",
              "      <td>2.572</td>\n",
              "      <td>211.096358</td>\n",
              "      <td>8.106</td>\n",
              "      <td>False</td>\n",
              "      <td>NaN</td>\n",
              "      <td>1</td>\n",
              "      <td>24924.50</td>\n",
              "      <td>False</td>\n",
              "    </tr>\n",
              "    <tr>\n",
              "      <th>1</th>\n",
              "      <td>1</td>\n",
              "      <td>05/02/2010</td>\n",
              "      <td>42.31</td>\n",
              "      <td>2.572</td>\n",
              "      <td>211.096358</td>\n",
              "      <td>8.106</td>\n",
              "      <td>False</td>\n",
              "      <td>NaN</td>\n",
              "      <td>2</td>\n",
              "      <td>50605.27</td>\n",
              "      <td>False</td>\n",
              "    </tr>\n",
              "    <tr>\n",
              "      <th>2</th>\n",
              "      <td>1</td>\n",
              "      <td>05/02/2010</td>\n",
              "      <td>42.31</td>\n",
              "      <td>2.572</td>\n",
              "      <td>211.096358</td>\n",
              "      <td>8.106</td>\n",
              "      <td>False</td>\n",
              "      <td>NaN</td>\n",
              "      <td>3</td>\n",
              "      <td>13740.12</td>\n",
              "      <td>False</td>\n",
              "    </tr>\n",
              "    <tr>\n",
              "      <th>3</th>\n",
              "      <td>1</td>\n",
              "      <td>05/02/2010</td>\n",
              "      <td>42.31</td>\n",
              "      <td>2.572</td>\n",
              "      <td>211.096358</td>\n",
              "      <td>8.106</td>\n",
              "      <td>False</td>\n",
              "      <td>NaN</td>\n",
              "      <td>4</td>\n",
              "      <td>39954.04</td>\n",
              "      <td>False</td>\n",
              "    </tr>\n",
              "    <tr>\n",
              "      <th>4</th>\n",
              "      <td>1</td>\n",
              "      <td>05/02/2010</td>\n",
              "      <td>42.31</td>\n",
              "      <td>2.572</td>\n",
              "      <td>211.096358</td>\n",
              "      <td>8.106</td>\n",
              "      <td>False</td>\n",
              "      <td>NaN</td>\n",
              "      <td>5</td>\n",
              "      <td>32229.38</td>\n",
              "      <td>False</td>\n",
              "    </tr>\n",
              "    <tr>\n",
              "      <th>...</th>\n",
              "      <td>...</td>\n",
              "      <td>...</td>\n",
              "      <td>...</td>\n",
              "      <td>...</td>\n",
              "      <td>...</td>\n",
              "      <td>...</td>\n",
              "      <td>...</td>\n",
              "      <td>...</td>\n",
              "      <td>...</td>\n",
              "      <td>...</td>\n",
              "      <td>...</td>\n",
              "    </tr>\n",
              "    <tr>\n",
              "      <th>421565</th>\n",
              "      <td>45</td>\n",
              "      <td>26/10/2012</td>\n",
              "      <td>58.85</td>\n",
              "      <td>3.882</td>\n",
              "      <td>192.308899</td>\n",
              "      <td>8.667</td>\n",
              "      <td>False</td>\n",
              "      <td>1049.452</td>\n",
              "      <td>93</td>\n",
              "      <td>2487.80</td>\n",
              "      <td>False</td>\n",
              "    </tr>\n",
              "    <tr>\n",
              "      <th>421566</th>\n",
              "      <td>45</td>\n",
              "      <td>26/10/2012</td>\n",
              "      <td>58.85</td>\n",
              "      <td>3.882</td>\n",
              "      <td>192.308899</td>\n",
              "      <td>8.667</td>\n",
              "      <td>False</td>\n",
              "      <td>1049.452</td>\n",
              "      <td>94</td>\n",
              "      <td>5203.31</td>\n",
              "      <td>False</td>\n",
              "    </tr>\n",
              "    <tr>\n",
              "      <th>421567</th>\n",
              "      <td>45</td>\n",
              "      <td>26/10/2012</td>\n",
              "      <td>58.85</td>\n",
              "      <td>3.882</td>\n",
              "      <td>192.308899</td>\n",
              "      <td>8.667</td>\n",
              "      <td>False</td>\n",
              "      <td>1049.452</td>\n",
              "      <td>95</td>\n",
              "      <td>56017.47</td>\n",
              "      <td>False</td>\n",
              "    </tr>\n",
              "    <tr>\n",
              "      <th>421568</th>\n",
              "      <td>45</td>\n",
              "      <td>26/10/2012</td>\n",
              "      <td>58.85</td>\n",
              "      <td>3.882</td>\n",
              "      <td>192.308899</td>\n",
              "      <td>8.667</td>\n",
              "      <td>False</td>\n",
              "      <td>1049.452</td>\n",
              "      <td>97</td>\n",
              "      <td>6817.48</td>\n",
              "      <td>False</td>\n",
              "    </tr>\n",
              "    <tr>\n",
              "      <th>421569</th>\n",
              "      <td>45</td>\n",
              "      <td>26/10/2012</td>\n",
              "      <td>58.85</td>\n",
              "      <td>3.882</td>\n",
              "      <td>192.308899</td>\n",
              "      <td>8.667</td>\n",
              "      <td>False</td>\n",
              "      <td>1049.452</td>\n",
              "      <td>98</td>\n",
              "      <td>1076.80</td>\n",
              "      <td>False</td>\n",
              "    </tr>\n",
              "  </tbody>\n",
              "</table>\n",
              "<p>421570 rows × 11 columns</p>\n",
              "</div>\n",
              "      <button class=\"colab-df-convert\" onclick=\"convertToInteractive('df-fce1e7f1-4c07-4e76-a831-f0eb5d804ec1')\"\n",
              "              title=\"Convert this dataframe to an interactive table.\"\n",
              "              style=\"display:none;\">\n",
              "        \n",
              "  <svg xmlns=\"http://www.w3.org/2000/svg\" height=\"24px\"viewBox=\"0 0 24 24\"\n",
              "       width=\"24px\">\n",
              "    <path d=\"M0 0h24v24H0V0z\" fill=\"none\"/>\n",
              "    <path d=\"M18.56 5.44l.94 2.06.94-2.06 2.06-.94-2.06-.94-.94-2.06-.94 2.06-2.06.94zm-11 1L8.5 8.5l.94-2.06 2.06-.94-2.06-.94L8.5 2.5l-.94 2.06-2.06.94zm10 10l.94 2.06.94-2.06 2.06-.94-2.06-.94-.94-2.06-.94 2.06-2.06.94z\"/><path d=\"M17.41 7.96l-1.37-1.37c-.4-.4-.92-.59-1.43-.59-.52 0-1.04.2-1.43.59L10.3 9.45l-7.72 7.72c-.78.78-.78 2.05 0 2.83L4 21.41c.39.39.9.59 1.41.59.51 0 1.02-.2 1.41-.59l7.78-7.78 2.81-2.81c.8-.78.8-2.07 0-2.86zM5.41 20L4 18.59l7.72-7.72 1.47 1.35L5.41 20z\"/>\n",
              "  </svg>\n",
              "      </button>\n",
              "      \n",
              "  <style>\n",
              "    .colab-df-container {\n",
              "      display:flex;\n",
              "      flex-wrap:wrap;\n",
              "      gap: 12px;\n",
              "    }\n",
              "\n",
              "    .colab-df-convert {\n",
              "      background-color: #E8F0FE;\n",
              "      border: none;\n",
              "      border-radius: 50%;\n",
              "      cursor: pointer;\n",
              "      display: none;\n",
              "      fill: #1967D2;\n",
              "      height: 32px;\n",
              "      padding: 0 0 0 0;\n",
              "      width: 32px;\n",
              "    }\n",
              "\n",
              "    .colab-df-convert:hover {\n",
              "      background-color: #E2EBFA;\n",
              "      box-shadow: 0px 1px 2px rgba(60, 64, 67, 0.3), 0px 1px 3px 1px rgba(60, 64, 67, 0.15);\n",
              "      fill: #174EA6;\n",
              "    }\n",
              "\n",
              "    [theme=dark] .colab-df-convert {\n",
              "      background-color: #3B4455;\n",
              "      fill: #D2E3FC;\n",
              "    }\n",
              "\n",
              "    [theme=dark] .colab-df-convert:hover {\n",
              "      background-color: #434B5C;\n",
              "      box-shadow: 0px 1px 3px 1px rgba(0, 0, 0, 0.15);\n",
              "      filter: drop-shadow(0px 1px 2px rgba(0, 0, 0, 0.3));\n",
              "      fill: #FFFFFF;\n",
              "    }\n",
              "  </style>\n",
              "\n",
              "      <script>\n",
              "        const buttonEl =\n",
              "          document.querySelector('#df-fce1e7f1-4c07-4e76-a831-f0eb5d804ec1 button.colab-df-convert');\n",
              "        buttonEl.style.display =\n",
              "          google.colab.kernel.accessAllowed ? 'block' : 'none';\n",
              "\n",
              "        async function convertToInteractive(key) {\n",
              "          const element = document.querySelector('#df-fce1e7f1-4c07-4e76-a831-f0eb5d804ec1');\n",
              "          const dataTable =\n",
              "            await google.colab.kernel.invokeFunction('convertToInteractive',\n",
              "                                                     [key], {});\n",
              "          if (!dataTable) return;\n",
              "\n",
              "          const docLinkHtml = 'Like what you see? Visit the ' +\n",
              "            '<a target=\"_blank\" href=https://colab.research.google.com/notebooks/data_table.ipynb>data table notebook</a>'\n",
              "            + ' to learn more about interactive tables.';\n",
              "          element.innerHTML = '';\n",
              "          dataTable['output_type'] = 'display_data';\n",
              "          await google.colab.output.renderOutput(dataTable, element);\n",
              "          const docLink = document.createElement('div');\n",
              "          docLink.innerHTML = docLinkHtml;\n",
              "          element.appendChild(docLink);\n",
              "        }\n",
              "      </script>\n",
              "    </div>\n",
              "  </div>\n",
              "  "
            ]
          },
          "metadata": {},
          "execution_count": 77
        }
      ]
    },
    {
      "cell_type": "code",
      "source": [
        "join_data_set3.plot(kind = 'scatter', x = 'Store', y =  'Weekly_Sales')\n",
        "plt.show()"
      ],
      "metadata": {
        "colab": {
          "base_uri": "https://localhost:8080/",
          "height": 279
        },
        "outputId": "401f5c8a-98f1-4e07-c59c-819ea3b7960e",
        "id": "nSwTwWgo-wTO"
      },
      "execution_count": 78,
      "outputs": [
        {
          "output_type": "display_data",
          "data": {
            "text/plain": [
              "<Figure size 432x288 with 1 Axes>"
            ],
            "image/png": "[encoded data removed]"
          },
          "metadata": {
            "needs_background": "light"
          }
        }
      ]
    },
    {
      "cell_type": "code",
      "source": [
        "#Se eliminan aquellas filas con datos nulos\n",
        "join_data_set3.dropna(inplace=True)\n",
        "join_data_set3"
      ],
      "metadata": {
        "colab": {
          "base_uri": "https://localhost:8080/",
          "height": 423
        },
        "outputId": "4c127144-b1e3-4ec2-ba7a-87227164e7fe",
        "id": "MwBasBjz-wTO"
      },
      "execution_count": 79,
      "outputs": [
        {
          "output_type": "execute_result",
          "data": {
            "text/plain": [
              "        Store        Date  Temperature  Fuel_Price         CPI  Unemployment  \\\n",
              "6587        1  11/11/2011        59.11       3.297  217.998085         7.866   \n",
              "6588        1  11/11/2011        59.11       3.297  217.998085         7.866   \n",
              "6589        1  11/11/2011        59.11       3.297  217.998085         7.866   \n",
              "6590        1  11/11/2011        59.11       3.297  217.998085         7.866   \n",
              "6591        1  11/11/2011        59.11       3.297  217.998085         7.866   \n",
              "...       ...         ...          ...         ...         ...           ...   \n",
              "421565     45  26/10/2012        58.85       3.882  192.308899         8.667   \n",
              "421566     45  26/10/2012        58.85       3.882  192.308899         8.667   \n",
              "421567     45  26/10/2012        58.85       3.882  192.308899         8.667   \n",
              "421568     45  26/10/2012        58.85       3.882  192.308899         8.667   \n",
              "421569     45  26/10/2012        58.85       3.882  192.308899         8.667   \n",
              "\n",
              "        IsHoliday_x  MarkDowns  Dept  Weekly_Sales  IsHoliday_y  \n",
              "6587          False   5134.336     1      18689.54        False  \n",
              "6588          False   5134.336     2      44936.47        False  \n",
              "6589          False   5134.336     3       9959.64        False  \n",
              "6590          False   5134.336     4      36826.52        False  \n",
              "6591          False   5134.336     5      31002.65        False  \n",
              "...             ...        ...   ...           ...          ...  \n",
              "421565        False   1049.452    93       2487.80        False  \n",
              "421566        False   1049.452    94       5203.31        False  \n",
              "421567        False   1049.452    95      56017.47        False  \n",
              "421568        False   1049.452    97       6817.48        False  \n",
              "421569        False   1049.452    98       1076.80        False  \n",
              "\n",
              "[151432 rows x 11 columns]"
            ],
            "text/html": [
              "\n",
              "  <div id=\"df-8690c62b-ad65-4b72-b3cf-6af4e04f35d8\">\n",
              "    <div class=\"colab-df-container\">\n",
              "      <div>\n",
              "<style scoped>\n",
              "    .dataframe tbody tr th:only-of-type {\n",
              "        vertical-align: middle;\n",
              "    }\n",
              "\n",
              "    .dataframe tbody tr th {\n",
              "        vertical-align: top;\n",
              "    }\n",
              "\n",
              "    .dataframe thead th {\n",
              "        text-align: right;\n",
              "    }\n",
              "</style>\n",
              "<table border=\"1\" class=\"dataframe\">\n",
              "  <thead>\n",
              "    <tr style=\"text-align: right;\">\n",
              "      <th></th>\n",
              "      <th>Store</th>\n",
              "      <th>Date</th>\n",
              "      <th>Temperature</th>\n",
              "      <th>Fuel_Price</th>\n",
              "      <th>CPI</th>\n",
              "      <th>Unemployment</th>\n",
              "      <th>IsHoliday_x</th>\n",
              "      <th>MarkDowns</th>\n",
              "      <th>Dept</th>\n",
              "      <th>Weekly_Sales</th>\n",
              "      <th>IsHoliday_y</th>\n",
              "    </tr>\n",
              "  </thead>\n",
              "  <tbody>\n",
              "    <tr>\n",
              "      <th>6587</th>\n",
              "      <td>1</td>\n",
              "      <td>11/11/2011</td>\n",
              "      <td>59.11</td>\n",
              "      <td>3.297</td>\n",
              "      <td>217.998085</td>\n",
              "      <td>7.866</td>\n",
              "      <td>False</td>\n",
              "      <td>5134.336</td>\n",
              "      <td>1</td>\n",
              "      <td>18689.54</td>\n",
              "      <td>False</td>\n",
              "    </tr>\n",
              "    <tr>\n",
              "      <th>6588</th>\n",
              "      <td>1</td>\n",
              "      <td>11/11/2011</td>\n",
              "      <td>59.11</td>\n",
              "      <td>3.297</td>\n",
              "      <td>217.998085</td>\n",
              "      <td>7.866</td>\n",
              "      <td>False</td>\n",
              "      <td>5134.336</td>\n",
              "      <td>2</td>\n",
              "      <td>44936.47</td>\n",
              "      <td>False</td>\n",
              "    </tr>\n",
              "    <tr>\n",
              "      <th>6589</th>\n",
              "      <td>1</td>\n",
              "      <td>11/11/2011</td>\n",
              "      <td>59.11</td>\n",
              "      <td>3.297</td>\n",
              "      <td>217.998085</td>\n",
              "      <td>7.866</td>\n",
              "      <td>False</td>\n",
              "      <td>5134.336</td>\n",
              "      <td>3</td>\n",
              "      <td>9959.64</td>\n",
              "      <td>False</td>\n",
              "    </tr>\n",
              "    <tr>\n",
              "      <th>6590</th>\n",
              "      <td>1</td>\n",
              "      <td>11/11/2011</td>\n",
              "      <td>59.11</td>\n",
              "      <td>3.297</td>\n",
              "      <td>217.998085</td>\n",
              "      <td>7.866</td>\n",
              "      <td>False</td>\n",
              "      <td>5134.336</td>\n",
              "      <td>4</td>\n",
              "      <td>36826.52</td>\n",
              "      <td>False</td>\n",
              "    </tr>\n",
              "    <tr>\n",
              "      <th>6591</th>\n",
              "      <td>1</td>\n",
              "      <td>11/11/2011</td>\n",
              "      <td>59.11</td>\n",
              "      <td>3.297</td>\n",
              "      <td>217.998085</td>\n",
              "      <td>7.866</td>\n",
              "      <td>False</td>\n",
              "      <td>5134.336</td>\n",
              "      <td>5</td>\n",
              "      <td>31002.65</td>\n",
              "      <td>False</td>\n",
              "    </tr>\n",
              "    <tr>\n",
              "      <th>...</th>\n",
              "      <td>...</td>\n",
              "      <td>...</td>\n",
              "      <td>...</td>\n",
              "      <td>...</td>\n",
              "      <td>...</td>\n",
              "      <td>...</td>\n",
              "      <td>...</td>\n",
              "      <td>...</td>\n",
              "      <td>...</td>\n",
              "      <td>...</td>\n",
              "      <td>...</td>\n",
              "    </tr>\n",
              "    <tr>\n",
              "      <th>421565</th>\n",
              "      <td>45</td>\n",
              "      <td>26/10/2012</td>\n",
              "      <td>58.85</td>\n",
              "      <td>3.882</td>\n",
              "      <td>192.308899</td>\n",
              "      <td>8.667</td>\n",
              "      <td>False</td>\n",
              "      <td>1049.452</td>\n",
              "      <td>93</td>\n",
              "      <td>2487.80</td>\n",
              "      <td>False</td>\n",
              "    </tr>\n",
              "    <tr>\n",
              "      <th>421566</th>\n",
              "      <td>45</td>\n",
              "      <td>26/10/2012</td>\n",
              "      <td>58.85</td>\n",
              "      <td>3.882</td>\n",
              "      <td>192.308899</td>\n",
              "      <td>8.667</td>\n",
              "      <td>False</td>\n",
              "      <td>1049.452</td>\n",
              "      <td>94</td>\n",
              "      <td>5203.31</td>\n",
              "      <td>False</td>\n",
              "    </tr>\n",
              "    <tr>\n",
              "      <th>421567</th>\n",
              "      <td>45</td>\n",
              "      <td>26/10/2012</td>\n",
              "      <td>58.85</td>\n",
              "      <td>3.882</td>\n",
              "      <td>192.308899</td>\n",
              "      <td>8.667</td>\n",
              "      <td>False</td>\n",
              "      <td>1049.452</td>\n",
              "      <td>95</td>\n",
              "      <td>56017.47</td>\n",
              "      <td>False</td>\n",
              "    </tr>\n",
              "    <tr>\n",
              "      <th>421568</th>\n",
              "      <td>45</td>\n",
              "      <td>26/10/2012</td>\n",
              "      <td>58.85</td>\n",
              "      <td>3.882</td>\n",
              "      <td>192.308899</td>\n",
              "      <td>8.667</td>\n",
              "      <td>False</td>\n",
              "      <td>1049.452</td>\n",
              "      <td>97</td>\n",
              "      <td>6817.48</td>\n",
              "      <td>False</td>\n",
              "    </tr>\n",
              "    <tr>\n",
              "      <th>421569</th>\n",
              "      <td>45</td>\n",
              "      <td>26/10/2012</td>\n",
              "      <td>58.85</td>\n",
              "      <td>3.882</td>\n",
              "      <td>192.308899</td>\n",
              "      <td>8.667</td>\n",
              "      <td>False</td>\n",
              "      <td>1049.452</td>\n",
              "      <td>98</td>\n",
              "      <td>1076.80</td>\n",
              "      <td>False</td>\n",
              "    </tr>\n",
              "  </tbody>\n",
              "</table>\n",
              "<p>151432 rows × 11 columns</p>\n",
              "</div>\n",
              "      <button class=\"colab-df-convert\" onclick=\"convertToInteractive('df-8690c62b-ad65-4b72-b3cf-6af4e04f35d8')\"\n",
              "              title=\"Convert this dataframe to an interactive table.\"\n",
              "              style=\"display:none;\">\n",
              "        \n",
              "  <svg xmlns=\"http://www.w3.org/2000/svg\" height=\"24px\"viewBox=\"0 0 24 24\"\n",
              "       width=\"24px\">\n",
              "    <path d=\"M0 0h24v24H0V0z\" fill=\"none\"/>\n",
              "    <path d=\"M18.56 5.44l.94 2.06.94-2.06 2.06-.94-2.06-.94-.94-2.06-.94 2.06-2.06.94zm-11 1L8.5 8.5l.94-2.06 2.06-.94-2.06-.94L8.5 2.5l-.94 2.06-2.06.94zm10 10l.94 2.06.94-2.06 2.06-.94-2.06-.94-.94-2.06-.94 2.06-2.06.94z\"/><path d=\"M17.41 7.96l-1.37-1.37c-.4-.4-.92-.59-1.43-.59-.52 0-1.04.2-1.43.59L10.3 9.45l-7.72 7.72c-.78.78-.78 2.05 0 2.83L4 21.41c.39.39.9.59 1.41.59.51 0 1.02-.2 1.41-.59l7.78-7.78 2.81-2.81c.8-.78.8-2.07 0-2.86zM5.41 20L4 18.59l7.72-7.72 1.47 1.35L5.41 20z\"/>\n",
              "  </svg>\n",
              "      </button>\n",
              "      \n",
              "  <style>\n",
              "    .colab-df-container {\n",
              "      display:flex;\n",
              "      flex-wrap:wrap;\n",
              "      gap: 12px;\n",
              "    }\n",
              "\n",
              "    .colab-df-convert {\n",
              "      background-color: #E8F0FE;\n",
              "      border: none;\n",
              "      border-radius: 50%;\n",
              "      cursor: pointer;\n",
              "      display: none;\n",
              "      fill: #1967D2;\n",
              "      height: 32px;\n",
              "      padding: 0 0 0 0;\n",
              "      width: 32px;\n",
              "    }\n",
              "\n",
              "    .colab-df-convert:hover {\n",
              "      background-color: #E2EBFA;\n",
              "      box-shadow: 0px 1px 2px rgba(60, 64, 67, 0.3), 0px 1px 3px 1px rgba(60, 64, 67, 0.15);\n",
              "      fill: #174EA6;\n",
              "    }\n",
              "\n",
              "    [theme=dark] .colab-df-convert {\n",
              "      background-color: #3B4455;\n",
              "      fill: #D2E3FC;\n",
              "    }\n",
              "\n",
              "    [theme=dark] .colab-df-convert:hover {\n",
              "      background-color: #434B5C;\n",
              "      box-shadow: 0px 1px 3px 1px rgba(0, 0, 0, 0.15);\n",
              "      filter: drop-shadow(0px 1px 2px rgba(0, 0, 0, 0.3));\n",
              "      fill: #FFFFFF;\n",
              "    }\n",
              "  </style>\n",
              "\n",
              "      <script>\n",
              "        const buttonEl =\n",
              "          document.querySelector('#df-8690c62b-ad65-4b72-b3cf-6af4e04f35d8 button.colab-df-convert');\n",
              "        buttonEl.style.display =\n",
              "          google.colab.kernel.accessAllowed ? 'block' : 'none';\n",
              "\n",
              "        async function convertToInteractive(key) {\n",
              "          const element = document.querySelector('#df-8690c62b-ad65-4b72-b3cf-6af4e04f35d8');\n",
              "          const dataTable =\n",
              "            await google.colab.kernel.invokeFunction('convertToInteractive',\n",
              "                                                     [key], {});\n",
              "          if (!dataTable) return;\n",
              "\n",
              "          const docLinkHtml = 'Like what you see? Visit the ' +\n",
              "            '<a target=\"_blank\" href=https://colab.research.google.com/notebooks/data_table.ipynb>data table notebook</a>'\n",
              "            + ' to learn more about interactive tables.';\n",
              "          element.innerHTML = '';\n",
              "          dataTable['output_type'] = 'display_data';\n",
              "          await google.colab.output.renderOutput(dataTable, element);\n",
              "          const docLink = document.createElement('div');\n",
              "          docLink.innerHTML = docLinkHtml;\n",
              "          element.appendChild(docLink);\n",
              "        }\n",
              "      </script>\n",
              "    </div>\n",
              "  </div>\n",
              "  "
            ]
          },
          "metadata": {},
          "execution_count": 79
        }
      ]
    },
    {
      "cell_type": "code",
      "source": [
        "#a continuación se separan los datos de los días festivos para analizarlos por separado.\n",
        "join_data_Holiday_set3 = join_data_set3.query('IsHoliday_x == True')\n",
        "join_data_no_Holiday_set3 = join_data_set3.query('IsHoliday_x == False')"
      ],
      "metadata": {
        "id": "ZaD2SH6p-wTO"
      },
      "execution_count": 80,
      "outputs": []
    },
    {
      "cell_type": "code",
      "source": [
        "join_data_no_Holiday_set3.columns"
      ],
      "metadata": {
        "colab": {
          "base_uri": "https://localhost:8080/"
        },
        "id": "xkyODKNMuraD",
        "outputId": "b7d40966-77c3-49ee-f223-4fdb10eb183e"
      },
      "execution_count": 81,
      "outputs": [
        {
          "output_type": "execute_result",
          "data": {
            "text/plain": [
              "Index(['Store', 'Date', 'Temperature', 'Fuel_Price', 'CPI', 'Unemployment',\n",
              "       'IsHoliday_x', 'MarkDowns', 'Dept', 'Weekly_Sales', 'IsHoliday_y'],\n",
              "      dtype='object')"
            ]
          },
          "metadata": {},
          "execution_count": 81
        }
      ]
    },
    {
      "cell_type": "code",
      "source": [
        "join_data_no_Holiday_set3['MarkDowns'].hist()"
      ],
      "metadata": {
        "colab": {
          "base_uri": "https://localhost:8080/",
          "height": 282
        },
        "id": "hOvJEFYrsVxg",
        "outputId": "dc1b3653-cfa5-4915-904b-834172d809c4"
      },
      "execution_count": 82,
      "outputs": [
        {
          "output_type": "execute_result",
          "data": {
            "text/plain": [
              "<matplotlib.axes._subplots.AxesSubplot at 0x7f61db7c3460>"
            ]
          },
          "metadata": {},
          "execution_count": 82
        },
        {
          "output_type": "display_data",
          "data": {
            "text/plain": [
              "<Figure size 432x288 with 1 Axes>"
            ],
            "image/png": "[encoded data removed]"
          },
          "metadata": {
            "needs_background": "light"
          }
        }
      ]
    },
    {
      "cell_type": "code",
      "source": [
        "join_data_Holiday_set3['MarkDowns'].hist()"
      ],
      "metadata": {
        "colab": {
          "base_uri": "https://localhost:8080/",
          "height": 282
        },
        "id": "Ee-aGW0r-X_w",
        "outputId": "58bad1c4-bc9d-4429-8d4d-3f469ac2b41a"
      },
      "execution_count": 83,
      "outputs": [
        {
          "output_type": "execute_result",
          "data": {
            "text/plain": [
              "<matplotlib.axes._subplots.AxesSubplot at 0x7f61db6ad880>"
            ]
          },
          "metadata": {},
          "execution_count": 83
        },
        {
          "output_type": "display_data",
          "data": {
            "text/plain": [
              "<Figure size 432x288 with 1 Axes>"
            ],
            "image/png": "[encoded data removed]"
          },
          "metadata": {
            "needs_background": "light"
          }
        }
      ]
    },
    {
      "cell_type": "markdown",
      "source": [
        "En los gráficos anteriores, se observa que al unir las columas de datos Markdown's en una sola y calcularle la media, los datos de esta última se encuentran con un mejor balance que al estar todas por separado."
      ],
      "metadata": {
        "id": "BKzfp8G_8PFP"
      }
    },
    {
      "cell_type": "code",
      "source": [
        "#se crean arrays para las características y la variable de destino en el caso de dias no festivos.\n",
        "y3 = join_data_no_Holiday_set3[\"Weekly_Sales\"].values\n",
        "X3 = join_data_no_Holiday_set3[[\"Dept\",\"Fuel_Price\", \"CPI\", \"Unemployment\", \"MarkDowns\"]].values"
      ],
      "metadata": {
        "id": "mwSgokVrOMaF"
      },
      "execution_count": 84,
      "outputs": []
    },
    {
      "cell_type": "code",
      "source": [
        "#se asignan de manera pseudo aleatoria los datos para llevar a cabo el entrenamiento y posterior testeo.\n",
        "X_train3, X_test3, y_train3, y_test3 = train_test_split(X3, y3, test_size= 0.2)\n",
        "\n",
        "#crea un modelo KNN con 5 \"vecinos\"\n",
        "knn3 = KNeighborsRegressor(n_neighbors = 5, metric= 'minkowski', p = 2)\n",
        "#entrenamos el regresor\n",
        "knn3.fit(X_train3, y_train3)\n"
      ],
      "metadata": {
        "colab": {
          "base_uri": "https://localhost:8080/"
        },
        "outputId": "941051c0-2d1f-4862-8c1c-9af3b7bd303f",
        "id": "gVOtp8bKOMaL"
      },
      "execution_count": 85,
      "outputs": [
        {
          "output_type": "execute_result",
          "data": {
            "text/plain": [
              "KNeighborsRegressor()"
            ]
          },
          "metadata": {},
          "execution_count": 85
        }
      ]
    },
    {
      "cell_type": "code",
      "source": [
        "#realiza una predicción en base a los datos de testeo\n",
        "y_pred3 = knn3.predict(X_test3)\n",
        "#se imprime las predicciones realizadas\n",
        "print(\"Predicciones set 3: {}\".format(y_pred3))"
      ],
      "metadata": {
        "colab": {
          "base_uri": "https://localhost:8080/"
        },
        "outputId": "28a68bd2-303e-4e3a-a5c2-6555949a11b3",
        "id": "AG5GuEYTOMaM"
      },
      "execution_count": 86,
      "outputs": [
        {
          "output_type": "stream",
          "name": "stdout",
          "text": [
            "Predicciones set 3: [ 8342.972  5378.826 20412.058 ...  6586.38  19217.974 34426.546]\n"
          ]
        }
      ]
    },
    {
      "cell_type": "code",
      "source": [
        "#se verifica la precisión con los datos de testeo\n",
        "score_knn3 = knn3.score(X_test3, y_test3)\n",
        "score_knn3"
      ],
      "metadata": {
        "colab": {
          "base_uri": "https://localhost:8080/"
        },
        "outputId": "c4627767-cc59-4dbe-8cb0-71af82d23471",
        "id": "ENXcp7Q3OMaM"
      },
      "execution_count": 87,
      "outputs": [
        {
          "output_type": "execute_result",
          "data": {
            "text/plain": [
              "0.2915838644821156"
            ]
          },
          "metadata": {},
          "execution_count": 87
        }
      ]
    },
    {
      "cell_type": "code",
      "source": [
        "#a continuación se genera una tabla comparativa entre los datos reales y los predichos, además de su % de error.\n",
        "preds3 = knn3.predict(X_test3)\n",
        "\n",
        "performance3 = pd.DataFrame({ 'True Value': y_test3,\n",
        "                            'Prediction': preds3,\n",
        "                            'Error': (abs(preds3 - y_test3)*100)/y_test3})\n",
        "\n",
        "performance3"
      ],
      "metadata": {
        "colab": {
          "base_uri": "https://localhost:8080/",
          "height": 458
        },
        "outputId": "e72bc3a5-7053-44ab-e839-2c244b92a4f6",
        "id": "lwKdXhPNOMaM"
      },
      "execution_count": 88,
      "outputs": [
        {
          "output_type": "stream",
          "name": "stderr",
          "text": [
            "<ipython-input-88-4d23f6cf3785>:6: RuntimeWarning: divide by zero encountered in true_divide\n",
            "  'Error': (abs(preds3 - y_test3)*100)/y_test3})\n"
          ]
        },
        {
          "output_type": "execute_result",
          "data": {
            "text/plain": [
              "       True Value  Prediction       Error\n",
              "0         4305.08    8342.972   93.793658\n",
              "1        10571.46    5378.826   49.119365\n",
              "2        22401.75   20412.058    8.881860\n",
              "3         1970.00    1710.948   13.149848\n",
              "4         5897.86    6205.980    5.224268\n",
              "...           ...         ...         ...\n",
              "27884    22135.80   26718.434   20.702364\n",
              "27885     2426.66    4809.058   98.176011\n",
              "27886     8358.84    6586.380   21.204617\n",
              "27887     7866.60   19217.974  144.298350\n",
              "27888    47129.06   34426.546   26.952615\n",
              "\n",
              "[27889 rows x 3 columns]"
            ],
            "text/html": [
              "\n",
              "  <div id=\"df-ebe289f0-8ce5-4970-be5e-6dd949bb9ff0\">\n",
              "    <div class=\"colab-df-container\">\n",
              "      <div>\n",
              "<style scoped>\n",
              "    .dataframe tbody tr th:only-of-type {\n",
              "        vertical-align: middle;\n",
              "    }\n",
              "\n",
              "    .dataframe tbody tr th {\n",
              "        vertical-align: top;\n",
              "    }\n",
              "\n",
              "    .dataframe thead th {\n",
              "        text-align: right;\n",
              "    }\n",
              "</style>\n",
              "<table border=\"1\" class=\"dataframe\">\n",
              "  <thead>\n",
              "    <tr style=\"text-align: right;\">\n",
              "      <th></th>\n",
              "      <th>True Value</th>\n",
              "      <th>Prediction</th>\n",
              "      <th>Error</th>\n",
              "    </tr>\n",
              "  </thead>\n",
              "  <tbody>\n",
              "    <tr>\n",
              "      <th>0</th>\n",
              "      <td>4305.08</td>\n",
              "      <td>8342.972</td>\n",
              "      <td>93.793658</td>\n",
              "    </tr>\n",
              "    <tr>\n",
              "      <th>1</th>\n",
              "      <td>10571.46</td>\n",
              "      <td>5378.826</td>\n",
              "      <td>49.119365</td>\n",
              "    </tr>\n",
              "    <tr>\n",
              "      <th>2</th>\n",
              "      <td>22401.75</td>\n",
              "      <td>20412.058</td>\n",
              "      <td>8.881860</td>\n",
              "    </tr>\n",
              "    <tr>\n",
              "      <th>3</th>\n",
              "      <td>1970.00</td>\n",
              "      <td>1710.948</td>\n",
              "      <td>13.149848</td>\n",
              "    </tr>\n",
              "    <tr>\n",
              "      <th>4</th>\n",
              "      <td>5897.86</td>\n",
              "      <td>6205.980</td>\n",
              "      <td>5.224268</td>\n",
              "    </tr>\n",
              "    <tr>\n",
              "      <th>...</th>\n",
              "      <td>...</td>\n",
              "      <td>...</td>\n",
              "      <td>...</td>\n",
              "    </tr>\n",
              "    <tr>\n",
              "      <th>27884</th>\n",
              "      <td>22135.80</td>\n",
              "      <td>26718.434</td>\n",
              "      <td>20.702364</td>\n",
              "    </tr>\n",
              "    <tr>\n",
              "      <th>27885</th>\n",
              "      <td>2426.66</td>\n",
              "      <td>4809.058</td>\n",
              "      <td>98.176011</td>\n",
              "    </tr>\n",
              "    <tr>\n",
              "      <th>27886</th>\n",
              "      <td>8358.84</td>\n",
              "      <td>6586.380</td>\n",
              "      <td>21.204617</td>\n",
              "    </tr>\n",
              "    <tr>\n",
              "      <th>27887</th>\n",
              "      <td>7866.60</td>\n",
              "      <td>19217.974</td>\n",
              "      <td>144.298350</td>\n",
              "    </tr>\n",
              "    <tr>\n",
              "      <th>27888</th>\n",
              "      <td>47129.06</td>\n",
              "      <td>34426.546</td>\n",
              "      <td>26.952615</td>\n",
              "    </tr>\n",
              "  </tbody>\n",
              "</table>\n",
              "<p>27889 rows × 3 columns</p>\n",
              "</div>\n",
              "      <button class=\"colab-df-convert\" onclick=\"convertToInteractive('df-ebe289f0-8ce5-4970-be5e-6dd949bb9ff0')\"\n",
              "              title=\"Convert this dataframe to an interactive table.\"\n",
              "              style=\"display:none;\">\n",
              "        \n",
              "  <svg xmlns=\"http://www.w3.org/2000/svg\" height=\"24px\"viewBox=\"0 0 24 24\"\n",
              "       width=\"24px\">\n",
              "    <path d=\"M0 0h24v24H0V0z\" fill=\"none\"/>\n",
              "    <path d=\"M18.56 5.44l.94 2.06.94-2.06 2.06-.94-2.06-.94-.94-2.06-.94 2.06-2.06.94zm-11 1L8.5 8.5l.94-2.06 2.06-.94-2.06-.94L8.5 2.5l-.94 2.06-2.06.94zm10 10l.94 2.06.94-2.06 2.06-.94-2.06-.94-.94-2.06-.94 2.06-2.06.94z\"/><path d=\"M17.41 7.96l-1.37-1.37c-.4-.4-.92-.59-1.43-.59-.52 0-1.04.2-1.43.59L10.3 9.45l-7.72 7.72c-.78.78-.78 2.05 0 2.83L4 21.41c.39.39.9.59 1.41.59.51 0 1.02-.2 1.41-.59l7.78-7.78 2.81-2.81c.8-.78.8-2.07 0-2.86zM5.41 20L4 18.59l7.72-7.72 1.47 1.35L5.41 20z\"/>\n",
              "  </svg>\n",
              "      </button>\n",
              "      \n",
              "  <style>\n",
              "    .colab-df-container {\n",
              "      display:flex;\n",
              "      flex-wrap:wrap;\n",
              "      gap: 12px;\n",
              "    }\n",
              "\n",
              "    .colab-df-convert {\n",
              "      background-color: #E8F0FE;\n",
              "      border: none;\n",
              "      border-radius: 50%;\n",
              "      cursor: pointer;\n",
              "      display: none;\n",
              "      fill: #1967D2;\n",
              "      height: 32px;\n",
              "      padding: 0 0 0 0;\n",
              "      width: 32px;\n",
              "    }\n",
              "\n",
              "    .colab-df-convert:hover {\n",
              "      background-color: #E2EBFA;\n",
              "      box-shadow: 0px 1px 2px rgba(60, 64, 67, 0.3), 0px 1px 3px 1px rgba(60, 64, 67, 0.15);\n",
              "      fill: #174EA6;\n",
              "    }\n",
              "\n",
              "    [theme=dark] .colab-df-convert {\n",
              "      background-color: #3B4455;\n",
              "      fill: #D2E3FC;\n",
              "    }\n",
              "\n",
              "    [theme=dark] .colab-df-convert:hover {\n",
              "      background-color: #434B5C;\n",
              "      box-shadow: 0px 1px 3px 1px rgba(0, 0, 0, 0.15);\n",
              "      filter: drop-shadow(0px 1px 2px rgba(0, 0, 0, 0.3));\n",
              "      fill: #FFFFFF;\n",
              "    }\n",
              "  </style>\n",
              "\n",
              "      <script>\n",
              "        const buttonEl =\n",
              "          document.querySelector('#df-ebe289f0-8ce5-4970-be5e-6dd949bb9ff0 button.colab-df-convert');\n",
              "        buttonEl.style.display =\n",
              "          google.colab.kernel.accessAllowed ? 'block' : 'none';\n",
              "\n",
              "        async function convertToInteractive(key) {\n",
              "          const element = document.querySelector('#df-ebe289f0-8ce5-4970-be5e-6dd949bb9ff0');\n",
              "          const dataTable =\n",
              "            await google.colab.kernel.invokeFunction('convertToInteractive',\n",
              "                                                     [key], {});\n",
              "          if (!dataTable) return;\n",
              "\n",
              "          const docLinkHtml = 'Like what you see? Visit the ' +\n",
              "            '<a target=\"_blank\" href=https://colab.research.google.com/notebooks/data_table.ipynb>data table notebook</a>'\n",
              "            + ' to learn more about interactive tables.';\n",
              "          element.innerHTML = '';\n",
              "          dataTable['output_type'] = 'display_data';\n",
              "          await google.colab.output.renderOutput(dataTable, element);\n",
              "          const docLink = document.createElement('div');\n",
              "          docLink.innerHTML = docLinkHtml;\n",
              "          element.appendChild(docLink);\n",
              "        }\n",
              "      </script>\n",
              "    </div>\n",
              "  </div>\n",
              "  "
            ]
          },
          "metadata": {},
          "execution_count": 88
        }
      ]
    },
    {
      "cell_type": "code",
      "source": [
        "plt.figure(figsize=(15,7))\n",
        "# Errores\n",
        "ax_x3= performance3['True Value']\n",
        "ax_y3= performance3['Prediction']\n",
        "yerr3= performance3['Error']\n",
        "\n",
        "plt.scatter(range(len(yerr3)), yerr3, alpha=.5)\n",
        "plt.title('Homogeneous Errors - KNN3', size=15);\n",
        "plt.hlines(y=0, xmin=0, xmax=27889 , linestyle='--', color='white', alpha=.5);"
      ],
      "metadata": {
        "colab": {
          "base_uri": "https://localhost:8080/",
          "height": 446
        },
        "outputId": "a9c113f4-3b46-47ed-f5c5-ca0d8fcf5c76",
        "id": "-FN8pKMQOMaM"
      },
      "execution_count": 89,
      "outputs": [
        {
          "output_type": "display_data",
          "data": {
            "text/plain": [
              "<Figure size 1080x504 with 1 Axes>"
            ],
            "image/png": "[encoded data removed]"
          },
          "metadata": {
            "needs_background": "light"
          }
        }
      ]
    },
    {
      "cell_type": "code",
      "source": [
        "#a continuación se verifica la precisión en base a un treshold menor al 30% de error\n",
        "performance3[\"acceptance_criteria\"] = 0\n",
        "performance3.loc[performance3.query('Error<=30').index ,\"acceptance_criteria\"]=1\n",
        "display(performance3)"
      ],
      "metadata": {
        "colab": {
          "base_uri": "https://localhost:8080/",
          "height": 423
        },
        "outputId": "dc57f6be-ca4d-40c8-9e98-e73bb3a374a5",
        "id": "1RcmpUC0OMaM"
      },
      "execution_count": 90,
      "outputs": [
        {
          "output_type": "display_data",
          "data": {
            "text/plain": [
              "       True Value  Prediction       Error  acceptance_criteria\n",
              "0         4305.08    8342.972   93.793658                    0\n",
              "1        10571.46    5378.826   49.119365                    0\n",
              "2        22401.75   20412.058    8.881860                    1\n",
              "3         1970.00    1710.948   13.149848                    1\n",
              "4         5897.86    6205.980    5.224268                    1\n",
              "...           ...         ...         ...                  ...\n",
              "27884    22135.80   26718.434   20.702364                    1\n",
              "27885     2426.66    4809.058   98.176011                    0\n",
              "27886     8358.84    6586.380   21.204617                    1\n",
              "27887     7866.60   19217.974  144.298350                    0\n",
              "27888    47129.06   34426.546   26.952615                    1\n",
              "\n",
              "[27889 rows x 4 columns]"
            ],
            "text/html": [
              "\n",
              "  <div id=\"df-f397478b-88b8-4d88-8ffd-19510b013517\">\n",
              "    <div class=\"colab-df-container\">\n",
              "      <div>\n",
              "<style scoped>\n",
              "    .dataframe tbody tr th:only-of-type {\n",
              "        vertical-align: middle;\n",
              "    }\n",
              "\n",
              "    .dataframe tbody tr th {\n",
              "        vertical-align: top;\n",
              "    }\n",
              "\n",
              "    .dataframe thead th {\n",
              "        text-align: right;\n",
              "    }\n",
              "</style>\n",
              "<table border=\"1\" class=\"dataframe\">\n",
              "  <thead>\n",
              "    <tr style=\"text-align: right;\">\n",
              "      <th></th>\n",
              "      <th>True Value</th>\n",
              "      <th>Prediction</th>\n",
              "      <th>Error</th>\n",
              "      <th>acceptance_criteria</th>\n",
              "    </tr>\n",
              "  </thead>\n",
              "  <tbody>\n",
              "    <tr>\n",
              "      <th>0</th>\n",
              "      <td>4305.08</td>\n",
              "      <td>8342.972</td>\n",
              "      <td>93.793658</td>\n",
              "      <td>0</td>\n",
              "    </tr>\n",
              "    <tr>\n",
              "      <th>1</th>\n",
              "      <td>10571.46</td>\n",
              "      <td>5378.826</td>\n",
              "      <td>49.119365</td>\n",
              "      <td>0</td>\n",
              "    </tr>\n",
              "    <tr>\n",
              "      <th>2</th>\n",
              "      <td>22401.75</td>\n",
              "      <td>20412.058</td>\n",
              "      <td>8.881860</td>\n",
              "      <td>1</td>\n",
              "    </tr>\n",
              "    <tr>\n",
              "      <th>3</th>\n",
              "      <td>1970.00</td>\n",
              "      <td>1710.948</td>\n",
              "      <td>13.149848</td>\n",
              "      <td>1</td>\n",
              "    </tr>\n",
              "    <tr>\n",
              "      <th>4</th>\n",
              "      <td>5897.86</td>\n",
              "      <td>6205.980</td>\n",
              "      <td>5.224268</td>\n",
              "      <td>1</td>\n",
              "    </tr>\n",
              "    <tr>\n",
              "      <th>...</th>\n",
              "      <td>...</td>\n",
              "      <td>...</td>\n",
              "      <td>...</td>\n",
              "      <td>...</td>\n",
              "    </tr>\n",
              "    <tr>\n",
              "      <th>27884</th>\n",
              "      <td>22135.80</td>\n",
              "      <td>26718.434</td>\n",
              "      <td>20.702364</td>\n",
              "      <td>1</td>\n",
              "    </tr>\n",
              "    <tr>\n",
              "      <th>27885</th>\n",
              "      <td>2426.66</td>\n",
              "      <td>4809.058</td>\n",
              "      <td>98.176011</td>\n",
              "      <td>0</td>\n",
              "    </tr>\n",
              "    <tr>\n",
              "      <th>27886</th>\n",
              "      <td>8358.84</td>\n",
              "      <td>6586.380</td>\n",
              "      <td>21.204617</td>\n",
              "      <td>1</td>\n",
              "    </tr>\n",
              "    <tr>\n",
              "      <th>27887</th>\n",
              "      <td>7866.60</td>\n",
              "      <td>19217.974</td>\n",
              "      <td>144.298350</td>\n",
              "      <td>0</td>\n",
              "    </tr>\n",
              "    <tr>\n",
              "      <th>27888</th>\n",
              "      <td>47129.06</td>\n",
              "      <td>34426.546</td>\n",
              "      <td>26.952615</td>\n",
              "      <td>1</td>\n",
              "    </tr>\n",
              "  </tbody>\n",
              "</table>\n",
              "<p>27889 rows × 4 columns</p>\n",
              "</div>\n",
              "      <button class=\"colab-df-convert\" onclick=\"convertToInteractive('df-f397478b-88b8-4d88-8ffd-19510b013517')\"\n",
              "              title=\"Convert this dataframe to an interactive table.\"\n",
              "              style=\"display:none;\">\n",
              "        \n",
              "  <svg xmlns=\"http://www.w3.org/2000/svg\" height=\"24px\"viewBox=\"0 0 24 24\"\n",
              "       width=\"24px\">\n",
              "    <path d=\"M0 0h24v24H0V0z\" fill=\"none\"/>\n",
              "    <path d=\"M18.56 5.44l.94 2.06.94-2.06 2.06-.94-2.06-.94-.94-2.06-.94 2.06-2.06.94zm-11 1L8.5 8.5l.94-2.06 2.06-.94-2.06-.94L8.5 2.5l-.94 2.06-2.06.94zm10 10l.94 2.06.94-2.06 2.06-.94-2.06-.94-.94-2.06-.94 2.06-2.06.94z\"/><path d=\"M17.41 7.96l-1.37-1.37c-.4-.4-.92-.59-1.43-.59-.52 0-1.04.2-1.43.59L10.3 9.45l-7.72 7.72c-.78.78-.78 2.05 0 2.83L4 21.41c.39.39.9.59 1.41.59.51 0 1.02-.2 1.41-.59l7.78-7.78 2.81-2.81c.8-.78.8-2.07 0-2.86zM5.41 20L4 18.59l7.72-7.72 1.47 1.35L5.41 20z\"/>\n",
              "  </svg>\n",
              "      </button>\n",
              "      \n",
              "  <style>\n",
              "    .colab-df-container {\n",
              "      display:flex;\n",
              "      flex-wrap:wrap;\n",
              "      gap: 12px;\n",
              "    }\n",
              "\n",
              "    .colab-df-convert {\n",
              "      background-color: #E8F0FE;\n",
              "      border: none;\n",
              "      border-radius: 50%;\n",
              "      cursor: pointer;\n",
              "      display: none;\n",
              "      fill: #1967D2;\n",
              "      height: 32px;\n",
              "      padding: 0 0 0 0;\n",
              "      width: 32px;\n",
              "    }\n",
              "\n",
              "    .colab-df-convert:hover {\n",
              "      background-color: #E2EBFA;\n",
              "      box-shadow: 0px 1px 2px rgba(60, 64, 67, 0.3), 0px 1px 3px 1px rgba(60, 64, 67, 0.15);\n",
              "      fill: #174EA6;\n",
              "    }\n",
              "\n",
              "    [theme=dark] .colab-df-convert {\n",
              "      background-color: #3B4455;\n",
              "      fill: #D2E3FC;\n",
              "    }\n",
              "\n",
              "    [theme=dark] .colab-df-convert:hover {\n",
              "      background-color: #434B5C;\n",
              "      box-shadow: 0px 1px 3px 1px rgba(0, 0, 0, 0.15);\n",
              "      filter: drop-shadow(0px 1px 2px rgba(0, 0, 0, 0.3));\n",
              "      fill: #FFFFFF;\n",
              "    }\n",
              "  </style>\n",
              "\n",
              "      <script>\n",
              "        const buttonEl =\n",
              "          document.querySelector('#df-f397478b-88b8-4d88-8ffd-19510b013517 button.colab-df-convert');\n",
              "        buttonEl.style.display =\n",
              "          google.colab.kernel.accessAllowed ? 'block' : 'none';\n",
              "\n",
              "        async function convertToInteractive(key) {\n",
              "          const element = document.querySelector('#df-f397478b-88b8-4d88-8ffd-19510b013517');\n",
              "          const dataTable =\n",
              "            await google.colab.kernel.invokeFunction('convertToInteractive',\n",
              "                                                     [key], {});\n",
              "          if (!dataTable) return;\n",
              "\n",
              "          const docLinkHtml = 'Like what you see? Visit the ' +\n",
              "            '<a target=\"_blank\" href=https://colab.research.google.com/notebooks/data_table.ipynb>data table notebook</a>'\n",
              "            + ' to learn more about interactive tables.';\n",
              "          element.innerHTML = '';\n",
              "          dataTable['output_type'] = 'display_data';\n",
              "          await google.colab.output.renderOutput(dataTable, element);\n",
              "          const docLink = document.createElement('div');\n",
              "          docLink.innerHTML = docLinkHtml;\n",
              "          element.appendChild(docLink);\n",
              "        }\n",
              "      </script>\n",
              "    </div>\n",
              "  </div>\n",
              "  "
            ]
          },
          "metadata": {}
        }
      ]
    },
    {
      "cell_type": "code",
      "source": [
        "len(performance3.query('Error<=30').index)"
      ],
      "metadata": {
        "colab": {
          "base_uri": "https://localhost:8080/"
        },
        "outputId": "83a59a5b-8906-465d-daec-678d6d4e70a1",
        "id": "5MwUoP_UOMaN"
      },
      "execution_count": 91,
      "outputs": [
        {
          "output_type": "execute_result",
          "data": {
            "text/plain": [
              "6152"
            ]
          },
          "metadata": {},
          "execution_count": 91
        }
      ]
    },
    {
      "cell_type": "code",
      "source": [
        "(len(performance3.index))"
      ],
      "metadata": {
        "colab": {
          "base_uri": "https://localhost:8080/"
        },
        "outputId": "39086455-bb59-4ff7-b2b2-7efb254028d5",
        "id": "lfDejK0MOMaN"
      },
      "execution_count": 92,
      "outputs": [
        {
          "output_type": "execute_result",
          "data": {
            "text/plain": [
              "27889"
            ]
          },
          "metadata": {},
          "execution_count": 92
        }
      ]
    },
    {
      "cell_type": "code",
      "source": [
        "#precisión calculada a través de la fórmula perteneciente a las partes de una matriz de confusión: prefición = #TruePositive / #(TruePositive + FalsePositive)\n",
        "len(performance3.query('Error<=30').index)/(len(performance3.index))"
      ],
      "metadata": {
        "colab": {
          "base_uri": "https://localhost:8080/"
        },
        "outputId": "c07668fd-2ebc-4227-b4fb-7da03710d1a1",
        "id": "61JcRORvOMaN"
      },
      "execution_count": 93,
      "outputs": [
        {
          "output_type": "execute_result",
          "data": {
            "text/plain": [
              "0.22058876259457133"
            ]
          },
          "metadata": {},
          "execution_count": 93
        }
      ]
    },
    {
      "cell_type": "markdown",
      "source": [
        "El actual valor obtenido sigue sin ser similar al obtenido por la función .score, pero a mejorado bastante, es por ello, que este ha sido el mejor modelo obtenido para KNN."
      ],
      "metadata": {
        "id": "_EAzSZh9OMaN"
      }
    },
    {
      "cell_type": "markdown",
      "source": [
        "1.   **Score**: 0.2891043446645618\n",
        "2.   **Precisión manual**: 0.21746925311054538"
      ],
      "metadata": {
        "id": "72SVDfRrPy_W"
      }
    },
    {
      "cell_type": "markdown",
      "source": [
        "### Datos festivos:"
      ],
      "metadata": {
        "id": "mQYw11CFvLXL"
      }
    },
    {
      "cell_type": "code",
      "source": [
        "#se crean arrays para las características y la variable de destino en el caso de dias no festivos.\n",
        "y_H3 = join_data_Holiday_set3[\"Weekly_Sales\"].values\n",
        "X_H3 = join_data_Holiday_set3[[\"Dept\",\"Fuel_Price\", \"CPI\", \"Unemployment\", \"MarkDowns\"]].values"
      ],
      "metadata": {
        "id": "qrpQOtZA_kbl"
      },
      "execution_count": 94,
      "outputs": []
    },
    {
      "cell_type": "code",
      "source": [
        "#se asignan de manera pseudo aleatoria los datos para llevar a cabo el entrenamiento y posterior testeo.\n",
        "X_train_H3, X_test_H3, y_train_H3, y_test_H3 = train_test_split(X_H3, y_H3, test_size= 0.2)\n",
        "\n",
        "#crea un modelo KNN con 5 \"vecinos\"\n",
        "knn_H3 = KNeighborsRegressor(n_neighbors = 5, metric= 'minkowski', p = 2)\n",
        "#entrenamos el regresor\n",
        "knn_H3.fit(X_train_H3, y_train_H3)\n"
      ],
      "metadata": {
        "colab": {
          "base_uri": "https://localhost:8080/"
        },
        "outputId": "6a4e0989-39f6-4e6d-83ee-1c1f53455a60",
        "id": "X9gMqQYz_kbm"
      },
      "execution_count": 95,
      "outputs": [
        {
          "output_type": "execute_result",
          "data": {
            "text/plain": [
              "KNeighborsRegressor()"
            ]
          },
          "metadata": {},
          "execution_count": 95
        }
      ]
    },
    {
      "cell_type": "code",
      "source": [
        "#realiza una predicción en base a los datos de testeo\n",
        "y_pred_H3 = knn_H3.predict(X_test_H3)\n",
        "#se imprime las predicciones realizadas\n",
        "print(\"Predicciones festivas del set 3: {}\".format(y_pred_H3))"
      ],
      "metadata": {
        "colab": {
          "base_uri": "https://localhost:8080/"
        },
        "outputId": "62674c96-7e89-4c2f-e9f2-3fae43c0cac6",
        "id": "AXx0l5A8_kbm"
      },
      "execution_count": 96,
      "outputs": [
        {
          "output_type": "stream",
          "name": "stdout",
          "text": [
            "Predicciones festivas del set 3: [33960.372 11965.958 15468.006 ... 15177.15  54611.652 32458.216]\n"
          ]
        }
      ]
    },
    {
      "cell_type": "code",
      "source": [
        "#se verifica la precisión con los datos de testeo\n",
        "score_knn_H3 = knn_H3.score(X_test_H3, y_test_H3)\n",
        "score_knn_H3"
      ],
      "metadata": {
        "colab": {
          "base_uri": "https://localhost:8080/"
        },
        "outputId": "ab3e7173-391f-4533-a222-6344dd5f8c22",
        "id": "UgU2CvoC_kbn"
      },
      "execution_count": 97,
      "outputs": [
        {
          "output_type": "execute_result",
          "data": {
            "text/plain": [
              "0.10118204842626966"
            ]
          },
          "metadata": {},
          "execution_count": 97
        }
      ]
    },
    {
      "cell_type": "code",
      "source": [
        "#a continuación se genera una tabla comparativa entre los datos reales y los predichos, además de su % de error.\n",
        "preds_H3 = knn_H3.predict(X_test_H3)\n",
        "\n",
        "performance_H3 = pd.DataFrame({ 'True Value': y_test_H3,\n",
        "                            'Prediction': preds_H3,\n",
        "                            'Error': (abs(preds_H3 - y_test_H3)*100)/y_test_H3})\n",
        "\n",
        "performance_H3"
      ],
      "metadata": {
        "colab": {
          "base_uri": "https://localhost:8080/",
          "height": 423
        },
        "outputId": "e598902f-f209-43bd-ee3e-8a6aedcdbf93",
        "id": "3PFsYGpc_kbn"
      },
      "execution_count": 98,
      "outputs": [
        {
          "output_type": "execute_result",
          "data": {
            "text/plain": [
              "      True Value  Prediction         Error\n",
              "0       25410.20   33960.372     33.648582\n",
              "1          72.96   11965.958  16300.709978\n",
              "2       20538.32   15468.006     24.687092\n",
              "3        6456.40    3335.556     48.337216\n",
              "4       19112.59   37753.720     97.533249\n",
              "...          ...         ...           ...\n",
              "2394     2229.19    1959.980     12.076584\n",
              "2395     2117.38   15937.066    652.678593\n",
              "2396     5136.66   15177.150    195.467288\n",
              "2397    12774.42   54611.652    327.507879\n",
              "2398     6924.50   32458.216    368.744545\n",
              "\n",
              "[2399 rows x 3 columns]"
            ],
            "text/html": [
              "\n",
              "  <div id=\"df-8680f194-6133-44ed-b879-86eb97e4bf07\">\n",
              "    <div class=\"colab-df-container\">\n",
              "      <div>\n",
              "<style scoped>\n",
              "    .dataframe tbody tr th:only-of-type {\n",
              "        vertical-align: middle;\n",
              "    }\n",
              "\n",
              "    .dataframe tbody tr th {\n",
              "        vertical-align: top;\n",
              "    }\n",
              "\n",
              "    .dataframe thead th {\n",
              "        text-align: right;\n",
              "    }\n",
              "</style>\n",
              "<table border=\"1\" class=\"dataframe\">\n",
              "  <thead>\n",
              "    <tr style=\"text-align: right;\">\n",
              "      <th></th>\n",
              "      <th>True Value</th>\n",
              "      <th>Prediction</th>\n",
              "      <th>Error</th>\n",
              "    </tr>\n",
              "  </thead>\n",
              "  <tbody>\n",
              "    <tr>\n",
              "      <th>0</th>\n",
              "      <td>25410.20</td>\n",
              "      <td>33960.372</td>\n",
              "      <td>33.648582</td>\n",
              "    </tr>\n",
              "    <tr>\n",
              "      <th>1</th>\n",
              "      <td>72.96</td>\n",
              "      <td>11965.958</td>\n",
              "      <td>16300.709978</td>\n",
              "    </tr>\n",
              "    <tr>\n",
              "      <th>2</th>\n",
              "      <td>20538.32</td>\n",
              "      <td>15468.006</td>\n",
              "      <td>24.687092</td>\n",
              "    </tr>\n",
              "    <tr>\n",
              "      <th>3</th>\n",
              "      <td>6456.40</td>\n",
              "      <td>3335.556</td>\n",
              "      <td>48.337216</td>\n",
              "    </tr>\n",
              "    <tr>\n",
              "      <th>4</th>\n",
              "      <td>19112.59</td>\n",
              "      <td>37753.720</td>\n",
              "      <td>97.533249</td>\n",
              "    </tr>\n",
              "    <tr>\n",
              "      <th>...</th>\n",
              "      <td>...</td>\n",
              "      <td>...</td>\n",
              "      <td>...</td>\n",
              "    </tr>\n",
              "    <tr>\n",
              "      <th>2394</th>\n",
              "      <td>2229.19</td>\n",
              "      <td>1959.980</td>\n",
              "      <td>12.076584</td>\n",
              "    </tr>\n",
              "    <tr>\n",
              "      <th>2395</th>\n",
              "      <td>2117.38</td>\n",
              "      <td>15937.066</td>\n",
              "      <td>652.678593</td>\n",
              "    </tr>\n",
              "    <tr>\n",
              "      <th>2396</th>\n",
              "      <td>5136.66</td>\n",
              "      <td>15177.150</td>\n",
              "      <td>195.467288</td>\n",
              "    </tr>\n",
              "    <tr>\n",
              "      <th>2397</th>\n",
              "      <td>12774.42</td>\n",
              "      <td>54611.652</td>\n",
              "      <td>327.507879</td>\n",
              "    </tr>\n",
              "    <tr>\n",
              "      <th>2398</th>\n",
              "      <td>6924.50</td>\n",
              "      <td>32458.216</td>\n",
              "      <td>368.744545</td>\n",
              "    </tr>\n",
              "  </tbody>\n",
              "</table>\n",
              "<p>2399 rows × 3 columns</p>\n",
              "</div>\n",
              "      <button class=\"colab-df-convert\" onclick=\"convertToInteractive('df-8680f194-6133-44ed-b879-86eb97e4bf07')\"\n",
              "              title=\"Convert this dataframe to an interactive table.\"\n",
              "              style=\"display:none;\">\n",
              "        \n",
              "  <svg xmlns=\"http://www.w3.org/2000/svg\" height=\"24px\"viewBox=\"0 0 24 24\"\n",
              "       width=\"24px\">\n",
              "    <path d=\"M0 0h24v24H0V0z\" fill=\"none\"/>\n",
              "    <path d=\"M18.56 5.44l.94 2.06.94-2.06 2.06-.94-2.06-.94-.94-2.06-.94 2.06-2.06.94zm-11 1L8.5 8.5l.94-2.06 2.06-.94-2.06-.94L8.5 2.5l-.94 2.06-2.06.94zm10 10l.94 2.06.94-2.06 2.06-.94-2.06-.94-.94-2.06-.94 2.06-2.06.94z\"/><path d=\"M17.41 7.96l-1.37-1.37c-.4-.4-.92-.59-1.43-.59-.52 0-1.04.2-1.43.59L10.3 9.45l-7.72 7.72c-.78.78-.78 2.05 0 2.83L4 21.41c.39.39.9.59 1.41.59.51 0 1.02-.2 1.41-.59l7.78-7.78 2.81-2.81c.8-.78.8-2.07 0-2.86zM5.41 20L4 18.59l7.72-7.72 1.47 1.35L5.41 20z\"/>\n",
              "  </svg>\n",
              "      </button>\n",
              "      \n",
              "  <style>\n",
              "    .colab-df-container {\n",
              "      display:flex;\n",
              "      flex-wrap:wrap;\n",
              "      gap: 12px;\n",
              "    }\n",
              "\n",
              "    .colab-df-convert {\n",
              "      background-color: #E8F0FE;\n",
              "      border: none;\n",
              "      border-radius: 50%;\n",
              "      cursor: pointer;\n",
              "      display: none;\n",
              "      fill: #1967D2;\n",
              "      height: 32px;\n",
              "      padding: 0 0 0 0;\n",
              "      width: 32px;\n",
              "    }\n",
              "\n",
              "    .colab-df-convert:hover {\n",
              "      background-color: #E2EBFA;\n",
              "      box-shadow: 0px 1px 2px rgba(60, 64, 67, 0.3), 0px 1px 3px 1px rgba(60, 64, 67, 0.15);\n",
              "      fill: #174EA6;\n",
              "    }\n",
              "\n",
              "    [theme=dark] .colab-df-convert {\n",
              "      background-color: #3B4455;\n",
              "      fill: #D2E3FC;\n",
              "    }\n",
              "\n",
              "    [theme=dark] .colab-df-convert:hover {\n",
              "      background-color: #434B5C;\n",
              "      box-shadow: 0px 1px 3px 1px rgba(0, 0, 0, 0.15);\n",
              "      filter: drop-shadow(0px 1px 2px rgba(0, 0, 0, 0.3));\n",
              "      fill: #FFFFFF;\n",
              "    }\n",
              "  </style>\n",
              "\n",
              "      <script>\n",
              "        const buttonEl =\n",
              "          document.querySelector('#df-8680f194-6133-44ed-b879-86eb97e4bf07 button.colab-df-convert');\n",
              "        buttonEl.style.display =\n",
              "          google.colab.kernel.accessAllowed ? 'block' : 'none';\n",
              "\n",
              "        async function convertToInteractive(key) {\n",
              "          const element = document.querySelector('#df-8680f194-6133-44ed-b879-86eb97e4bf07');\n",
              "          const dataTable =\n",
              "            await google.colab.kernel.invokeFunction('convertToInteractive',\n",
              "                                                     [key], {});\n",
              "          if (!dataTable) return;\n",
              "\n",
              "          const docLinkHtml = 'Like what you see? Visit the ' +\n",
              "            '<a target=\"_blank\" href=https://colab.research.google.com/notebooks/data_table.ipynb>data table notebook</a>'\n",
              "            + ' to learn more about interactive tables.';\n",
              "          element.innerHTML = '';\n",
              "          dataTable['output_type'] = 'display_data';\n",
              "          await google.colab.output.renderOutput(dataTable, element);\n",
              "          const docLink = document.createElement('div');\n",
              "          docLink.innerHTML = docLinkHtml;\n",
              "          element.appendChild(docLink);\n",
              "        }\n",
              "      </script>\n",
              "    </div>\n",
              "  </div>\n",
              "  "
            ]
          },
          "metadata": {},
          "execution_count": 98
        }
      ]
    },
    {
      "cell_type": "code",
      "source": [
        "plt.figure(figsize=(15,7))\n",
        "# Errores\n",
        "ax_x_H3= performance_H3['True Value']\n",
        "ax_y_H3= performance_H3['Prediction']\n",
        "yerr_H3= performance_H3['Error']\n",
        "\n",
        "plt.scatter(range(len(yerr_H3)), yerr_H3, alpha=.5)\n",
        "plt.title('Homogeneous Errors - KNN3', size=15);\n",
        "plt.hlines(y=0, xmin=0, xmax=2400 , linestyle='--', color='white', alpha=.5);"
      ],
      "metadata": {
        "colab": {
          "base_uri": "https://localhost:8080/",
          "height": 446
        },
        "outputId": "9c26c493-a75b-4a87-c416-914244d88fff",
        "id": "yLOlaXWk_kbn"
      },
      "execution_count": 99,
      "outputs": [
        {
          "output_type": "display_data",
          "data": {
            "text/plain": [
              "<Figure size 1080x504 with 1 Axes>"
            ],
            "image/png": "[encoded data removed]"
          },
          "metadata": {
            "needs_background": "light"
          }
        }
      ]
    },
    {
      "cell_type": "code",
      "source": [
        "#a continuación se verifica la precisión en base a un treshold menor al 30% de error\n",
        "performance_H3[\"acceptance_criteria\"] = 0\n",
        "performance_H3.loc[performance_H3.query('Error<=30').index ,\"acceptance_criteria\"]=1\n",
        "display(performance_H3)"
      ],
      "metadata": {
        "colab": {
          "base_uri": "https://localhost:8080/",
          "height": 423
        },
        "outputId": "57b9c3ca-a8a9-468f-f978-067be7ca6f48",
        "id": "py1cCJb1_kbo"
      },
      "execution_count": 100,
      "outputs": [
        {
          "output_type": "display_data",
          "data": {
            "text/plain": [
              "      True Value  Prediction         Error  acceptance_criteria\n",
              "0       25410.20   33960.372     33.648582                    0\n",
              "1          72.96   11965.958  16300.709978                    0\n",
              "2       20538.32   15468.006     24.687092                    1\n",
              "3        6456.40    3335.556     48.337216                    0\n",
              "4       19112.59   37753.720     97.533249                    0\n",
              "...          ...         ...           ...                  ...\n",
              "2394     2229.19    1959.980     12.076584                    1\n",
              "2395     2117.38   15937.066    652.678593                    0\n",
              "2396     5136.66   15177.150    195.467288                    0\n",
              "2397    12774.42   54611.652    327.507879                    0\n",
              "2398     6924.50   32458.216    368.744545                    0\n",
              "\n",
              "[2399 rows x 4 columns]"
            ],
            "text/html": [
              "\n",
              "  <div id=\"df-f4f28335-9392-4e62-9485-1717d9ffe0bf\">\n",
              "    <div class=\"colab-df-container\">\n",
              "      <div>\n",
              "<style scoped>\n",
              "    .dataframe tbody tr th:only-of-type {\n",
              "        vertical-align: middle;\n",
              "    }\n",
              "\n",
              "    .dataframe tbody tr th {\n",
              "        vertical-align: top;\n",
              "    }\n",
              "\n",
              "    .dataframe thead th {\n",
              "        text-align: right;\n",
              "    }\n",
              "</style>\n",
              "<table border=\"1\" class=\"dataframe\">\n",
              "  <thead>\n",
              "    <tr style=\"text-align: right;\">\n",
              "      <th></th>\n",
              "      <th>True Value</th>\n",
              "      <th>Prediction</th>\n",
              "      <th>Error</th>\n",
              "      <th>acceptance_criteria</th>\n",
              "    </tr>\n",
              "  </thead>\n",
              "  <tbody>\n",
              "    <tr>\n",
              "      <th>0</th>\n",
              "      <td>25410.20</td>\n",
              "      <td>33960.372</td>\n",
              "      <td>33.648582</td>\n",
              "      <td>0</td>\n",
              "    </tr>\n",
              "    <tr>\n",
              "      <th>1</th>\n",
              "      <td>72.96</td>\n",
              "      <td>11965.958</td>\n",
              "      <td>16300.709978</td>\n",
              "      <td>0</td>\n",
              "    </tr>\n",
              "    <tr>\n",
              "      <th>2</th>\n",
              "      <td>20538.32</td>\n",
              "      <td>15468.006</td>\n",
              "      <td>24.687092</td>\n",
              "      <td>1</td>\n",
              "    </tr>\n",
              "    <tr>\n",
              "      <th>3</th>\n",
              "      <td>6456.40</td>\n",
              "      <td>3335.556</td>\n",
              "      <td>48.337216</td>\n",
              "      <td>0</td>\n",
              "    </tr>\n",
              "    <tr>\n",
              "      <th>4</th>\n",
              "      <td>19112.59</td>\n",
              "      <td>37753.720</td>\n",
              "      <td>97.533249</td>\n",
              "      <td>0</td>\n",
              "    </tr>\n",
              "    <tr>\n",
              "      <th>...</th>\n",
              "      <td>...</td>\n",
              "      <td>...</td>\n",
              "      <td>...</td>\n",
              "      <td>...</td>\n",
              "    </tr>\n",
              "    <tr>\n",
              "      <th>2394</th>\n",
              "      <td>2229.19</td>\n",
              "      <td>1959.980</td>\n",
              "      <td>12.076584</td>\n",
              "      <td>1</td>\n",
              "    </tr>\n",
              "    <tr>\n",
              "      <th>2395</th>\n",
              "      <td>2117.38</td>\n",
              "      <td>15937.066</td>\n",
              "      <td>652.678593</td>\n",
              "      <td>0</td>\n",
              "    </tr>\n",
              "    <tr>\n",
              "      <th>2396</th>\n",
              "      <td>5136.66</td>\n",
              "      <td>15177.150</td>\n",
              "      <td>195.467288</td>\n",
              "      <td>0</td>\n",
              "    </tr>\n",
              "    <tr>\n",
              "      <th>2397</th>\n",
              "      <td>12774.42</td>\n",
              "      <td>54611.652</td>\n",
              "      <td>327.507879</td>\n",
              "      <td>0</td>\n",
              "    </tr>\n",
              "    <tr>\n",
              "      <th>2398</th>\n",
              "      <td>6924.50</td>\n",
              "      <td>32458.216</td>\n",
              "      <td>368.744545</td>\n",
              "      <td>0</td>\n",
              "    </tr>\n",
              "  </tbody>\n",
              "</table>\n",
              "<p>2399 rows × 4 columns</p>\n",
              "</div>\n",
              "      <button class=\"colab-df-convert\" onclick=\"convertToInteractive('df-f4f28335-9392-4e62-9485-1717d9ffe0bf')\"\n",
              "              title=\"Convert this dataframe to an interactive table.\"\n",
              "              style=\"display:none;\">\n",
              "        \n",
              "  <svg xmlns=\"http://www.w3.org/2000/svg\" height=\"24px\"viewBox=\"0 0 24 24\"\n",
              "       width=\"24px\">\n",
              "    <path d=\"M0 0h24v24H0V0z\" fill=\"none\"/>\n",
              "    <path d=\"M18.56 5.44l.94 2.06.94-2.06 2.06-.94-2.06-.94-.94-2.06-.94 2.06-2.06.94zm-11 1L8.5 8.5l.94-2.06 2.06-.94-2.06-.94L8.5 2.5l-.94 2.06-2.06.94zm10 10l.94 2.06.94-2.06 2.06-.94-2.06-.94-.94-2.06-.94 2.06-2.06.94z\"/><path d=\"M17.41 7.96l-1.37-1.37c-.4-.4-.92-.59-1.43-.59-.52 0-1.04.2-1.43.59L10.3 9.45l-7.72 7.72c-.78.78-.78 2.05 0 2.83L4 21.41c.39.39.9.59 1.41.59.51 0 1.02-.2 1.41-.59l7.78-7.78 2.81-2.81c.8-.78.8-2.07 0-2.86zM5.41 20L4 18.59l7.72-7.72 1.47 1.35L5.41 20z\"/>\n",
              "  </svg>\n",
              "      </button>\n",
              "      \n",
              "  <style>\n",
              "    .colab-df-container {\n",
              "      display:flex;\n",
              "      flex-wrap:wrap;\n",
              "      gap: 12px;\n",
              "    }\n",
              "\n",
              "    .colab-df-convert {\n",
              "      background-color: #E8F0FE;\n",
              "      border: none;\n",
              "      border-radius: 50%;\n",
              "      cursor: pointer;\n",
              "      display: none;\n",
              "      fill: #1967D2;\n",
              "      height: 32px;\n",
              "      padding: 0 0 0 0;\n",
              "      width: 32px;\n",
              "    }\n",
              "\n",
              "    .colab-df-convert:hover {\n",
              "      background-color: #E2EBFA;\n",
              "      box-shadow: 0px 1px 2px rgba(60, 64, 67, 0.3), 0px 1px 3px 1px rgba(60, 64, 67, 0.15);\n",
              "      fill: #174EA6;\n",
              "    }\n",
              "\n",
              "    [theme=dark] .colab-df-convert {\n",
              "      background-color: #3B4455;\n",
              "      fill: #D2E3FC;\n",
              "    }\n",
              "\n",
              "    [theme=dark] .colab-df-convert:hover {\n",
              "      background-color: #434B5C;\n",
              "      box-shadow: 0px 1px 3px 1px rgba(0, 0, 0, 0.15);\n",
              "      filter: drop-shadow(0px 1px 2px rgba(0, 0, 0, 0.3));\n",
              "      fill: #FFFFFF;\n",
              "    }\n",
              "  </style>\n",
              "\n",
              "      <script>\n",
              "        const buttonEl =\n",
              "          document.querySelector('#df-f4f28335-9392-4e62-9485-1717d9ffe0bf button.colab-df-convert');\n",
              "        buttonEl.style.display =\n",
              "          google.colab.kernel.accessAllowed ? 'block' : 'none';\n",
              "\n",
              "        async function convertToInteractive(key) {\n",
              "          const element = document.querySelector('#df-f4f28335-9392-4e62-9485-1717d9ffe0bf');\n",
              "          const dataTable =\n",
              "            await google.colab.kernel.invokeFunction('convertToInteractive',\n",
              "                                                     [key], {});\n",
              "          if (!dataTable) return;\n",
              "\n",
              "          const docLinkHtml = 'Like what you see? Visit the ' +\n",
              "            '<a target=\"_blank\" href=https://colab.research.google.com/notebooks/data_table.ipynb>data table notebook</a>'\n",
              "            + ' to learn more about interactive tables.';\n",
              "          element.innerHTML = '';\n",
              "          dataTable['output_type'] = 'display_data';\n",
              "          await google.colab.output.renderOutput(dataTable, element);\n",
              "          const docLink = document.createElement('div');\n",
              "          docLink.innerHTML = docLinkHtml;\n",
              "          element.appendChild(docLink);\n",
              "        }\n",
              "      </script>\n",
              "    </div>\n",
              "  </div>\n",
              "  "
            ]
          },
          "metadata": {}
        }
      ]
    },
    {
      "cell_type": "code",
      "source": [
        "len(performance_H3.query('Error<=30').index)"
      ],
      "metadata": {
        "colab": {
          "base_uri": "https://localhost:8080/"
        },
        "outputId": "ab0d6be1-dc3d-4f22-d0dc-fa33b20246ce",
        "id": "-U8mJRVw_kbo"
      },
      "execution_count": 101,
      "outputs": [
        {
          "output_type": "execute_result",
          "data": {
            "text/plain": [
              "447"
            ]
          },
          "metadata": {},
          "execution_count": 101
        }
      ]
    },
    {
      "cell_type": "code",
      "source": [
        "(len(performance_H3.index))"
      ],
      "metadata": {
        "colab": {
          "base_uri": "https://localhost:8080/"
        },
        "outputId": "8d252606-950b-4c7e-9bb7-e9f84fb8e49b",
        "id": "7t3DS9Ql_kbo"
      },
      "execution_count": 102,
      "outputs": [
        {
          "output_type": "execute_result",
          "data": {
            "text/plain": [
              "2399"
            ]
          },
          "metadata": {},
          "execution_count": 102
        }
      ]
    },
    {
      "cell_type": "code",
      "source": [
        "#precisión calculada a través de la fórmula perteneciente a las partes de una matriz de confusión: prefición = #TruePositive / #(TruePositive + FalsePositive)\n",
        "len(performance_H3.query('Error<=30').index)/(len(performance_H3.index))"
      ],
      "metadata": {
        "colab": {
          "base_uri": "https://localhost:8080/"
        },
        "outputId": "f9a31ecb-8999-4d28-9619-48bf5e699a8e",
        "id": "3gVmJ5I5_kbo"
      },
      "execution_count": 103,
      "outputs": [
        {
          "output_type": "execute_result",
          "data": {
            "text/plain": [
              "0.18632763651521467"
            ]
          },
          "metadata": {},
          "execution_count": 103
        }
      ]
    },
    {
      "cell_type": "markdown",
      "source": [
        "El valor obtenido sigue sin ser similar al obtenido por la función .score, pero este a mejorado bastante, es por ello, que este ha sido el mejor modelo obtenido para KNN con los siguientes datos."
      ],
      "metadata": {
        "id": "SjBCrMX3_kbp"
      }
    },
    {
      "cell_type": "markdown",
      "source": [
        "1.   **Score**: 0.15406018673024635\n",
        "2.   **Precisión manual**: 0.2113380575239683"
      ],
      "metadata": {
        "id": "G-SH_AGz_kbp"
      }
    },
    {
      "cell_type": "markdown",
      "source": [
        "Finalmente se decide hacer uso del set 3 de KNN para llevar a cabo la predicción con los datos de la Tabla1, dado a que el set 3 posee (a pesar de ser baja) una mayor presición que el resto de set's creados."
      ],
      "metadata": {
        "id": "6pemcz1gBVBr"
      }
    },
    {
      "cell_type": "markdown",
      "source": [
        "## Tabla1"
      ],
      "metadata": {
        "id": "9eBDbwDIDR6A"
      }
    },
    {
      "cell_type": "markdown",
      "source": [
        "### Procesamiento de datos"
      ],
      "metadata": {
        "id": "SrtXMlWoEYVS"
      }
    },
    {
      "cell_type": "markdown",
      "source": [
        "Primero se procesarán los datos de la tabla 1 para que queden acorde al funcionamiento del modelo KNN del set 3."
      ],
      "metadata": {
        "id": "SyTI_HTGEu_v"
      }
    },
    {
      "cell_type": "code",
      "source": [
        "Tabla_1['MarkDowns'] = Tabla_1[['MarkDown1', 'MarkDown2','MarkDown3','MarkDown4','MarkDown5']].mean(axis=1)\n",
        "Tabla_1"
      ],
      "metadata": {
        "colab": {
          "base_uri": "https://localhost:8080/",
          "height": 1000
        },
        "outputId": "92c4fe17-3483-41d1-9151-a90503cc03be",
        "id": "mXFF3t0NEoh8"
      },
      "execution_count": 104,
      "outputs": [
        {
          "output_type": "execute_result",
          "data": {
            "text/plain": [
              "    Unnamed: 0  Store  Dept        Date   Weekly_Sales  IsHoliday_x  \\\n",
              "0            0      5    16  16/09/2011  564312.734549        False   \n",
              "1            1     21    52  24/06/2011  169199.146654        False   \n",
              "2            2      9    24  27/01/2012   76445.807545        False   \n",
              "3            3      6    60  05/08/2011  529384.632399        False   \n",
              "4            4     17    42  23/12/2011  590421.125970        False   \n",
              "5            5     31    87  24/08/2012  556894.615504        False   \n",
              "6            6     21    83  19/03/2010  682722.852234        False   \n",
              "7            7      4    29  30/09/2011   70387.018913        False   \n",
              "8            8     20    16  24/12/2010  326232.854841        False   \n",
              "9            9     22    46  27/05/2011  436981.323825        False   \n",
              "10          10      3    10  01/06/2012  262010.005704        False   \n",
              "11          11     40    52  30/09/2011  244885.308147        False   \n",
              "12          12     15    67  04/02/2011  597439.476292        False   \n",
              "13          13     41     6  21/01/2011   21762.861684        False   \n",
              "14          14      7    11  26/10/2012  243937.781590        False   \n",
              "15          15     35    16  30/03/2012  219614.970611        False   \n",
              "16          16     37    60  11/11/2011  431847.309472        False   \n",
              "17          17     41    17  03/02/2012  154808.001476        False   \n",
              "18          18     34    85  11/11/2011  433842.256150        False   \n",
              "19          19     23    18  05/10/2012  160021.579843        False   \n",
              "20          20     44    95  10/06/2011  209307.539122        False   \n",
              "21          21     27    50  10/02/2012  625880.623167         True   \n",
              "22          22     37    12  26/03/2010  573752.531842        False   \n",
              "23          23     26     4  27/01/2012  157487.926303        False   \n",
              "24          24     38     3  23/12/2011  111586.263927        False   \n",
              "25          25     29    93  13/07/2012  579914.681875        False   \n",
              "26          26     29    97  06/01/2012   54620.024555        False   \n",
              "27          27     31    67  23/04/2010  231845.276554        False   \n",
              "28          28     11    98  30/04/2010  154893.144937        False   \n",
              "29          29     10    28  14/05/2010  180546.910106        False   \n",
              "30          30     41    10  16/12/2011   11877.665598        False   \n",
              "31          31     28     2  18/05/2012  496273.415525        False   \n",
              "32          32     18    27  24/12/2010  115095.817358        False   \n",
              "33          33     23    59  28/10/2011  244965.215954        False   \n",
              "34          34     23    93  19/10/2012  151738.075188        False   \n",
              "35          35     11    21  13/05/2011  466532.866774        False   \n",
              "36          36     26    55  28/09/2012  558490.605774        False   \n",
              "37          37     34    26  14/01/2011  205409.740709        False   \n",
              "38          38      6    28  12/08/2011  138892.705488        False   \n",
              "39          39      3    11  27/07/2012   40542.176288        False   \n",
              "40          40     29    58  20/08/2010  463575.497373        False   \n",
              "41          41     38    33  18/02/2011  196851.093025        False   \n",
              "42          42     25     2  16/09/2011  112670.307851        False   \n",
              "43          43     13    42  25/02/2011  298515.039013        False   \n",
              "44          44     18    29  01/04/2011  133058.443310        False   \n",
              "45          45     36    18  14/01/2011  501732.033675        False   \n",
              "46          46      8    52  16/12/2011  511344.300626        False   \n",
              "47          47      4    17  01/07/2011  658657.978555        False   \n",
              "48          48      7    35  28/01/2011  177237.663564        False   \n",
              "49          49     45    97  21/05/2010  457611.075096        False   \n",
              "\n",
              "    Temperature  Fuel_Price     MarkDown1     MarkDown2     MarkDown3  \\\n",
              "0     32.687061       3.526   9691.276227    464.157260  21484.678945   \n",
              "1     59.608361       3.594  35052.144316  33433.615110  23406.818748   \n",
              "2     16.623822       3.290  13763.521756  33784.341040  26138.012756   \n",
              "3     36.466380       3.684   7446.306499   2438.613334   5175.440486   \n",
              "4     92.396503       3.186   2679.329519   9565.582845  23651.312194   \n",
              "5     43.412585       3.620  74319.059467  37408.818862  18482.402292   \n",
              "6     52.963927       2.720  78985.685314  31341.343607  12708.044607   \n",
              "7     74.145519       3.371   9436.763466  41393.898678  29216.144403   \n",
              "8     26.041172       3.141   3564.696521   5771.074248  18289.236301   \n",
              "9     28.162576       4.034  85035.636423   4078.768416  20681.908333   \n",
              "10    87.287100       3.501  68165.438344  32955.483257  25386.696655   \n",
              "11    32.901161       3.684  86637.610910  24985.340923   5546.808829   \n",
              "12    13.863387       3.400  48607.327856  21140.521825  17080.642989   \n",
              "13    82.433748       2.973  44492.831319   9563.584851  10231.515780   \n",
              "14    18.991381       3.686  68768.551238  17959.738011   8206.829970   \n",
              "15    47.289898       3.953  51608.465583   6167.144619   9596.958459   \n",
              "16    40.998177       3.297   4514.646305   2850.799142    980.794296   \n",
              "17    78.219679       3.031  54748.628892  47044.143155  32531.315422   \n",
              "18    26.881639       3.286  16472.971548  37664.435393  11569.390116   \n",
              "19    26.845899       4.027    166.671403  13363.153640  24629.672144   \n",
              "20    94.118798       3.732  81088.136541  14674.109508  13953.388248   \n",
              "21    99.921138       3.826  52703.320986  27782.877055   7370.027365   \n",
              "22    37.803007       2.732  17141.690092  30143.196551  21257.459041   \n",
              "23     0.002665       3.568  67435.079172   2518.438021  23840.184049   \n",
              "24    79.670915       3.541  14073.469858  25746.538454  28457.231729   \n",
              "25    34.904169       3.561  78434.314461  15361.617666  33303.161397   \n",
              "26    98.120004       3.439  14630.185589  20479.471637  24777.445588   \n",
              "27    98.774804       2.795  24514.662087  32799.882668  23322.991193   \n",
              "28    97.157213       2.780  26731.304903   1195.350178  15649.022800   \n",
              "29    74.121840       3.145  55203.851782  46391.259418  19547.936623   \n",
              "30    90.401020       3.266  65440.658718  22937.953981   9300.833762   \n",
              "31    71.976634       4.110  28177.434972  34013.197245   3464.379456   \n",
              "32    57.922620       3.150  57359.317721  17672.732537  33821.890732   \n",
              "33    27.618366       3.604  55849.639115  42876.515899  25835.966048   \n",
              "34     0.345076       4.000  66683.927343  29009.093228  13221.169667   \n",
              "35     2.730256       3.899  26067.158688  13208.016173  32668.769799   \n",
              "36    93.180058       4.018  75843.454194  37646.026619  29973.329878   \n",
              "37    65.538864       2.992  80628.805487  45837.080760   5966.305668   \n",
              "38    80.894845       3.638  87378.773990   2178.644478  33315.422349   \n",
              "39    85.106935       3.407  20044.793851   5683.043138  34202.989018   \n",
              "40     1.941136       2.796   5487.438185  19044.614240  16409.260943   \n",
              "41    98.616371       3.430  52179.637385  46299.677803  16560.625658   \n",
              "42    28.589517       3.742  82449.554572   1153.834227    267.811078   \n",
              "43    53.346024       3.120  72799.491167  32452.527142  13017.939528   \n",
              "44    -0.149522       3.638  85174.172089  48036.630231   8065.173014   \n",
              "45    82.970891       2.971  18841.790177    488.964383    233.535025   \n",
              "46    36.136754       3.159  72292.901308  15653.710066  32585.588262   \n",
              "47    85.333454       3.504  59798.190056   3377.202496  31290.463833   \n",
              "48    92.484757       3.008  71416.875576  34844.951798   8750.521834   \n",
              "49     5.215949       2.958  61143.993935  49082.388558  29321.515440   \n",
              "\n",
              "       MarkDown4     MarkDown5         CPI  Unemployment  IsHoliday_y  \\\n",
              "0   15838.706634  10074.683942  216.603308         6.529        False   \n",
              "1   10586.568174  18348.012177  214.744111         7.931        False   \n",
              "2   21585.291347   1582.360568  223.806053         5.667        False   \n",
              "3   10227.979090   8692.253401  217.083989         6.925        False   \n",
              "4   12981.884477  10443.878610  129.984548         6.617        False   \n",
              "5   20620.695196   3846.379089  221.808352         6.565        False   \n",
              "6    5875.072096    688.137256  210.873332         8.324        False   \n",
              "7   15784.237223   7165.225061  129.606067         5.644        False   \n",
              "8    4481.732712    405.051798  204.637673         7.484        False   \n",
              "9    3242.237108  12731.765498  138.678283         8.252        False   \n",
              "10  16291.554344  17766.078476  225.251831         6.664        False   \n",
              "11    348.902159  12148.381610  136.419500         4.584        False   \n",
              "12   1109.902447  17680.890372  133.183419         7.771        False   \n",
              "13   4841.751133   2060.544355  191.573192         7.241        False   \n",
              "14  12533.552172  10992.028807  199.219532         7.557        False   \n",
              "15  19047.399146  12542.075325  141.699086         8.744        False   \n",
              "16   9873.050902  16663.598006  216.721737         7.716        False   \n",
              "17   4190.329120   4041.800039  196.872892         6.589        False   \n",
              "18  15048.630322  21057.475019  129.816710        10.148        False   \n",
              "19  10126.405370   5018.466604  138.825600         4.145        False   \n",
              "20   9197.663242  19270.023485  129.035710         6.906        False   \n",
              "21  13106.300265  13728.596912  141.119983         8.009         True   \n",
              "22   9666.240429  13644.232916  209.787093         8.554        False   \n",
              "23   2921.949577   7184.037531  136.959839         7.467        False   \n",
              "24   8654.210020   7492.003226  129.984548        12.890        False   \n",
              "25    857.291575   2623.034367  138.263000         9.419        False   \n",
              "26  12391.517637   8830.810795  136.698129         8.988        False   \n",
              "27   1922.123283  11962.469723  210.100065         8.200        False   \n",
              "28   9573.876685  13488.984475  213.671682         7.343        False   \n",
              "29   9635.510974  17262.441312  126.208548         9.524        False   \n",
              "30  12708.415250  18680.639943  195.984169         6.759        False   \n",
              "31   6613.514886  12221.384121  131.098323        11.627        False   \n",
              "32  21817.820253   4445.227127  132.747742         9.331        False   \n",
              "33  15912.359567  17886.549820  136.488452         4.420        False   \n",
              "34  11339.533544  13433.493131  138.833613         4.145        False   \n",
              "35  11602.499765  15649.014713  219.368356         7.574        False   \n",
              "36  21698.722452   5906.404336  138.739500         7.405        False   \n",
              "37  16796.632241   3043.342973  127.300935        10.398        False   \n",
              "38   5407.039920   2625.128936  217.143828         6.925        False   \n",
              "39   2847.867501  19341.483682  225.453758         6.334        False   \n",
              "40  15540.983756  16906.743927  132.661613        10.409        False   \n",
              "41   2607.964812  20808.212431  127.995250        14.021        False   \n",
              "42  18222.735129  15431.234597  209.189389         7.274        False   \n",
              "43   1886.821038  11109.459451  128.130000         7.470        False   \n",
              "44  20704.198015   2978.701121  134.068258         8.975        False   \n",
              "45   8580.229801   1383.827162  210.237973         8.395        False   \n",
              "46  11357.537119  19097.818311  222.691096         6.123        False   \n",
              "47  13699.070322  10272.478417  129.089400         5.644        False   \n",
              "48   1343.330396   6494.481788  191.667891         8.818        False   \n",
              "49  21489.280516  17027.668492  181.853849         8.899        False   \n",
              "\n",
              "       MarkDowns  \n",
              "0   11510.700602  \n",
              "1   24165.431705  \n",
              "2   19370.705493  \n",
              "3    6796.118562  \n",
              "4   11864.397529  \n",
              "5   30935.470981  \n",
              "6   25919.656576  \n",
              "7   20599.253766  \n",
              "8    6502.358316  \n",
              "9   25154.063156  \n",
              "10  32113.050215  \n",
              "11  25933.408886  \n",
              "12  21123.857098  \n",
              "13  14238.045488  \n",
              "14  23692.140040  \n",
              "15  19792.408626  \n",
              "16   6976.577730  \n",
              "17  28511.243326  \n",
              "18  20362.580480  \n",
              "19  10660.873832  \n",
              "20  27636.664205  \n",
              "21  22938.224516  \n",
              "22  18370.563806  \n",
              "23  20779.937670  \n",
              "24  16884.690657  \n",
              "25  26115.883893  \n",
              "26  16221.886249  \n",
              "27  18904.425791  \n",
              "28  13327.707808  \n",
              "29  29608.200022  \n",
              "30  25813.700331  \n",
              "31  16897.982136  \n",
              "32  27023.397674  \n",
              "33  31672.206090  \n",
              "34  26737.443383  \n",
              "35  19839.091827  \n",
              "36  34213.587496  \n",
              "37  30454.433426  \n",
              "38  26181.001934  \n",
              "39  16424.035438  \n",
              "40  14677.808210  \n",
              "41  27691.223618  \n",
              "42  23505.033921  \n",
              "43  26253.247665  \n",
              "44  32991.774894  \n",
              "45   5905.669310  \n",
              "46  30197.511013  \n",
              "47  23687.481025  \n",
              "48  24570.032278  \n",
              "49  35612.969388  "
            ],
            "text/html": [
              "\n",
              "  <div id=\"df-1e7ce5e8-6ec7-44c4-98ec-2ac2c0dfd6db\">\n",
              "    <div class=\"colab-df-container\">\n",
              "      <div>\n",
              "<style scoped>\n",
              "    .dataframe tbody tr th:only-of-type {\n",
              "        vertical-align: middle;\n",
              "    }\n",
              "\n",
              "    .dataframe tbody tr th {\n",
              "        vertical-align: top;\n",
              "    }\n",
              "\n",
              "    .dataframe thead th {\n",
              "        text-align: right;\n",
              "    }\n",
              "</style>\n",
              "<table border=\"1\" class=\"dataframe\">\n",
              "  <thead>\n",
              "    <tr style=\"text-align: right;\">\n",
              "      <th></th>\n",
              "      <th>Unnamed: 0</th>\n",
              "      <th>Store</th>\n",
              "      <th>Dept</th>\n",
              "      <th>Date</th>\n",
              "      <th>Weekly_Sales</th>\n",
              "      <th>IsHoliday_x</th>\n",
              "      <th>Temperature</th>\n",
              "      <th>Fuel_Price</th>\n",
              "      <th>MarkDown1</th>\n",
              "      <th>MarkDown2</th>\n",
              "      <th>MarkDown3</th>\n",
              "      <th>MarkDown4</th>\n",
              "      <th>MarkDown5</th>\n",
              "      <th>CPI</th>\n",
              "      <th>Unemployment</th>\n",
              "      <th>IsHoliday_y</th>\n",
              "      <th>MarkDowns</th>\n",
              "    </tr>\n",
              "  </thead>\n",
              "  <tbody>\n",
              "    <tr>\n",
              "      <th>0</th>\n",
              "      <td>0</td>\n",
              "      <td>5</td>\n",
              "      <td>16</td>\n",
              "      <td>16/09/2011</td>\n",
              "      <td>564312.734549</td>\n",
              "      <td>False</td>\n",
              "      <td>32.687061</td>\n",
              "      <td>3.526</td>\n",
              "      <td>9691.276227</td>\n",
              "      <td>464.157260</td>\n",
              "      <td>21484.678945</td>\n",
              "      <td>15838.706634</td>\n",
              "      <td>10074.683942</td>\n",
              "      <td>216.603308</td>\n",
              "      <td>6.529</td>\n",
              "      <td>False</td>\n",
              "      <td>11510.700602</td>\n",
              "    </tr>\n",
              "    <tr>\n",
              "      <th>1</th>\n",
              "      <td>1</td>\n",
              "      <td>21</td>\n",
              "      <td>52</td>\n",
              "      <td>24/06/2011</td>\n",
              "      <td>169199.146654</td>\n",
              "      <td>False</td>\n",
              "      <td>59.608361</td>\n",
              "      <td>3.594</td>\n",
              "      <td>35052.144316</td>\n",
              "      <td>33433.615110</td>\n",
              "      <td>23406.818748</td>\n",
              "      <td>10586.568174</td>\n",
              "      <td>18348.012177</td>\n",
              "      <td>214.744111</td>\n",
              "      <td>7.931</td>\n",
              "      <td>False</td>\n",
              "      <td>24165.431705</td>\n",
              "    </tr>\n",
              "    <tr>\n",
              "      <th>2</th>\n",
              "      <td>2</td>\n",
              "      <td>9</td>\n",
              "      <td>24</td>\n",
              "      <td>27/01/2012</td>\n",
              "      <td>76445.807545</td>\n",
              "      <td>False</td>\n",
              "      <td>16.623822</td>\n",
              "      <td>3.290</td>\n",
              "      <td>13763.521756</td>\n",
              "      <td>33784.341040</td>\n",
              "      <td>26138.012756</td>\n",
              "      <td>21585.291347</td>\n",
              "      <td>1582.360568</td>\n",
              "      <td>223.806053</td>\n",
              "      <td>5.667</td>\n",
              "      <td>False</td>\n",
              "      <td>19370.705493</td>\n",
              "    </tr>\n",
              "    <tr>\n",
              "      <th>3</th>\n",
              "      <td>3</td>\n",
              "      <td>6</td>\n",
              "      <td>60</td>\n",
              "      <td>05/08/2011</td>\n",
              "      <td>529384.632399</td>\n",
              "      <td>False</td>\n",
              "      <td>36.466380</td>\n",
              "      <td>3.684</td>\n",
              "      <td>7446.306499</td>\n",
              "      <td>2438.613334</td>\n",
              "      <td>5175.440486</td>\n",
              "      <td>10227.979090</td>\n",
              "      <td>8692.253401</td>\n",
              "      <td>217.083989</td>\n",
              "      <td>6.925</td>\n",
              "      <td>False</td>\n",
              "      <td>6796.118562</td>\n",
              "    </tr>\n",
              "    <tr>\n",
              "      <th>4</th>\n",
              "      <td>4</td>\n",
              "      <td>17</td>\n",
              "      <td>42</td>\n",
              "      <td>23/12/2011</td>\n",
              "      <td>590421.125970</td>\n",
              "      <td>False</td>\n",
              "      <td>92.396503</td>\n",
              "      <td>3.186</td>\n",
              "      <td>2679.329519</td>\n",
              "      <td>9565.582845</td>\n",
              "      <td>23651.312194</td>\n",
              "      <td>12981.884477</td>\n",
              "      <td>10443.878610</td>\n",
              "      <td>129.984548</td>\n",
              "      <td>6.617</td>\n",
              "      <td>False</td>\n",
              "      <td>11864.397529</td>\n",
              "    </tr>\n",
              "    <tr>\n",
              "      <th>5</th>\n",
              "      <td>5</td>\n",
              "      <td>31</td>\n",
              "      <td>87</td>\n",
              "      <td>24/08/2012</td>\n",
              "      <td>556894.615504</td>\n",
              "      <td>False</td>\n",
              "      <td>43.412585</td>\n",
              "      <td>3.620</td>\n",
              "      <td>74319.059467</td>\n",
              "      <td>37408.818862</td>\n",
              "      <td>18482.402292</td>\n",
              "      <td>20620.695196</td>\n",
              "      <td>3846.379089</td>\n",
              "      <td>221.808352</td>\n",
              "      <td>6.565</td>\n",
              "      <td>False</td>\n",
              "      <td>30935.470981</td>\n",
              "    </tr>\n",
              "    <tr>\n",
              "      <th>6</th>\n",
              "      <td>6</td>\n",
              "      <td>21</td>\n",
              "      <td>83</td>\n",
              "      <td>19/03/2010</td>\n",
              "      <td>682722.852234</td>\n",
              "      <td>False</td>\n",
              "      <td>52.963927</td>\n",
              "      <td>2.720</td>\n",
              "      <td>78985.685314</td>\n",
              "      <td>31341.343607</td>\n",
              "      <td>12708.044607</td>\n",
              "      <td>5875.072096</td>\n",
              "      <td>688.137256</td>\n",
              "      <td>210.873332</td>\n",
              "      <td>8.324</td>\n",
              "      <td>False</td>\n",
              "      <td>25919.656576</td>\n",
              "    </tr>\n",
              "    <tr>\n",
              "      <th>7</th>\n",
              "      <td>7</td>\n",
              "      <td>4</td>\n",
              "      <td>29</td>\n",
              "      <td>30/09/2011</td>\n",
              "      <td>70387.018913</td>\n",
              "      <td>False</td>\n",
              "      <td>74.145519</td>\n",
              "      <td>3.371</td>\n",
              "      <td>9436.763466</td>\n",
              "      <td>41393.898678</td>\n",
              "      <td>29216.144403</td>\n",
              "      <td>15784.237223</td>\n",
              "      <td>7165.225061</td>\n",
              "      <td>129.606067</td>\n",
              "      <td>5.644</td>\n",
              "      <td>False</td>\n",
              "      <td>20599.253766</td>\n",
              "    </tr>\n",
              "    <tr>\n",
              "      <th>8</th>\n",
              "      <td>8</td>\n",
              "      <td>20</td>\n",
              "      <td>16</td>\n",
              "      <td>24/12/2010</td>\n",
              "      <td>326232.854841</td>\n",
              "      <td>False</td>\n",
              "      <td>26.041172</td>\n",
              "      <td>3.141</td>\n",
              "      <td>3564.696521</td>\n",
              "      <td>5771.074248</td>\n",
              "      <td>18289.236301</td>\n",
              "      <td>4481.732712</td>\n",
              "      <td>405.051798</td>\n",
              "      <td>204.637673</td>\n",
              "      <td>7.484</td>\n",
              "      <td>False</td>\n",
              "      <td>6502.358316</td>\n",
              "    </tr>\n",
              "    <tr>\n",
              "      <th>9</th>\n",
              "      <td>9</td>\n",
              "      <td>22</td>\n",
              "      <td>46</td>\n",
              "      <td>27/05/2011</td>\n",
              "      <td>436981.323825</td>\n",
              "      <td>False</td>\n",
              "      <td>28.162576</td>\n",
              "      <td>4.034</td>\n",
              "      <td>85035.636423</td>\n",
              "      <td>4078.768416</td>\n",
              "      <td>20681.908333</td>\n",
              "      <td>3242.237108</td>\n",
              "      <td>12731.765498</td>\n",
              "      <td>138.678283</td>\n",
              "      <td>8.252</td>\n",
              "      <td>False</td>\n",
              "      <td>25154.063156</td>\n",
              "    </tr>\n",
              "    <tr>\n",
              "      <th>10</th>\n",
              "      <td>10</td>\n",
              "      <td>3</td>\n",
              "      <td>10</td>\n",
              "      <td>01/06/2012</td>\n",
              "      <td>262010.005704</td>\n",
              "      <td>False</td>\n",
              "      <td>87.287100</td>\n",
              "      <td>3.501</td>\n",
              "      <td>68165.438344</td>\n",
              "      <td>32955.483257</td>\n",
              "      <td>25386.696655</td>\n",
              "      <td>16291.554344</td>\n",
              "      <td>17766.078476</td>\n",
              "      <td>225.251831</td>\n",
              "      <td>6.664</td>\n",
              "      <td>False</td>\n",
              "      <td>32113.050215</td>\n",
              "    </tr>\n",
              "    <tr>\n",
              "      <th>11</th>\n",
              "      <td>11</td>\n",
              "      <td>40</td>\n",
              "      <td>52</td>\n",
              "      <td>30/09/2011</td>\n",
              "      <td>244885.308147</td>\n",
              "      <td>False</td>\n",
              "      <td>32.901161</td>\n",
              "      <td>3.684</td>\n",
              "      <td>86637.610910</td>\n",
              "      <td>24985.340923</td>\n",
              "      <td>5546.808829</td>\n",
              "      <td>348.902159</td>\n",
              "      <td>12148.381610</td>\n",
              "      <td>136.419500</td>\n",
              "      <td>4.584</td>\n",
              "      <td>False</td>\n",
              "      <td>25933.408886</td>\n",
              "    </tr>\n",
              "    <tr>\n",
              "      <th>12</th>\n",
              "      <td>12</td>\n",
              "      <td>15</td>\n",
              "      <td>67</td>\n",
              "      <td>04/02/2011</td>\n",
              "      <td>597439.476292</td>\n",
              "      <td>False</td>\n",
              "      <td>13.863387</td>\n",
              "      <td>3.400</td>\n",
              "      <td>48607.327856</td>\n",
              "      <td>21140.521825</td>\n",
              "      <td>17080.642989</td>\n",
              "      <td>1109.902447</td>\n",
              "      <td>17680.890372</td>\n",
              "      <td>133.183419</td>\n",
              "      <td>7.771</td>\n",
              "      <td>False</td>\n",
              "      <td>21123.857098</td>\n",
              "    </tr>\n",
              "    <tr>\n",
              "      <th>13</th>\n",
              "      <td>13</td>\n",
              "      <td>41</td>\n",
              "      <td>6</td>\n",
              "      <td>21/01/2011</td>\n",
              "      <td>21762.861684</td>\n",
              "      <td>False</td>\n",
              "      <td>82.433748</td>\n",
              "      <td>2.973</td>\n",
              "      <td>44492.831319</td>\n",
              "      <td>9563.584851</td>\n",
              "      <td>10231.515780</td>\n",
              "      <td>4841.751133</td>\n",
              "      <td>2060.544355</td>\n",
              "      <td>191.573192</td>\n",
              "      <td>7.241</td>\n",
              "      <td>False</td>\n",
              "      <td>14238.045488</td>\n",
              "    </tr>\n",
              "    <tr>\n",
              "      <th>14</th>\n",
              "      <td>14</td>\n",
              "      <td>7</td>\n",
              "      <td>11</td>\n",
              "      <td>26/10/2012</td>\n",
              "      <td>243937.781590</td>\n",
              "      <td>False</td>\n",
              "      <td>18.991381</td>\n",
              "      <td>3.686</td>\n",
              "      <td>68768.551238</td>\n",
              "      <td>17959.738011</td>\n",
              "      <td>8206.829970</td>\n",
              "      <td>12533.552172</td>\n",
              "      <td>10992.028807</td>\n",
              "      <td>199.219532</td>\n",
              "      <td>7.557</td>\n",
              "      <td>False</td>\n",
              "      <td>23692.140040</td>\n",
              "    </tr>\n",
              "    <tr>\n",
              "      <th>15</th>\n",
              "      <td>15</td>\n",
              "      <td>35</td>\n",
              "      <td>16</td>\n",
              "      <td>30/03/2012</td>\n",
              "      <td>219614.970611</td>\n",
              "      <td>False</td>\n",
              "      <td>47.289898</td>\n",
              "      <td>3.953</td>\n",
              "      <td>51608.465583</td>\n",
              "      <td>6167.144619</td>\n",
              "      <td>9596.958459</td>\n",
              "      <td>19047.399146</td>\n",
              "      <td>12542.075325</td>\n",
              "      <td>141.699086</td>\n",
              "      <td>8.744</td>\n",
              "      <td>False</td>\n",
              "      <td>19792.408626</td>\n",
              "    </tr>\n",
              "    <tr>\n",
              "      <th>16</th>\n",
              "      <td>16</td>\n",
              "      <td>37</td>\n",
              "      <td>60</td>\n",
              "      <td>11/11/2011</td>\n",
              "      <td>431847.309472</td>\n",
              "      <td>False</td>\n",
              "      <td>40.998177</td>\n",
              "      <td>3.297</td>\n",
              "      <td>4514.646305</td>\n",
              "      <td>2850.799142</td>\n",
              "      <td>980.794296</td>\n",
              "      <td>9873.050902</td>\n",
              "      <td>16663.598006</td>\n",
              "      <td>216.721737</td>\n",
              "      <td>7.716</td>\n",
              "      <td>False</td>\n",
              "      <td>6976.577730</td>\n",
              "    </tr>\n",
              "    <tr>\n",
              "      <th>17</th>\n",
              "      <td>17</td>\n",
              "      <td>41</td>\n",
              "      <td>17</td>\n",
              "      <td>03/02/2012</td>\n",
              "      <td>154808.001476</td>\n",
              "      <td>False</td>\n",
              "      <td>78.219679</td>\n",
              "      <td>3.031</td>\n",
              "      <td>54748.628892</td>\n",
              "      <td>47044.143155</td>\n",
              "      <td>32531.315422</td>\n",
              "      <td>4190.329120</td>\n",
              "      <td>4041.800039</td>\n",
              "      <td>196.872892</td>\n",
              "      <td>6.589</td>\n",
              "      <td>False</td>\n",
              "      <td>28511.243326</td>\n",
              "    </tr>\n",
              "    <tr>\n",
              "      <th>18</th>\n",
              "      <td>18</td>\n",
              "      <td>34</td>\n",
              "      <td>85</td>\n",
              "      <td>11/11/2011</td>\n",
              "      <td>433842.256150</td>\n",
              "      <td>False</td>\n",
              "      <td>26.881639</td>\n",
              "      <td>3.286</td>\n",
              "      <td>16472.971548</td>\n",
              "      <td>37664.435393</td>\n",
              "      <td>11569.390116</td>\n",
              "      <td>15048.630322</td>\n",
              "      <td>21057.475019</td>\n",
              "      <td>129.816710</td>\n",
              "      <td>10.148</td>\n",
              "      <td>False</td>\n",
              "      <td>20362.580480</td>\n",
              "    </tr>\n",
              "    <tr>\n",
              "      <th>19</th>\n",
              "      <td>19</td>\n",
              "      <td>23</td>\n",
              "      <td>18</td>\n",
              "      <td>05/10/2012</td>\n",
              "      <td>160021.579843</td>\n",
              "      <td>False</td>\n",
              "      <td>26.845899</td>\n",
              "      <td>4.027</td>\n",
              "      <td>166.671403</td>\n",
              "      <td>13363.153640</td>\n",
              "      <td>24629.672144</td>\n",
              "      <td>10126.405370</td>\n",
              "      <td>5018.466604</td>\n",
              "      <td>138.825600</td>\n",
              "      <td>4.145</td>\n",
              "      <td>False</td>\n",
              "      <td>10660.873832</td>\n",
              "    </tr>\n",
              "    <tr>\n",
              "      <th>20</th>\n",
              "      <td>20</td>\n",
              "      <td>44</td>\n",
              "      <td>95</td>\n",
              "      <td>10/06/2011</td>\n",
              "      <td>209307.539122</td>\n",
              "      <td>False</td>\n",
              "      <td>94.118798</td>\n",
              "      <td>3.732</td>\n",
              "      <td>81088.136541</td>\n",
              "      <td>14674.109508</td>\n",
              "      <td>13953.388248</td>\n",
              "      <td>9197.663242</td>\n",
              "      <td>19270.023485</td>\n",
              "      <td>129.035710</td>\n",
              "      <td>6.906</td>\n",
              "      <td>False</td>\n",
              "      <td>27636.664205</td>\n",
              "    </tr>\n",
              "    <tr>\n",
              "      <th>21</th>\n",
              "      <td>21</td>\n",
              "      <td>27</td>\n",
              "      <td>50</td>\n",
              "      <td>10/02/2012</td>\n",
              "      <td>625880.623167</td>\n",
              "      <td>True</td>\n",
              "      <td>99.921138</td>\n",
              "      <td>3.826</td>\n",
              "      <td>52703.320986</td>\n",
              "      <td>27782.877055</td>\n",
              "      <td>7370.027365</td>\n",
              "      <td>13106.300265</td>\n",
              "      <td>13728.596912</td>\n",
              "      <td>141.119983</td>\n",
              "      <td>8.009</td>\n",
              "      <td>True</td>\n",
              "      <td>22938.224516</td>\n",
              "    </tr>\n",
              "    <tr>\n",
              "      <th>22</th>\n",
              "      <td>22</td>\n",
              "      <td>37</td>\n",
              "      <td>12</td>\n",
              "      <td>26/03/2010</td>\n",
              "      <td>573752.531842</td>\n",
              "      <td>False</td>\n",
              "      <td>37.803007</td>\n",
              "      <td>2.732</td>\n",
              "      <td>17141.690092</td>\n",
              "      <td>30143.196551</td>\n",
              "      <td>21257.459041</td>\n",
              "      <td>9666.240429</td>\n",
              "      <td>13644.232916</td>\n",
              "      <td>209.787093</td>\n",
              "      <td>8.554</td>\n",
              "      <td>False</td>\n",
              "      <td>18370.563806</td>\n",
              "    </tr>\n",
              "    <tr>\n",
              "      <th>23</th>\n",
              "      <td>23</td>\n",
              "      <td>26</td>\n",
              "      <td>4</td>\n",
              "      <td>27/01/2012</td>\n",
              "      <td>157487.926303</td>\n",
              "      <td>False</td>\n",
              "      <td>0.002665</td>\n",
              "      <td>3.568</td>\n",
              "      <td>67435.079172</td>\n",
              "      <td>2518.438021</td>\n",
              "      <td>23840.184049</td>\n",
              "      <td>2921.949577</td>\n",
              "      <td>7184.037531</td>\n",
              "      <td>136.959839</td>\n",
              "      <td>7.467</td>\n",
              "      <td>False</td>\n",
              "      <td>20779.937670</td>\n",
              "    </tr>\n",
              "    <tr>\n",
              "      <th>24</th>\n",
              "      <td>24</td>\n",
              "      <td>38</td>\n",
              "      <td>3</td>\n",
              "      <td>23/12/2011</td>\n",
              "      <td>111586.263927</td>\n",
              "      <td>False</td>\n",
              "      <td>79.670915</td>\n",
              "      <td>3.541</td>\n",
              "      <td>14073.469858</td>\n",
              "      <td>25746.538454</td>\n",
              "      <td>28457.231729</td>\n",
              "      <td>8654.210020</td>\n",
              "      <td>7492.003226</td>\n",
              "      <td>129.984548</td>\n",
              "      <td>12.890</td>\n",
              "      <td>False</td>\n",
              "      <td>16884.690657</td>\n",
              "    </tr>\n",
              "    <tr>\n",
              "      <th>25</th>\n",
              "      <td>25</td>\n",
              "      <td>29</td>\n",
              "      <td>93</td>\n",
              "      <td>13/07/2012</td>\n",
              "      <td>579914.681875</td>\n",
              "      <td>False</td>\n",
              "      <td>34.904169</td>\n",
              "      <td>3.561</td>\n",
              "      <td>78434.314461</td>\n",
              "      <td>15361.617666</td>\n",
              "      <td>33303.161397</td>\n",
              "      <td>857.291575</td>\n",
              "      <td>2623.034367</td>\n",
              "      <td>138.263000</td>\n",
              "      <td>9.419</td>\n",
              "      <td>False</td>\n",
              "      <td>26115.883893</td>\n",
              "    </tr>\n",
              "    <tr>\n",
              "      <th>26</th>\n",
              "      <td>26</td>\n",
              "      <td>29</td>\n",
              "      <td>97</td>\n",
              "      <td>06/01/2012</td>\n",
              "      <td>54620.024555</td>\n",
              "      <td>False</td>\n",
              "      <td>98.120004</td>\n",
              "      <td>3.439</td>\n",
              "      <td>14630.185589</td>\n",
              "      <td>20479.471637</td>\n",
              "      <td>24777.445588</td>\n",
              "      <td>12391.517637</td>\n",
              "      <td>8830.810795</td>\n",
              "      <td>136.698129</td>\n",
              "      <td>8.988</td>\n",
              "      <td>False</td>\n",
              "      <td>16221.886249</td>\n",
              "    </tr>\n",
              "    <tr>\n",
              "      <th>27</th>\n",
              "      <td>27</td>\n",
              "      <td>31</td>\n",
              "      <td>67</td>\n",
              "      <td>23/04/2010</td>\n",
              "      <td>231845.276554</td>\n",
              "      <td>False</td>\n",
              "      <td>98.774804</td>\n",
              "      <td>2.795</td>\n",
              "      <td>24514.662087</td>\n",
              "      <td>32799.882668</td>\n",
              "      <td>23322.991193</td>\n",
              "      <td>1922.123283</td>\n",
              "      <td>11962.469723</td>\n",
              "      <td>210.100065</td>\n",
              "      <td>8.200</td>\n",
              "      <td>False</td>\n",
              "      <td>18904.425791</td>\n",
              "    </tr>\n",
              "    <tr>\n",
              "      <th>28</th>\n",
              "      <td>28</td>\n",
              "      <td>11</td>\n",
              "      <td>98</td>\n",
              "      <td>30/04/2010</td>\n",
              "      <td>154893.144937</td>\n",
              "      <td>False</td>\n",
              "      <td>97.157213</td>\n",
              "      <td>2.780</td>\n",
              "      <td>26731.304903</td>\n",
              "      <td>1195.350178</td>\n",
              "      <td>15649.022800</td>\n",
              "      <td>9573.876685</td>\n",
              "      <td>13488.984475</td>\n",
              "      <td>213.671682</td>\n",
              "      <td>7.343</td>\n",
              "      <td>False</td>\n",
              "      <td>13327.707808</td>\n",
              "    </tr>\n",
              "    <tr>\n",
              "      <th>29</th>\n",
              "      <td>29</td>\n",
              "      <td>10</td>\n",
              "      <td>28</td>\n",
              "      <td>14/05/2010</td>\n",
              "      <td>180546.910106</td>\n",
              "      <td>False</td>\n",
              "      <td>74.121840</td>\n",
              "      <td>3.145</td>\n",
              "      <td>55203.851782</td>\n",
              "      <td>46391.259418</td>\n",
              "      <td>19547.936623</td>\n",
              "      <td>9635.510974</td>\n",
              "      <td>17262.441312</td>\n",
              "      <td>126.208548</td>\n",
              "      <td>9.524</td>\n",
              "      <td>False</td>\n",
              "      <td>29608.200022</td>\n",
              "    </tr>\n",
              "    <tr>\n",
              "      <th>30</th>\n",
              "      <td>30</td>\n",
              "      <td>41</td>\n",
              "      <td>10</td>\n",
              "      <td>16/12/2011</td>\n",
              "      <td>11877.665598</td>\n",
              "      <td>False</td>\n",
              "      <td>90.401020</td>\n",
              "      <td>3.266</td>\n",
              "      <td>65440.658718</td>\n",
              "      <td>22937.953981</td>\n",
              "      <td>9300.833762</td>\n",
              "      <td>12708.415250</td>\n",
              "      <td>18680.639943</td>\n",
              "      <td>195.984169</td>\n",
              "      <td>6.759</td>\n",
              "      <td>False</td>\n",
              "      <td>25813.700331</td>\n",
              "    </tr>\n",
              "    <tr>\n",
              "      <th>31</th>\n",
              "      <td>31</td>\n",
              "      <td>28</td>\n",
              "      <td>2</td>\n",
              "      <td>18/05/2012</td>\n",
              "      <td>496273.415525</td>\n",
              "      <td>False</td>\n",
              "      <td>71.976634</td>\n",
              "      <td>4.110</td>\n",
              "      <td>28177.434972</td>\n",
              "      <td>34013.197245</td>\n",
              "      <td>3464.379456</td>\n",
              "      <td>6613.514886</td>\n",
              "      <td>12221.384121</td>\n",
              "      <td>131.098323</td>\n",
              "      <td>11.627</td>\n",
              "      <td>False</td>\n",
              "      <td>16897.982136</td>\n",
              "    </tr>\n",
              "    <tr>\n",
              "      <th>32</th>\n",
              "      <td>32</td>\n",
              "      <td>18</td>\n",
              "      <td>27</td>\n",
              "      <td>24/12/2010</td>\n",
              "      <td>115095.817358</td>\n",
              "      <td>False</td>\n",
              "      <td>57.922620</td>\n",
              "      <td>3.150</td>\n",
              "      <td>57359.317721</td>\n",
              "      <td>17672.732537</td>\n",
              "      <td>33821.890732</td>\n",
              "      <td>21817.820253</td>\n",
              "      <td>4445.227127</td>\n",
              "      <td>132.747742</td>\n",
              "      <td>9.331</td>\n",
              "      <td>False</td>\n",
              "      <td>27023.397674</td>\n",
              "    </tr>\n",
              "    <tr>\n",
              "      <th>33</th>\n",
              "      <td>33</td>\n",
              "      <td>23</td>\n",
              "      <td>59</td>\n",
              "      <td>28/10/2011</td>\n",
              "      <td>244965.215954</td>\n",
              "      <td>False</td>\n",
              "      <td>27.618366</td>\n",
              "      <td>3.604</td>\n",
              "      <td>55849.639115</td>\n",
              "      <td>42876.515899</td>\n",
              "      <td>25835.966048</td>\n",
              "      <td>15912.359567</td>\n",
              "      <td>17886.549820</td>\n",
              "      <td>136.488452</td>\n",
              "      <td>4.420</td>\n",
              "      <td>False</td>\n",
              "      <td>31672.206090</td>\n",
              "    </tr>\n",
              "    <tr>\n",
              "      <th>34</th>\n",
              "      <td>34</td>\n",
              "      <td>23</td>\n",
              "      <td>93</td>\n",
              "      <td>19/10/2012</td>\n",
              "      <td>151738.075188</td>\n",
              "      <td>False</td>\n",
              "      <td>0.345076</td>\n",
              "      <td>4.000</td>\n",
              "      <td>66683.927343</td>\n",
              "      <td>29009.093228</td>\n",
              "      <td>13221.169667</td>\n",
              "      <td>11339.533544</td>\n",
              "      <td>13433.493131</td>\n",
              "      <td>138.833613</td>\n",
              "      <td>4.145</td>\n",
              "      <td>False</td>\n",
              "      <td>26737.443383</td>\n",
              "    </tr>\n",
              "    <tr>\n",
              "      <th>35</th>\n",
              "      <td>35</td>\n",
              "      <td>11</td>\n",
              "      <td>21</td>\n",
              "      <td>13/05/2011</td>\n",
              "      <td>466532.866774</td>\n",
              "      <td>False</td>\n",
              "      <td>2.730256</td>\n",
              "      <td>3.899</td>\n",
              "      <td>26067.158688</td>\n",
              "      <td>13208.016173</td>\n",
              "      <td>32668.769799</td>\n",
              "      <td>11602.499765</td>\n",
              "      <td>15649.014713</td>\n",
              "      <td>219.368356</td>\n",
              "      <td>7.574</td>\n",
              "      <td>False</td>\n",
              "      <td>19839.091827</td>\n",
              "    </tr>\n",
              "    <tr>\n",
              "      <th>36</th>\n",
              "      <td>36</td>\n",
              "      <td>26</td>\n",
              "      <td>55</td>\n",
              "      <td>28/09/2012</td>\n",
              "      <td>558490.605774</td>\n",
              "      <td>False</td>\n",
              "      <td>93.180058</td>\n",
              "      <td>4.018</td>\n",
              "      <td>75843.454194</td>\n",
              "      <td>37646.026619</td>\n",
              "      <td>29973.329878</td>\n",
              "      <td>21698.722452</td>\n",
              "      <td>5906.404336</td>\n",
              "      <td>138.739500</td>\n",
              "      <td>7.405</td>\n",
              "      <td>False</td>\n",
              "      <td>34213.587496</td>\n",
              "    </tr>\n",
              "    <tr>\n",
              "      <th>37</th>\n",
              "      <td>37</td>\n",
              "      <td>34</td>\n",
              "      <td>26</td>\n",
              "      <td>14/01/2011</td>\n",
              "      <td>205409.740709</td>\n",
              "      <td>False</td>\n",
              "      <td>65.538864</td>\n",
              "      <td>2.992</td>\n",
              "      <td>80628.805487</td>\n",
              "      <td>45837.080760</td>\n",
              "      <td>5966.305668</td>\n",
              "      <td>16796.632241</td>\n",
              "      <td>3043.342973</td>\n",
              "      <td>127.300935</td>\n",
              "      <td>10.398</td>\n",
              "      <td>False</td>\n",
              "      <td>30454.433426</td>\n",
              "    </tr>\n",
              "    <tr>\n",
              "      <th>38</th>\n",
              "      <td>38</td>\n",
              "      <td>6</td>\n",
              "      <td>28</td>\n",
              "      <td>12/08/2011</td>\n",
              "      <td>138892.705488</td>\n",
              "      <td>False</td>\n",
              "      <td>80.894845</td>\n",
              "      <td>3.638</td>\n",
              "      <td>87378.773990</td>\n",
              "      <td>2178.644478</td>\n",
              "      <td>33315.422349</td>\n",
              "      <td>5407.039920</td>\n",
              "      <td>2625.128936</td>\n",
              "      <td>217.143828</td>\n",
              "      <td>6.925</td>\n",
              "      <td>False</td>\n",
              "      <td>26181.001934</td>\n",
              "    </tr>\n",
              "    <tr>\n",
              "      <th>39</th>\n",
              "      <td>39</td>\n",
              "      <td>3</td>\n",
              "      <td>11</td>\n",
              "      <td>27/07/2012</td>\n",
              "      <td>40542.176288</td>\n",
              "      <td>False</td>\n",
              "      <td>85.106935</td>\n",
              "      <td>3.407</td>\n",
              "      <td>20044.793851</td>\n",
              "      <td>5683.043138</td>\n",
              "      <td>34202.989018</td>\n",
              "      <td>2847.867501</td>\n",
              "      <td>19341.483682</td>\n",
              "      <td>225.453758</td>\n",
              "      <td>6.334</td>\n",
              "      <td>False</td>\n",
              "      <td>16424.035438</td>\n",
              "    </tr>\n",
              "    <tr>\n",
              "      <th>40</th>\n",
              "      <td>40</td>\n",
              "      <td>29</td>\n",
              "      <td>58</td>\n",
              "      <td>20/08/2010</td>\n",
              "      <td>463575.497373</td>\n",
              "      <td>False</td>\n",
              "      <td>1.941136</td>\n",
              "      <td>2.796</td>\n",
              "      <td>5487.438185</td>\n",
              "      <td>19044.614240</td>\n",
              "      <td>16409.260943</td>\n",
              "      <td>15540.983756</td>\n",
              "      <td>16906.743927</td>\n",
              "      <td>132.661613</td>\n",
              "      <td>10.409</td>\n",
              "      <td>False</td>\n",
              "      <td>14677.808210</td>\n",
              "    </tr>\n",
              "    <tr>\n",
              "      <th>41</th>\n",
              "      <td>41</td>\n",
              "      <td>38</td>\n",
              "      <td>33</td>\n",
              "      <td>18/02/2011</td>\n",
              "      <td>196851.093025</td>\n",
              "      <td>False</td>\n",
              "      <td>98.616371</td>\n",
              "      <td>3.430</td>\n",
              "      <td>52179.637385</td>\n",
              "      <td>46299.677803</td>\n",
              "      <td>16560.625658</td>\n",
              "      <td>2607.964812</td>\n",
              "      <td>20808.212431</td>\n",
              "      <td>127.995250</td>\n",
              "      <td>14.021</td>\n",
              "      <td>False</td>\n",
              "      <td>27691.223618</td>\n",
              "    </tr>\n",
              "    <tr>\n",
              "      <th>42</th>\n",
              "      <td>42</td>\n",
              "      <td>25</td>\n",
              "      <td>2</td>\n",
              "      <td>16/09/2011</td>\n",
              "      <td>112670.307851</td>\n",
              "      <td>False</td>\n",
              "      <td>28.589517</td>\n",
              "      <td>3.742</td>\n",
              "      <td>82449.554572</td>\n",
              "      <td>1153.834227</td>\n",
              "      <td>267.811078</td>\n",
              "      <td>18222.735129</td>\n",
              "      <td>15431.234597</td>\n",
              "      <td>209.189389</td>\n",
              "      <td>7.274</td>\n",
              "      <td>False</td>\n",
              "      <td>23505.033921</td>\n",
              "    </tr>\n",
              "    <tr>\n",
              "      <th>43</th>\n",
              "      <td>43</td>\n",
              "      <td>13</td>\n",
              "      <td>42</td>\n",
              "      <td>25/02/2011</td>\n",
              "      <td>298515.039013</td>\n",
              "      <td>False</td>\n",
              "      <td>53.346024</td>\n",
              "      <td>3.120</td>\n",
              "      <td>72799.491167</td>\n",
              "      <td>32452.527142</td>\n",
              "      <td>13017.939528</td>\n",
              "      <td>1886.821038</td>\n",
              "      <td>11109.459451</td>\n",
              "      <td>128.130000</td>\n",
              "      <td>7.470</td>\n",
              "      <td>False</td>\n",
              "      <td>26253.247665</td>\n",
              "    </tr>\n",
              "    <tr>\n",
              "      <th>44</th>\n",
              "      <td>44</td>\n",
              "      <td>18</td>\n",
              "      <td>29</td>\n",
              "      <td>01/04/2011</td>\n",
              "      <td>133058.443310</td>\n",
              "      <td>False</td>\n",
              "      <td>-0.149522</td>\n",
              "      <td>3.638</td>\n",
              "      <td>85174.172089</td>\n",
              "      <td>48036.630231</td>\n",
              "      <td>8065.173014</td>\n",
              "      <td>20704.198015</td>\n",
              "      <td>2978.701121</td>\n",
              "      <td>134.068258</td>\n",
              "      <td>8.975</td>\n",
              "      <td>False</td>\n",
              "      <td>32991.774894</td>\n",
              "    </tr>\n",
              "    <tr>\n",
              "      <th>45</th>\n",
              "      <td>45</td>\n",
              "      <td>36</td>\n",
              "      <td>18</td>\n",
              "      <td>14/01/2011</td>\n",
              "      <td>501732.033675</td>\n",
              "      <td>False</td>\n",
              "      <td>82.970891</td>\n",
              "      <td>2.971</td>\n",
              "      <td>18841.790177</td>\n",
              "      <td>488.964383</td>\n",
              "      <td>233.535025</td>\n",
              "      <td>8580.229801</td>\n",
              "      <td>1383.827162</td>\n",
              "      <td>210.237973</td>\n",
              "      <td>8.395</td>\n",
              "      <td>False</td>\n",
              "      <td>5905.669310</td>\n",
              "    </tr>\n",
              "    <tr>\n",
              "      <th>46</th>\n",
              "      <td>46</td>\n",
              "      <td>8</td>\n",
              "      <td>52</td>\n",
              "      <td>16/12/2011</td>\n",
              "      <td>511344.300626</td>\n",
              "      <td>False</td>\n",
              "      <td>36.136754</td>\n",
              "      <td>3.159</td>\n",
              "      <td>72292.901308</td>\n",
              "      <td>15653.710066</td>\n",
              "      <td>32585.588262</td>\n",
              "      <td>11357.537119</td>\n",
              "      <td>19097.818311</td>\n",
              "      <td>222.691096</td>\n",
              "      <td>6.123</td>\n",
              "      <td>False</td>\n",
              "      <td>30197.511013</td>\n",
              "    </tr>\n",
              "    <tr>\n",
              "      <th>47</th>\n",
              "      <td>47</td>\n",
              "      <td>4</td>\n",
              "      <td>17</td>\n",
              "      <td>01/07/2011</td>\n",
              "      <td>658657.978555</td>\n",
              "      <td>False</td>\n",
              "      <td>85.333454</td>\n",
              "      <td>3.504</td>\n",
              "      <td>59798.190056</td>\n",
              "      <td>3377.202496</td>\n",
              "      <td>31290.463833</td>\n",
              "      <td>13699.070322</td>\n",
              "      <td>10272.478417</td>\n",
              "      <td>129.089400</td>\n",
              "      <td>5.644</td>\n",
              "      <td>False</td>\n",
              "      <td>23687.481025</td>\n",
              "    </tr>\n",
              "    <tr>\n",
              "      <th>48</th>\n",
              "      <td>48</td>\n",
              "      <td>7</td>\n",
              "      <td>35</td>\n",
              "      <td>28/01/2011</td>\n",
              "      <td>177237.663564</td>\n",
              "      <td>False</td>\n",
              "      <td>92.484757</td>\n",
              "      <td>3.008</td>\n",
              "      <td>71416.875576</td>\n",
              "      <td>34844.951798</td>\n",
              "      <td>8750.521834</td>\n",
              "      <td>1343.330396</td>\n",
              "      <td>6494.481788</td>\n",
              "      <td>191.667891</td>\n",
              "      <td>8.818</td>\n",
              "      <td>False</td>\n",
              "      <td>24570.032278</td>\n",
              "    </tr>\n",
              "    <tr>\n",
              "      <th>49</th>\n",
              "      <td>49</td>\n",
              "      <td>45</td>\n",
              "      <td>97</td>\n",
              "      <td>21/05/2010</td>\n",
              "      <td>457611.075096</td>\n",
              "      <td>False</td>\n",
              "      <td>5.215949</td>\n",
              "      <td>2.958</td>\n",
              "      <td>61143.993935</td>\n",
              "      <td>49082.388558</td>\n",
              "      <td>29321.515440</td>\n",
              "      <td>21489.280516</td>\n",
              "      <td>17027.668492</td>\n",
              "      <td>181.853849</td>\n",
              "      <td>8.899</td>\n",
              "      <td>False</td>\n",
              "      <td>35612.969388</td>\n",
              "    </tr>\n",
              "  </tbody>\n",
              "</table>\n",
              "</div>\n",
              "      <button class=\"colab-df-convert\" onclick=\"convertToInteractive('df-1e7ce5e8-6ec7-44c4-98ec-2ac2c0dfd6db')\"\n",
              "              title=\"Convert this dataframe to an interactive table.\"\n",
              "              style=\"display:none;\">\n",
              "        \n",
              "  <svg xmlns=\"http://www.w3.org/2000/svg\" height=\"24px\"viewBox=\"0 0 24 24\"\n",
              "       width=\"24px\">\n",
              "    <path d=\"M0 0h24v24H0V0z\" fill=\"none\"/>\n",
              "    <path d=\"M18.56 5.44l.94 2.06.94-2.06 2.06-.94-2.06-.94-.94-2.06-.94 2.06-2.06.94zm-11 1L8.5 8.5l.94-2.06 2.06-.94-2.06-.94L8.5 2.5l-.94 2.06-2.06.94zm10 10l.94 2.06.94-2.06 2.06-.94-2.06-.94-.94-2.06-.94 2.06-2.06.94z\"/><path d=\"M17.41 7.96l-1.37-1.37c-.4-.4-.92-.59-1.43-.59-.52 0-1.04.2-1.43.59L10.3 9.45l-7.72 7.72c-.78.78-.78 2.05 0 2.83L4 21.41c.39.39.9.59 1.41.59.51 0 1.02-.2 1.41-.59l7.78-7.78 2.81-2.81c.8-.78.8-2.07 0-2.86zM5.41 20L4 18.59l7.72-7.72 1.47 1.35L5.41 20z\"/>\n",
              "  </svg>\n",
              "      </button>\n",
              "      \n",
              "  <style>\n",
              "    .colab-df-container {\n",
              "      display:flex;\n",
              "      flex-wrap:wrap;\n",
              "      gap: 12px;\n",
              "    }\n",
              "\n",
              "    .colab-df-convert {\n",
              "      background-color: #E8F0FE;\n",
              "      border: none;\n",
              "      border-radius: 50%;\n",
              "      cursor: pointer;\n",
              "      display: none;\n",
              "      fill: #1967D2;\n",
              "      height: 32px;\n",
              "      padding: 0 0 0 0;\n",
              "      width: 32px;\n",
              "    }\n",
              "\n",
              "    .colab-df-convert:hover {\n",
              "      background-color: #E2EBFA;\n",
              "      box-shadow: 0px 1px 2px rgba(60, 64, 67, 0.3), 0px 1px 3px 1px rgba(60, 64, 67, 0.15);\n",
              "      fill: #174EA6;\n",
              "    }\n",
              "\n",
              "    [theme=dark] .colab-df-convert {\n",
              "      background-color: #3B4455;\n",
              "      fill: #D2E3FC;\n",
              "    }\n",
              "\n",
              "    [theme=dark] .colab-df-convert:hover {\n",
              "      background-color: #434B5C;\n",
              "      box-shadow: 0px 1px 3px 1px rgba(0, 0, 0, 0.15);\n",
              "      filter: drop-shadow(0px 1px 2px rgba(0, 0, 0, 0.3));\n",
              "      fill: #FFFFFF;\n",
              "    }\n",
              "  </style>\n",
              "\n",
              "      <script>\n",
              "        const buttonEl =\n",
              "          document.querySelector('#df-1e7ce5e8-6ec7-44c4-98ec-2ac2c0dfd6db button.colab-df-convert');\n",
              "        buttonEl.style.display =\n",
              "          google.colab.kernel.accessAllowed ? 'block' : 'none';\n",
              "\n",
              "        async function convertToInteractive(key) {\n",
              "          const element = document.querySelector('#df-1e7ce5e8-6ec7-44c4-98ec-2ac2c0dfd6db');\n",
              "          const dataTable =\n",
              "            await google.colab.kernel.invokeFunction('convertToInteractive',\n",
              "                                                     [key], {});\n",
              "          if (!dataTable) return;\n",
              "\n",
              "          const docLinkHtml = 'Like what you see? Visit the ' +\n",
              "            '<a target=\"_blank\" href=https://colab.research.google.com/notebooks/data_table.ipynb>data table notebook</a>'\n",
              "            + ' to learn more about interactive tables.';\n",
              "          element.innerHTML = '';\n",
              "          dataTable['output_type'] = 'display_data';\n",
              "          await google.colab.output.renderOutput(dataTable, element);\n",
              "          const docLink = document.createElement('div');\n",
              "          docLink.innerHTML = docLinkHtml;\n",
              "          element.appendChild(docLink);\n",
              "        }\n",
              "      </script>\n",
              "    </div>\n",
              "  </div>\n",
              "  "
            ]
          },
          "metadata": {},
          "execution_count": 104
        }
      ]
    },
    {
      "cell_type": "code",
      "source": [
        "Tabla_1_processed = Tabla_1.drop(columns = ['MarkDown1', 'MarkDown2','MarkDown3','MarkDown4','MarkDown5'])"
      ],
      "metadata": {
        "id": "sv7Ict19Eoh-"
      },
      "execution_count": 105,
      "outputs": []
    },
    {
      "cell_type": "code",
      "source": [
        "Tabla_1_processed.plot(kind = 'scatter', x = 'Store', y =  'Weekly_Sales')\n",
        "plt.show()"
      ],
      "metadata": {
        "colab": {
          "base_uri": "https://localhost:8080/",
          "height": 279
        },
        "outputId": "54a07bd5-0c30-495f-9d83-1791034a6fec",
        "id": "NBD49fkjEoh_"
      },
      "execution_count": 106,
      "outputs": [
        {
          "output_type": "display_data",
          "data": {
            "text/plain": [
              "<Figure size 432x288 with 1 Axes>"
            ],
            "image/png": "[encoded data removed]"
          },
          "metadata": {
            "needs_background": "light"
          }
        }
      ]
    },
    {
      "cell_type": "code",
      "source": [
        "#a continuación se separan los datos de los días festivos para analizarlos por separado.\n",
        "Tabla_1_processed_Holiday = Tabla_1_processed.query('IsHoliday_x == True')\n",
        "Tabla_1_processed_No_Holiday = Tabla_1_processed.query('IsHoliday_x == False')"
      ],
      "metadata": {
        "id": "3KzCcGM6EoiA"
      },
      "execution_count": 107,
      "outputs": []
    },
    {
      "cell_type": "code",
      "source": [
        "Tabla_1_processed_Holiday"
      ],
      "metadata": {
        "colab": {
          "base_uri": "https://localhost:8080/",
          "height": 125
        },
        "id": "dPMqmJy1uh5f",
        "outputId": "cefd25e8-0c25-4eb1-8353-2c57837eb5c0"
      },
      "execution_count": 108,
      "outputs": [
        {
          "output_type": "execute_result",
          "data": {
            "text/plain": [
              "    Unnamed: 0  Store  Dept        Date   Weekly_Sales  IsHoliday_x  \\\n",
              "21          21     27    50  10/02/2012  625880.623167         True   \n",
              "\n",
              "    Temperature  Fuel_Price         CPI  Unemployment  IsHoliday_y  \\\n",
              "21    99.921138       3.826  141.119983         8.009         True   \n",
              "\n",
              "       MarkDowns  \n",
              "21  22938.224516  "
            ],
            "text/html": [
              "\n",
              "  <div id=\"df-0e6a3076-65a8-46d0-91b4-b8fc5dac1b1d\">\n",
              "    <div class=\"colab-df-container\">\n",
              "      <div>\n",
              "<style scoped>\n",
              "    .dataframe tbody tr th:only-of-type {\n",
              "        vertical-align: middle;\n",
              "    }\n",
              "\n",
              "    .dataframe tbody tr th {\n",
              "        vertical-align: top;\n",
              "    }\n",
              "\n",
              "    .dataframe thead th {\n",
              "        text-align: right;\n",
              "    }\n",
              "</style>\n",
              "<table border=\"1\" class=\"dataframe\">\n",
              "  <thead>\n",
              "    <tr style=\"text-align: right;\">\n",
              "      <th></th>\n",
              "      <th>Unnamed: 0</th>\n",
              "      <th>Store</th>\n",
              "      <th>Dept</th>\n",
              "      <th>Date</th>\n",
              "      <th>Weekly_Sales</th>\n",
              "      <th>IsHoliday_x</th>\n",
              "      <th>Temperature</th>\n",
              "      <th>Fuel_Price</th>\n",
              "      <th>CPI</th>\n",
              "      <th>Unemployment</th>\n",
              "      <th>IsHoliday_y</th>\n",
              "      <th>MarkDowns</th>\n",
              "    </tr>\n",
              "  </thead>\n",
              "  <tbody>\n",
              "    <tr>\n",
              "      <th>21</th>\n",
              "      <td>21</td>\n",
              "      <td>27</td>\n",
              "      <td>50</td>\n",
              "      <td>10/02/2012</td>\n",
              "      <td>625880.623167</td>\n",
              "      <td>True</td>\n",
              "      <td>99.921138</td>\n",
              "      <td>3.826</td>\n",
              "      <td>141.119983</td>\n",
              "      <td>8.009</td>\n",
              "      <td>True</td>\n",
              "      <td>22938.224516</td>\n",
              "    </tr>\n",
              "  </tbody>\n",
              "</table>\n",
              "</div>\n",
              "      <button class=\"colab-df-convert\" onclick=\"convertToInteractive('df-0e6a3076-65a8-46d0-91b4-b8fc5dac1b1d')\"\n",
              "              title=\"Convert this dataframe to an interactive table.\"\n",
              "              style=\"display:none;\">\n",
              "        \n",
              "  <svg xmlns=\"http://www.w3.org/2000/svg\" height=\"24px\"viewBox=\"0 0 24 24\"\n",
              "       width=\"24px\">\n",
              "    <path d=\"M0 0h24v24H0V0z\" fill=\"none\"/>\n",
              "    <path d=\"M18.56 5.44l.94 2.06.94-2.06 2.06-.94-2.06-.94-.94-2.06-.94 2.06-2.06.94zm-11 1L8.5 8.5l.94-2.06 2.06-.94-2.06-.94L8.5 2.5l-.94 2.06-2.06.94zm10 10l.94 2.06.94-2.06 2.06-.94-2.06-.94-.94-2.06-.94 2.06-2.06.94z\"/><path d=\"M17.41 7.96l-1.37-1.37c-.4-.4-.92-.59-1.43-.59-.52 0-1.04.2-1.43.59L10.3 9.45l-7.72 7.72c-.78.78-.78 2.05 0 2.83L4 21.41c.39.39.9.59 1.41.59.51 0 1.02-.2 1.41-.59l7.78-7.78 2.81-2.81c.8-.78.8-2.07 0-2.86zM5.41 20L4 18.59l7.72-7.72 1.47 1.35L5.41 20z\"/>\n",
              "  </svg>\n",
              "      </button>\n",
              "      \n",
              "  <style>\n",
              "    .colab-df-container {\n",
              "      display:flex;\n",
              "      flex-wrap:wrap;\n",
              "      gap: 12px;\n",
              "    }\n",
              "\n",
              "    .colab-df-convert {\n",
              "      background-color: #E8F0FE;\n",
              "      border: none;\n",
              "      border-radius: 50%;\n",
              "      cursor: pointer;\n",
              "      display: none;\n",
              "      fill: #1967D2;\n",
              "      height: 32px;\n",
              "      padding: 0 0 0 0;\n",
              "      width: 32px;\n",
              "    }\n",
              "\n",
              "    .colab-df-convert:hover {\n",
              "      background-color: #E2EBFA;\n",
              "      box-shadow: 0px 1px 2px rgba(60, 64, 67, 0.3), 0px 1px 3px 1px rgba(60, 64, 67, 0.15);\n",
              "      fill: #174EA6;\n",
              "    }\n",
              "\n",
              "    [theme=dark] .colab-df-convert {\n",
              "      background-color: #3B4455;\n",
              "      fill: #D2E3FC;\n",
              "    }\n",
              "\n",
              "    [theme=dark] .colab-df-convert:hover {\n",
              "      background-color: #434B5C;\n",
              "      box-shadow: 0px 1px 3px 1px rgba(0, 0, 0, 0.15);\n",
              "      filter: drop-shadow(0px 1px 2px rgba(0, 0, 0, 0.3));\n",
              "      fill: #FFFFFF;\n",
              "    }\n",
              "  </style>\n",
              "\n",
              "      <script>\n",
              "        const buttonEl =\n",
              "          document.querySelector('#df-0e6a3076-65a8-46d0-91b4-b8fc5dac1b1d button.colab-df-convert');\n",
              "        buttonEl.style.display =\n",
              "          google.colab.kernel.accessAllowed ? 'block' : 'none';\n",
              "\n",
              "        async function convertToInteractive(key) {\n",
              "          const element = document.querySelector('#df-0e6a3076-65a8-46d0-91b4-b8fc5dac1b1d');\n",
              "          const dataTable =\n",
              "            await google.colab.kernel.invokeFunction('convertToInteractive',\n",
              "                                                     [key], {});\n",
              "          if (!dataTable) return;\n",
              "\n",
              "          const docLinkHtml = 'Like what you see? Visit the ' +\n",
              "            '<a target=\"_blank\" href=https://colab.research.google.com/notebooks/data_table.ipynb>data table notebook</a>'\n",
              "            + ' to learn more about interactive tables.';\n",
              "          element.innerHTML = '';\n",
              "          dataTable['output_type'] = 'display_data';\n",
              "          await google.colab.output.renderOutput(dataTable, element);\n",
              "          const docLink = document.createElement('div');\n",
              "          docLink.innerHTML = docLinkHtml;\n",
              "          element.appendChild(docLink);\n",
              "        }\n",
              "      </script>\n",
              "    </div>\n",
              "  </div>\n",
              "  "
            ]
          },
          "metadata": {},
          "execution_count": 108
        }
      ]
    },
    {
      "cell_type": "code",
      "source": [
        "Tabla_1_processed_No_Holiday"
      ],
      "metadata": {
        "colab": {
          "base_uri": "https://localhost:8080/",
          "height": 1000
        },
        "id": "-bLRST0suk-b",
        "outputId": "5489d06c-2b59-4dac-86fc-da6193b21c04"
      },
      "execution_count": 109,
      "outputs": [
        {
          "output_type": "execute_result",
          "data": {
            "text/plain": [
              "    Unnamed: 0  Store  Dept        Date   Weekly_Sales  IsHoliday_x  \\\n",
              "0            0      5    16  16/09/2011  564312.734549        False   \n",
              "1            1     21    52  24/06/2011  169199.146654        False   \n",
              "2            2      9    24  27/01/2012   76445.807545        False   \n",
              "3            3      6    60  05/08/2011  529384.632399        False   \n",
              "4            4     17    42  23/12/2011  590421.125970        False   \n",
              "5            5     31    87  24/08/2012  556894.615504        False   \n",
              "6            6     21    83  19/03/2010  682722.852234        False   \n",
              "7            7      4    29  30/09/2011   70387.018913        False   \n",
              "8            8     20    16  24/12/2010  326232.854841        False   \n",
              "9            9     22    46  27/05/2011  436981.323825        False   \n",
              "10          10      3    10  01/06/2012  262010.005704        False   \n",
              "11          11     40    52  30/09/2011  244885.308147        False   \n",
              "12          12     15    67  04/02/2011  597439.476292        False   \n",
              "13          13     41     6  21/01/2011   21762.861684        False   \n",
              "14          14      7    11  26/10/2012  243937.781590        False   \n",
              "15          15     35    16  30/03/2012  219614.970611        False   \n",
              "16          16     37    60  11/11/2011  431847.309472        False   \n",
              "17          17     41    17  03/02/2012  154808.001476        False   \n",
              "18          18     34    85  11/11/2011  433842.256150        False   \n",
              "19          19     23    18  05/10/2012  160021.579843        False   \n",
              "20          20     44    95  10/06/2011  209307.539122        False   \n",
              "22          22     37    12  26/03/2010  573752.531842        False   \n",
              "23          23     26     4  27/01/2012  157487.926303        False   \n",
              "24          24     38     3  23/12/2011  111586.263927        False   \n",
              "25          25     29    93  13/07/2012  579914.681875        False   \n",
              "26          26     29    97  06/01/2012   54620.024555        False   \n",
              "27          27     31    67  23/04/2010  231845.276554        False   \n",
              "28          28     11    98  30/04/2010  154893.144937        False   \n",
              "29          29     10    28  14/05/2010  180546.910106        False   \n",
              "30          30     41    10  16/12/2011   11877.665598        False   \n",
              "31          31     28     2  18/05/2012  496273.415525        False   \n",
              "32          32     18    27  24/12/2010  115095.817358        False   \n",
              "33          33     23    59  28/10/2011  244965.215954        False   \n",
              "34          34     23    93  19/10/2012  151738.075188        False   \n",
              "35          35     11    21  13/05/2011  466532.866774        False   \n",
              "36          36     26    55  28/09/2012  558490.605774        False   \n",
              "37          37     34    26  14/01/2011  205409.740709        False   \n",
              "38          38      6    28  12/08/2011  138892.705488        False   \n",
              "39          39      3    11  27/07/2012   40542.176288        False   \n",
              "40          40     29    58  20/08/2010  463575.497373        False   \n",
              "41          41     38    33  18/02/2011  196851.093025        False   \n",
              "42          42     25     2  16/09/2011  112670.307851        False   \n",
              "43          43     13    42  25/02/2011  298515.039013        False   \n",
              "44          44     18    29  01/04/2011  133058.443310        False   \n",
              "45          45     36    18  14/01/2011  501732.033675        False   \n",
              "46          46      8    52  16/12/2011  511344.300626        False   \n",
              "47          47      4    17  01/07/2011  658657.978555        False   \n",
              "48          48      7    35  28/01/2011  177237.663564        False   \n",
              "49          49     45    97  21/05/2010  457611.075096        False   \n",
              "\n",
              "    Temperature  Fuel_Price         CPI  Unemployment  IsHoliday_y  \\\n",
              "0     32.687061       3.526  216.603308         6.529        False   \n",
              "1     59.608361       3.594  214.744111         7.931        False   \n",
              "2     16.623822       3.290  223.806053         5.667        False   \n",
              "3     36.466380       3.684  217.083989         6.925        False   \n",
              "4     92.396503       3.186  129.984548         6.617        False   \n",
              "5     43.412585       3.620  221.808352         6.565        False   \n",
              "6     52.963927       2.720  210.873332         8.324        False   \n",
              "7     74.145519       3.371  129.606067         5.644        False   \n",
              "8     26.041172       3.141  204.637673         7.484        False   \n",
              "9     28.162576       4.034  138.678283         8.252        False   \n",
              "10    87.287100       3.501  225.251831         6.664        False   \n",
              "11    32.901161       3.684  136.419500         4.584        False   \n",
              "12    13.863387       3.400  133.183419         7.771        False   \n",
              "13    82.433748       2.973  191.573192         7.241        False   \n",
              "14    18.991381       3.686  199.219532         7.557        False   \n",
              "15    47.289898       3.953  141.699086         8.744        False   \n",
              "16    40.998177       3.297  216.721737         7.716        False   \n",
              "17    78.219679       3.031  196.872892         6.589        False   \n",
              "18    26.881639       3.286  129.816710        10.148        False   \n",
              "19    26.845899       4.027  138.825600         4.145        False   \n",
              "20    94.118798       3.732  129.035710         6.906        False   \n",
              "22    37.803007       2.732  209.787093         8.554        False   \n",
              "23     0.002665       3.568  136.959839         7.467        False   \n",
              "24    79.670915       3.541  129.984548        12.890        False   \n",
              "25    34.904169       3.561  138.263000         9.419        False   \n",
              "26    98.120004       3.439  136.698129         8.988        False   \n",
              "27    98.774804       2.795  210.100065         8.200        False   \n",
              "28    97.157213       2.780  213.671682         7.343        False   \n",
              "29    74.121840       3.145  126.208548         9.524        False   \n",
              "30    90.401020       3.266  195.984169         6.759        False   \n",
              "31    71.976634       4.110  131.098323        11.627        False   \n",
              "32    57.922620       3.150  132.747742         9.331        False   \n",
              "33    27.618366       3.604  136.488452         4.420        False   \n",
              "34     0.345076       4.000  138.833613         4.145        False   \n",
              "35     2.730256       3.899  219.368356         7.574        False   \n",
              "36    93.180058       4.018  138.739500         7.405        False   \n",
              "37    65.538864       2.992  127.300935        10.398        False   \n",
              "38    80.894845       3.638  217.143828         6.925        False   \n",
              "39    85.106935       3.407  225.453758         6.334        False   \n",
              "40     1.941136       2.796  132.661613        10.409        False   \n",
              "41    98.616371       3.430  127.995250        14.021        False   \n",
              "42    28.589517       3.742  209.189389         7.274        False   \n",
              "43    53.346024       3.120  128.130000         7.470        False   \n",
              "44    -0.149522       3.638  134.068258         8.975        False   \n",
              "45    82.970891       2.971  210.237973         8.395        False   \n",
              "46    36.136754       3.159  222.691096         6.123        False   \n",
              "47    85.333454       3.504  129.089400         5.644        False   \n",
              "48    92.484757       3.008  191.667891         8.818        False   \n",
              "49     5.215949       2.958  181.853849         8.899        False   \n",
              "\n",
              "       MarkDowns  \n",
              "0   11510.700602  \n",
              "1   24165.431705  \n",
              "2   19370.705493  \n",
              "3    6796.118562  \n",
              "4   11864.397529  \n",
              "5   30935.470981  \n",
              "6   25919.656576  \n",
              "7   20599.253766  \n",
              "8    6502.358316  \n",
              "9   25154.063156  \n",
              "10  32113.050215  \n",
              "11  25933.408886  \n",
              "12  21123.857098  \n",
              "13  14238.045488  \n",
              "14  23692.140040  \n",
              "15  19792.408626  \n",
              "16   6976.577730  \n",
              "17  28511.243326  \n",
              "18  20362.580480  \n",
              "19  10660.873832  \n",
              "20  27636.664205  \n",
              "22  18370.563806  \n",
              "23  20779.937670  \n",
              "24  16884.690657  \n",
              "25  26115.883893  \n",
              "26  16221.886249  \n",
              "27  18904.425791  \n",
              "28  13327.707808  \n",
              "29  29608.200022  \n",
              "30  25813.700331  \n",
              "31  16897.982136  \n",
              "32  27023.397674  \n",
              "33  31672.206090  \n",
              "34  26737.443383  \n",
              "35  19839.091827  \n",
              "36  34213.587496  \n",
              "37  30454.433426  \n",
              "38  26181.001934  \n",
              "39  16424.035438  \n",
              "40  14677.808210  \n",
              "41  27691.223618  \n",
              "42  23505.033921  \n",
              "43  26253.247665  \n",
              "44  32991.774894  \n",
              "45   5905.669310  \n",
              "46  30197.511013  \n",
              "47  23687.481025  \n",
              "48  24570.032278  \n",
              "49  35612.969388  "
            ],
            "text/html": [
              "\n",
              "  <div id=\"df-47772087-c13e-4130-86a2-ec53b3cebcab\">\n",
              "    <div class=\"colab-df-container\">\n",
              "      <div>\n",
              "<style scoped>\n",
              "    .dataframe tbody tr th:only-of-type {\n",
              "        vertical-align: middle;\n",
              "    }\n",
              "\n",
              "    .dataframe tbody tr th {\n",
              "        vertical-align: top;\n",
              "    }\n",
              "\n",
              "    .dataframe thead th {\n",
              "        text-align: right;\n",
              "    }\n",
              "</style>\n",
              "<table border=\"1\" class=\"dataframe\">\n",
              "  <thead>\n",
              "    <tr style=\"text-align: right;\">\n",
              "      <th></th>\n",
              "      <th>Unnamed: 0</th>\n",
              "      <th>Store</th>\n",
              "      <th>Dept</th>\n",
              "      <th>Date</th>\n",
              "      <th>Weekly_Sales</th>\n",
              "      <th>IsHoliday_x</th>\n",
              "      <th>Temperature</th>\n",
              "      <th>Fuel_Price</th>\n",
              "      <th>CPI</th>\n",
              "      <th>Unemployment</th>\n",
              "      <th>IsHoliday_y</th>\n",
              "      <th>MarkDowns</th>\n",
              "    </tr>\n",
              "  </thead>\n",
              "  <tbody>\n",
              "    <tr>\n",
              "      <th>0</th>\n",
              "      <td>0</td>\n",
              "      <td>5</td>\n",
              "      <td>16</td>\n",
              "      <td>16/09/2011</td>\n",
              "      <td>564312.734549</td>\n",
              "      <td>False</td>\n",
              "      <td>32.687061</td>\n",
              "      <td>3.526</td>\n",
              "      <td>216.603308</td>\n",
              "      <td>6.529</td>\n",
              "      <td>False</td>\n",
              "      <td>11510.700602</td>\n",
              "    </tr>\n",
              "    <tr>\n",
              "      <th>1</th>\n",
              "      <td>1</td>\n",
              "      <td>21</td>\n",
              "      <td>52</td>\n",
              "      <td>24/06/2011</td>\n",
              "      <td>169199.146654</td>\n",
              "      <td>False</td>\n",
              "      <td>59.608361</td>\n",
              "      <td>3.594</td>\n",
              "      <td>214.744111</td>\n",
              "      <td>7.931</td>\n",
              "      <td>False</td>\n",
              "      <td>24165.431705</td>\n",
              "    </tr>\n",
              "    <tr>\n",
              "      <th>2</th>\n",
              "      <td>2</td>\n",
              "      <td>9</td>\n",
              "      <td>24</td>\n",
              "      <td>27/01/2012</td>\n",
              "      <td>76445.807545</td>\n",
              "      <td>False</td>\n",
              "      <td>16.623822</td>\n",
              "      <td>3.290</td>\n",
              "      <td>223.806053</td>\n",
              "      <td>5.667</td>\n",
              "      <td>False</td>\n",
              "      <td>19370.705493</td>\n",
              "    </tr>\n",
              "    <tr>\n",
              "      <th>3</th>\n",
              "      <td>3</td>\n",
              "      <td>6</td>\n",
              "      <td>60</td>\n",
              "      <td>05/08/2011</td>\n",
              "      <td>529384.632399</td>\n",
              "      <td>False</td>\n",
              "      <td>36.466380</td>\n",
              "      <td>3.684</td>\n",
              "      <td>217.083989</td>\n",
              "      <td>6.925</td>\n",
              "      <td>False</td>\n",
              "      <td>6796.118562</td>\n",
              "    </tr>\n",
              "    <tr>\n",
              "      <th>4</th>\n",
              "      <td>4</td>\n",
              "      <td>17</td>\n",
              "      <td>42</td>\n",
              "      <td>23/12/2011</td>\n",
              "      <td>590421.125970</td>\n",
              "      <td>False</td>\n",
              "      <td>92.396503</td>\n",
              "      <td>3.186</td>\n",
              "      <td>129.984548</td>\n",
              "      <td>6.617</td>\n",
              "      <td>False</td>\n",
              "      <td>11864.397529</td>\n",
              "    </tr>\n",
              "    <tr>\n",
              "      <th>5</th>\n",
              "      <td>5</td>\n",
              "      <td>31</td>\n",
              "      <td>87</td>\n",
              "      <td>24/08/2012</td>\n",
              "      <td>556894.615504</td>\n",
              "      <td>False</td>\n",
              "      <td>43.412585</td>\n",
              "      <td>3.620</td>\n",
              "      <td>221.808352</td>\n",
              "      <td>6.565</td>\n",
              "      <td>False</td>\n",
              "      <td>30935.470981</td>\n",
              "    </tr>\n",
              "    <tr>\n",
              "      <th>6</th>\n",
              "      <td>6</td>\n",
              "      <td>21</td>\n",
              "      <td>83</td>\n",
              "      <td>19/03/2010</td>\n",
              "      <td>682722.852234</td>\n",
              "      <td>False</td>\n",
              "      <td>52.963927</td>\n",
              "      <td>2.720</td>\n",
              "      <td>210.873332</td>\n",
              "      <td>8.324</td>\n",
              "      <td>False</td>\n",
              "      <td>25919.656576</td>\n",
              "    </tr>\n",
              "    <tr>\n",
              "      <th>7</th>\n",
              "      <td>7</td>\n",
              "      <td>4</td>\n",
              "      <td>29</td>\n",
              "      <td>30/09/2011</td>\n",
              "      <td>70387.018913</td>\n",
              "      <td>False</td>\n",
              "      <td>74.145519</td>\n",
              "      <td>3.371</td>\n",
              "      <td>129.606067</td>\n",
              "      <td>5.644</td>\n",
              "      <td>False</td>\n",
              "      <td>20599.253766</td>\n",
              "    </tr>\n",
              "    <tr>\n",
              "      <th>8</th>\n",
              "      <td>8</td>\n",
              "      <td>20</td>\n",
              "      <td>16</td>\n",
              "      <td>24/12/2010</td>\n",
              "      <td>326232.854841</td>\n",
              "      <td>False</td>\n",
              "      <td>26.041172</td>\n",
              "      <td>3.141</td>\n",
              "      <td>204.637673</td>\n",
              "      <td>7.484</td>\n",
              "      <td>False</td>\n",
              "      <td>6502.358316</td>\n",
              "    </tr>\n",
              "    <tr>\n",
              "      <th>9</th>\n",
              "      <td>9</td>\n",
              "      <td>22</td>\n",
              "      <td>46</td>\n",
              "      <td>27/05/2011</td>\n",
              "      <td>436981.323825</td>\n",
              "      <td>False</td>\n",
              "      <td>28.162576</td>\n",
              "      <td>4.034</td>\n",
              "      <td>138.678283</td>\n",
              "      <td>8.252</td>\n",
              "      <td>False</td>\n",
              "      <td>25154.063156</td>\n",
              "    </tr>\n",
              "    <tr>\n",
              "      <th>10</th>\n",
              "      <td>10</td>\n",
              "      <td>3</td>\n",
              "      <td>10</td>\n",
              "      <td>01/06/2012</td>\n",
              "      <td>262010.005704</td>\n",
              "      <td>False</td>\n",
              "      <td>87.287100</td>\n",
              "      <td>3.501</td>\n",
              "      <td>225.251831</td>\n",
              "      <td>6.664</td>\n",
              "      <td>False</td>\n",
              "      <td>32113.050215</td>\n",
              "    </tr>\n",
              "    <tr>\n",
              "      <th>11</th>\n",
              "      <td>11</td>\n",
              "      <td>40</td>\n",
              "      <td>52</td>\n",
              "      <td>30/09/2011</td>\n",
              "      <td>244885.308147</td>\n",
              "      <td>False</td>\n",
              "      <td>32.901161</td>\n",
              "      <td>3.684</td>\n",
              "      <td>136.419500</td>\n",
              "      <td>4.584</td>\n",
              "      <td>False</td>\n",
              "      <td>25933.408886</td>\n",
              "    </tr>\n",
              "    <tr>\n",
              "      <th>12</th>\n",
              "      <td>12</td>\n",
              "      <td>15</td>\n",
              "      <td>67</td>\n",
              "      <td>04/02/2011</td>\n",
              "      <td>597439.476292</td>\n",
              "      <td>False</td>\n",
              "      <td>13.863387</td>\n",
              "      <td>3.400</td>\n",
              "      <td>133.183419</td>\n",
              "      <td>7.771</td>\n",
              "      <td>False</td>\n",
              "      <td>21123.857098</td>\n",
              "    </tr>\n",
              "    <tr>\n",
              "      <th>13</th>\n",
              "      <td>13</td>\n",
              "      <td>41</td>\n",
              "      <td>6</td>\n",
              "      <td>21/01/2011</td>\n",
              "      <td>21762.861684</td>\n",
              "      <td>False</td>\n",
              "      <td>82.433748</td>\n",
              "      <td>2.973</td>\n",
              "      <td>191.573192</td>\n",
              "      <td>7.241</td>\n",
              "      <td>False</td>\n",
              "      <td>14238.045488</td>\n",
              "    </tr>\n",
              "    <tr>\n",
              "      <th>14</th>\n",
              "      <td>14</td>\n",
              "      <td>7</td>\n",
              "      <td>11</td>\n",
              "      <td>26/10/2012</td>\n",
              "      <td>243937.781590</td>\n",
              "      <td>False</td>\n",
              "      <td>18.991381</td>\n",
              "      <td>3.686</td>\n",
              "      <td>199.219532</td>\n",
              "      <td>7.557</td>\n",
              "      <td>False</td>\n",
              "      <td>23692.140040</td>\n",
              "    </tr>\n",
              "    <tr>\n",
              "      <th>15</th>\n",
              "      <td>15</td>\n",
              "      <td>35</td>\n",
              "      <td>16</td>\n",
              "      <td>30/03/2012</td>\n",
              "      <td>219614.970611</td>\n",
              "      <td>False</td>\n",
              "      <td>47.289898</td>\n",
              "      <td>3.953</td>\n",
              "      <td>141.699086</td>\n",
              "      <td>8.744</td>\n",
              "      <td>False</td>\n",
              "      <td>19792.408626</td>\n",
              "    </tr>\n",
              "    <tr>\n",
              "      <th>16</th>\n",
              "      <td>16</td>\n",
              "      <td>37</td>\n",
              "      <td>60</td>\n",
              "      <td>11/11/2011</td>\n",
              "      <td>431847.309472</td>\n",
              "      <td>False</td>\n",
              "      <td>40.998177</td>\n",
              "      <td>3.297</td>\n",
              "      <td>216.721737</td>\n",
              "      <td>7.716</td>\n",
              "      <td>False</td>\n",
              "      <td>6976.577730</td>\n",
              "    </tr>\n",
              "    <tr>\n",
              "      <th>17</th>\n",
              "      <td>17</td>\n",
              "      <td>41</td>\n",
              "      <td>17</td>\n",
              "      <td>03/02/2012</td>\n",
              "      <td>154808.001476</td>\n",
              "      <td>False</td>\n",
              "      <td>78.219679</td>\n",
              "      <td>3.031</td>\n",
              "      <td>196.872892</td>\n",
              "      <td>6.589</td>\n",
              "      <td>False</td>\n",
              "      <td>28511.243326</td>\n",
              "    </tr>\n",
              "    <tr>\n",
              "      <th>18</th>\n",
              "      <td>18</td>\n",
              "      <td>34</td>\n",
              "      <td>85</td>\n",
              "      <td>11/11/2011</td>\n",
              "      <td>433842.256150</td>\n",
              "      <td>False</td>\n",
              "      <td>26.881639</td>\n",
              "      <td>3.286</td>\n",
              "      <td>129.816710</td>\n",
              "      <td>10.148</td>\n",
              "      <td>False</td>\n",
              "      <td>20362.580480</td>\n",
              "    </tr>\n",
              "    <tr>\n",
              "      <th>19</th>\n",
              "      <td>19</td>\n",
              "      <td>23</td>\n",
              "      <td>18</td>\n",
              "      <td>05/10/2012</td>\n",
              "      <td>160021.579843</td>\n",
              "      <td>False</td>\n",
              "      <td>26.845899</td>\n",
              "      <td>4.027</td>\n",
              "      <td>138.825600</td>\n",
              "      <td>4.145</td>\n",
              "      <td>False</td>\n",
              "      <td>10660.873832</td>\n",
              "    </tr>\n",
              "    <tr>\n",
              "      <th>20</th>\n",
              "      <td>20</td>\n",
              "      <td>44</td>\n",
              "      <td>95</td>\n",
              "      <td>10/06/2011</td>\n",
              "      <td>209307.539122</td>\n",
              "      <td>False</td>\n",
              "      <td>94.118798</td>\n",
              "      <td>3.732</td>\n",
              "      <td>129.035710</td>\n",
              "      <td>6.906</td>\n",
              "      <td>False</td>\n",
              "      <td>27636.664205</td>\n",
              "    </tr>\n",
              "    <tr>\n",
              "      <th>22</th>\n",
              "      <td>22</td>\n",
              "      <td>37</td>\n",
              "      <td>12</td>\n",
              "      <td>26/03/2010</td>\n",
              "      <td>573752.531842</td>\n",
              "      <td>False</td>\n",
              "      <td>37.803007</td>\n",
              "      <td>2.732</td>\n",
              "      <td>209.787093</td>\n",
              "      <td>8.554</td>\n",
              "      <td>False</td>\n",
              "      <td>18370.563806</td>\n",
              "    </tr>\n",
              "    <tr>\n",
              "      <th>23</th>\n",
              "      <td>23</td>\n",
              "      <td>26</td>\n",
              "      <td>4</td>\n",
              "      <td>27/01/2012</td>\n",
              "      <td>157487.926303</td>\n",
              "      <td>False</td>\n",
              "      <td>0.002665</td>\n",
              "      <td>3.568</td>\n",
              "      <td>136.959839</td>\n",
              "      <td>7.467</td>\n",
              "      <td>False</td>\n",
              "      <td>20779.937670</td>\n",
              "    </tr>\n",
              "    <tr>\n",
              "      <th>24</th>\n",
              "      <td>24</td>\n",
              "      <td>38</td>\n",
              "      <td>3</td>\n",
              "      <td>23/12/2011</td>\n",
              "      <td>111586.263927</td>\n",
              "      <td>False</td>\n",
              "      <td>79.670915</td>\n",
              "      <td>3.541</td>\n",
              "      <td>129.984548</td>\n",
              "      <td>12.890</td>\n",
              "      <td>False</td>\n",
              "      <td>16884.690657</td>\n",
              "    </tr>\n",
              "    <tr>\n",
              "      <th>25</th>\n",
              "      <td>25</td>\n",
              "      <td>29</td>\n",
              "      <td>93</td>\n",
              "      <td>13/07/2012</td>\n",
              "      <td>579914.681875</td>\n",
              "      <td>False</td>\n",
              "      <td>34.904169</td>\n",
              "      <td>3.561</td>\n",
              "      <td>138.263000</td>\n",
              "      <td>9.419</td>\n",
              "      <td>False</td>\n",
              "      <td>26115.883893</td>\n",
              "    </tr>\n",
              "    <tr>\n",
              "      <th>26</th>\n",
              "      <td>26</td>\n",
              "      <td>29</td>\n",
              "      <td>97</td>\n",
              "      <td>06/01/2012</td>\n",
              "      <td>54620.024555</td>\n",
              "      <td>False</td>\n",
              "      <td>98.120004</td>\n",
              "      <td>3.439</td>\n",
              "      <td>136.698129</td>\n",
              "      <td>8.988</td>\n",
              "      <td>False</td>\n",
              "      <td>16221.886249</td>\n",
              "    </tr>\n",
              "    <tr>\n",
              "      <th>27</th>\n",
              "      <td>27</td>\n",
              "      <td>31</td>\n",
              "      <td>67</td>\n",
              "      <td>23/04/2010</td>\n",
              "      <td>231845.276554</td>\n",
              "      <td>False</td>\n",
              "      <td>98.774804</td>\n",
              "      <td>2.795</td>\n",
              "      <td>210.100065</td>\n",
              "      <td>8.200</td>\n",
              "      <td>False</td>\n",
              "      <td>18904.425791</td>\n",
              "    </tr>\n",
              "    <tr>\n",
              "      <th>28</th>\n",
              "      <td>28</td>\n",
              "      <td>11</td>\n",
              "      <td>98</td>\n",
              "      <td>30/04/2010</td>\n",
              "      <td>154893.144937</td>\n",
              "      <td>False</td>\n",
              "      <td>97.157213</td>\n",
              "      <td>2.780</td>\n",
              "      <td>213.671682</td>\n",
              "      <td>7.343</td>\n",
              "      <td>False</td>\n",
              "      <td>13327.707808</td>\n",
              "    </tr>\n",
              "    <tr>\n",
              "      <th>29</th>\n",
              "      <td>29</td>\n",
              "      <td>10</td>\n",
              "      <td>28</td>\n",
              "      <td>14/05/2010</td>\n",
              "      <td>180546.910106</td>\n",
              "      <td>False</td>\n",
              "      <td>74.121840</td>\n",
              "      <td>3.145</td>\n",
              "      <td>126.208548</td>\n",
              "      <td>9.524</td>\n",
              "      <td>False</td>\n",
              "      <td>29608.200022</td>\n",
              "    </tr>\n",
              "    <tr>\n",
              "      <th>30</th>\n",
              "      <td>30</td>\n",
              "      <td>41</td>\n",
              "      <td>10</td>\n",
              "      <td>16/12/2011</td>\n",
              "      <td>11877.665598</td>\n",
              "      <td>False</td>\n",
              "      <td>90.401020</td>\n",
              "      <td>3.266</td>\n",
              "      <td>195.984169</td>\n",
              "      <td>6.759</td>\n",
              "      <td>False</td>\n",
              "      <td>25813.700331</td>\n",
              "    </tr>\n",
              "    <tr>\n",
              "      <th>31</th>\n",
              "      <td>31</td>\n",
              "      <td>28</td>\n",
              "      <td>2</td>\n",
              "      <td>18/05/2012</td>\n",
              "      <td>496273.415525</td>\n",
              "      <td>False</td>\n",
              "      <td>71.976634</td>\n",
              "      <td>4.110</td>\n",
              "      <td>131.098323</td>\n",
              "      <td>11.627</td>\n",
              "      <td>False</td>\n",
              "      <td>16897.982136</td>\n",
              "    </tr>\n",
              "    <tr>\n",
              "      <th>32</th>\n",
              "      <td>32</td>\n",
              "      <td>18</td>\n",
              "      <td>27</td>\n",
              "      <td>24/12/2010</td>\n",
              "      <td>115095.817358</td>\n",
              "      <td>False</td>\n",
              "      <td>57.922620</td>\n",
              "      <td>3.150</td>\n",
              "      <td>132.747742</td>\n",
              "      <td>9.331</td>\n",
              "      <td>False</td>\n",
              "      <td>27023.397674</td>\n",
              "    </tr>\n",
              "    <tr>\n",
              "      <th>33</th>\n",
              "      <td>33</td>\n",
              "      <td>23</td>\n",
              "      <td>59</td>\n",
              "      <td>28/10/2011</td>\n",
              "      <td>244965.215954</td>\n",
              "      <td>False</td>\n",
              "      <td>27.618366</td>\n",
              "      <td>3.604</td>\n",
              "      <td>136.488452</td>\n",
              "      <td>4.420</td>\n",
              "      <td>False</td>\n",
              "      <td>31672.206090</td>\n",
              "    </tr>\n",
              "    <tr>\n",
              "      <th>34</th>\n",
              "      <td>34</td>\n",
              "      <td>23</td>\n",
              "      <td>93</td>\n",
              "      <td>19/10/2012</td>\n",
              "      <td>151738.075188</td>\n",
              "      <td>False</td>\n",
              "      <td>0.345076</td>\n",
              "      <td>4.000</td>\n",
              "      <td>138.833613</td>\n",
              "      <td>4.145</td>\n",
              "      <td>False</td>\n",
              "      <td>26737.443383</td>\n",
              "    </tr>\n",
              "    <tr>\n",
              "      <th>35</th>\n",
              "      <td>35</td>\n",
              "      <td>11</td>\n",
              "      <td>21</td>\n",
              "      <td>13/05/2011</td>\n",
              "      <td>466532.866774</td>\n",
              "      <td>False</td>\n",
              "      <td>2.730256</td>\n",
              "      <td>3.899</td>\n",
              "      <td>219.368356</td>\n",
              "      <td>7.574</td>\n",
              "      <td>False</td>\n",
              "      <td>19839.091827</td>\n",
              "    </tr>\n",
              "    <tr>\n",
              "      <th>36</th>\n",
              "      <td>36</td>\n",
              "      <td>26</td>\n",
              "      <td>55</td>\n",
              "      <td>28/09/2012</td>\n",
              "      <td>558490.605774</td>\n",
              "      <td>False</td>\n",
              "      <td>93.180058</td>\n",
              "      <td>4.018</td>\n",
              "      <td>138.739500</td>\n",
              "      <td>7.405</td>\n",
              "      <td>False</td>\n",
              "      <td>34213.587496</td>\n",
              "    </tr>\n",
              "    <tr>\n",
              "      <th>37</th>\n",
              "      <td>37</td>\n",
              "      <td>34</td>\n",
              "      <td>26</td>\n",
              "      <td>14/01/2011</td>\n",
              "      <td>205409.740709</td>\n",
              "      <td>False</td>\n",
              "      <td>65.538864</td>\n",
              "      <td>2.992</td>\n",
              "      <td>127.300935</td>\n",
              "      <td>10.398</td>\n",
              "      <td>False</td>\n",
              "      <td>30454.433426</td>\n",
              "    </tr>\n",
              "    <tr>\n",
              "      <th>38</th>\n",
              "      <td>38</td>\n",
              "      <td>6</td>\n",
              "      <td>28</td>\n",
              "      <td>12/08/2011</td>\n",
              "      <td>138892.705488</td>\n",
              "      <td>False</td>\n",
              "      <td>80.894845</td>\n",
              "      <td>3.638</td>\n",
              "      <td>217.143828</td>\n",
              "      <td>6.925</td>\n",
              "      <td>False</td>\n",
              "      <td>26181.001934</td>\n",
              "    </tr>\n",
              "    <tr>\n",
              "      <th>39</th>\n",
              "      <td>39</td>\n",
              "      <td>3</td>\n",
              "      <td>11</td>\n",
              "      <td>27/07/2012</td>\n",
              "      <td>40542.176288</td>\n",
              "      <td>False</td>\n",
              "      <td>85.106935</td>\n",
              "      <td>3.407</td>\n",
              "      <td>225.453758</td>\n",
              "      <td>6.334</td>\n",
              "      <td>False</td>\n",
              "      <td>16424.035438</td>\n",
              "    </tr>\n",
              "    <tr>\n",
              "      <th>40</th>\n",
              "      <td>40</td>\n",
              "      <td>29</td>\n",
              "      <td>58</td>\n",
              "      <td>20/08/2010</td>\n",
              "      <td>463575.497373</td>\n",
              "      <td>False</td>\n",
              "      <td>1.941136</td>\n",
              "      <td>2.796</td>\n",
              "      <td>132.661613</td>\n",
              "      <td>10.409</td>\n",
              "      <td>False</td>\n",
              "      <td>14677.808210</td>\n",
              "    </tr>\n",
              "    <tr>\n",
              "      <th>41</th>\n",
              "      <td>41</td>\n",
              "      <td>38</td>\n",
              "      <td>33</td>\n",
              "      <td>18/02/2011</td>\n",
              "      <td>196851.093025</td>\n",
              "      <td>False</td>\n",
              "      <td>98.616371</td>\n",
              "      <td>3.430</td>\n",
              "      <td>127.995250</td>\n",
              "      <td>14.021</td>\n",
              "      <td>False</td>\n",
              "      <td>27691.223618</td>\n",
              "    </tr>\n",
              "    <tr>\n",
              "      <th>42</th>\n",
              "      <td>42</td>\n",
              "      <td>25</td>\n",
              "      <td>2</td>\n",
              "      <td>16/09/2011</td>\n",
              "      <td>112670.307851</td>\n",
              "      <td>False</td>\n",
              "      <td>28.589517</td>\n",
              "      <td>3.742</td>\n",
              "      <td>209.189389</td>\n",
              "      <td>7.274</td>\n",
              "      <td>False</td>\n",
              "      <td>23505.033921</td>\n",
              "    </tr>\n",
              "    <tr>\n",
              "      <th>43</th>\n",
              "      <td>43</td>\n",
              "      <td>13</td>\n",
              "      <td>42</td>\n",
              "      <td>25/02/2011</td>\n",
              "      <td>298515.039013</td>\n",
              "      <td>False</td>\n",
              "      <td>53.346024</td>\n",
              "      <td>3.120</td>\n",
              "      <td>128.130000</td>\n",
              "      <td>7.470</td>\n",
              "      <td>False</td>\n",
              "      <td>26253.247665</td>\n",
              "    </tr>\n",
              "    <tr>\n",
              "      <th>44</th>\n",
              "      <td>44</td>\n",
              "      <td>18</td>\n",
              "      <td>29</td>\n",
              "      <td>01/04/2011</td>\n",
              "      <td>133058.443310</td>\n",
              "      <td>False</td>\n",
              "      <td>-0.149522</td>\n",
              "      <td>3.638</td>\n",
              "      <td>134.068258</td>\n",
              "      <td>8.975</td>\n",
              "      <td>False</td>\n",
              "      <td>32991.774894</td>\n",
              "    </tr>\n",
              "    <tr>\n",
              "      <th>45</th>\n",
              "      <td>45</td>\n",
              "      <td>36</td>\n",
              "      <td>18</td>\n",
              "      <td>14/01/2011</td>\n",
              "      <td>501732.033675</td>\n",
              "      <td>False</td>\n",
              "      <td>82.970891</td>\n",
              "      <td>2.971</td>\n",
              "      <td>210.237973</td>\n",
              "      <td>8.395</td>\n",
              "      <td>False</td>\n",
              "      <td>5905.669310</td>\n",
              "    </tr>\n",
              "    <tr>\n",
              "      <th>46</th>\n",
              "      <td>46</td>\n",
              "      <td>8</td>\n",
              "      <td>52</td>\n",
              "      <td>16/12/2011</td>\n",
              "      <td>511344.300626</td>\n",
              "      <td>False</td>\n",
              "      <td>36.136754</td>\n",
              "      <td>3.159</td>\n",
              "      <td>222.691096</td>\n",
              "      <td>6.123</td>\n",
              "      <td>False</td>\n",
              "      <td>30197.511013</td>\n",
              "    </tr>\n",
              "    <tr>\n",
              "      <th>47</th>\n",
              "      <td>47</td>\n",
              "      <td>4</td>\n",
              "      <td>17</td>\n",
              "      <td>01/07/2011</td>\n",
              "      <td>658657.978555</td>\n",
              "      <td>False</td>\n",
              "      <td>85.333454</td>\n",
              "      <td>3.504</td>\n",
              "      <td>129.089400</td>\n",
              "      <td>5.644</td>\n",
              "      <td>False</td>\n",
              "      <td>23687.481025</td>\n",
              "    </tr>\n",
              "    <tr>\n",
              "      <th>48</th>\n",
              "      <td>48</td>\n",
              "      <td>7</td>\n",
              "      <td>35</td>\n",
              "      <td>28/01/2011</td>\n",
              "      <td>177237.663564</td>\n",
              "      <td>False</td>\n",
              "      <td>92.484757</td>\n",
              "      <td>3.008</td>\n",
              "      <td>191.667891</td>\n",
              "      <td>8.818</td>\n",
              "      <td>False</td>\n",
              "      <td>24570.032278</td>\n",
              "    </tr>\n",
              "    <tr>\n",
              "      <th>49</th>\n",
              "      <td>49</td>\n",
              "      <td>45</td>\n",
              "      <td>97</td>\n",
              "      <td>21/05/2010</td>\n",
              "      <td>457611.075096</td>\n",
              "      <td>False</td>\n",
              "      <td>5.215949</td>\n",
              "      <td>2.958</td>\n",
              "      <td>181.853849</td>\n",
              "      <td>8.899</td>\n",
              "      <td>False</td>\n",
              "      <td>35612.969388</td>\n",
              "    </tr>\n",
              "  </tbody>\n",
              "</table>\n",
              "</div>\n",
              "      <button class=\"colab-df-convert\" onclick=\"convertToInteractive('df-47772087-c13e-4130-86a2-ec53b3cebcab')\"\n",
              "              title=\"Convert this dataframe to an interactive table.\"\n",
              "              style=\"display:none;\">\n",
              "        \n",
              "  <svg xmlns=\"http://www.w3.org/2000/svg\" height=\"24px\"viewBox=\"0 0 24 24\"\n",
              "       width=\"24px\">\n",
              "    <path d=\"M0 0h24v24H0V0z\" fill=\"none\"/>\n",
              "    <path d=\"M18.56 5.44l.94 2.06.94-2.06 2.06-.94-2.06-.94-.94-2.06-.94 2.06-2.06.94zm-11 1L8.5 8.5l.94-2.06 2.06-.94-2.06-.94L8.5 2.5l-.94 2.06-2.06.94zm10 10l.94 2.06.94-2.06 2.06-.94-2.06-.94-.94-2.06-.94 2.06-2.06.94z\"/><path d=\"M17.41 7.96l-1.37-1.37c-.4-.4-.92-.59-1.43-.59-.52 0-1.04.2-1.43.59L10.3 9.45l-7.72 7.72c-.78.78-.78 2.05 0 2.83L4 21.41c.39.39.9.59 1.41.59.51 0 1.02-.2 1.41-.59l7.78-7.78 2.81-2.81c.8-.78.8-2.07 0-2.86zM5.41 20L4 18.59l7.72-7.72 1.47 1.35L5.41 20z\"/>\n",
              "  </svg>\n",
              "      </button>\n",
              "      \n",
              "  <style>\n",
              "    .colab-df-container {\n",
              "      display:flex;\n",
              "      flex-wrap:wrap;\n",
              "      gap: 12px;\n",
              "    }\n",
              "\n",
              "    .colab-df-convert {\n",
              "      background-color: #E8F0FE;\n",
              "      border: none;\n",
              "      border-radius: 50%;\n",
              "      cursor: pointer;\n",
              "      display: none;\n",
              "      fill: #1967D2;\n",
              "      height: 32px;\n",
              "      padding: 0 0 0 0;\n",
              "      width: 32px;\n",
              "    }\n",
              "\n",
              "    .colab-df-convert:hover {\n",
              "      background-color: #E2EBFA;\n",
              "      box-shadow: 0px 1px 2px rgba(60, 64, 67, 0.3), 0px 1px 3px 1px rgba(60, 64, 67, 0.15);\n",
              "      fill: #174EA6;\n",
              "    }\n",
              "\n",
              "    [theme=dark] .colab-df-convert {\n",
              "      background-color: #3B4455;\n",
              "      fill: #D2E3FC;\n",
              "    }\n",
              "\n",
              "    [theme=dark] .colab-df-convert:hover {\n",
              "      background-color: #434B5C;\n",
              "      box-shadow: 0px 1px 3px 1px rgba(0, 0, 0, 0.15);\n",
              "      filter: drop-shadow(0px 1px 2px rgba(0, 0, 0, 0.3));\n",
              "      fill: #FFFFFF;\n",
              "    }\n",
              "  </style>\n",
              "\n",
              "      <script>\n",
              "        const buttonEl =\n",
              "          document.querySelector('#df-47772087-c13e-4130-86a2-ec53b3cebcab button.colab-df-convert');\n",
              "        buttonEl.style.display =\n",
              "          google.colab.kernel.accessAllowed ? 'block' : 'none';\n",
              "\n",
              "        async function convertToInteractive(key) {\n",
              "          const element = document.querySelector('#df-47772087-c13e-4130-86a2-ec53b3cebcab');\n",
              "          const dataTable =\n",
              "            await google.colab.kernel.invokeFunction('convertToInteractive',\n",
              "                                                     [key], {});\n",
              "          if (!dataTable) return;\n",
              "\n",
              "          const docLinkHtml = 'Like what you see? Visit the ' +\n",
              "            '<a target=\"_blank\" href=https://colab.research.google.com/notebooks/data_table.ipynb>data table notebook</a>'\n",
              "            + ' to learn more about interactive tables.';\n",
              "          element.innerHTML = '';\n",
              "          dataTable['output_type'] = 'display_data';\n",
              "          await google.colab.output.renderOutput(dataTable, element);\n",
              "          const docLink = document.createElement('div');\n",
              "          docLink.innerHTML = docLinkHtml;\n",
              "          element.appendChild(docLink);\n",
              "        }\n",
              "      </script>\n",
              "    </div>\n",
              "  </div>\n",
              "  "
            ]
          },
          "metadata": {},
          "execution_count": 109
        }
      ]
    },
    {
      "cell_type": "code",
      "source": [
        "Tabla_1_processed_Holiday.plot(kind = 'scatter', x = 'Store', y =  'Weekly_Sales')\n",
        "plt.show()"
      ],
      "metadata": {
        "colab": {
          "base_uri": "https://localhost:8080/",
          "height": 282
        },
        "outputId": "5422f7d4-0396-4128-bc22-40a101456a25",
        "id": "XovIJhu4EoiA"
      },
      "execution_count": 110,
      "outputs": [
        {
          "output_type": "display_data",
          "data": {
            "text/plain": [
              "<Figure size 432x288 with 1 Axes>"
            ],
            "image/png": "[encoded data removed]"
          },
          "metadata": {
            "needs_background": "light"
          }
        }
      ]
    },
    {
      "cell_type": "markdown",
      "source": [
        "Al observar que entre los datos de Tabla_1 solo se puede encontrar un día festivo, los datos no serán separados y se analizarán todos juntos."
      ],
      "metadata": {
        "id": "-fAsXDf3umgU"
      }
    },
    {
      "cell_type": "code",
      "source": [
        "#se crean arrays para las características y la variable de destino en el caso de dias no festivos.\n",
        "y_Tabla_1 = Tabla_1_processed[\"Weekly_Sales\"].values\n",
        "X_Tabla_1 = Tabla_1_processed[[\"Dept\",\"Fuel_Price\", \"CPI\", \"Unemployment\", \"MarkDowns\"]].values"
      ],
      "metadata": {
        "id": "k_uPlNsDEoiB"
      },
      "execution_count": 111,
      "outputs": []
    },
    {
      "cell_type": "code",
      "source": [
        "#realiza una predicción en base a los datos de testeo\n",
        "y_pred_Tabla_1 = knn3.predict(X_Tabla_1)\n",
        "#se imprime las predicciones realizadas\n",
        "print(\"Predicciones en base a los datos de Tabla_1 en los dias no festivos:\\n{}\".format(y_pred_Tabla_1))"
      ],
      "metadata": {
        "colab": {
          "base_uri": "https://localhost:8080/"
        },
        "id": "4psa665JVcbH",
        "outputId": "ed0c8bf4-5185-4b45-ff40-e303edf57f95"
      },
      "execution_count": 112,
      "outputs": [
        {
          "output_type": "stream",
          "name": "stdout",
          "text": [
            "Predicciones en base a los datos de Tabla_1 en los dias no festivos:\n",
            "[ 17004.628   2830.918  14663.636   2631.344  31253.568  15554.6\n",
            "  22580.674   3965.104  19654.926  11664.368  16353.188   5539.076\n",
            "   5645.102  25450.558  18102.944   6266.674   1997.132   8532.994\n",
            "  10432.938   8213.246 107520.406   2925.86   12410.71   30695.56\n",
            "  15779.352 105790.432  15896.146  27298.894  15528.074   5460.754\n",
            "  36517.084  15779.352   7873.18    2121.446  18108.77    6609.732\n",
            "   2121.446   5122.122   7145.898  56274.806   1452.306   8134.244\n",
            "  24613.502  49663.074   3200.448   5214.48    4817.994   9279.87\n",
            "   3951.378  21804.656]\n"
          ]
        }
      ]
    },
    {
      "cell_type": "code",
      "source": [
        "error_porcentual_KNN= (abs(y_pred_Tabla_1 - y_Tabla_1)*100)/y_Tabla_1\n",
        "print(error_porcentual_KNN)"
      ],
      "metadata": {
        "colab": {
          "base_uri": "https://localhost:8080/"
        },
        "id": "vEUeM3GbPUEF",
        "outputId": "92191432-7684-4943-9a72-0fbcbc15546d"
      },
      "execution_count": 178,
      "outputs": [
        {
          "output_type": "stream",
          "name": "stdout",
          "text": [
            "[ 96.98666591  98.32687218  80.81826006  99.50294288  94.7065634\n",
            "  97.20690422  96.69255629  94.36671128  93.97518499  97.33069416\n",
            "  93.75856355  97.73809379  99.05511734  16.94490536  92.57886832\n",
            "  97.14651784  99.53753747  94.48801488  97.59522318  94.8674135\n",
            "  48.63041893  99.53252108  97.83692283  80.50926143  85.85905519\n",
            "  81.75758688  70.89685307  88.22538272  89.97497662  96.97543758\n",
            " 207.4432741   96.82043174  93.15945602  99.13398072  88.06577059\n",
            "  98.58322265  99.62014652  97.50638797  94.85509482  38.80558755\n",
            "  99.6867164   95.86781873  78.15440246  83.36329246  97.59470506\n",
            "  98.96070419  99.05777888  98.59109427  97.77057657  95.23511183]\n"
          ]
        }
      ]
    },
    {
      "cell_type": "markdown",
      "source": [
        "Tras analizar los datos obtenidos se observa que KNN no da una estimación certera de los datos, dado a que el set que mejor predicciones puede entregar posee una accuracy cercana al 28,9% es por ello que la predicción obtenida no es confiable y se recomienda buscar otra metodología más adecuada a el conjunto de datos con el cual se debe llevar a cabo el entrenamiento para la predicción necesaria."
      ],
      "metadata": {
        "id": "sv1X7XFIw-J-"
      }
    },
    {
      "cell_type": "markdown",
      "source": [
        "# RF"
      ],
      "metadata": {
        "id": "humWLUuzv_gu"
      }
    },
    {
      "cell_type": "markdown",
      "source": [
        "Dado a que el comportamiento entre RF y KNN difiere, se usarán las mismas variantes en sus respectivos sets para comparar los resultados."
      ],
      "metadata": {
        "id": "s9h0F3IyE83W"
      }
    },
    {
      "cell_type": "markdown",
      "source": [
        "## Primer set\n",
        "Haciendo uso de los datos disponibilisados se trabajará analizando por separado los dias festivos y no festivos."
      ],
      "metadata": {
        "id": "V5ZSLQbZJWkD"
      }
    },
    {
      "cell_type": "markdown",
      "source": [
        "### Datos no festivos:"
      ],
      "metadata": {
        "id": "olBNwGKDJWkR"
      }
    },
    {
      "cell_type": "code",
      "source": [
        "#crea un modelo de random forest con los valores predeterminados.\n",
        "rf = RandomForestRegressor()\n",
        "#entrenamos el regresor\n",
        "rf.fit(X_train, y_train)\n"
      ],
      "metadata": {
        "colab": {
          "base_uri": "https://localhost:8080/"
        },
        "id": "qp8MJML0DWpX",
        "outputId": "fbe9c440-209d-45a6-bb5c-abd28593d651"
      },
      "execution_count": 131,
      "outputs": [
        {
          "output_type": "execute_result",
          "data": {
            "text/plain": [
              "RandomForestRegressor()"
            ]
          },
          "metadata": {},
          "execution_count": 131
        }
      ]
    },
    {
      "cell_type": "code",
      "source": [
        "#se verifica el accuracy promedio con los datos de testeo a través de la función .score\n",
        "score_rf = rf.score(X_test, y_test)\n",
        "score_rf"
      ],
      "metadata": {
        "colab": {
          "base_uri": "https://localhost:8080/"
        },
        "outputId": "66d6e6c3-0bf4-4ba1-de8b-f1a5a480fa5a",
        "id": "I6BzDKb0GH9_"
      },
      "execution_count": null,
      "outputs": [
        {
          "output_type": "execute_result",
          "data": {
            "text/plain": [
              "0.8212497016695871"
            ]
          },
          "metadata": {},
          "execution_count": 116
        }
      ]
    },
    {
      "cell_type": "markdown",
      "source": [
        "### Datos festivos:"
      ],
      "metadata": {
        "id": "KZFhgKMkJWkR"
      }
    },
    {
      "cell_type": "code",
      "source": [
        "#crea un modelo de random forest con los valores predeterminados.\n",
        "rf_H = RandomForestRegressor()\n",
        "#entrenamos el regresor\n",
        "rf_H.fit(X_train_H, y_train_H)\n"
      ],
      "metadata": {
        "colab": {
          "base_uri": "https://localhost:8080/"
        },
        "outputId": "5c358039-e026-44ea-b436-40dfabb5fbc8",
        "id": "dmHw_zxPWT6M"
      },
      "execution_count": 132,
      "outputs": [
        {
          "output_type": "execute_result",
          "data": {
            "text/plain": [
              "RandomForestRegressor()"
            ]
          },
          "metadata": {},
          "execution_count": 132
        }
      ]
    },
    {
      "cell_type": "code",
      "source": [
        "#se verifica la precisión con los datos de testeo a través de la función .score que calcula el coeficiente de determinación de la predicción.\n",
        "score_rf_H = rf.score(X_test_H, y_test_H)\n",
        "score_rf_H"
      ],
      "metadata": {
        "colab": {
          "base_uri": "https://localhost:8080/"
        },
        "outputId": "4d669aa4-4b5b-468c-a687-cd3754aad352",
        "id": "W6kn9_cZWT6M"
      },
      "execution_count": 133,
      "outputs": [
        {
          "output_type": "execute_result",
          "data": {
            "text/plain": [
              "-0.32081638389821254"
            ]
          },
          "metadata": {},
          "execution_count": 133
        }
      ]
    },
    {
      "cell_type": "markdown",
      "source": [
        "## Segundo set\n",
        "Donde se realiza un balanceo de datos para la columna \"Weekly_Sales\""
      ],
      "metadata": {
        "id": "djPtZeOpJXi3"
      }
    },
    {
      "cell_type": "markdown",
      "source": [
        "### Datos no festivos:"
      ],
      "metadata": {
        "id": "lmg3M_zBJXi3"
      }
    },
    {
      "cell_type": "code",
      "source": [
        "#crea un modelo de random forest con los valores predeterminados.\n",
        "rf2 = RandomForestRegressor()\n",
        "#entrenamos el regresor\n",
        "rf2.fit(X_train2, y_train2)\n"
      ],
      "metadata": {
        "colab": {
          "base_uri": "https://localhost:8080/"
        },
        "outputId": "879a0403-a60c-4403-d155-5dc58340e2ca",
        "id": "s56n8P9E0Mmy"
      },
      "execution_count": 134,
      "outputs": [
        {
          "output_type": "execute_result",
          "data": {
            "text/plain": [
              "RandomForestRegressor()"
            ]
          },
          "metadata": {},
          "execution_count": 134
        }
      ]
    },
    {
      "cell_type": "code",
      "source": [
        "#se verifica la precisión con los datos de testeo a través de la función .score que calcula el coeficiente de determinación de la predicción.\n",
        "score_rf2 = rf2.score(X_test2, y_test2)\n",
        "score_rf2"
      ],
      "metadata": {
        "colab": {
          "base_uri": "https://localhost:8080/"
        },
        "outputId": "6832261d-4753-44b6-ccb8-26d96bad9deb",
        "id": "EhVyEU_d0Mmz"
      },
      "execution_count": 135,
      "outputs": [
        {
          "output_type": "execute_result",
          "data": {
            "text/plain": [
              "0.8351715204099831"
            ]
          },
          "metadata": {},
          "execution_count": 135
        }
      ]
    },
    {
      "cell_type": "markdown",
      "source": [
        "### Datos festivos:"
      ],
      "metadata": {
        "id": "R5MCOwZrJXi3"
      }
    },
    {
      "cell_type": "code",
      "source": [
        "#crea un modelo de random forest con los valores predeterminados.\n",
        "rf_H2 = RandomForestRegressor()\n",
        "#entrenamos el regresor\n",
        "rf_H2.fit(X_train_H2, y_train_H2)\n"
      ],
      "metadata": {
        "colab": {
          "base_uri": "https://localhost:8080/"
        },
        "outputId": "b01cf6b4-8c3e-4ae3-a388-053bc102e55c",
        "id": "zqDEAUdX0Nw3"
      },
      "execution_count": 136,
      "outputs": [
        {
          "output_type": "execute_result",
          "data": {
            "text/plain": [
              "RandomForestRegressor()"
            ]
          },
          "metadata": {},
          "execution_count": 136
        }
      ]
    },
    {
      "cell_type": "code",
      "source": [
        "#se verifica la precisión con los datos de testeo a través de la función .score que calcula el coeficiente de determinación de la predicción.\n",
        "score_rf_H2 = rf_H2.score(X_test_H2, y_test_H2)\n",
        "score_rf_H2"
      ],
      "metadata": {
        "colab": {
          "base_uri": "https://localhost:8080/"
        },
        "outputId": "512929d6-0177-48b1-e15a-5bd03b368ca1",
        "id": "ri-6OoW00Nw4"
      },
      "execution_count": 137,
      "outputs": [
        {
          "output_type": "execute_result",
          "data": {
            "text/plain": [
              "0.8189156034261712"
            ]
          },
          "metadata": {},
          "execution_count": 137
        }
      ]
    },
    {
      "cell_type": "markdown",
      "source": [
        "## Tercer set\n",
        "Para el tercer set se promediarán los datos de rebajas de Markdowns, disminuyendo la carga computacional para el modelo."
      ],
      "metadata": {
        "id": "If95KKdsJYGT"
      }
    },
    {
      "cell_type": "markdown",
      "source": [
        "### Datos no festivos:"
      ],
      "metadata": {
        "id": "bv9GWjndJYGT"
      }
    },
    {
      "cell_type": "code",
      "source": [
        "#crea un modelo de random forest con los valores predeterminados.\n",
        "rf3 = RandomForestRegressor()\n",
        "#entrenamos el regresor\n",
        "rf3.fit(X_train3, y_train3)\n"
      ],
      "metadata": {
        "colab": {
          "base_uri": "https://localhost:8080/"
        },
        "outputId": "90e8aead-4d3c-4081-f8c9-b242c2013293",
        "id": "dk6KyWHY0Pqa"
      },
      "execution_count": 138,
      "outputs": [
        {
          "output_type": "execute_result",
          "data": {
            "text/plain": [
              "RandomForestRegressor()"
            ]
          },
          "metadata": {},
          "execution_count": 138
        }
      ]
    },
    {
      "cell_type": "code",
      "source": [
        "#se verifica la precisión con los datos de testeo a través de la función .score que calcula el coeficiente de determinación de la predicción.\n",
        "score_rf3 = rf3.score(X_test3, y_test3)\n",
        "score_rf3"
      ],
      "metadata": {
        "colab": {
          "base_uri": "https://localhost:8080/"
        },
        "outputId": "7fdac601-907f-4e11-deb0-b006c2e2fb70",
        "id": "12pl1Ry80Pqb"
      },
      "execution_count": 139,
      "outputs": [
        {
          "output_type": "execute_result",
          "data": {
            "text/plain": [
              "0.7992999621410805"
            ]
          },
          "metadata": {},
          "execution_count": 139
        }
      ]
    },
    {
      "cell_type": "markdown",
      "source": [
        "### Datos festivos:"
      ],
      "metadata": {
        "id": "vA95w908JYGU"
      }
    },
    {
      "cell_type": "code",
      "source": [
        "#crea un modelo de random forest con los valores predeterminados.\n",
        "rf_H3 = RandomForestRegressor()\n",
        "#entrenamos el regresor\n",
        "rf_H3.fit(X_train_H3, y_train_H3)\n"
      ],
      "metadata": {
        "colab": {
          "base_uri": "https://localhost:8080/"
        },
        "outputId": "bf47ca76-9f84-4099-b052-4621b41d71d2",
        "id": "0z8-h9qO0ROK"
      },
      "execution_count": 140,
      "outputs": [
        {
          "output_type": "execute_result",
          "data": {
            "text/plain": [
              "RandomForestRegressor()"
            ]
          },
          "metadata": {},
          "execution_count": 140
        }
      ]
    },
    {
      "cell_type": "code",
      "source": [
        "#se verifica la precisión con los datos de testeo a través de la función .score que calcula el coeficiente de determinación de la predicción.\n",
        "score_rf_H3 = rf_H3.score(X_test_H3, y_test_H3)\n",
        "score_rf_H3"
      ],
      "metadata": {
        "colab": {
          "base_uri": "https://localhost:8080/"
        },
        "outputId": "60bcf7cb-1210-4518-8343-1e5bac54f982",
        "id": "pQq0tLlQ0ROL"
      },
      "execution_count": 141,
      "outputs": [
        {
          "output_type": "execute_result",
          "data": {
            "text/plain": [
              "0.7076476284812856"
            ]
          },
          "metadata": {},
          "execution_count": 141
        }
      ]
    },
    {
      "cell_type": "markdown",
      "source": [
        "En base a las accuracy obtenidas en los 3 set de datos, el mejor RF obtenido es el del set 2, es por ello que se elige este para el analisis de los datos de Tabla_1"
      ],
      "metadata": {
        "id": "CpkzQGEE4fHy"
      }
    },
    {
      "cell_type": "markdown",
      "source": [
        "## Tabla1"
      ],
      "metadata": {
        "id": "3IVVRlu-0Ghn"
      }
    },
    {
      "cell_type": "markdown",
      "source": [
        "### Procesamiento de datos"
      ],
      "metadata": {
        "id": "LSNUhstk0Gho"
      }
    },
    {
      "cell_type": "code",
      "source": [
        "Tabla_1 = pd.read_csv('Tabla_1.csv', header = 0)"
      ],
      "metadata": {
        "id": "JErpMWr6KEKX"
      },
      "execution_count": 149,
      "outputs": []
    },
    {
      "cell_type": "code",
      "source": [
        "Tabla_1.columns"
      ],
      "metadata": {
        "colab": {
          "base_uri": "https://localhost:8080/"
        },
        "id": "QX9bp4B9J2hE",
        "outputId": "506a36d6-22a7-4d09-db75-d7afd12793b4"
      },
      "execution_count": 152,
      "outputs": [
        {
          "output_type": "execute_result",
          "data": {
            "text/plain": [
              "Index(['Unnamed: 0', 'Store', 'Dept', 'Date', 'Weekly_Sales', 'IsHoliday_x',\n",
              "       'Temperature', 'Fuel_Price', 'MarkDown1', 'MarkDown2', 'MarkDown3',\n",
              "       'MarkDown4', 'MarkDown5', 'CPI', 'Unemployment', 'IsHoliday_y'],\n",
              "      dtype='object')"
            ]
          },
          "metadata": {},
          "execution_count": 152
        }
      ]
    },
    {
      "cell_type": "code",
      "source": [
        "#se crean arrays para las características y la variable de destino en el caso de dias no festivos.\n",
        "y_Tabla_1_RF = Tabla_1[\"Weekly_Sales\"].values\n",
        "X_Tabla_1_RF = Tabla_1[[\"Dept\",\"Fuel_Price\", \"MarkDown1\", \"MarkDown2\", \"MarkDown3\", \"MarkDown4\", \"MarkDown5\", \"CPI\", \"Unemployment\"]].values"
      ],
      "metadata": {
        "id": "4ssERQA3Jdvo"
      },
      "execution_count": 151,
      "outputs": []
    },
    {
      "cell_type": "code",
      "source": [
        "#realiza una predicción en base a los datos de testeo\n",
        "y_pred_Tabla_1_RF = rf2.predict(X_Tabla_1_RF)\n",
        "#se imprime las predicciones realizadas\n",
        "print(\"Predicciones en base a los datos de Tabla_1 con Random Forest:\\n{}\".format(y_pred_Tabla_1_RF))"
      ],
      "metadata": {
        "colab": {
          "base_uri": "https://localhost:8080/"
        },
        "outputId": "d95130b4-cc9e-4dd9-b67b-d216bb917dc8",
        "id": "9UqHBp_dJdvo"
      },
      "execution_count": 167,
      "outputs": [
        {
          "output_type": "stream",
          "name": "stdout",
          "text": [
            "Predicciones en base a los datos de Tabla_1 con Random Forest:\n",
            "[15786.1242  4087.9179 14337.6063  1585.5503  6792.0029 35920.7513\n",
            "  7314.754  13933.3493 12425.8056 37502.1383 32909.794   3575.08\n",
            " 11700.4945 31219.6192 27323.3834  9528.5142  1551.9442 28118.2243\n",
            "  4360.5992 78820.3816 71719.147   2906.6217  8098.4187 42861.9932\n",
            " 35183.4998 31866.5707 19072.4387 11540.1005 12205.152   5412.9997\n",
            " 32606.2372 60145.9253  7877.1999  4604.7447 26923.9067 10461.0914\n",
            " 59882.3046 17087.9586  4085.2703 24117.4255  7983.0973 11505.5919\n",
            " 73620.7801  7374.1532 16153.1612  8870.5167  4677.3    26352.0896\n",
            "  3692.2046 16317.2937]\n"
          ]
        }
      ]
    },
    {
      "cell_type": "code",
      "source": [
        "error_porcentual_rf= (abs(y_pred_Tabla_1_RF - y_Tabla_1_RF)*100)/y_Tabla_1_RF\n",
        "print(error_porcentual_rf)"
      ],
      "metadata": {
        "colab": {
          "base_uri": "https://localhost:8080/"
        },
        "outputId": "ab62a4b5-afaa-42d2-ad79-7e993f3fef66",
        "id": "xluMTqPTP3Hx"
      },
      "execution_count": 177,
      "outputs": [
        {
          "output_type": "stream",
          "name": "stdout",
          "text": [
            "[ 97.20259295  97.58396069  81.24474479  99.70049182  98.84963417\n",
            "  93.54981171  98.92859101  80.20466058  96.19112379  91.41790821\n",
            "  87.43948961  98.54010025  98.04155986  43.45364894  88.79903588\n",
            "  95.66126381  99.64062664  81.83671126  98.99488832  50.74390487\n",
            "  65.73503883  99.53559487  98.58851713  72.78394972  68.46968564\n",
            "  94.50495535  65.08159992  95.0224992   92.1202762   97.00188738\n",
            " 174.51721832  87.88048616  93.15596337  98.12024549  82.25632778\n",
            "  97.75769466  89.27783136  91.68103784  97.05868621  40.51275065\n",
            "  98.27792941  94.15518008  34.65822407  97.52972138  87.86010057\n",
            "  98.23202106  99.08529341  95.99912391  97.91680587  96.43424415]\n"
          ]
        }
      ]
    },
    {
      "cell_type": "markdown",
      "source": [
        "Tras analizar los datos obtenidos se observa que RF tampoco da una buena estimación de los datos a pesar de poseer una accuracy cercana al 83,5% da lo cual no se puede confiar, ya que existe la posibilidad de que se haya sufrido de un sobre entrenamiento del modelo."
      ],
      "metadata": {
        "id": "MuZ0TwWIJdvq"
      }
    },
    {
      "cell_type": "code",
      "source": [
        "print(\"diferencial entre KNN y RF_\", y_pred_Tabla_1 - y_pred_Tabla_1_RF)"
      ],
      "metadata": {
        "colab": {
          "base_uri": "https://localhost:8080/"
        },
        "id": "nnwk86erQhEc",
        "outputId": "5f378501-b4f4-4b41-8a45-b79873b96a99"
      },
      "execution_count": 181,
      "outputs": [
        {
          "output_type": "stream",
          "name": "stdout",
          "text": [
            "diferencial entre KNN y RF_ [ 1.21850380e+03 -1.25699990e+03  3.26029700e+02  1.04579370e+03\n",
            "  2.44615651e+04 -2.03661513e+04  1.52659200e+04 -9.96824530e+03\n",
            "  7.22912040e+03 -2.58377703e+04 -1.65566060e+04  1.96399600e+03\n",
            " -6.05539250e+03 -5.76906120e+03 -9.22043940e+03 -3.26184020e+03\n",
            "  4.45187800e+02 -1.95852303e+04  6.07233880e+03 -7.06071356e+04\n",
            "  3.58012590e+04  1.92383000e+01  4.31229130e+03 -1.21664332e+04\n",
            " -1.94041478e+04  7.39238613e+04 -3.17629270e+03  1.57587935e+04\n",
            "  3.32292200e+03  4.77543000e+01  3.91084680e+03 -4.43665733e+04\n",
            " -4.01990000e+00 -2.48329870e+03 -8.81513670e+03 -3.85135940e+03\n",
            " -5.77608586e+04 -1.19658366e+04  3.06062770e+03  3.21573805e+04\n",
            " -6.53079130e+03 -3.37134790e+03 -4.90072781e+04  4.22889208e+04\n",
            " -1.29527132e+04 -3.65603670e+03  1.40694000e+02 -1.70722196e+04\n",
            "  2.59173400e+02  5.48736230e+03]\n"
          ]
        }
      ]
    },
    {
      "cell_type": "markdown",
      "source": [
        "A pesar de que ambos algoritmos analizaron los datos de Tabla_1 son set de entrenamiento diferentes, ambos obtuvieron resultados lejos de ser aceptables. Como se menciona anteriormente, a pesar de que RF posee una acuraccy mejor, es probable a que este sufriera de sobreentrenamiento. Por otro lado,  KNN desde un inicio mostraba poca confiabilidad en sus cálculos."
      ],
      "metadata": {
        "id": "XXu3hmM5REia"
      }
    }
  ]
}